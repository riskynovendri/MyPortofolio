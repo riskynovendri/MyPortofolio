{
 "cells": [
  {
   "cell_type": "code",
   "execution_count": 1,
   "id": "4427fbf9",
   "metadata": {},
   "outputs": [],
   "source": [
    "import pandas as pd"
   ]
  },
  {
   "cell_type": "code",
   "execution_count": 2,
   "id": "618b9edb",
   "metadata": {},
   "outputs": [],
   "source": [
    "import mysql.connector"
   ]
  },
  {
   "cell_type": "code",
   "execution_count": 3,
   "id": "b0766650",
   "metadata": {},
   "outputs": [
    {
     "name": "stdout",
     "output_type": "stream",
     "text": [
      "<mysql.connector.connection.MySQLConnection object at 0x00000179DCDBA530>\n"
     ]
    }
   ],
   "source": [
    "#Set database connection\n",
    "dataBase = mysql.connector.connect(host =\"localhost\",user =\"root\",passwd =\"\",db = \"automation\")\n",
    "\n",
    "print(dataBase)"
   ]
  },
  {
   "cell_type": "code",
   "execution_count": null,
   "id": "3bc331a4",
   "metadata": {},
   "outputs": [],
   "source": [
    "print(\"Database Connected\")"
   ]
  },
  {
   "cell_type": "code",
   "execution_count": 4,
   "id": "305ff184",
   "metadata": {},
   "outputs": [],
   "source": [
    "cursor = dataBase.cursor() #set cursor"
   ]
  },
  {
   "cell_type": "code",
   "execution_count": 5,
   "id": "c2b57830",
   "metadata": {},
   "outputs": [],
   "source": [
    "df = pd.read_csv(\"BTC_MONTHLY.csv\") #data"
   ]
  },
  {
   "cell_type": "code",
   "execution_count": 10,
   "id": "d153b0f0",
   "metadata": {},
   "outputs": [],
   "source": [
    "#Create table query\n",
    "DataRecord = \"\"\"CREATE TABLE data (\n",
    "                   Date  VARCHAR(25),\n",
    "                   Open VARCHAR(25),\n",
    "                   High VARCHAR(25),\n",
    "                   Low VARCHAR(25),\n",
    "                   Close VARCHAR(25),\n",
    "                   Adj_Close VARCHAR(25),\n",
    "                   Volume VARCHAR(25)\n",
    "                   )\"\"\""
   ]
  },
  {
   "cell_type": "code",
   "execution_count": 11,
   "id": "a36284a1",
   "metadata": {},
   "outputs": [],
   "source": [
    "print(\"Checking Existing table\")\n",
    "cursor.execute(\"\"\"DROP TABLE IF EXISTS data\"\"\") #check table and drop if table exists"
   ]
  },
  {
   "cell_type": "code",
   "execution_count": 12,
   "id": "af1d8732",
   "metadata": {},
   "outputs": [],
   "source": [
    "print('Table Created')\n",
    "cursor.execute(DataRecord)#Execute Creat Table Query"
   ]
  },
  {
   "cell_type": "code",
   "execution_count": 13,
   "id": "cb69cb05",
   "metadata": {},
   "outputs": [],
   "source": [
    "#Insert Value Query\n",
    "insert_query = \"\"\"INSERT INTO data (Date, Open, High, Low, Close, Adj_Close, Volume) VALUES (%s,%s,%s,%s,%s,%s,%s)\"\"\""
   ]
  },
  {
   "cell_type": "code",
   "execution_count": 14,
   "id": "eedccb9a",
   "metadata": {},
   "outputs": [],
   "source": [
    "#Iteration Data\n",
    "print(\"Inserting data\")\n",
    "for i,row in df.iterrows():\n",
    "    date = row['Date']\n",
    "    Open = str(row['Open'])\n",
    "    high = str(row['High'])\n",
    "    low = str(row['Low'])\n",
    "    close = str(row['Close'])\n",
    "    adj = str(row['Adj Close'])\n",
    "    vol = str(row['Volume'])\n",
    "    values = (date,Open,high,low,close,adj,vol)\n",
    "    cursor.execute(insert_query,values)#execute insert value query\n",
    "cursor.close()\n",
    "\n",
    "# Commit the transaction\n",
    "dataBase.commit()\n",
    "\n",
    "# Close the database connection\n",
    "dataBase.close()\n",
    "print(\"Data already inserted\")"
   ]
  }
 ],
 "metadata": {
  "kernelspec": {
   "display_name": "Python 3 (ipykernel)",
   "language": "python",
   "name": "python3"
  },
  "language_info": {
   "codemirror_mode": {
    "name": "ipython",
    "version": 3
   },
   "file_extension": ".py",
   "mimetype": "text/x-python",
   "name": "python",
   "nbconvert_exporter": "python",
   "pygments_lexer": "ipython3",
   "version": "3.10.2"
  }
 },
 "nbformat": 4,
 "nbformat_minor": 5
}
