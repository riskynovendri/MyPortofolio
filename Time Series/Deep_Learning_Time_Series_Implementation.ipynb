{
  "nbformat": 4,
  "nbformat_minor": 0,
  "metadata": {
    "colab": {
      "name": "Deep Learning Time Series Implementation",
      "provenance": [],
      "collapsed_sections": []
    },
    "kernelspec": {
      "name": "python3",
      "display_name": "Python 3"
    }
  },
  "cells": [
    {
      "cell_type": "code",
      "metadata": {
        "id": "FppBx-733F5C"
      },
      "source": [
        "import pandas as pd\n",
        "import numpy as np\n",
        "import tensorflow as tf\n",
        "from tensorflow.keras.layers import LSTM,Dense, Bidirectional\n",
        "from tensorflow.keras.optimizers import SGD\n",
        "from tensorflow.keras.losses import Huber\n",
        "from tensorflow.keras.models import Sequential"
      ],
      "execution_count": null,
      "outputs": []
    },
    {
      "cell_type": "markdown",
      "metadata": {
        "id": "U4r2xTjPgjAz"
      },
      "source": [
        "Created By: Risky Novendri, Kota Jambi, Jambi"
      ]
    },
    {
      "cell_type": "code",
      "metadata": {
        "id": "AQKrGdjq8gGl"
      },
      "source": [
        "used = ['datetime','temp']"
      ],
      "execution_count": null,
      "outputs": []
    },
    {
      "cell_type": "code",
      "metadata": {
        "colab": {
          "base_uri": "https://localhost:8080/",
          "height": 424
        },
        "id": "ftdTveH46lIf",
        "outputId": "c2c35cc2-468d-4912-ef80-fe385585d7d6"
      },
      "source": [
        "data = pd.read_csv('/content/drive/MyDrive/Dicoding Dataset/submission2.csv', usecols=used)\n",
        "data"
      ],
      "execution_count": null,
      "outputs": [
        {
          "output_type": "execute_result",
          "data": {
            "text/html": [
              "<div>\n",
              "<style scoped>\n",
              "    .dataframe tbody tr th:only-of-type {\n",
              "        vertical-align: middle;\n",
              "    }\n",
              "\n",
              "    .dataframe tbody tr th {\n",
              "        vertical-align: top;\n",
              "    }\n",
              "\n",
              "    .dataframe thead th {\n",
              "        text-align: right;\n",
              "    }\n",
              "</style>\n",
              "<table border=\"1\" class=\"dataframe\">\n",
              "  <thead>\n",
              "    <tr style=\"text-align: right;\">\n",
              "      <th></th>\n",
              "      <th>datetime</th>\n",
              "      <th>temp</th>\n",
              "    </tr>\n",
              "  </thead>\n",
              "  <tbody>\n",
              "    <tr>\n",
              "      <th>0</th>\n",
              "      <td>2011-01-01 00:00:00</td>\n",
              "      <td>9.84</td>\n",
              "    </tr>\n",
              "    <tr>\n",
              "      <th>1</th>\n",
              "      <td>2011-01-01 01:00:00</td>\n",
              "      <td>9.02</td>\n",
              "    </tr>\n",
              "    <tr>\n",
              "      <th>2</th>\n",
              "      <td>2011-01-01 02:00:00</td>\n",
              "      <td>9.02</td>\n",
              "    </tr>\n",
              "    <tr>\n",
              "      <th>3</th>\n",
              "      <td>2011-01-01 03:00:00</td>\n",
              "      <td>9.84</td>\n",
              "    </tr>\n",
              "    <tr>\n",
              "      <th>4</th>\n",
              "      <td>2011-01-01 04:00:00</td>\n",
              "      <td>9.84</td>\n",
              "    </tr>\n",
              "    <tr>\n",
              "      <th>...</th>\n",
              "      <td>...</td>\n",
              "      <td>...</td>\n",
              "    </tr>\n",
              "    <tr>\n",
              "      <th>10881</th>\n",
              "      <td>2012-12-19 19:00:00</td>\n",
              "      <td>15.58</td>\n",
              "    </tr>\n",
              "    <tr>\n",
              "      <th>10882</th>\n",
              "      <td>2012-12-19 20:00:00</td>\n",
              "      <td>14.76</td>\n",
              "    </tr>\n",
              "    <tr>\n",
              "      <th>10883</th>\n",
              "      <td>2012-12-19 21:00:00</td>\n",
              "      <td>13.94</td>\n",
              "    </tr>\n",
              "    <tr>\n",
              "      <th>10884</th>\n",
              "      <td>2012-12-19 22:00:00</td>\n",
              "      <td>13.94</td>\n",
              "    </tr>\n",
              "    <tr>\n",
              "      <th>10885</th>\n",
              "      <td>2012-12-19 23:00:00</td>\n",
              "      <td>13.12</td>\n",
              "    </tr>\n",
              "  </tbody>\n",
              "</table>\n",
              "<p>10886 rows × 2 columns</p>\n",
              "</div>"
            ],
            "text/plain": [
              "                  datetime   temp\n",
              "0      2011-01-01 00:00:00   9.84\n",
              "1      2011-01-01 01:00:00   9.02\n",
              "2      2011-01-01 02:00:00   9.02\n",
              "3      2011-01-01 03:00:00   9.84\n",
              "4      2011-01-01 04:00:00   9.84\n",
              "...                    ...    ...\n",
              "10881  2012-12-19 19:00:00  15.58\n",
              "10882  2012-12-19 20:00:00  14.76\n",
              "10883  2012-12-19 21:00:00  13.94\n",
              "10884  2012-12-19 22:00:00  13.94\n",
              "10885  2012-12-19 23:00:00  13.12\n",
              "\n",
              "[10886 rows x 2 columns]"
            ]
          },
          "metadata": {
            "tags": []
          },
          "execution_count": 3
        }
      ]
    },
    {
      "cell_type": "code",
      "metadata": {
        "colab": {
          "base_uri": "https://localhost:8080/"
        },
        "id": "MoKq8YzA67Uo",
        "outputId": "8f414f83-846d-4210-bb22-8c1706beb63a"
      },
      "source": [
        "data.info()"
      ],
      "execution_count": null,
      "outputs": [
        {
          "output_type": "stream",
          "text": [
            "<class 'pandas.core.frame.DataFrame'>\n",
            "RangeIndex: 10886 entries, 0 to 10885\n",
            "Data columns (total 2 columns):\n",
            " #   Column    Non-Null Count  Dtype  \n",
            "---  ------    --------------  -----  \n",
            " 0   datetime  10886 non-null  object \n",
            " 1   temp      10886 non-null  float64\n",
            "dtypes: float64(1), object(1)\n",
            "memory usage: 170.2+ KB\n"
          ],
          "name": "stdout"
        }
      ]
    },
    {
      "cell_type": "code",
      "metadata": {
        "id": "pVM-ok0faj4q"
      },
      "source": [
        "data['datetime'] = pd.to_datetime(data['datetime'])"
      ],
      "execution_count": null,
      "outputs": []
    },
    {
      "cell_type": "code",
      "metadata": {
        "colab": {
          "base_uri": "https://localhost:8080/"
        },
        "id": "Kjb35y4Raw8C",
        "outputId": "d0e6ac36-356b-4d40-80d1-3522ad0fb910"
      },
      "source": [
        "data.info()"
      ],
      "execution_count": null,
      "outputs": [
        {
          "output_type": "stream",
          "text": [
            "<class 'pandas.core.frame.DataFrame'>\n",
            "RangeIndex: 10886 entries, 0 to 10885\n",
            "Data columns (total 2 columns):\n",
            " #   Column    Non-Null Count  Dtype         \n",
            "---  ------    --------------  -----         \n",
            " 0   datetime  10886 non-null  datetime64[ns]\n",
            " 1   temp      10886 non-null  float64       \n",
            "dtypes: datetime64[ns](1), float64(1)\n",
            "memory usage: 170.2 KB\n"
          ],
          "name": "stdout"
        }
      ]
    },
    {
      "cell_type": "code",
      "metadata": {
        "colab": {
          "base_uri": "https://localhost:8080/"
        },
        "id": "Ri6qxIv5wksH",
        "outputId": "2be1e8a3-7e99-4e54-af00-6cf6566e56cc"
      },
      "source": [
        "max = data['temp'].max()\n",
        "min = data['temp'].min()\n",
        "print(max)\n",
        "print(min)"
      ],
      "execution_count": null,
      "outputs": [
        {
          "output_type": "stream",
          "text": [
            "41.0\n",
            "0.82\n"
          ],
          "name": "stdout"
        }
      ]
    },
    {
      "cell_type": "code",
      "metadata": {
        "colab": {
          "base_uri": "https://localhost:8080/"
        },
        "id": "1lU7BLc8w7DH",
        "outputId": "ab9004e8-7a93-4290-9457-55bf856c5435"
      },
      "source": [
        "mae = (max-min)*0.1\n",
        "print(mae) #Calculation MAE Target"
      ],
      "execution_count": null,
      "outputs": [
        {
          "output_type": "stream",
          "text": [
            "4.018\n"
          ],
          "name": "stdout"
        }
      ]
    },
    {
      "cell_type": "code",
      "metadata": {
        "id": "emWLxs3q8q5w"
      },
      "source": [
        "x = data['datetime'].values\n",
        "y = data['temp'].values"
      ],
      "execution_count": null,
      "outputs": []
    },
    {
      "cell_type": "code",
      "metadata": {
        "colab": {
          "base_uri": "https://localhost:8080/"
        },
        "id": "8aIrkp5wcFyI",
        "outputId": "2cad6adf-54ec-4538-b5ca-bf0b7c75a424"
      },
      "source": [
        "print(type(y))"
      ],
      "execution_count": null,
      "outputs": [
        {
          "output_type": "stream",
          "text": [
            "<class 'numpy.ndarray'>\n"
          ],
          "name": "stdout"
        }
      ]
    },
    {
      "cell_type": "code",
      "metadata": {
        "id": "PKTfBW_hEqKf"
      },
      "source": [
        "from sklearn.model_selection import train_test_split"
      ],
      "execution_count": null,
      "outputs": []
    },
    {
      "cell_type": "code",
      "metadata": {
        "id": "Z6_8vwTXExl2"
      },
      "source": [
        "xtrain,xtest,ytrain,ytest = train_test_split(x,y, test_size=0.2)"
      ],
      "execution_count": null,
      "outputs": []
    },
    {
      "cell_type": "code",
      "metadata": {
        "colab": {
          "base_uri": "https://localhost:8080/",
          "height": 355
        },
        "id": "eEBgdz_VFDx-",
        "outputId": "55127c90-4662-494d-d3d4-e3fafc3e6e7a"
      },
      "source": [
        "#Visualize Dataset\n",
        "import matplotlib.pyplot as plt\n",
        "plt.figure(figsize=(15,5))\n",
        "plt.plot(x, y)\n",
        "plt.ylabel('Temp')\n",
        "plt.xlabel('Datetime')\n",
        "plt.title('Suhu Bike Sharing Demand',\n",
        "          fontsize=20);"
      ],
      "execution_count": null,
      "outputs": [
        {
          "output_type": "display_data",
          "data": {
            "image/png": "[encoded data removed]",
            "text/plain": [
              "<Figure size 1080x360 with 1 Axes>"
            ]
          },
          "metadata": {
            "tags": [],
            "needs_background": "light"
          }
        }
      ]
    },
    {
      "cell_type": "code",
      "metadata": {
        "id": "ANfT1VRPFy3J"
      },
      "source": [
        "def windowed_dataset(series,window_size,batch_size,shuffle_buffer): #Create Window\n",
        "  series = tf.expand_dims(series,axis=1)\n",
        "  ds = tf.data.Dataset.from_tensor_slices(series)\n",
        "  ds = ds.window(window_size + 1 ,shift=1,drop_remainder = True)\n",
        "  ds = ds.flat_map(lambda w: w.batch(window_size + 1))\n",
        "  ds = ds.shuffle(shuffle_buffer)\n",
        "  ds = ds.map(lambda w: (w[:-1], w[-1:]))\n",
        "  return ds.batch(batch_size).prefetch(1)"
      ],
      "execution_count": null,
      "outputs": []
    },
    {
      "cell_type": "code",
      "metadata": {
        "id": "Q6jv8aTIGRoK"
      },
      "source": [
        "train = windowed_dataset(ytrain,window_size=60,batch_size=100,shuffle_buffer=10000)\n",
        "val = windowed_dataset(ytest,window_size=60,batch_size=100,shuffle_buffer=10000)"
      ],
      "execution_count": null,
      "outputs": []
    },
    {
      "cell_type": "code",
      "metadata": {
        "id": "dFcV8pDUIy8o"
      },
      "source": [
        "model = Sequential([ #Create Model with LSTM\n",
        "                    Bidirectional((LSTM(60,return_sequences= True))),\n",
        "                    Bidirectional((LSTM(60,return_sequences= True))),\n",
        "                    Dense(120, activation='relu'),\n",
        "                    Dense(60, activation='relu'),\n",
        "                    Dense(30, activation='relu'),\n",
        "                    Dense(1)\n",
        "                    ])"
      ],
      "execution_count": null,
      "outputs": []
    },
    {
      "cell_type": "code",
      "metadata": {
        "id": "S3PlIbZaIW5S"
      },
      "source": [
        "optimizer = SGD(learning_rate=1.0000e-04, momentum=0.9) #Initialize Optimizer\n",
        "losss = Huber()"
      ],
      "execution_count": null,
      "outputs": []
    },
    {
      "cell_type": "code",
      "metadata": {
        "id": "kZv55MejJOHa"
      },
      "source": [
        "model.compile(optimizer=optimizer,loss=losss, metrics=[\"mae\"])"
      ],
      "execution_count": null,
      "outputs": []
    },
    {
      "cell_type": "code",
      "metadata": {
        "id": "t_Jxk6hSJZtC"
      },
      "source": [
        "class myCallback(tf.keras.callbacks.Callback): #Create Callback\n",
        "  def on_epoch_end(self, epoch, logs={}):\n",
        "    if(logs.get('mae')<mae):\n",
        "      print(\"\\nRequirement Terpenuhi!,Mae < 10%\")\n",
        "      self.model.stop_training = True\n",
        "callbacks = myCallback()"
      ],
      "execution_count": null,
      "outputs": []
    },
    {
      "cell_type": "code",
      "metadata": {
        "colab": {
          "base_uri": "https://localhost:8080/"
        },
        "id": "b1jjnqfgJjoR",
        "outputId": "6e773f39-16ef-41be-ba7d-b595b5d96037"
      },
      "source": [
        "record = model.fit(train,epochs=100,verbose=2, callbacks=callbacks, validation_data=val) #Train Model"
      ],
      "execution_count": null,
      "outputs": [
        {
          "output_type": "stream",
          "text": [
            "Epoch 1/100\n",
            "87/87 - 87s - loss: 19.4504 - mae: 19.9502 - val_loss: 18.7529 - val_mae: 19.2529\n",
            "Epoch 2/100\n",
            "87/87 - 21s - loss: 18.4276 - mae: 18.9274 - val_loss: 17.1908 - val_mae: 17.6905\n",
            "Epoch 3/100\n",
            "87/87 - 21s - loss: 14.5336 - mae: 15.0303 - val_loss: 8.7696 - val_mae: 9.2547\n",
            "Epoch 4/100\n",
            "87/87 - 21s - loss: 6.5692 - mae: 7.0562 - val_loss: 6.2726 - val_mae: 6.7592\n",
            "Epoch 5/100\n",
            "87/87 - 21s - loss: 6.2134 - mae: 6.6998 - val_loss: 6.2521 - val_mae: 6.7389\n",
            "Epoch 6/100\n",
            "87/87 - 21s - loss: 6.1913 - mae: 6.6780 - val_loss: 6.2302 - val_mae: 6.7171\n",
            "Epoch 7/100\n",
            "87/87 - 21s - loss: 6.1679 - mae: 6.6546 - val_loss: 6.2053 - val_mae: 6.6923\n",
            "Epoch 8/100\n",
            "87/87 - 21s - loss: 6.1438 - mae: 6.6305 - val_loss: 6.1790 - val_mae: 6.6661\n",
            "Epoch 9/100\n",
            "87/87 - 21s - loss: 6.1178 - mae: 6.6046 - val_loss: 6.1527 - val_mae: 6.6399\n",
            "Epoch 10/100\n",
            "87/87 - 21s - loss: 6.0877 - mae: 6.5745 - val_loss: 6.1190 - val_mae: 6.6064\n",
            "Epoch 11/100\n",
            "87/87 - 21s - loss: 6.0514 - mae: 6.5382 - val_loss: 6.0799 - val_mae: 6.5675\n",
            "Epoch 12/100\n",
            "87/87 - 21s - loss: 6.0072 - mae: 6.4939 - val_loss: 6.0291 - val_mae: 6.5169\n",
            "Epoch 13/100\n",
            "87/87 - 21s - loss: 5.9520 - mae: 6.4387 - val_loss: 5.9651 - val_mae: 6.4528\n",
            "Epoch 14/100\n",
            "87/87 - 21s - loss: 5.8794 - mae: 6.3661 - val_loss: 5.8815 - val_mae: 6.3680\n",
            "Epoch 15/100\n",
            "87/87 - 21s - loss: 5.7869 - mae: 6.2735 - val_loss: 5.7796 - val_mae: 6.2664\n",
            "Epoch 16/100\n",
            "87/87 - 21s - loss: 5.6788 - mae: 6.1649 - val_loss: 5.6653 - val_mae: 6.1516\n",
            "Epoch 17/100\n",
            "87/87 - 21s - loss: 5.5588 - mae: 6.0444 - val_loss: 5.5427 - val_mae: 6.0287\n",
            "Epoch 18/100\n",
            "87/87 - 22s - loss: 5.4365 - mae: 5.9216 - val_loss: 5.4214 - val_mae: 5.9071\n",
            "Epoch 19/100\n",
            "87/87 - 22s - loss: 5.3151 - mae: 5.7998 - val_loss: 5.3022 - val_mae: 5.7877\n",
            "Epoch 20/100\n",
            "87/87 - 21s - loss: 5.1961 - mae: 5.6804 - val_loss: 5.1840 - val_mae: 5.6694\n",
            "Epoch 21/100\n",
            "87/87 - 22s - loss: 5.0803 - mae: 5.5638 - val_loss: 5.0740 - val_mae: 5.5581\n",
            "Epoch 22/100\n",
            "87/87 - 21s - loss: 4.9701 - mae: 5.4527 - val_loss: 4.9614 - val_mae: 5.4437\n",
            "Epoch 23/100\n",
            "87/87 - 21s - loss: 4.8649 - mae: 5.3470 - val_loss: 4.8562 - val_mae: 5.3373\n",
            "Epoch 24/100\n",
            "87/87 - 22s - loss: 4.7620 - mae: 5.2435 - val_loss: 4.7507 - val_mae: 5.2306\n",
            "Epoch 25/100\n",
            "87/87 - 22s - loss: 4.6597 - mae: 5.1404 - val_loss: 4.6445 - val_mae: 5.1240\n",
            "Epoch 26/100\n",
            "87/87 - 22s - loss: 4.5520 - mae: 5.0321 - val_loss: 4.5309 - val_mae: 5.0101\n",
            "Epoch 27/100\n",
            "87/87 - 22s - loss: 4.4336 - mae: 4.9134 - val_loss: 4.4044 - val_mae: 4.8835\n",
            "Epoch 28/100\n",
            "87/87 - 22s - loss: 4.3002 - mae: 4.7793 - val_loss: 4.2595 - val_mae: 4.7377\n",
            "Epoch 29/100\n",
            "87/87 - 21s - loss: 4.1447 - mae: 4.6232 - val_loss: 4.0868 - val_mae: 4.5634\n",
            "Epoch 30/100\n",
            "87/87 - 21s - loss: 3.9550 - mae: 4.4321 - val_loss: 3.8721 - val_mae: 4.3473\n",
            "Epoch 31/100\n",
            "87/87 - 21s - loss: 3.7150 - mae: 4.1906 - val_loss: 3.5985 - val_mae: 4.0717\n",
            "Epoch 32/100\n",
            "87/87 - 22s - loss: 3.4013 - mae: 3.8752 - val_loss: 3.2321 - val_mae: 3.7020\n",
            "\n",
            "Requirement Terpenuhi!,Mae < 10%\n"
          ],
          "name": "stdout"
        }
      ]
    },
    {
      "cell_type": "code",
      "metadata": {
        "id": "FYf8MBXUJ5Ys",
        "colab": {
          "base_uri": "https://localhost:8080/",
          "height": 295
        },
        "outputId": "47e2c528-ac2f-4c81-95d9-559c3152e383"
      },
      "source": [
        "#MAE Score Visualization\n",
        "plt.plot(record.history['mae'])\n",
        "plt.plot(record.history['val_mae'])\n",
        "plt.title('Mae Pada Model')\n",
        "plt.ylabel('mae')\n",
        "plt.xlabel('epoch')\n",
        "plt.legend(['train', 'test'], loc='upper left')\n",
        "plt.show()"
      ],
      "execution_count": null,
      "outputs": [
        {
          "output_type": "display_data",
          "data": {
            "image/png": "[encoded data removed]",
            "text/plain": [
              "<Figure size 432x288 with 1 Axes>"
            ]
          },
          "metadata": {
            "tags": [],
            "needs_background": "light"
          }
        }
      ]
    },
    {
      "cell_type": "code",
      "metadata": {
        "id": "I7wbA2OHJ9SL",
        "colab": {
          "base_uri": "https://localhost:8080/",
          "height": 295
        },
        "outputId": "73646fba-372b-403b-c55b-308ed93e2459"
      },
      "source": [
        "#Loss Score\n",
        "plt.plot(record.history['loss'])\n",
        "plt.plot(record.history['val_loss'])\n",
        "plt.title('Loss Pada Model')\n",
        "plt.ylabel('Los')\n",
        "plt.xlabel('epoch')\n",
        "plt.legend(['train', 'test'], loc='upper left')\n",
        "plt.show()"
      ],
      "execution_count": null,
      "outputs": [
        {
          "output_type": "display_data",
          "data": {
            "image/png": "[encoded data removed]",
            "text/plain": [
              "<Figure size 432x288 with 1 Axes>"
            ]
          },
          "metadata": {
            "tags": [],
            "needs_background": "light"
          }
        }
      ]
    },
    {
      "cell_type": "code",
      "metadata": {
        "id": "eUqvyX9krNi_"
      },
      "source": [
        ""
      ],
      "execution_count": null,
      "outputs": []
    }
  ]
}