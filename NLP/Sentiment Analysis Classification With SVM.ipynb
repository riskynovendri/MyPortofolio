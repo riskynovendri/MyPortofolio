{
  "nbformat": 4,
  "nbformat_minor": 0,
  "metadata": {
    "colab": {
      "name": "Acer Sentiment Analyisis.ipynb",
      "provenance": [],
      "collapsed_sections": [
        "MrjiNTiqttS2",
        "cJboavbqy2P6",
        "UPCKx-DYHtxF",
        "_nzHjwOPzwmI",
        "Uk9bRGuO0MTG",
        "B4oWEF6jAm1-",
        "INoAPqygCNgO",
        "a4Cej4DqLU_P",
        "kz12MK_a4QQx"
      ]
    },
    "kernelspec": {
      "display_name": "Python 3",
      "name": "python3"
    },
    "language_info": {
      "name": "python"
    }
  },
  "cells": [
    {
      "cell_type": "markdown",
      "metadata": {
        "id": "MrjiNTiqttS2"
      },
      "source": [
        "#Initial"
      ]
    },
    {
      "cell_type": "code",
      "metadata": {
        "id": "O0FDKdkAhKCp"
      },
      "source": [
        "#Import libary yang diperlukan\n",
        "import pandas as pd\n",
        "import numpy as np\n",
        "import tweepy\n",
        "import json\n",
        "import re\n",
        "from textblob import TextBlob\n",
        "#Noven"
      ],
      "execution_count": null,
      "outputs": []
    },
    {
      "cell_type": "code",
      "metadata": {
        "id": "V-mHJi3chSVn"
      },
      "source": [
        "#Menyimpan API KEY Twitter\n",
        "api_key = 'LK8ToIuVrxYThZZbXFaez0pY5'\n",
        "api_secret_key = 'z0PvB6XiADDwgt3ZB3y41jozd49qsA8fG5Mp2vT9eYzh2rHBIl'\n",
        "access_token = '1315656654180945921-wIyPXUjGeSTccniWTHU92zvnN2U2fX'\n",
        "access_token_secret = '0GHHpQHJUB0ge22nIjFJR5gJxk78PMOCBxsqaTCIipnte'"
      ],
      "execution_count": null,
      "outputs": []
    },
    {
      "cell_type": "code",
      "metadata": {
        "id": "8EV2OfFkh9Z6"
      },
      "source": [
        "#Autentufikasi ke API Twiter dengan libary tweepy\n",
        "auth = tweepy.OAuthHandler(api_key, api_secret_key)\n",
        "auth.set_access_token(access_token, access_token_secret)\n",
        "api = tweepy.API(auth, wait_on_rate_limit=True)"
      ],
      "execution_count": null,
      "outputs": []
    },
    {
      "cell_type": "markdown",
      "metadata": {
        "id": "cJboavbqy2P6"
      },
      "source": [
        "## Kanta kunci Asus"
      ]
    },
    {
      "cell_type": "code",
      "metadata": {
        "id": "Iv-xRWrrBvdn"
      },
      "source": [
        "searched_tweets_asus = [status for status in tweepy.Cursor(api.search, q='performance laptop asus').items(5000)]"
      ],
      "execution_count": null,
      "outputs": []
    },
    {
      "cell_type": "code",
      "metadata": {
        "id": "ZzzIBja-Bvdx",
        "colab": {
          "base_uri": "https://localhost:8080/"
        },
        "outputId": "14d2962c-9852-4be9-bb5d-7c3993f35093"
      },
      "source": [
        "len(searched_tweets_asus)"
      ],
      "execution_count": null,
      "outputs": [
        {
          "output_type": "execute_result",
          "data": {
            "text/plain": [
              "23"
            ]
          },
          "metadata": {
            "tags": []
          },
          "execution_count": 78
        }
      ]
    },
    {
      "cell_type": "code",
      "metadata": {
        "id": "HzSH-2CZBvdz"
      },
      "source": [
        "hasilAnalisisAsus =[]\n",
        "\n",
        "for tweet in searched_tweets_asus :\n",
        "  tweet_details = {}\n",
        "  tweet_details['name'] = tweet.user.screen_name\n",
        "  tweet_details['tweet'] = tweet.text\n",
        "  tweet_details['retweets'] = tweet.retweet_count\n",
        "  tweet_details['location'] = tweet.user.location\n",
        "  tweet_details['created'] = tweet.created_at.strftime(\"%d-%b-%Y\")\n",
        "  tweet_details['followers'] = tweet.user.followers_count\n",
        "  tweet_details['is_user_verified'] = tweet.user.verified\n",
        "\n",
        "  hasilAnalisisAsus.append(tweet_details)"
      ],
      "execution_count": null,
      "outputs": []
    },
    {
      "cell_type": "code",
      "metadata": {
        "id": "Ey9TfI9VBvd0"
      },
      "source": [
        "with open('fileAsus.json', 'w') as outfile:\n",
        "  json.dump(hasilAnalisisAsus, outfile)"
      ],
      "execution_count": null,
      "outputs": []
    },
    {
      "cell_type": "code",
      "metadata": {
        "id": "ASQ7GtxgA77y"
      },
      "source": [
        "hasilAnalisisAsus =[]\n",
        "\n",
        "for tweet in searched_tweets_asus :\n",
        "  tweet_details = {}\n",
        "  tweet_details['name'] = tweet.user.screen_name\n",
        "  tweet_details['tweet'] = tweet.text\n",
        "  tweet_details['created'] = tweet.created_at.strftime(\"%A %d %b %Y %I:%M:%S\")\n",
        "\n",
        "  hasilAnalisisAsus.append(tweet_details)"
      ],
      "execution_count": null,
      "outputs": []
    },
    {
      "cell_type": "code",
      "metadata": {
        "colab": {
          "base_uri": "https://localhost:8080/"
        },
        "id": "pH9j7Lp_A77y",
        "outputId": "9581d3f7-e8c3-42f1-814f-c68472c32085"
      },
      "source": [
        "len(hasilAnalisisAsus)"
      ],
      "execution_count": null,
      "outputs": [
        {
          "output_type": "execute_result",
          "data": {
            "text/plain": [
              "23"
            ]
          },
          "metadata": {
            "tags": []
          },
          "execution_count": 80
        }
      ]
    },
    {
      "cell_type": "code",
      "metadata": {
        "id": "1ogwLOQ8A770"
      },
      "source": [
        "import json\n",
        "\n",
        "with open('fileAsusPerformance.json', 'w') as outfile:\n",
        "  json.dump(hasilAnalisisAsus, outfile)"
      ],
      "execution_count": null,
      "outputs": []
    },
    {
      "cell_type": "code",
      "metadata": {
        "colab": {
          "base_uri": "https://localhost:8080/",
          "height": 200
        },
        "id": "_aPDifPCA770",
        "outputId": "487fa3e6-6ef1-4fb3-fcae-4eda6bf2d74d"
      },
      "source": [
        "data_Asus = pd.read_json('fileAsusPerformance.json')\n",
        "data_Asus.tail()"
      ],
      "execution_count": null,
      "outputs": [
        {
          "output_type": "execute_result",
          "data": {
            "text/html": [
              "<div>\n",
              "<style scoped>\n",
              "    .dataframe tbody tr th:only-of-type {\n",
              "        vertical-align: middle;\n",
              "    }\n",
              "\n",
              "    .dataframe tbody tr th {\n",
              "        vertical-align: top;\n",
              "    }\n",
              "\n",
              "    .dataframe thead th {\n",
              "        text-align: right;\n",
              "    }\n",
              "</style>\n",
              "<table border=\"1\" class=\"dataframe\">\n",
              "  <thead>\n",
              "    <tr style=\"text-align: right;\">\n",
              "      <th></th>\n",
              "      <th>name</th>\n",
              "      <th>tweet</th>\n",
              "      <th>created</th>\n",
              "    </tr>\n",
              "  </thead>\n",
              "  <tbody>\n",
              "    <tr>\n",
              "      <th>18</th>\n",
              "      <td>tp040906</td>\n",
              "      <td>Asus TUF Gaming F15 FX506HM Laptop Review: No ...</td>\n",
              "      <td>Thursday 01 Jul 2021 07:11:15</td>\n",
              "    </tr>\n",
              "    <tr>\n",
              "      <th>19</th>\n",
              "      <td>AdrianVelascoS</td>\n",
              "      <td>RT @ASUSIndia: Style and power go hand-in-hand...</td>\n",
              "      <td>Thursday 01 Jul 2021 03:21:00</td>\n",
              "    </tr>\n",
              "    <tr>\n",
              "      <th>20</th>\n",
              "      <td>AdrianVelascoS</td>\n",
              "      <td>RT @ASUSIndia: With the ASUS Intelligent Perfo...</td>\n",
              "      <td>Thursday 01 Jul 2021 03:20:54</td>\n",
              "    </tr>\n",
              "    <tr>\n",
              "      <th>21</th>\n",
              "      <td>PCNixToronto</td>\n",
              "      <td>Buyer beware: Hardware configurations can eat ...</td>\n",
              "      <td>Thursday 01 Jul 2021 11:45:34</td>\n",
              "    </tr>\n",
              "    <tr>\n",
              "      <th>22</th>\n",
              "      <td>AdrianVelascoS</td>\n",
              "      <td>RT @ASUSIndia: #ASUS #ZenBook 13 the best 13-i...</td>\n",
              "      <td>Thursday 01 Jul 2021 06:20:59</td>\n",
              "    </tr>\n",
              "  </tbody>\n",
              "</table>\n",
              "</div>"
            ],
            "text/plain": [
              "              name  ...                        created\n",
              "18        tp040906  ...  Thursday 01 Jul 2021 07:11:15\n",
              "19  AdrianVelascoS  ...  Thursday 01 Jul 2021 03:21:00\n",
              "20  AdrianVelascoS  ...  Thursday 01 Jul 2021 03:20:54\n",
              "21    PCNixToronto  ...  Thursday 01 Jul 2021 11:45:34\n",
              "22  AdrianVelascoS  ...  Thursday 01 Jul 2021 06:20:59\n",
              "\n",
              "[5 rows x 3 columns]"
            ]
          },
          "metadata": {
            "tags": []
          },
          "execution_count": 82
        }
      ]
    },
    {
      "cell_type": "code",
      "metadata": {
        "colab": {
          "base_uri": "https://localhost:8080/",
          "height": 200
        },
        "id": "RYyPb4R9A771",
        "outputId": "36003bad-461a-4ac3-9752-4100a5652206"
      },
      "source": [
        "data_Asus = data_Asus.astype(str).apply(lambda x: x.str.encode('ascii', 'ignore').str.decode('ascii'))\n",
        "data_Asus['tweet'] = data_Asus['tweet'].apply(lambda elem: re.sub(r\"\\n\", \" \", elem))\n",
        "data_Asus['tweet'] = data_Asus['tweet'].apply(lambda elem: re.sub(r\"\\s\\s+\", \" \", elem))\n",
        "data_Asus.tail()"
      ],
      "execution_count": null,
      "outputs": [
        {
          "output_type": "execute_result",
          "data": {
            "text/html": [
              "<div>\n",
              "<style scoped>\n",
              "    .dataframe tbody tr th:only-of-type {\n",
              "        vertical-align: middle;\n",
              "    }\n",
              "\n",
              "    .dataframe tbody tr th {\n",
              "        vertical-align: top;\n",
              "    }\n",
              "\n",
              "    .dataframe thead th {\n",
              "        text-align: right;\n",
              "    }\n",
              "</style>\n",
              "<table border=\"1\" class=\"dataframe\">\n",
              "  <thead>\n",
              "    <tr style=\"text-align: right;\">\n",
              "      <th></th>\n",
              "      <th>name</th>\n",
              "      <th>tweet</th>\n",
              "      <th>created</th>\n",
              "    </tr>\n",
              "  </thead>\n",
              "  <tbody>\n",
              "    <tr>\n",
              "      <th>18</th>\n",
              "      <td>tp040906</td>\n",
              "      <td>Asus TUF Gaming F15 FX506HM Laptop Review: No ...</td>\n",
              "      <td>Thursday 01 Jul 2021 07:11:15</td>\n",
              "    </tr>\n",
              "    <tr>\n",
              "      <th>19</th>\n",
              "      <td>AdrianVelascoS</td>\n",
              "      <td>RT @ASUSIndia: Style and power go hand-in-hand...</td>\n",
              "      <td>Thursday 01 Jul 2021 03:21:00</td>\n",
              "    </tr>\n",
              "    <tr>\n",
              "      <th>20</th>\n",
              "      <td>AdrianVelascoS</td>\n",
              "      <td>RT @ASUSIndia: With the ASUS Intelligent Perfo...</td>\n",
              "      <td>Thursday 01 Jul 2021 03:20:54</td>\n",
              "    </tr>\n",
              "    <tr>\n",
              "      <th>21</th>\n",
              "      <td>PCNixToronto</td>\n",
              "      <td>Buyer beware: Hardware configurations can eat ...</td>\n",
              "      <td>Thursday 01 Jul 2021 11:45:34</td>\n",
              "    </tr>\n",
              "    <tr>\n",
              "      <th>22</th>\n",
              "      <td>AdrianVelascoS</td>\n",
              "      <td>RT @ASUSIndia: #ASUS #ZenBook 13 the best 13-i...</td>\n",
              "      <td>Thursday 01 Jul 2021 06:20:59</td>\n",
              "    </tr>\n",
              "  </tbody>\n",
              "</table>\n",
              "</div>"
            ],
            "text/plain": [
              "              name  ...                        created\n",
              "18        tp040906  ...  Thursday 01 Jul 2021 07:11:15\n",
              "19  AdrianVelascoS  ...  Thursday 01 Jul 2021 03:21:00\n",
              "20  AdrianVelascoS  ...  Thursday 01 Jul 2021 03:20:54\n",
              "21    PCNixToronto  ...  Thursday 01 Jul 2021 11:45:34\n",
              "22  AdrianVelascoS  ...  Thursday 01 Jul 2021 06:20:59\n",
              "\n",
              "[5 rows x 3 columns]"
            ]
          },
          "metadata": {
            "tags": []
          },
          "execution_count": 83
        }
      ]
    },
    {
      "cell_type": "code",
      "metadata": {
        "id": "Mmg0tZyDA772"
      },
      "source": [
        "data_Asus.to_csv('outAsusPerformance.csv', index=False) "
      ],
      "execution_count": null,
      "outputs": []
    },
    {
      "cell_type": "markdown",
      "metadata": {
        "id": "UPCKx-DYHtxF"
      },
      "source": [
        "##Acer"
      ]
    },
    {
      "cell_type": "code",
      "metadata": {
        "id": "c4_1siNfHuM9"
      },
      "source": [
        "searched_tweets_acer = [status for status in tweepy.Cursor(api.search, q='performance laptop acer', lang='id').items(5000)]"
      ],
      "execution_count": null,
      "outputs": []
    },
    {
      "cell_type": "code",
      "metadata": {
        "id": "8J2DwspaHuM_",
        "colab": {
          "base_uri": "https://localhost:8080/"
        },
        "outputId": "0e4ed2ea-d48e-4502-9555-87a42956e208"
      },
      "source": [
        "len(searched_tweets_acer)"
      ],
      "execution_count": null,
      "outputs": [
        {
          "output_type": "execute_result",
          "data": {
            "text/plain": [
              "0"
            ]
          },
          "metadata": {
            "tags": []
          },
          "execution_count": 100
        }
      ]
    },
    {
      "cell_type": "code",
      "metadata": {
        "id": "zPmb6NFSHuNA"
      },
      "source": [
        "hasilAnalisissAcer =[]\n",
        "\n",
        "for tweet in searched_tweets_acer :\n",
        "  tweet_details = {}\n",
        "  tweet_details['name'] = tweet.user.screen_name\n",
        "  tweet_details['tweet'] = tweet.text\n",
        "  tweet_details['retweets'] = tweet.retweet_count\n",
        "  tweet_details['location'] = tweet.user.location\n",
        "  tweet_details['created'] = tweet.created_at.strftime(\"%d-%b-%Y\")\n",
        "  tweet_details['followers'] = tweet.user.followers_count\n",
        "  tweet_details['is_user_verified'] = tweet.user.verified\n",
        "\n",
        "  hasilAnalisissAcer.append(tweet_details)"
      ],
      "execution_count": null,
      "outputs": []
    },
    {
      "cell_type": "code",
      "metadata": {
        "id": "P5IkKK03HuNB"
      },
      "source": [
        "with open('fileAsusACer.json', 'w') as outfile:\n",
        "  json.dump(hasilAnalisissAcer, outfile)"
      ],
      "execution_count": null,
      "outputs": []
    },
    {
      "cell_type": "code",
      "metadata": {
        "id": "tLO77RsjMmDe"
      },
      "source": [
        "hasilAnalisissAcer =[]\n",
        "\n",
        "for tweet in searched_tweets_acer :\n",
        "  tweet_details = {}\n",
        "  tweet_details['name'] = tweet.user.screen_name\n",
        "  tweet_details['tweet'] = tweet.text\n",
        "  tweet_details['created'] = tweet.created_at.strftime(\"%A %d %b %Y %I:%M:%S\")\n",
        "\n",
        "  hasilAnalisissAcer.append(tweet_details)"
      ],
      "execution_count": null,
      "outputs": []
    },
    {
      "cell_type": "code",
      "metadata": {
        "colab": {
          "base_uri": "https://localhost:8080/"
        },
        "id": "1wB6BaWlMmDf",
        "outputId": "615a41e9-5a03-4e97-cdaa-e5046b6bff2b"
      },
      "source": [
        "len(hasilAnalisissAcer)"
      ],
      "execution_count": null,
      "outputs": [
        {
          "output_type": "execute_result",
          "data": {
            "text/plain": [
              "13"
            ]
          },
          "metadata": {
            "tags": []
          },
          "execution_count": 88
        }
      ]
    },
    {
      "cell_type": "code",
      "metadata": {
        "id": "Tj134vdoMmDh"
      },
      "source": [
        "import json\n",
        "\n",
        "with open('fileAcerHarga.json', 'w') as outfile:\n",
        "  json.dump(hasilAnalisissAcer, outfile)"
      ],
      "execution_count": null,
      "outputs": []
    },
    {
      "cell_type": "code",
      "metadata": {
        "colab": {
          "base_uri": "https://localhost:8080/",
          "height": 200
        },
        "id": "cwWWeXWuMmDk",
        "outputId": "2dd25b58-4855-4785-85ca-a819f5bd4b19"
      },
      "source": [
        "data_Acer = pd.read_json('fileAcerHarga.json')\n",
        "data_Acer.tail()"
      ],
      "execution_count": null,
      "outputs": [
        {
          "output_type": "execute_result",
          "data": {
            "text/html": [
              "<div>\n",
              "<style scoped>\n",
              "    .dataframe tbody tr th:only-of-type {\n",
              "        vertical-align: middle;\n",
              "    }\n",
              "\n",
              "    .dataframe tbody tr th {\n",
              "        vertical-align: top;\n",
              "    }\n",
              "\n",
              "    .dataframe thead th {\n",
              "        text-align: right;\n",
              "    }\n",
              "</style>\n",
              "<table border=\"1\" class=\"dataframe\">\n",
              "  <thead>\n",
              "    <tr style=\"text-align: right;\">\n",
              "      <th></th>\n",
              "      <th>name</th>\n",
              "      <th>tweet</th>\n",
              "      <th>created</th>\n",
              "    </tr>\n",
              "  </thead>\n",
              "  <tbody>\n",
              "    <tr>\n",
              "      <th>8</th>\n",
              "      <td>Soya_Cincau</td>\n",
              "      <td>RT @SoyaCincauBM: Gabungan Intel Core-i siri-H...</td>\n",
              "      <td>Monday 05 Jul 2021 10:25:49</td>\n",
              "    </tr>\n",
              "    <tr>\n",
              "      <th>9</th>\n",
              "      <td>SoyaCincauBM</td>\n",
              "      <td>Gabungan Intel Core-i siri-H gen-11 dan GeForc...</td>\n",
              "      <td>Monday 05 Jul 2021 10:19:22</td>\n",
              "    </tr>\n",
              "    <tr>\n",
              "      <th>10</th>\n",
              "      <td>acerID</td>\n",
              "      <td>@jouphia Halo, untuk laptop terbaru Acer yaitu...</td>\n",
              "      <td>Sunday 04 Jul 2021 04:55:56</td>\n",
              "    </tr>\n",
              "    <tr>\n",
              "      <th>11</th>\n",
              "      <td>patehh88</td>\n",
              "      <td>@collegemenfess Sudah bagus itu bos, kalo mau ...</td>\n",
              "      <td>Saturday 03 Jul 2021 05:46:22</td>\n",
              "    </tr>\n",
              "    <tr>\n",
              "      <th>12</th>\n",
              "      <td>laptophia</td>\n",
              "      <td>Harga dan Spesifikasi Acer SF314-43 R63N, Lapt...</td>\n",
              "      <td>Thursday 01 Jul 2021 06:50:45</td>\n",
              "    </tr>\n",
              "  </tbody>\n",
              "</table>\n",
              "</div>"
            ],
            "text/plain": [
              "            name  ...                        created\n",
              "8    Soya_Cincau  ...    Monday 05 Jul 2021 10:25:49\n",
              "9   SoyaCincauBM  ...    Monday 05 Jul 2021 10:19:22\n",
              "10        acerID  ...    Sunday 04 Jul 2021 04:55:56\n",
              "11      patehh88  ...  Saturday 03 Jul 2021 05:46:22\n",
              "12     laptophia  ...  Thursday 01 Jul 2021 06:50:45\n",
              "\n",
              "[5 rows x 3 columns]"
            ]
          },
          "metadata": {
            "tags": []
          },
          "execution_count": 90
        }
      ]
    },
    {
      "cell_type": "code",
      "metadata": {
        "colab": {
          "base_uri": "https://localhost:8080/",
          "height": 200
        },
        "id": "2IhJ3W2mMmDl",
        "outputId": "2e1ff3c3-2683-47ee-d06e-79e815a12b74"
      },
      "source": [
        "data_Acer = data_Acer.astype(str).apply(lambda x: x.str.encode('ascii', 'ignore').str.decode('ascii'))\n",
        "data_Acer['tweet'] = data_Acer['tweet'].apply(lambda elem: re.sub(r\"\\n\", \" \", elem))\n",
        "data_Acer['tweet'] = data_Acer['tweet'].apply(lambda elem: re.sub(r\"\\s\\s+\", \" \", elem))\n",
        "data_Acer.tail()"
      ],
      "execution_count": null,
      "outputs": [
        {
          "output_type": "execute_result",
          "data": {
            "text/html": [
              "<div>\n",
              "<style scoped>\n",
              "    .dataframe tbody tr th:only-of-type {\n",
              "        vertical-align: middle;\n",
              "    }\n",
              "\n",
              "    .dataframe tbody tr th {\n",
              "        vertical-align: top;\n",
              "    }\n",
              "\n",
              "    .dataframe thead th {\n",
              "        text-align: right;\n",
              "    }\n",
              "</style>\n",
              "<table border=\"1\" class=\"dataframe\">\n",
              "  <thead>\n",
              "    <tr style=\"text-align: right;\">\n",
              "      <th></th>\n",
              "      <th>name</th>\n",
              "      <th>tweet</th>\n",
              "      <th>created</th>\n",
              "    </tr>\n",
              "  </thead>\n",
              "  <tbody>\n",
              "    <tr>\n",
              "      <th>8</th>\n",
              "      <td>Soya_Cincau</td>\n",
              "      <td>RT @SoyaCincauBM: Gabungan Intel Core-i siri-H...</td>\n",
              "      <td>Monday 05 Jul 2021 10:25:49</td>\n",
              "    </tr>\n",
              "    <tr>\n",
              "      <th>9</th>\n",
              "      <td>SoyaCincauBM</td>\n",
              "      <td>Gabungan Intel Core-i siri-H gen-11 dan GeForc...</td>\n",
              "      <td>Monday 05 Jul 2021 10:19:22</td>\n",
              "    </tr>\n",
              "    <tr>\n",
              "      <th>10</th>\n",
              "      <td>acerID</td>\n",
              "      <td>@jouphia Halo, untuk laptop terbaru Acer yaitu...</td>\n",
              "      <td>Sunday 04 Jul 2021 04:55:56</td>\n",
              "    </tr>\n",
              "    <tr>\n",
              "      <th>11</th>\n",
              "      <td>patehh88</td>\n",
              "      <td>@collegemenfess Sudah bagus itu bos, kalo mau ...</td>\n",
              "      <td>Saturday 03 Jul 2021 05:46:22</td>\n",
              "    </tr>\n",
              "    <tr>\n",
              "      <th>12</th>\n",
              "      <td>laptophia</td>\n",
              "      <td>Harga dan Spesifikasi Acer SF314-43 R63N, Lapt...</td>\n",
              "      <td>Thursday 01 Jul 2021 06:50:45</td>\n",
              "    </tr>\n",
              "  </tbody>\n",
              "</table>\n",
              "</div>"
            ],
            "text/plain": [
              "            name  ...                        created\n",
              "8    Soya_Cincau  ...    Monday 05 Jul 2021 10:25:49\n",
              "9   SoyaCincauBM  ...    Monday 05 Jul 2021 10:19:22\n",
              "10        acerID  ...    Sunday 04 Jul 2021 04:55:56\n",
              "11      patehh88  ...  Saturday 03 Jul 2021 05:46:22\n",
              "12     laptophia  ...  Thursday 01 Jul 2021 06:50:45\n",
              "\n",
              "[5 rows x 3 columns]"
            ]
          },
          "metadata": {
            "tags": []
          },
          "execution_count": 91
        }
      ]
    },
    {
      "cell_type": "code",
      "metadata": {
        "id": "jCbVKTewMmDm"
      },
      "source": [
        "data_Acer.to_csv('outAcerHarga.csv', index=False) "
      ],
      "execution_count": null,
      "outputs": []
    },
    {
      "cell_type": "markdown",
      "metadata": {
        "id": "_nzHjwOPzwmI"
      },
      "source": [
        "#Prepocessing"
      ]
    },
    {
      "cell_type": "markdown",
      "metadata": {
        "id": "Uk9bRGuO0MTG"
      },
      "source": [
        "##Convert to Pandas"
      ]
    },
    {
      "cell_type": "code",
      "metadata": {
        "id": "DWXE-j0k0LFC"
      },
      "source": [
        "import pandas as pd"
      ],
      "execution_count": null,
      "outputs": []
    },
    {
      "cell_type": "code",
      "metadata": {
        "colab": {
          "base_uri": "https://localhost:8080/"
        },
        "id": "2RBSMsIzzRmP",
        "outputId": "a61a799f-ce08-49d9-a89f-e3ec8ef3acb2"
      },
      "source": [
        "from google.colab import drive\n",
        "drive.mount('/content/drive')"
      ],
      "execution_count": null,
      "outputs": [
        {
          "output_type": "stream",
          "text": [
            "Mounted at /content/drive\n"
          ],
          "name": "stdout"
        }
      ]
    },
    {
      "cell_type": "code",
      "metadata": {
        "colab": {
          "base_uri": "https://localhost:8080/",
          "height": 200
        },
        "id": "eIcM-ehgUavZ",
        "outputId": "5f9287eb-bf7d-4f0c-de58-352f9591a9f2"
      },
      "source": [
        "#Load data excel\n",
        "data = pd.read_excel('/content/drive/MyDrive/Tiwi/eflin/data acer.xlsx',sheet_name='acer')\n",
        "data.tail()"
      ],
      "execution_count": null,
      "outputs": [
        {
          "output_type": "execute_result",
          "data": {
            "text/html": [
              "<div>\n",
              "<style scoped>\n",
              "    .dataframe tbody tr th:only-of-type {\n",
              "        vertical-align: middle;\n",
              "    }\n",
              "\n",
              "    .dataframe tbody tr th {\n",
              "        vertical-align: top;\n",
              "    }\n",
              "\n",
              "    .dataframe thead th {\n",
              "        text-align: right;\n",
              "    }\n",
              "</style>\n",
              "<table border=\"1\" class=\"dataframe\">\n",
              "  <thead>\n",
              "    <tr style=\"text-align: right;\">\n",
              "      <th></th>\n",
              "      <th>teks</th>\n",
              "      <th>sentimen</th>\n",
              "      <th>lebel</th>\n",
              "    </tr>\n",
              "  </thead>\n",
              "  <tbody>\n",
              "    <tr>\n",
              "      <th>195</th>\n",
              "      <td>Cepet rusak, aku dah dua kali beli acer laptop...</td>\n",
              "      <td>negatif</td>\n",
              "      <td>hs</td>\n",
              "    </tr>\n",
              "    <tr>\n",
              "      <th>196</th>\n",
              "      <td>Acer nitro mar xv240yp ni aku pakai skrang, la...</td>\n",
              "      <td>positif</td>\n",
              "      <td>hs</td>\n",
              "    </tr>\n",
              "    <tr>\n",
              "      <th>197</th>\n",
              "      <td>acer webcam nya lebi bagus dari asus sih</td>\n",
              "      <td>positif</td>\n",
              "      <td>hs</td>\n",
              "    </tr>\n",
              "    <tr>\n",
              "      <th>198</th>\n",
              "      <td>acer splil intel sih kece banget</td>\n",
              "      <td>positif</td>\n",
              "      <td>desain</td>\n",
              "    </tr>\n",
              "    <tr>\n",
              "      <th>199</th>\n",
              "      <td>cari acer dek.. spek udah lumayan bagus</td>\n",
              "      <td>positif</td>\n",
              "      <td>hs</td>\n",
              "    </tr>\n",
              "  </tbody>\n",
              "</table>\n",
              "</div>"
            ],
            "text/plain": [
              "                                                  teks sentimen    lebel\n",
              "195  Cepet rusak, aku dah dua kali beli acer laptop...   negatif      hs\n",
              "196  Acer nitro mar xv240yp ni aku pakai skrang, la...   positif      hs\n",
              "197          acer webcam nya lebi bagus dari asus sih    positif      hs\n",
              "198                  acer splil intel sih kece banget    positif  desain\n",
              "199            cari acer dek.. spek udah lumayan bagus   positif      hs"
            ]
          },
          "metadata": {
            "tags": []
          },
          "execution_count": 3
        }
      ]
    },
    {
      "cell_type": "code",
      "metadata": {
        "colab": {
          "base_uri": "https://localhost:8080/"
        },
        "id": "WkGF6tiZU8vR",
        "outputId": "7d42840c-e998-4f04-c590-4cbe03831563"
      },
      "source": [
        "data.info()"
      ],
      "execution_count": null,
      "outputs": [
        {
          "output_type": "stream",
          "text": [
            "<class 'pandas.core.frame.DataFrame'>\n",
            "RangeIndex: 200 entries, 0 to 199\n",
            "Data columns (total 3 columns):\n",
            " #   Column     Non-Null Count  Dtype \n",
            "---  ------     --------------  ----- \n",
            " 0   teks       200 non-null    object\n",
            " 1   sentimen   200 non-null    object\n",
            " 2   lebel      200 non-null    object\n",
            "dtypes: object(3)\n",
            "memory usage: 4.8+ KB\n"
          ],
          "name": "stdout"
        }
      ]
    },
    {
      "cell_type": "code",
      "metadata": {
        "id": "N6EurGHc-ilN"
      },
      "source": [
        "chart1 = data[data['sentimen '] == 'negatif']\n",
        "chart2 = data[data['sentimen '] == 'positif']"
      ],
      "execution_count": null,
      "outputs": []
    },
    {
      "cell_type": "code",
      "metadata": {
        "id": "S0rHm90KRZRG"
      },
      "source": [
        "Data1 = chart1['lebel'].value_counts()\n",
        "Data2 = chart2['lebel'].value_counts()"
      ],
      "execution_count": null,
      "outputs": []
    },
    {
      "cell_type": "code",
      "metadata": {
        "colab": {
          "base_uri": "https://localhost:8080/"
        },
        "id": "f3By1-nlBfX-",
        "outputId": "75ed29d8-5fed-4c49-a43d-bc227836571d"
      },
      "source": [
        "Data1.sort_index()"
      ],
      "execution_count": null,
      "outputs": [
        {
          "output_type": "execute_result",
          "data": {
            "text/plain": [
              "desain     6\n",
              "harga      4\n",
              "hs        65\n",
              "Name: lebel, dtype: int64"
            ]
          },
          "metadata": {
            "tags": []
          },
          "execution_count": 7
        }
      ]
    },
    {
      "cell_type": "code",
      "metadata": {
        "colab": {
          "base_uri": "https://localhost:8080/"
        },
        "id": "i4v-lahhBgrR",
        "outputId": "b350c75d-aa13-43ec-8906-94c8485a0569"
      },
      "source": [
        "Data2.sort_index()"
      ],
      "execution_count": null,
      "outputs": [
        {
          "output_type": "execute_result",
          "data": {
            "text/plain": [
              "desain    20\n",
              "harga     29\n",
              "hs        76\n",
              "Name: lebel, dtype: int64"
            ]
          },
          "metadata": {
            "tags": []
          },
          "execution_count": 8
        }
      ]
    },
    {
      "cell_type": "code",
      "metadata": {
        "colab": {
          "base_uri": "https://localhost:8080/",
          "height": 497
        },
        "id": "zdsstoix_oSk",
        "outputId": "86e5999d-f5ca-43fd-9c9e-70c6c0c52439"
      },
      "source": [
        "import matplotlib.pyplot as plt\n",
        "import numpy as np\n",
        "x = np.arange(3)\n",
        "width = 0.2\n",
        "plt.figure(figsize=(7,8))\n",
        "plt.bar(x-0.2, Data1.sort_index(), width, color='#ff0000')\n",
        "plt.bar(x, Data2.sort_index(), width, color='#00ff00')\n",
        "plt.xticks(x, ['Desain', 'Harga', 'Hardware & Software'])\n",
        "plt.xlabel(\"Kategori\")\n",
        "plt.ylabel(\"Jumlah\")\n",
        "plt.legend([\"Negatif\", \"Positif\"])\n",
        "plt.savefig('/content/drive/MyDrive/Tiwi/Asus dan Acer Dataset/Perbandingan Kategori Acer.png')"
      ],
      "execution_count": null,
      "outputs": [
        {
          "output_type": "display_data",
          "data": {
            "image/png": "[encoded data removed]",
            "text/plain": [
              "<Figure size 504x576 with 1 Axes>"
            ]
          },
          "metadata": {
            "tags": [],
            "needs_background": "light"
          }
        }
      ]
    },
    {
      "cell_type": "code",
      "metadata": {
        "colab": {
          "base_uri": "https://localhost:8080/"
        },
        "id": "J_dajLMIBmkk",
        "outputId": "44ec9641-33e7-4975-d0a9-f7155a31ca65"
      },
      "source": [
        "data.info()"
      ],
      "execution_count": null,
      "outputs": [
        {
          "output_type": "stream",
          "text": [
            "<class 'pandas.core.frame.DataFrame'>\n",
            "RangeIndex: 200 entries, 0 to 199\n",
            "Data columns (total 3 columns):\n",
            " #   Column     Non-Null Count  Dtype \n",
            "---  ------     --------------  ----- \n",
            " 0   teks       200 non-null    object\n",
            " 1   sentimen   200 non-null    object\n",
            " 2   lebel      200 non-null    object\n",
            "dtypes: object(3)\n",
            "memory usage: 4.8+ KB\n"
          ],
          "name": "stdout"
        }
      ]
    },
    {
      "cell_type": "code",
      "metadata": {
        "colab": {
          "base_uri": "https://localhost:8080/"
        },
        "id": "b_qerhMJ1TWi",
        "outputId": "564745e2-c2b8-40f8-e9b6-28e5b908392b"
      },
      "source": [
        "#Melihat Label Sentimen\n",
        "data['sentimen '].value_counts()"
      ],
      "execution_count": null,
      "outputs": [
        {
          "output_type": "execute_result",
          "data": {
            "text/plain": [
              "positif    125\n",
              "negatif     75\n",
              "Name: sentimen , dtype: int64"
            ]
          },
          "metadata": {
            "tags": []
          },
          "execution_count": 11
        }
      ]
    },
    {
      "cell_type": "code",
      "metadata": {
        "id": "Qx0_LzzkoroP"
      },
      "source": [
        "acer = data"
      ],
      "execution_count": null,
      "outputs": []
    },
    {
      "cell_type": "markdown",
      "metadata": {
        "id": "B4oWEF6jAm1-"
      },
      "source": [
        "## Pre-pocessing"
      ]
    },
    {
      "cell_type": "code",
      "metadata": {
        "id": "PH2yR3PvBADL"
      },
      "source": [
        "#Hapus Emoticon\n",
        "acer = acer.astype(str).apply(lambda x: x.str.encode('ascii', 'ignore').str.decode('ascii'))"
      ],
      "execution_count": null,
      "outputs": []
    },
    {
      "cell_type": "code",
      "metadata": {
        "colab": {
          "base_uri": "https://localhost:8080/",
          "height": 408
        },
        "id": "wx_xqMWqAupf",
        "outputId": "a5f98f22-5d25-4d55-b68e-16a77c575565"
      },
      "source": [
        "import re\n",
        "def clean_text(df, text_field, new_text_field_name):\n",
        "  #Membuat tulisan jadi lowercase\n",
        "  df[new_text_field_name] = df[text_field].str.lower()\n",
        "  #Hapus Alamat URL\n",
        "  df[new_text_field_name] = df[new_text_field_name].apply(lambda elem: re.sub(r\"(\\w+:\\/\\/\\S+)|^rt|http.+?\", \"\", elem))\n",
        "  # df[new_text_field_name] = df[new_text_field_name].apply(lambda elem: re.sub(r\"(@[A-Za-z0-9]+)|([^0-9A-Za-z \\t])|(\\w+:\\/\\/\\S+)|^rt|http.+?\", \"\", elem))  \n",
        "  #Hapus Tag & Hastag\n",
        "  df[new_text_field_name] = df[new_text_field_name].apply(lambda elem: re.sub(r\"(@[A-Za-z0-9_]+)|(#[A-Za-z0-9_]+)\", \"\", elem))  \n",
        "  #Hapus karakter selain kata\n",
        "  df[new_text_field_name] = df[new_text_field_name].apply(lambda elem: re.sub(r\"([^0-9A-Za-z \\t])\", \"\", elem))\n",
        "  # Hapus angka\n",
        "  df[new_text_field_name] = df[new_text_field_name].apply(lambda elem: re.sub(r\"\\d+\", \"\", elem))\n",
        "\n",
        "  df[new_text_field_name] = df[new_text_field_name].apply(lambda elem: \"\".join(elem.rstrip()))\n",
        "\n",
        "  df[new_text_field_name] = df[new_text_field_name].apply(lambda elem: \"\".join(elem.lstrip()))\n",
        "  return df\n",
        "    \n",
        "data_clean = clean_text(acer, 'teks', 'tweet_clean')\n",
        "data_clean"
      ],
      "execution_count": null,
      "outputs": [
        {
          "output_type": "execute_result",
          "data": {
            "text/html": [
              "<div>\n",
              "<style scoped>\n",
              "    .dataframe tbody tr th:only-of-type {\n",
              "        vertical-align: middle;\n",
              "    }\n",
              "\n",
              "    .dataframe tbody tr th {\n",
              "        vertical-align: top;\n",
              "    }\n",
              "\n",
              "    .dataframe thead th {\n",
              "        text-align: right;\n",
              "    }\n",
              "</style>\n",
              "<table border=\"1\" class=\"dataframe\">\n",
              "  <thead>\n",
              "    <tr style=\"text-align: right;\">\n",
              "      <th></th>\n",
              "      <th>teks</th>\n",
              "      <th>sentimen</th>\n",
              "      <th>lebel</th>\n",
              "      <th>tweet_clean</th>\n",
              "    </tr>\n",
              "  </thead>\n",
              "  <tbody>\n",
              "    <tr>\n",
              "      <th>0</th>\n",
              "      <td>@uunpoocooloocoo Swift not bad tapi harga agak...</td>\n",
              "      <td>negatif</td>\n",
              "      <td>harga</td>\n",
              "      <td>swift not bad tapi harga agak naik jugak acer ...</td>\n",
              "    </tr>\n",
              "    <tr>\n",
              "      <th>1</th>\n",
              "      <td>@gadgething yang acer Rada kemahalan buat gw</td>\n",
              "      <td>negatif</td>\n",
              "      <td>harga</td>\n",
              "      <td>yang acer rada kemahalan buat gw</td>\n",
              "    </tr>\n",
              "    <tr>\n",
              "      <th>2</th>\n",
              "      <td>Acer Swift 3 SF314-43 R3CZ, Laptop 14 Jutaan K...</td>\n",
              "      <td>positif</td>\n",
              "      <td>harga</td>\n",
              "      <td>acer swift  sf rcz laptop  jutaan kencang deng...</td>\n",
              "    </tr>\n",
              "    <tr>\n",
              "      <th>3</th>\n",
              "      <td>@convomfs acer nitro enak dipake gaming sama d...</td>\n",
              "      <td>negatif</td>\n",
              "      <td>desain</td>\n",
              "      <td>acer nitro enak dipake gaming sama desain minu...</td>\n",
              "    </tr>\n",
              "    <tr>\n",
              "      <th>4</th>\n",
              "      <td>@schfess laptop aku acer umurnya udah 6 taunan...</td>\n",
              "      <td>positif</td>\n",
              "      <td>hs</td>\n",
              "      <td>laptop aku acer umurnya udah  taunan bisa kok ...</td>\n",
              "    </tr>\n",
              "    <tr>\n",
              "      <th>...</th>\n",
              "      <td>...</td>\n",
              "      <td>...</td>\n",
              "      <td>...</td>\n",
              "      <td>...</td>\n",
              "    </tr>\n",
              "    <tr>\n",
              "      <th>195</th>\n",
              "      <td>Cepet rusak, aku dah dua kali beli acer laptop...</td>\n",
              "      <td>negatif</td>\n",
              "      <td>hs</td>\n",
              "      <td>cepet rusak aku dah dua kali beli acer laptopn...</td>\n",
              "    </tr>\n",
              "    <tr>\n",
              "      <th>196</th>\n",
              "      <td>Acer nitro mar xv240yp ni aku pakai skrang, la...</td>\n",
              "      <td>positif</td>\n",
              "      <td>hs</td>\n",
              "      <td>acer nitro mar xvyp ni aku pakai skrang lancar...</td>\n",
              "    </tr>\n",
              "    <tr>\n",
              "      <th>197</th>\n",
              "      <td>acer webcam nya lebi bagus dari asus sih</td>\n",
              "      <td>positif</td>\n",
              "      <td>hs</td>\n",
              "      <td>acer webcam nya lebi bagus dari asus sih</td>\n",
              "    </tr>\n",
              "    <tr>\n",
              "      <th>198</th>\n",
              "      <td>acer splil intel sih kece banget</td>\n",
              "      <td>positif</td>\n",
              "      <td>desain</td>\n",
              "      <td>acer splil intel sih kece banget</td>\n",
              "    </tr>\n",
              "    <tr>\n",
              "      <th>199</th>\n",
              "      <td>cari acer dek.. spek udah lumayan bagus</td>\n",
              "      <td>positif</td>\n",
              "      <td>hs</td>\n",
              "      <td>cari acer dek spek udah lumayan bagus</td>\n",
              "    </tr>\n",
              "  </tbody>\n",
              "</table>\n",
              "<p>200 rows × 4 columns</p>\n",
              "</div>"
            ],
            "text/plain": [
              "                                                  teks  ...                                        tweet_clean\n",
              "0    @uunpoocooloocoo Swift not bad tapi harga agak...  ...  swift not bad tapi harga agak naik jugak acer ...\n",
              "1         @gadgething yang acer Rada kemahalan buat gw  ...                   yang acer rada kemahalan buat gw\n",
              "2    Acer Swift 3 SF314-43 R3CZ, Laptop 14 Jutaan K...  ...  acer swift  sf rcz laptop  jutaan kencang deng...\n",
              "3    @convomfs acer nitro enak dipake gaming sama d...  ...  acer nitro enak dipake gaming sama desain minu...\n",
              "4    @schfess laptop aku acer umurnya udah 6 taunan...  ...  laptop aku acer umurnya udah  taunan bisa kok ...\n",
              "..                                                 ...  ...                                                ...\n",
              "195  Cepet rusak, aku dah dua kali beli acer laptop...  ...  cepet rusak aku dah dua kali beli acer laptopn...\n",
              "196  Acer nitro mar xv240yp ni aku pakai skrang, la...  ...  acer nitro mar xvyp ni aku pakai skrang lancar...\n",
              "197          acer webcam nya lebi bagus dari asus sih   ...           acer webcam nya lebi bagus dari asus sih\n",
              "198                  acer splil intel sih kece banget   ...                   acer splil intel sih kece banget\n",
              "199            cari acer dek.. spek udah lumayan bagus  ...              cari acer dek spek udah lumayan bagus\n",
              "\n",
              "[200 rows x 4 columns]"
            ]
          },
          "metadata": {
            "tags": []
          },
          "execution_count": 15
        }
      ]
    },
    {
      "cell_type": "code",
      "metadata": {
        "colab": {
          "base_uri": "https://localhost:8080/",
          "height": 408
        },
        "id": "XpO8kfwbG1JE",
        "outputId": "0586e799-0c8f-4dc4-e6d9-31bda9d516a3"
      },
      "source": [
        "  #Tahap Tokenization\n",
        "def tekonization(text):\n",
        "  text = re.split('\\W+', text)\n",
        "  return text\n",
        "data_clean['Tokenization'] = data_clean['tweet_clean'].apply(lambda x: tekonization(x))\n",
        "data_clean"
      ],
      "execution_count": null,
      "outputs": [
        {
          "output_type": "execute_result",
          "data": {
            "text/html": [
              "<div>\n",
              "<style scoped>\n",
              "    .dataframe tbody tr th:only-of-type {\n",
              "        vertical-align: middle;\n",
              "    }\n",
              "\n",
              "    .dataframe tbody tr th {\n",
              "        vertical-align: top;\n",
              "    }\n",
              "\n",
              "    .dataframe thead th {\n",
              "        text-align: right;\n",
              "    }\n",
              "</style>\n",
              "<table border=\"1\" class=\"dataframe\">\n",
              "  <thead>\n",
              "    <tr style=\"text-align: right;\">\n",
              "      <th></th>\n",
              "      <th>teks</th>\n",
              "      <th>sentimen</th>\n",
              "      <th>lebel</th>\n",
              "      <th>tweet_clean</th>\n",
              "      <th>Tokenization</th>\n",
              "    </tr>\n",
              "  </thead>\n",
              "  <tbody>\n",
              "    <tr>\n",
              "      <th>0</th>\n",
              "      <td>@uunpoocooloocoo Swift not bad tapi harga agak...</td>\n",
              "      <td>negatif</td>\n",
              "      <td>harga</td>\n",
              "      <td>swift not bad tapi harga agak naik jugak acer ...</td>\n",
              "      <td>[swift, not, bad, tapi, harga, agak, naik, jug...</td>\n",
              "    </tr>\n",
              "    <tr>\n",
              "      <th>1</th>\n",
              "      <td>@gadgething yang acer Rada kemahalan buat gw</td>\n",
              "      <td>negatif</td>\n",
              "      <td>harga</td>\n",
              "      <td>yang acer rada kemahalan buat gw</td>\n",
              "      <td>[yang, acer, rada, kemahalan, buat, gw]</td>\n",
              "    </tr>\n",
              "    <tr>\n",
              "      <th>2</th>\n",
              "      <td>Acer Swift 3 SF314-43 R3CZ, Laptop 14 Jutaan K...</td>\n",
              "      <td>positif</td>\n",
              "      <td>harga</td>\n",
              "      <td>acer swift  sf rcz laptop  jutaan kencang deng...</td>\n",
              "      <td>[acer, swift, sf, rcz, laptop, jutaan, kencang...</td>\n",
              "    </tr>\n",
              "    <tr>\n",
              "      <th>3</th>\n",
              "      <td>@convomfs acer nitro enak dipake gaming sama d...</td>\n",
              "      <td>negatif</td>\n",
              "      <td>desain</td>\n",
              "      <td>acer nitro enak dipake gaming sama desain minu...</td>\n",
              "      <td>[acer, nitro, enak, dipake, gaming, sama, desa...</td>\n",
              "    </tr>\n",
              "    <tr>\n",
              "      <th>4</th>\n",
              "      <td>@schfess laptop aku acer umurnya udah 6 taunan...</td>\n",
              "      <td>positif</td>\n",
              "      <td>hs</td>\n",
              "      <td>laptop aku acer umurnya udah  taunan bisa kok ...</td>\n",
              "      <td>[laptop, aku, acer, umurnya, udah, taunan, bis...</td>\n",
              "    </tr>\n",
              "    <tr>\n",
              "      <th>...</th>\n",
              "      <td>...</td>\n",
              "      <td>...</td>\n",
              "      <td>...</td>\n",
              "      <td>...</td>\n",
              "      <td>...</td>\n",
              "    </tr>\n",
              "    <tr>\n",
              "      <th>195</th>\n",
              "      <td>Cepet rusak, aku dah dua kali beli acer laptop...</td>\n",
              "      <td>negatif</td>\n",
              "      <td>hs</td>\n",
              "      <td>cepet rusak aku dah dua kali beli acer laptopn...</td>\n",
              "      <td>[cepet, rusak, aku, dah, dua, kali, beli, acer...</td>\n",
              "    </tr>\n",
              "    <tr>\n",
              "      <th>196</th>\n",
              "      <td>Acer nitro mar xv240yp ni aku pakai skrang, la...</td>\n",
              "      <td>positif</td>\n",
              "      <td>hs</td>\n",
              "      <td>acer nitro mar xvyp ni aku pakai skrang lancar...</td>\n",
              "      <td>[acer, nitro, mar, xvyp, ni, aku, pakai, skran...</td>\n",
              "    </tr>\n",
              "    <tr>\n",
              "      <th>197</th>\n",
              "      <td>acer webcam nya lebi bagus dari asus sih</td>\n",
              "      <td>positif</td>\n",
              "      <td>hs</td>\n",
              "      <td>acer webcam nya lebi bagus dari asus sih</td>\n",
              "      <td>[acer, webcam, nya, lebi, bagus, dari, asus, sih]</td>\n",
              "    </tr>\n",
              "    <tr>\n",
              "      <th>198</th>\n",
              "      <td>acer splil intel sih kece banget</td>\n",
              "      <td>positif</td>\n",
              "      <td>desain</td>\n",
              "      <td>acer splil intel sih kece banget</td>\n",
              "      <td>[acer, splil, intel, sih, kece, banget]</td>\n",
              "    </tr>\n",
              "    <tr>\n",
              "      <th>199</th>\n",
              "      <td>cari acer dek.. spek udah lumayan bagus</td>\n",
              "      <td>positif</td>\n",
              "      <td>hs</td>\n",
              "      <td>cari acer dek spek udah lumayan bagus</td>\n",
              "      <td>[cari, acer, dek, spek, udah, lumayan, bagus]</td>\n",
              "    </tr>\n",
              "  </tbody>\n",
              "</table>\n",
              "<p>200 rows × 5 columns</p>\n",
              "</div>"
            ],
            "text/plain": [
              "                                                  teks  ...                                       Tokenization\n",
              "0    @uunpoocooloocoo Swift not bad tapi harga agak...  ...  [swift, not, bad, tapi, harga, agak, naik, jug...\n",
              "1         @gadgething yang acer Rada kemahalan buat gw  ...            [yang, acer, rada, kemahalan, buat, gw]\n",
              "2    Acer Swift 3 SF314-43 R3CZ, Laptop 14 Jutaan K...  ...  [acer, swift, sf, rcz, laptop, jutaan, kencang...\n",
              "3    @convomfs acer nitro enak dipake gaming sama d...  ...  [acer, nitro, enak, dipake, gaming, sama, desa...\n",
              "4    @schfess laptop aku acer umurnya udah 6 taunan...  ...  [laptop, aku, acer, umurnya, udah, taunan, bis...\n",
              "..                                                 ...  ...                                                ...\n",
              "195  Cepet rusak, aku dah dua kali beli acer laptop...  ...  [cepet, rusak, aku, dah, dua, kali, beli, acer...\n",
              "196  Acer nitro mar xv240yp ni aku pakai skrang, la...  ...  [acer, nitro, mar, xvyp, ni, aku, pakai, skran...\n",
              "197          acer webcam nya lebi bagus dari asus sih   ...  [acer, webcam, nya, lebi, bagus, dari, asus, sih]\n",
              "198                  acer splil intel sih kece banget   ...            [acer, splil, intel, sih, kece, banget]\n",
              "199            cari acer dek.. spek udah lumayan bagus  ...      [cari, acer, dek, spek, udah, lumayan, bagus]\n",
              "\n",
              "[200 rows x 5 columns]"
            ]
          },
          "metadata": {
            "tags": []
          },
          "execution_count": 16
        }
      ]
    },
    {
      "cell_type": "code",
      "metadata": {
        "colab": {
          "base_uri": "https://localhost:8080/",
          "height": 441
        },
        "id": "-72A1taLRNiN",
        "outputId": "fabe9700-cbc5-4855-f9a2-b1a09ece8fcc"
      },
      "source": [
        "#Tahap Menghapus Stopword\n",
        "import nltk\n",
        "from nltk.corpus import stopwords\n",
        "nltk.download('stopwords')\n",
        "\n",
        "stopword = stopwords.words('indonesian')\n",
        "\n",
        "def remove_stopwords(text):\n",
        "  text = [word for word in text if word not in stopword]\n",
        "  return text\n",
        "\n",
        "data_clean['stop_removal'] = data_clean['Tokenization'].apply(lambda x: remove_stopwords(x))\n",
        "data_clean"
      ],
      "execution_count": null,
      "outputs": [
        {
          "output_type": "stream",
          "text": [
            "[nltk_data] Downloading package stopwords to /root/nltk_data...\n",
            "[nltk_data]   Unzipping corpora/stopwords.zip.\n"
          ],
          "name": "stdout"
        },
        {
          "output_type": "execute_result",
          "data": {
            "text/html": [
              "<div>\n",
              "<style scoped>\n",
              "    .dataframe tbody tr th:only-of-type {\n",
              "        vertical-align: middle;\n",
              "    }\n",
              "\n",
              "    .dataframe tbody tr th {\n",
              "        vertical-align: top;\n",
              "    }\n",
              "\n",
              "    .dataframe thead th {\n",
              "        text-align: right;\n",
              "    }\n",
              "</style>\n",
              "<table border=\"1\" class=\"dataframe\">\n",
              "  <thead>\n",
              "    <tr style=\"text-align: right;\">\n",
              "      <th></th>\n",
              "      <th>teks</th>\n",
              "      <th>sentimen</th>\n",
              "      <th>lebel</th>\n",
              "      <th>tweet_clean</th>\n",
              "      <th>Tokenization</th>\n",
              "      <th>stop_removal</th>\n",
              "    </tr>\n",
              "  </thead>\n",
              "  <tbody>\n",
              "    <tr>\n",
              "      <th>0</th>\n",
              "      <td>@uunpoocooloocoo Swift not bad tapi harga agak...</td>\n",
              "      <td>negatif</td>\n",
              "      <td>harga</td>\n",
              "      <td>swift not bad tapi harga agak naik jugak acer ...</td>\n",
              "      <td>[swift, not, bad, tapi, harga, agak, naik, jug...</td>\n",
              "      <td>[swift, not, bad, harga, jugak, acer, recommen...</td>\n",
              "    </tr>\n",
              "    <tr>\n",
              "      <th>1</th>\n",
              "      <td>@gadgething yang acer Rada kemahalan buat gw</td>\n",
              "      <td>negatif</td>\n",
              "      <td>harga</td>\n",
              "      <td>yang acer rada kemahalan buat gw</td>\n",
              "      <td>[yang, acer, rada, kemahalan, buat, gw]</td>\n",
              "      <td>[acer, rada, kemahalan, gw]</td>\n",
              "    </tr>\n",
              "    <tr>\n",
              "      <th>2</th>\n",
              "      <td>Acer Swift 3 SF314-43 R3CZ, Laptop 14 Jutaan K...</td>\n",
              "      <td>positif</td>\n",
              "      <td>harga</td>\n",
              "      <td>acer swift  sf rcz laptop  jutaan kencang deng...</td>\n",
              "      <td>[acer, swift, sf, rcz, laptop, jutaan, kencang...</td>\n",
              "      <td>[acer, swift, sf, rcz, laptop, jutaan, kencang...</td>\n",
              "    </tr>\n",
              "    <tr>\n",
              "      <th>3</th>\n",
              "      <td>@convomfs acer nitro enak dipake gaming sama d...</td>\n",
              "      <td>negatif</td>\n",
              "      <td>desain</td>\n",
              "      <td>acer nitro enak dipake gaming sama desain minu...</td>\n",
              "      <td>[acer, nitro, enak, dipake, gaming, sama, desa...</td>\n",
              "      <td>[acer, nitro, enak, dipake, gaming, desain, mi...</td>\n",
              "    </tr>\n",
              "    <tr>\n",
              "      <th>4</th>\n",
              "      <td>@schfess laptop aku acer umurnya udah 6 taunan...</td>\n",
              "      <td>positif</td>\n",
              "      <td>hs</td>\n",
              "      <td>laptop aku acer umurnya udah  taunan bisa kok ...</td>\n",
              "      <td>[laptop, aku, acer, umurnya, udah, taunan, bis...</td>\n",
              "      <td>[laptop, acer, umurnya, udah, taunan, nder]</td>\n",
              "    </tr>\n",
              "    <tr>\n",
              "      <th>...</th>\n",
              "      <td>...</td>\n",
              "      <td>...</td>\n",
              "      <td>...</td>\n",
              "      <td>...</td>\n",
              "      <td>...</td>\n",
              "      <td>...</td>\n",
              "    </tr>\n",
              "    <tr>\n",
              "      <th>195</th>\n",
              "      <td>Cepet rusak, aku dah dua kali beli acer laptop...</td>\n",
              "      <td>negatif</td>\n",
              "      <td>hs</td>\n",
              "      <td>cepet rusak aku dah dua kali beli acer laptopn...</td>\n",
              "      <td>[cepet, rusak, aku, dah, dua, kali, beli, acer...</td>\n",
              "      <td>[cepet, rusak, dah, kali, beli, acer, laptopny...</td>\n",
              "    </tr>\n",
              "    <tr>\n",
              "      <th>196</th>\n",
              "      <td>Acer nitro mar xv240yp ni aku pakai skrang, la...</td>\n",
              "      <td>positif</td>\n",
              "      <td>hs</td>\n",
              "      <td>acer nitro mar xvyp ni aku pakai skrang lancar...</td>\n",
              "      <td>[acer, nitro, mar, xvyp, ni, aku, pakai, skran...</td>\n",
              "      <td>[acer, nitro, mar, xvyp, ni, pakai, skrang, la...</td>\n",
              "    </tr>\n",
              "    <tr>\n",
              "      <th>197</th>\n",
              "      <td>acer webcam nya lebi bagus dari asus sih</td>\n",
              "      <td>positif</td>\n",
              "      <td>hs</td>\n",
              "      <td>acer webcam nya lebi bagus dari asus sih</td>\n",
              "      <td>[acer, webcam, nya, lebi, bagus, dari, asus, sih]</td>\n",
              "      <td>[acer, webcam, nya, lebi, bagus, asus, sih]</td>\n",
              "    </tr>\n",
              "    <tr>\n",
              "      <th>198</th>\n",
              "      <td>acer splil intel sih kece banget</td>\n",
              "      <td>positif</td>\n",
              "      <td>desain</td>\n",
              "      <td>acer splil intel sih kece banget</td>\n",
              "      <td>[acer, splil, intel, sih, kece, banget]</td>\n",
              "      <td>[acer, splil, intel, sih, kece, banget]</td>\n",
              "    </tr>\n",
              "    <tr>\n",
              "      <th>199</th>\n",
              "      <td>cari acer dek.. spek udah lumayan bagus</td>\n",
              "      <td>positif</td>\n",
              "      <td>hs</td>\n",
              "      <td>cari acer dek spek udah lumayan bagus</td>\n",
              "      <td>[cari, acer, dek, spek, udah, lumayan, bagus]</td>\n",
              "      <td>[cari, acer, dek, spek, udah, lumayan, bagus]</td>\n",
              "    </tr>\n",
              "  </tbody>\n",
              "</table>\n",
              "<p>200 rows × 6 columns</p>\n",
              "</div>"
            ],
            "text/plain": [
              "                                                  teks  ...                                       stop_removal\n",
              "0    @uunpoocooloocoo Swift not bad tapi harga agak...  ...  [swift, not, bad, harga, jugak, acer, recommen...\n",
              "1         @gadgething yang acer Rada kemahalan buat gw  ...                        [acer, rada, kemahalan, gw]\n",
              "2    Acer Swift 3 SF314-43 R3CZ, Laptop 14 Jutaan K...  ...  [acer, swift, sf, rcz, laptop, jutaan, kencang...\n",
              "3    @convomfs acer nitro enak dipake gaming sama d...  ...  [acer, nitro, enak, dipake, gaming, desain, mi...\n",
              "4    @schfess laptop aku acer umurnya udah 6 taunan...  ...        [laptop, acer, umurnya, udah, taunan, nder]\n",
              "..                                                 ...  ...                                                ...\n",
              "195  Cepet rusak, aku dah dua kali beli acer laptop...  ...  [cepet, rusak, dah, kali, beli, acer, laptopny...\n",
              "196  Acer nitro mar xv240yp ni aku pakai skrang, la...  ...  [acer, nitro, mar, xvyp, ni, pakai, skrang, la...\n",
              "197          acer webcam nya lebi bagus dari asus sih   ...        [acer, webcam, nya, lebi, bagus, asus, sih]\n",
              "198                  acer splil intel sih kece banget   ...            [acer, splil, intel, sih, kece, banget]\n",
              "199            cari acer dek.. spek udah lumayan bagus  ...      [cari, acer, dek, spek, udah, lumayan, bagus]\n",
              "\n",
              "[200 rows x 6 columns]"
            ]
          },
          "metadata": {
            "tags": []
          },
          "execution_count": 17
        }
      ]
    },
    {
      "cell_type": "code",
      "metadata": {
        "colab": {
          "base_uri": "https://localhost:8080/",
          "height": 362
        },
        "id": "26993sppW2cH",
        "outputId": "6e5a80aa-c6f5-4320-cf53-e5dc76c23b7b"
      },
      "source": [
        "!pip install sastrawi\n",
        "import re\n",
        "\n",
        "#Tahap Stemming\n",
        "from Sastrawi.Stemmer.StemmerFactory import StemmerFactory\n",
        "from nltk.tokenize import sent_tokenize, word_tokenize\n",
        "\n",
        "def word_stemmer(text):\n",
        "    stem_text = [StemmerFactory().create_stemmer().stem(i) for i in text]\n",
        "    return stem_text\n",
        "    \n",
        "data_clean['stemming'] = data_clean['stop_removal'].apply(lambda x: word_stemmer(x))\n",
        "data_clean.head()"
      ],
      "execution_count": null,
      "outputs": [
        {
          "output_type": "stream",
          "text": [
            "Collecting sastrawi\n",
            "  Downloading Sastrawi-1.0.1-py2.py3-none-any.whl (209 kB)\n",
            "\u001b[?25l\r\u001b[K     |█▋                              | 10 kB 18.2 MB/s eta 0:00:01\r\u001b[K     |███▏                            | 20 kB 24.2 MB/s eta 0:00:01\r\u001b[K     |████▊                           | 30 kB 28.2 MB/s eta 0:00:01\r\u001b[K     |██████▎                         | 40 kB 30.6 MB/s eta 0:00:01\r\u001b[K     |███████▉                        | 51 kB 22.4 MB/s eta 0:00:01\r\u001b[K     |█████████▍                      | 61 kB 14.1 MB/s eta 0:00:01\r\u001b[K     |███████████                     | 71 kB 14.4 MB/s eta 0:00:01\r\u001b[K     |████████████▌                   | 81 kB 15.4 MB/s eta 0:00:01\r\u001b[K     |██████████████                  | 92 kB 16.4 MB/s eta 0:00:01\r\u001b[K     |███████████████▋                | 102 kB 15.0 MB/s eta 0:00:01\r\u001b[K     |█████████████████▏              | 112 kB 15.0 MB/s eta 0:00:01\r\u001b[K     |██████████████████▊             | 122 kB 15.0 MB/s eta 0:00:01\r\u001b[K     |████████████████████▎           | 133 kB 15.0 MB/s eta 0:00:01\r\u001b[K     |█████████████████████▉          | 143 kB 15.0 MB/s eta 0:00:01\r\u001b[K     |███████████████████████▍        | 153 kB 15.0 MB/s eta 0:00:01\r\u001b[K     |█████████████████████████       | 163 kB 15.0 MB/s eta 0:00:01\r\u001b[K     |██████████████████████████▋     | 174 kB 15.0 MB/s eta 0:00:01\r\u001b[K     |████████████████████████████▏   | 184 kB 15.0 MB/s eta 0:00:01\r\u001b[K     |█████████████████████████████▊  | 194 kB 15.0 MB/s eta 0:00:01\r\u001b[K     |███████████████████████████████▎| 204 kB 15.0 MB/s eta 0:00:01\r\u001b[K     |████████████████████████████████| 209 kB 15.0 MB/s \n",
            "\u001b[?25hInstalling collected packages: sastrawi\n",
            "Successfully installed sastrawi-1.0.1\n"
          ],
          "name": "stdout"
        },
        {
          "output_type": "execute_result",
          "data": {
            "text/html": [
              "<div>\n",
              "<style scoped>\n",
              "    .dataframe tbody tr th:only-of-type {\n",
              "        vertical-align: middle;\n",
              "    }\n",
              "\n",
              "    .dataframe tbody tr th {\n",
              "        vertical-align: top;\n",
              "    }\n",
              "\n",
              "    .dataframe thead th {\n",
              "        text-align: right;\n",
              "    }\n",
              "</style>\n",
              "<table border=\"1\" class=\"dataframe\">\n",
              "  <thead>\n",
              "    <tr style=\"text-align: right;\">\n",
              "      <th></th>\n",
              "      <th>teks</th>\n",
              "      <th>sentimen</th>\n",
              "      <th>lebel</th>\n",
              "      <th>tweet_clean</th>\n",
              "      <th>Tokenization</th>\n",
              "      <th>stop_removal</th>\n",
              "      <th>stemming</th>\n",
              "    </tr>\n",
              "  </thead>\n",
              "  <tbody>\n",
              "    <tr>\n",
              "      <th>0</th>\n",
              "      <td>@uunpoocooloocoo Swift not bad tapi harga agak...</td>\n",
              "      <td>negatif</td>\n",
              "      <td>harga</td>\n",
              "      <td>swift not bad tapi harga agak naik jugak acer ...</td>\n",
              "      <td>[swift, not, bad, tapi, harga, agak, naik, jug...</td>\n",
              "      <td>[swift, not, bad, harga, jugak, acer, recommen...</td>\n",
              "      <td>[swift, not, bad, harga, jugak, acer, recommen...</td>\n",
              "    </tr>\n",
              "    <tr>\n",
              "      <th>1</th>\n",
              "      <td>@gadgething yang acer Rada kemahalan buat gw</td>\n",
              "      <td>negatif</td>\n",
              "      <td>harga</td>\n",
              "      <td>yang acer rada kemahalan buat gw</td>\n",
              "      <td>[yang, acer, rada, kemahalan, buat, gw]</td>\n",
              "      <td>[acer, rada, kemahalan, gw]</td>\n",
              "      <td>[acer, rada, mahal, gw]</td>\n",
              "    </tr>\n",
              "    <tr>\n",
              "      <th>2</th>\n",
              "      <td>Acer Swift 3 SF314-43 R3CZ, Laptop 14 Jutaan K...</td>\n",
              "      <td>positif</td>\n",
              "      <td>harga</td>\n",
              "      <td>acer swift  sf rcz laptop  jutaan kencang deng...</td>\n",
              "      <td>[acer, swift, sf, rcz, laptop, jutaan, kencang...</td>\n",
              "      <td>[acer, swift, sf, rcz, laptop, jutaan, kencang...</td>\n",
              "      <td>[acer, swift, sf, rcz, laptop, juta, kencang, ...</td>\n",
              "    </tr>\n",
              "    <tr>\n",
              "      <th>3</th>\n",
              "      <td>@convomfs acer nitro enak dipake gaming sama d...</td>\n",
              "      <td>negatif</td>\n",
              "      <td>desain</td>\n",
              "      <td>acer nitro enak dipake gaming sama desain minu...</td>\n",
              "      <td>[acer, nitro, enak, dipake, gaming, sama, desa...</td>\n",
              "      <td>[acer, nitro, enak, dipake, gaming, desain, mi...</td>\n",
              "      <td>[acer, nitro, enak, dipake, gaming, desain, mi...</td>\n",
              "    </tr>\n",
              "    <tr>\n",
              "      <th>4</th>\n",
              "      <td>@schfess laptop aku acer umurnya udah 6 taunan...</td>\n",
              "      <td>positif</td>\n",
              "      <td>hs</td>\n",
              "      <td>laptop aku acer umurnya udah  taunan bisa kok ...</td>\n",
              "      <td>[laptop, aku, acer, umurnya, udah, taunan, bis...</td>\n",
              "      <td>[laptop, acer, umurnya, udah, taunan, nder]</td>\n",
              "      <td>[laptop, acer, umur, udah, taun, nder]</td>\n",
              "    </tr>\n",
              "  </tbody>\n",
              "</table>\n",
              "</div>"
            ],
            "text/plain": [
              "                                                teks  ...                                           stemming\n",
              "0  @uunpoocooloocoo Swift not bad tapi harga agak...  ...  [swift, not, bad, harga, jugak, acer, recommen...\n",
              "1       @gadgething yang acer Rada kemahalan buat gw  ...                            [acer, rada, mahal, gw]\n",
              "2  Acer Swift 3 SF314-43 R3CZ, Laptop 14 Jutaan K...  ...  [acer, swift, sf, rcz, laptop, juta, kencang, ...\n",
              "3  @convomfs acer nitro enak dipake gaming sama d...  ...  [acer, nitro, enak, dipake, gaming, desain, mi...\n",
              "4  @schfess laptop aku acer umurnya udah 6 taunan...  ...             [laptop, acer, umur, udah, taun, nder]\n",
              "\n",
              "[5 rows x 7 columns]"
            ]
          },
          "metadata": {
            "tags": []
          },
          "execution_count": 18
        }
      ]
    },
    {
      "cell_type": "code",
      "metadata": {
        "colab": {
          "base_uri": "https://localhost:8080/",
          "height": 555
        },
        "id": "Dgz9MHtCU4yr",
        "outputId": "839479b3-7967-4860-de62-3334be0d527e"
      },
      "source": [
        "data_clean"
      ],
      "execution_count": null,
      "outputs": [
        {
          "output_type": "execute_result",
          "data": {
            "text/html": [
              "<div>\n",
              "<style scoped>\n",
              "    .dataframe tbody tr th:only-of-type {\n",
              "        vertical-align: middle;\n",
              "    }\n",
              "\n",
              "    .dataframe tbody tr th {\n",
              "        vertical-align: top;\n",
              "    }\n",
              "\n",
              "    .dataframe thead th {\n",
              "        text-align: right;\n",
              "    }\n",
              "</style>\n",
              "<table border=\"1\" class=\"dataframe\">\n",
              "  <thead>\n",
              "    <tr style=\"text-align: right;\">\n",
              "      <th></th>\n",
              "      <th>teks</th>\n",
              "      <th>sentimen</th>\n",
              "      <th>lebel</th>\n",
              "      <th>tweet_clean</th>\n",
              "      <th>Tokenization</th>\n",
              "      <th>stop_removal</th>\n",
              "      <th>stemming</th>\n",
              "    </tr>\n",
              "  </thead>\n",
              "  <tbody>\n",
              "    <tr>\n",
              "      <th>0</th>\n",
              "      <td>@uunpoocooloocoo Swift not bad tapi harga agak...</td>\n",
              "      <td>negatif</td>\n",
              "      <td>harga</td>\n",
              "      <td>swift not bad tapi harga agak naik jugak acer ...</td>\n",
              "      <td>[swift, not, bad, tapi, harga, agak, naik, jug...</td>\n",
              "      <td>[swift, not, bad, harga, jugak, acer, recommen...</td>\n",
              "      <td>[swift, not, bad, harga, jugak, acer, recommen...</td>\n",
              "    </tr>\n",
              "    <tr>\n",
              "      <th>1</th>\n",
              "      <td>@gadgething yang acer Rada kemahalan buat gw</td>\n",
              "      <td>negatif</td>\n",
              "      <td>harga</td>\n",
              "      <td>yang acer rada kemahalan buat gw</td>\n",
              "      <td>[yang, acer, rada, kemahalan, buat, gw]</td>\n",
              "      <td>[acer, rada, kemahalan, gw]</td>\n",
              "      <td>[acer, rada, mahal, gw]</td>\n",
              "    </tr>\n",
              "    <tr>\n",
              "      <th>2</th>\n",
              "      <td>Acer Swift 3 SF314-43 R3CZ, Laptop 14 Jutaan K...</td>\n",
              "      <td>positif</td>\n",
              "      <td>harga</td>\n",
              "      <td>acer swift  sf rcz laptop  jutaan kencang deng...</td>\n",
              "      <td>[acer, swift, sf, rcz, laptop, jutaan, kencang...</td>\n",
              "      <td>[acer, swift, sf, rcz, laptop, jutaan, kencang...</td>\n",
              "      <td>[acer, swift, sf, rcz, laptop, juta, kencang, ...</td>\n",
              "    </tr>\n",
              "    <tr>\n",
              "      <th>3</th>\n",
              "      <td>@convomfs acer nitro enak dipake gaming sama d...</td>\n",
              "      <td>negatif</td>\n",
              "      <td>desain</td>\n",
              "      <td>acer nitro enak dipake gaming sama desain minu...</td>\n",
              "      <td>[acer, nitro, enak, dipake, gaming, sama, desa...</td>\n",
              "      <td>[acer, nitro, enak, dipake, gaming, desain, mi...</td>\n",
              "      <td>[acer, nitro, enak, dipake, gaming, desain, mi...</td>\n",
              "    </tr>\n",
              "    <tr>\n",
              "      <th>4</th>\n",
              "      <td>@schfess laptop aku acer umurnya udah 6 taunan...</td>\n",
              "      <td>positif</td>\n",
              "      <td>hs</td>\n",
              "      <td>laptop aku acer umurnya udah  taunan bisa kok ...</td>\n",
              "      <td>[laptop, aku, acer, umurnya, udah, taunan, bis...</td>\n",
              "      <td>[laptop, acer, umurnya, udah, taunan, nder]</td>\n",
              "      <td>[laptop, acer, umur, udah, taun, nder]</td>\n",
              "    </tr>\n",
              "    <tr>\n",
              "      <th>...</th>\n",
              "      <td>...</td>\n",
              "      <td>...</td>\n",
              "      <td>...</td>\n",
              "      <td>...</td>\n",
              "      <td>...</td>\n",
              "      <td>...</td>\n",
              "      <td>...</td>\n",
              "    </tr>\n",
              "    <tr>\n",
              "      <th>195</th>\n",
              "      <td>Cepet rusak, aku dah dua kali beli acer laptop...</td>\n",
              "      <td>negatif</td>\n",
              "      <td>hs</td>\n",
              "      <td>cepet rusak aku dah dua kali beli acer laptopn...</td>\n",
              "      <td>[cepet, rusak, aku, dah, dua, kali, beli, acer...</td>\n",
              "      <td>[cepet, rusak, dah, kali, beli, acer, laptopny...</td>\n",
              "      <td>[cepet, rusak, dah, kali, beli, acer, laptop, ...</td>\n",
              "    </tr>\n",
              "    <tr>\n",
              "      <th>196</th>\n",
              "      <td>Acer nitro mar xv240yp ni aku pakai skrang, la...</td>\n",
              "      <td>positif</td>\n",
              "      <td>hs</td>\n",
              "      <td>acer nitro mar xvyp ni aku pakai skrang lancar...</td>\n",
              "      <td>[acer, nitro, mar, xvyp, ni, aku, pakai, skran...</td>\n",
              "      <td>[acer, nitro, mar, xvyp, ni, pakai, skrang, la...</td>\n",
              "      <td>[acer, nitro, mar, xvyp, ni, pakai, skrang, la...</td>\n",
              "    </tr>\n",
              "    <tr>\n",
              "      <th>197</th>\n",
              "      <td>acer webcam nya lebi bagus dari asus sih</td>\n",
              "      <td>positif</td>\n",
              "      <td>hs</td>\n",
              "      <td>acer webcam nya lebi bagus dari asus sih</td>\n",
              "      <td>[acer, webcam, nya, lebi, bagus, dari, asus, sih]</td>\n",
              "      <td>[acer, webcam, nya, lebi, bagus, asus, sih]</td>\n",
              "      <td>[acer, webcam, nya, lebi, bagus, asus, sih]</td>\n",
              "    </tr>\n",
              "    <tr>\n",
              "      <th>198</th>\n",
              "      <td>acer splil intel sih kece banget</td>\n",
              "      <td>positif</td>\n",
              "      <td>desain</td>\n",
              "      <td>acer splil intel sih kece banget</td>\n",
              "      <td>[acer, splil, intel, sih, kece, banget]</td>\n",
              "      <td>[acer, splil, intel, sih, kece, banget]</td>\n",
              "      <td>[acer, splil, intel, sih, kece, banget]</td>\n",
              "    </tr>\n",
              "    <tr>\n",
              "      <th>199</th>\n",
              "      <td>cari acer dek.. spek udah lumayan bagus</td>\n",
              "      <td>positif</td>\n",
              "      <td>hs</td>\n",
              "      <td>cari acer dek spek udah lumayan bagus</td>\n",
              "      <td>[cari, acer, dek, spek, udah, lumayan, bagus]</td>\n",
              "      <td>[cari, acer, dek, spek, udah, lumayan, bagus]</td>\n",
              "      <td>[cari, acer, dek, spek, udah, lumayan, bagus]</td>\n",
              "    </tr>\n",
              "  </tbody>\n",
              "</table>\n",
              "<p>200 rows × 7 columns</p>\n",
              "</div>"
            ],
            "text/plain": [
              "                                                  teks  ...                                           stemming\n",
              "0    @uunpoocooloocoo Swift not bad tapi harga agak...  ...  [swift, not, bad, harga, jugak, acer, recommen...\n",
              "1         @gadgething yang acer Rada kemahalan buat gw  ...                            [acer, rada, mahal, gw]\n",
              "2    Acer Swift 3 SF314-43 R3CZ, Laptop 14 Jutaan K...  ...  [acer, swift, sf, rcz, laptop, juta, kencang, ...\n",
              "3    @convomfs acer nitro enak dipake gaming sama d...  ...  [acer, nitro, enak, dipake, gaming, desain, mi...\n",
              "4    @schfess laptop aku acer umurnya udah 6 taunan...  ...             [laptop, acer, umur, udah, taun, nder]\n",
              "..                                                 ...  ...                                                ...\n",
              "195  Cepet rusak, aku dah dua kali beli acer laptop...  ...  [cepet, rusak, dah, kali, beli, acer, laptop, ...\n",
              "196  Acer nitro mar xv240yp ni aku pakai skrang, la...  ...  [acer, nitro, mar, xvyp, ni, pakai, skrang, la...\n",
              "197          acer webcam nya lebi bagus dari asus sih   ...        [acer, webcam, nya, lebi, bagus, asus, sih]\n",
              "198                  acer splil intel sih kece banget   ...            [acer, splil, intel, sih, kece, banget]\n",
              "199            cari acer dek.. spek udah lumayan bagus  ...      [cari, acer, dek, spek, udah, lumayan, bagus]\n",
              "\n",
              "[200 rows x 7 columns]"
            ]
          },
          "metadata": {
            "tags": []
          },
          "execution_count": 19
        }
      ]
    },
    {
      "cell_type": "code",
      "metadata": {
        "colab": {
          "base_uri": "https://localhost:8080/",
          "height": 408
        },
        "id": "LmGk8B43tyaQ",
        "outputId": "7715b09f-f693-4110-8ae3-e5e2a7c0adfe"
      },
      "source": [
        "data_new = data_clean[['stemming','sentimen ']]\n",
        "data_new"
      ],
      "execution_count": null,
      "outputs": [
        {
          "output_type": "execute_result",
          "data": {
            "text/html": [
              "<div>\n",
              "<style scoped>\n",
              "    .dataframe tbody tr th:only-of-type {\n",
              "        vertical-align: middle;\n",
              "    }\n",
              "\n",
              "    .dataframe tbody tr th {\n",
              "        vertical-align: top;\n",
              "    }\n",
              "\n",
              "    .dataframe thead th {\n",
              "        text-align: right;\n",
              "    }\n",
              "</style>\n",
              "<table border=\"1\" class=\"dataframe\">\n",
              "  <thead>\n",
              "    <tr style=\"text-align: right;\">\n",
              "      <th></th>\n",
              "      <th>stemming</th>\n",
              "      <th>sentimen</th>\n",
              "    </tr>\n",
              "  </thead>\n",
              "  <tbody>\n",
              "    <tr>\n",
              "      <th>0</th>\n",
              "      <td>[swift, not, bad, harga, jugak, acer, recommen...</td>\n",
              "      <td>negatif</td>\n",
              "    </tr>\n",
              "    <tr>\n",
              "      <th>1</th>\n",
              "      <td>[acer, rada, mahal, gw]</td>\n",
              "      <td>negatif</td>\n",
              "    </tr>\n",
              "    <tr>\n",
              "      <th>2</th>\n",
              "      <td>[acer, swift, sf, rcz, laptop, juta, kencang, ...</td>\n",
              "      <td>positif</td>\n",
              "    </tr>\n",
              "    <tr>\n",
              "      <th>3</th>\n",
              "      <td>[acer, nitro, enak, dipake, gaming, desain, mi...</td>\n",
              "      <td>negatif</td>\n",
              "    </tr>\n",
              "    <tr>\n",
              "      <th>4</th>\n",
              "      <td>[laptop, acer, umur, udah, taun, nder]</td>\n",
              "      <td>positif</td>\n",
              "    </tr>\n",
              "    <tr>\n",
              "      <th>...</th>\n",
              "      <td>...</td>\n",
              "      <td>...</td>\n",
              "    </tr>\n",
              "    <tr>\n",
              "      <th>195</th>\n",
              "      <td>[cepet, rusak, dah, kali, beli, acer, laptop, ...</td>\n",
              "      <td>negatif</td>\n",
              "    </tr>\n",
              "    <tr>\n",
              "      <th>196</th>\n",
              "      <td>[acer, nitro, mar, xvyp, ni, pakai, skrang, la...</td>\n",
              "      <td>positif</td>\n",
              "    </tr>\n",
              "    <tr>\n",
              "      <th>197</th>\n",
              "      <td>[acer, webcam, nya, lebi, bagus, asus, sih]</td>\n",
              "      <td>positif</td>\n",
              "    </tr>\n",
              "    <tr>\n",
              "      <th>198</th>\n",
              "      <td>[acer, splil, intel, sih, kece, banget]</td>\n",
              "      <td>positif</td>\n",
              "    </tr>\n",
              "    <tr>\n",
              "      <th>199</th>\n",
              "      <td>[cari, acer, dek, spek, udah, lumayan, bagus]</td>\n",
              "      <td>positif</td>\n",
              "    </tr>\n",
              "  </tbody>\n",
              "</table>\n",
              "<p>200 rows × 2 columns</p>\n",
              "</div>"
            ],
            "text/plain": [
              "                                              stemming sentimen \n",
              "0    [swift, not, bad, harga, jugak, acer, recommen...   negatif\n",
              "1                              [acer, rada, mahal, gw]   negatif\n",
              "2    [acer, swift, sf, rcz, laptop, juta, kencang, ...   positif\n",
              "3    [acer, nitro, enak, dipake, gaming, desain, mi...   negatif\n",
              "4               [laptop, acer, umur, udah, taun, nder]   positif\n",
              "..                                                 ...       ...\n",
              "195  [cepet, rusak, dah, kali, beli, acer, laptop, ...   negatif\n",
              "196  [acer, nitro, mar, xvyp, ni, pakai, skrang, la...   positif\n",
              "197        [acer, webcam, nya, lebi, bagus, asus, sih]   positif\n",
              "198            [acer, splil, intel, sih, kece, banget]   positif\n",
              "199      [cari, acer, dek, spek, udah, lumayan, bagus]   positif\n",
              "\n",
              "[200 rows x 2 columns]"
            ]
          },
          "metadata": {
            "tags": []
          },
          "execution_count": 20
        }
      ]
    },
    {
      "cell_type": "code",
      "metadata": {
        "colab": {
          "base_uri": "https://localhost:8080/"
        },
        "id": "EgqsTO_cvLxY",
        "outputId": "d7436fe3-d3c5-4b61-aa80-63605d58786b"
      },
      "source": [
        "data_new.info()"
      ],
      "execution_count": null,
      "outputs": [
        {
          "output_type": "stream",
          "text": [
            "<class 'pandas.core.frame.DataFrame'>\n",
            "RangeIndex: 200 entries, 0 to 199\n",
            "Data columns (total 2 columns):\n",
            " #   Column     Non-Null Count  Dtype \n",
            "---  ------     --------------  ----- \n",
            " 0   stemming   200 non-null    object\n",
            " 1   sentimen   200 non-null    object\n",
            "dtypes: object(2)\n",
            "memory usage: 3.2+ KB\n"
          ],
          "name": "stdout"
        }
      ]
    },
    {
      "cell_type": "code",
      "metadata": {
        "id": "CsM7LNqzJQY8"
      },
      "source": [
        "data_new.to_excel('/content/drive/MyDrive/Tiwi/JNE dan JNT Dataset/data_stemmed_acer.xlsx') "
      ],
      "execution_count": null,
      "outputs": []
    },
    {
      "cell_type": "markdown",
      "metadata": {
        "id": "INoAPqygCNgO"
      },
      "source": [
        "# Implementation"
      ]
    },
    {
      "cell_type": "code",
      "metadata": {
        "id": "8qoRNdrmCV8m"
      },
      "source": [
        "import pandas as pd\n",
        "import numpy as np\n",
        "from sklearn.feature_extraction.text import TfidfVectorizer\n",
        "from sklearn.feature_extraction.text import TfidfTransformer\n",
        "from sklearn.metrics import accuracy_score\n",
        "from sklearn.model_selection import train_test_split\n",
        "from sklearn.model_selection import KFold\n",
        "from sklearn.pipeline import Pipeline\n",
        "from sklearn.model_selection import cross_val_score"
      ],
      "execution_count": null,
      "outputs": []
    },
    {
      "cell_type": "code",
      "metadata": {
        "id": "3m5aRm9m3u5n",
        "colab": {
          "base_uri": "https://localhost:8080/"
        },
        "outputId": "e24d3958-d698-417b-dd77-3907c8ec6537"
      },
      "source": [
        "from google.colab import drive\n",
        "drive.mount('/content/drive')"
      ],
      "execution_count": null,
      "outputs": [
        {
          "output_type": "stream",
          "text": [
            "Mounted at /content/drive\n"
          ],
          "name": "stdout"
        }
      ]
    },
    {
      "cell_type": "code",
      "metadata": {
        "id": "FzdMAt4PDIm2"
      },
      "source": [
        "data = pd.read_excel('/content/drive/MyDrive/Tiwi/JNE dan JNT Dataset/data_stemmed_acer.xlsx')"
      ],
      "execution_count": null,
      "outputs": []
    },
    {
      "cell_type": "code",
      "metadata": {
        "colab": {
          "base_uri": "https://localhost:8080/",
          "height": 408
        },
        "id": "y92zuwAOXjsR",
        "outputId": "01a7e7a4-8344-4356-8e9f-eca29ffb2c71"
      },
      "source": [
        "data"
      ],
      "execution_count": null,
      "outputs": [
        {
          "output_type": "execute_result",
          "data": {
            "text/html": [
              "<div>\n",
              "<style scoped>\n",
              "    .dataframe tbody tr th:only-of-type {\n",
              "        vertical-align: middle;\n",
              "    }\n",
              "\n",
              "    .dataframe tbody tr th {\n",
              "        vertical-align: top;\n",
              "    }\n",
              "\n",
              "    .dataframe thead th {\n",
              "        text-align: right;\n",
              "    }\n",
              "</style>\n",
              "<table border=\"1\" class=\"dataframe\">\n",
              "  <thead>\n",
              "    <tr style=\"text-align: right;\">\n",
              "      <th></th>\n",
              "      <th>Unnamed: 0</th>\n",
              "      <th>stemming</th>\n",
              "      <th>sentimen</th>\n",
              "    </tr>\n",
              "  </thead>\n",
              "  <tbody>\n",
              "    <tr>\n",
              "      <th>0</th>\n",
              "      <td>0</td>\n",
              "      <td>['swift', 'not', 'bad', 'harga', 'jugak', 'ace...</td>\n",
              "      <td>negatif</td>\n",
              "    </tr>\n",
              "    <tr>\n",
              "      <th>1</th>\n",
              "      <td>1</td>\n",
              "      <td>['acer', 'rada', 'mahal', 'gw']</td>\n",
              "      <td>negatif</td>\n",
              "    </tr>\n",
              "    <tr>\n",
              "      <th>2</th>\n",
              "      <td>2</td>\n",
              "      <td>['acer', 'swift', 'sf', 'rcz', 'laptop', 'juta...</td>\n",
              "      <td>positif</td>\n",
              "    </tr>\n",
              "    <tr>\n",
              "      <th>3</th>\n",
              "      <td>3</td>\n",
              "      <td>['acer', 'nitro', 'enak', 'dipake', 'gaming', ...</td>\n",
              "      <td>negatif</td>\n",
              "    </tr>\n",
              "    <tr>\n",
              "      <th>4</th>\n",
              "      <td>4</td>\n",
              "      <td>['laptop', 'acer', 'umur', 'udah', 'taun', 'nd...</td>\n",
              "      <td>positif</td>\n",
              "    </tr>\n",
              "    <tr>\n",
              "      <th>...</th>\n",
              "      <td>...</td>\n",
              "      <td>...</td>\n",
              "      <td>...</td>\n",
              "    </tr>\n",
              "    <tr>\n",
              "      <th>195</th>\n",
              "      <td>195</td>\n",
              "      <td>['cepet', 'rusak', 'dah', 'kali', 'beli', 'ace...</td>\n",
              "      <td>negatif</td>\n",
              "    </tr>\n",
              "    <tr>\n",
              "      <th>196</th>\n",
              "      <td>196</td>\n",
              "      <td>['acer', 'nitro', 'mar', 'xvyp', 'ni', 'pakai'...</td>\n",
              "      <td>positif</td>\n",
              "    </tr>\n",
              "    <tr>\n",
              "      <th>197</th>\n",
              "      <td>197</td>\n",
              "      <td>['acer', 'webcam', 'nya', 'lebi', 'bagus', 'as...</td>\n",
              "      <td>positif</td>\n",
              "    </tr>\n",
              "    <tr>\n",
              "      <th>198</th>\n",
              "      <td>198</td>\n",
              "      <td>['acer', 'splil', 'intel', 'sih', 'kece', 'ban...</td>\n",
              "      <td>positif</td>\n",
              "    </tr>\n",
              "    <tr>\n",
              "      <th>199</th>\n",
              "      <td>199</td>\n",
              "      <td>['cari', 'acer', 'dek', 'spek', 'udah', 'lumay...</td>\n",
              "      <td>positif</td>\n",
              "    </tr>\n",
              "  </tbody>\n",
              "</table>\n",
              "<p>200 rows × 3 columns</p>\n",
              "</div>"
            ],
            "text/plain": [
              "     Unnamed: 0                                           stemming sentimen\n",
              "0             0  ['swift', 'not', 'bad', 'harga', 'jugak', 'ace...  negatif\n",
              "1             1                    ['acer', 'rada', 'mahal', 'gw']  negatif\n",
              "2             2  ['acer', 'swift', 'sf', 'rcz', 'laptop', 'juta...  positif\n",
              "3             3  ['acer', 'nitro', 'enak', 'dipake', 'gaming', ...  negatif\n",
              "4             4  ['laptop', 'acer', 'umur', 'udah', 'taun', 'nd...  positif\n",
              "..          ...                                                ...      ...\n",
              "195         195  ['cepet', 'rusak', 'dah', 'kali', 'beli', 'ace...  negatif\n",
              "196         196  ['acer', 'nitro', 'mar', 'xvyp', 'ni', 'pakai'...  positif\n",
              "197         197  ['acer', 'webcam', 'nya', 'lebi', 'bagus', 'as...  positif\n",
              "198         198  ['acer', 'splil', 'intel', 'sih', 'kece', 'ban...  positif\n",
              "199         199  ['cari', 'acer', 'dek', 'spek', 'udah', 'lumay...  positif\n",
              "\n",
              "[200 rows x 3 columns]"
            ]
          },
          "metadata": {
            "tags": []
          },
          "execution_count": 4
        }
      ]
    },
    {
      "cell_type": "code",
      "metadata": {
        "colab": {
          "base_uri": "https://localhost:8080/"
        },
        "id": "snx6CCm8DSqP",
        "outputId": "d5c76c4f-64a5-409f-a9b8-2bf7841a4c06"
      },
      "source": [
        "data.info()"
      ],
      "execution_count": null,
      "outputs": [
        {
          "output_type": "stream",
          "text": [
            "<class 'pandas.core.frame.DataFrame'>\n",
            "RangeIndex: 200 entries, 0 to 199\n",
            "Data columns (total 3 columns):\n",
            " #   Column      Non-Null Count  Dtype \n",
            "---  ------      --------------  ----- \n",
            " 0   Unnamed: 0  200 non-null    int64 \n",
            " 1   stemming    200 non-null    object\n",
            " 2   sentimen    200 non-null    object\n",
            "dtypes: int64(1), object(2)\n",
            "memory usage: 4.8+ KB\n"
          ],
          "name": "stdout"
        }
      ]
    },
    {
      "cell_type": "code",
      "metadata": {
        "id": "FinCf5e2DbuI"
      },
      "source": [
        "#Mengembalikan type data\n",
        "acer = data.convert_dtypes(infer_objects= False)"
      ],
      "execution_count": null,
      "outputs": []
    },
    {
      "cell_type": "code",
      "metadata": {
        "colab": {
          "base_uri": "https://localhost:8080/",
          "height": 213
        },
        "id": "uDXIViSCTZDc",
        "outputId": "bf4ac3bf-fb5c-431d-95f6-01121265c7db"
      },
      "source": [
        "negatif = acer[acer['sentimen']=='negatif']\n",
        "positif = acer[acer['sentimen']=='positif']\n",
        "\n",
        "# negatif = negatif.apply(lambda elem: elem[1:-1])\n",
        "from collections import Counter\n",
        "cnt = Counter()\n",
        "for text in negatif.stemming.values:\n",
        "    for word in text.split():\n",
        "        cnt[word] += 1\n",
        "        \n",
        "        \n",
        "negatiff = cnt.most_common(9)\n",
        "dnegatif = pd.DataFrame(negatiff)\n",
        "dnegatif = dnegatif.iloc[0:,:]\n",
        "dnegatif.columns = ['Common_words','count']\n",
        "dnegatif.style.background_gradient(cmap='Blues')"
      ],
      "execution_count": null,
      "outputs": [
        {
          "output_type": "execute_result",
          "data": {
            "text/html": [
              "<style  type=\"text/css\" >\n",
              "#T_70108cb0_ee98_11eb_a773_0242ac1c0002row0_col1{\n",
              "            background-color:  #08306b;\n",
              "            color:  #f1f1f1;\n",
              "        }#T_70108cb0_ee98_11eb_a773_0242ac1c0002row1_col1{\n",
              "            background-color:  #bed8ec;\n",
              "            color:  #000000;\n",
              "        }#T_70108cb0_ee98_11eb_a773_0242ac1c0002row2_col1{\n",
              "            background-color:  #c9ddf0;\n",
              "            color:  #000000;\n",
              "        }#T_70108cb0_ee98_11eb_a773_0242ac1c0002row3_col1{\n",
              "            background-color:  #e3eef9;\n",
              "            color:  #000000;\n",
              "        }#T_70108cb0_ee98_11eb_a773_0242ac1c0002row4_col1{\n",
              "            background-color:  #e7f1fa;\n",
              "            color:  #000000;\n",
              "        }#T_70108cb0_ee98_11eb_a773_0242ac1c0002row5_col1,#T_70108cb0_ee98_11eb_a773_0242ac1c0002row6_col1{\n",
              "            background-color:  #ebf3fb;\n",
              "            color:  #000000;\n",
              "        }#T_70108cb0_ee98_11eb_a773_0242ac1c0002row7_col1,#T_70108cb0_ee98_11eb_a773_0242ac1c0002row8_col1{\n",
              "            background-color:  #f7fbff;\n",
              "            color:  #000000;\n",
              "        }</style><table id=\"T_70108cb0_ee98_11eb_a773_0242ac1c0002\" ><thead>    <tr>        <th class=\"blank level0\" ></th>        <th class=\"col_heading level0 col0\" >Common_words</th>        <th class=\"col_heading level0 col1\" >count</th>    </tr></thead><tbody>\n",
              "                <tr>\n",
              "                        <th id=\"T_70108cb0_ee98_11eb_a773_0242ac1c0002level0_row0\" class=\"row_heading level0 row0\" >0</th>\n",
              "                        <td id=\"T_70108cb0_ee98_11eb_a773_0242ac1c0002row0_col0\" class=\"data row0 col0\" >'acer',</td>\n",
              "                        <td id=\"T_70108cb0_ee98_11eb_a773_0242ac1c0002row0_col1\" class=\"data row0 col1\" >57</td>\n",
              "            </tr>\n",
              "            <tr>\n",
              "                        <th id=\"T_70108cb0_ee98_11eb_a773_0242ac1c0002level0_row1\" class=\"row_heading level0 row1\" >1</th>\n",
              "                        <td id=\"T_70108cb0_ee98_11eb_a773_0242ac1c0002row1_col0\" class=\"data row1 col0\" >['acer',</td>\n",
              "                        <td id=\"T_70108cb0_ee98_11eb_a773_0242ac1c0002row1_col1\" class=\"data row1 col1\" >20</td>\n",
              "            </tr>\n",
              "            <tr>\n",
              "                        <th id=\"T_70108cb0_ee98_11eb_a773_0242ac1c0002level0_row2\" class=\"row_heading level0 row2\" >2</th>\n",
              "                        <td id=\"T_70108cb0_ee98_11eb_a773_0242ac1c0002row2_col0\" class=\"data row2 col0\" >'laptop',</td>\n",
              "                        <td id=\"T_70108cb0_ee98_11eb_a773_0242ac1c0002row2_col1\" class=\"data row2 col1\" >18</td>\n",
              "            </tr>\n",
              "            <tr>\n",
              "                        <th id=\"T_70108cb0_ee98_11eb_a773_0242ac1c0002level0_row3\" class=\"row_heading level0 row3\" >3</th>\n",
              "                        <td id=\"T_70108cb0_ee98_11eb_a773_0242ac1c0002row3_col0\" class=\"data row3 col0\" >'beli',</td>\n",
              "                        <td id=\"T_70108cb0_ee98_11eb_a773_0242ac1c0002row3_col1\" class=\"data row3 col1\" >11</td>\n",
              "            </tr>\n",
              "            <tr>\n",
              "                        <th id=\"T_70108cb0_ee98_11eb_a773_0242ac1c0002level0_row4\" class=\"row_heading level0 row4\" >4</th>\n",
              "                        <td id=\"T_70108cb0_ee98_11eb_a773_0242ac1c0002row4_col0\" class=\"data row4 col0\" >'pake',</td>\n",
              "                        <td id=\"T_70108cb0_ee98_11eb_a773_0242ac1c0002row4_col1\" class=\"data row4 col1\" >10</td>\n",
              "            </tr>\n",
              "            <tr>\n",
              "                        <th id=\"T_70108cb0_ee98_11eb_a773_0242ac1c0002level0_row5\" class=\"row_heading level0 row5\" >5</th>\n",
              "                        <td id=\"T_70108cb0_ee98_11eb_a773_0242ac1c0002row5_col0\" class=\"data row5 col0\" >'aja',</td>\n",
              "                        <td id=\"T_70108cb0_ee98_11eb_a773_0242ac1c0002row5_col1\" class=\"data row5 col1\" >9</td>\n",
              "            </tr>\n",
              "            <tr>\n",
              "                        <th id=\"T_70108cb0_ee98_11eb_a773_0242ac1c0002level0_row6\" class=\"row_heading level0 row6\" >6</th>\n",
              "                        <td id=\"T_70108cb0_ee98_11eb_a773_0242ac1c0002row6_col0\" class=\"data row6 col0\" >'rusak',</td>\n",
              "                        <td id=\"T_70108cb0_ee98_11eb_a773_0242ac1c0002row6_col1\" class=\"data row6 col1\" >9</td>\n",
              "            </tr>\n",
              "            <tr>\n",
              "                        <th id=\"T_70108cb0_ee98_11eb_a773_0242ac1c0002level0_row7\" class=\"row_heading level0 row7\" >7</th>\n",
              "                        <td id=\"T_70108cb0_ee98_11eb_a773_0242ac1c0002row7_col0\" class=\"data row7 col0\" >'si',</td>\n",
              "                        <td id=\"T_70108cb0_ee98_11eb_a773_0242ac1c0002row7_col1\" class=\"data row7 col1\" >6</td>\n",
              "            </tr>\n",
              "            <tr>\n",
              "                        <th id=\"T_70108cb0_ee98_11eb_a773_0242ac1c0002level0_row8\" class=\"row_heading level0 row8\" >8</th>\n",
              "                        <td id=\"T_70108cb0_ee98_11eb_a773_0242ac1c0002row8_col0\" class=\"data row8 col0\" >'lot',</td>\n",
              "                        <td id=\"T_70108cb0_ee98_11eb_a773_0242ac1c0002row8_col1\" class=\"data row8 col1\" >6</td>\n",
              "            </tr>\n",
              "    </tbody></table>"
            ],
            "text/plain": [
              "<pandas.io.formats.style.Styler at 0x7f3de407c610>"
            ]
          },
          "metadata": {
            "tags": []
          },
          "execution_count": 7
        }
      ]
    },
    {
      "cell_type": "code",
      "metadata": {
        "colab": {
          "base_uri": "https://localhost:8080/",
          "height": 557
        },
        "id": "QP8vhoDKThkU",
        "outputId": "f489ef56-3c85-4f98-82e0-6a937301e105"
      },
      "source": [
        "import collections\n",
        "import matplotlib.pyplot as plt\n",
        "import seaborn as sns\n",
        "dnegatif.plot(kind ='barh')\n",
        "plt.yticks(range(0,9), ['Paket','Estimasi','status','ga','min','sampe','ya','gak','tolong','udah'])\n",
        "# plt.savefig()"
      ],
      "execution_count": null,
      "outputs": [
        {
          "output_type": "execute_result",
          "data": {
            "text/plain": [
              "([<matplotlib.axis.YTick at 0x7f3de3175750>,\n",
              "  <matplotlib.axis.YTick at 0x7f3de3162f90>,\n",
              "  <matplotlib.axis.YTick at 0x7f3de4813990>,\n",
              "  <matplotlib.axis.YTick at 0x7f3de30d9510>,\n",
              "  <matplotlib.axis.YTick at 0x7f3de30d9bd0>,\n",
              "  <matplotlib.axis.YTick at 0x7f3de30ea050>,\n",
              "  <matplotlib.axis.YTick at 0x7f3de30ea6d0>,\n",
              "  <matplotlib.axis.YTick at 0x7f3de315b3d0>,\n",
              "  <matplotlib.axis.YTick at 0x7f3de30ea3d0>],\n",
              " [Text(0, 0, 'Paket'),\n",
              "  Text(0, 0, 'Estimasi'),\n",
              "  Text(0, 0, 'status'),\n",
              "  Text(0, 0, 'ga'),\n",
              "  Text(0, 0, 'min'),\n",
              "  Text(0, 0, 'sampe'),\n",
              "  Text(0, 0, 'ya'),\n",
              "  Text(0, 0, 'gak'),\n",
              "  Text(0, 0, 'tolong')])"
            ]
          },
          "metadata": {
            "tags": []
          },
          "execution_count": 8
        },
        {
          "output_type": "display_data",
          "data": {
            "image/png": "[encoded data removed]",
            "text/plain": [
              "<Figure size 432x288 with 1 Axes>"
            ]
          },
          "metadata": {
            "tags": [],
            "needs_background": "light"
          }
        }
      ]
    },
    {
      "cell_type": "code",
      "metadata": {
        "colab": {
          "base_uri": "https://localhost:8080/",
          "height": 213
        },
        "id": "Km57DFQ8TixK",
        "outputId": "f29e85dc-6061-44c0-e789-70bde358d8cf"
      },
      "source": [
        "cnt = Counter()\n",
        "for text in positif.stemming.values:\n",
        "    for word in text.split():\n",
        "        cnt[word] += 1\n",
        "        \n",
        "positiff = cnt.most_common(9)\n",
        "dpositif = pd.DataFrame(positiff)\n",
        "dpositif = dpositif.iloc[0:,:]\n",
        "dpositif.columns = ['Common_words','count']\n",
        "dpositif.style.background_gradient(cmap='Blues')"
      ],
      "execution_count": null,
      "outputs": [
        {
          "output_type": "execute_result",
          "data": {
            "text/html": [
              "<style  type=\"text/css\" >\n",
              "#T_715fc702_ee98_11eb_a773_0242ac1c0002row0_col1{\n",
              "            background-color:  #08306b;\n",
              "            color:  #f1f1f1;\n",
              "        }#T_715fc702_ee98_11eb_a773_0242ac1c0002row1_col1{\n",
              "            background-color:  #4695c8;\n",
              "            color:  #000000;\n",
              "        }#T_715fc702_ee98_11eb_a773_0242ac1c0002row2_col1{\n",
              "            background-color:  #d6e6f4;\n",
              "            color:  #000000;\n",
              "        }#T_715fc702_ee98_11eb_a773_0242ac1c0002row3_col1{\n",
              "            background-color:  #e1edf8;\n",
              "            color:  #000000;\n",
              "        }#T_715fc702_ee98_11eb_a773_0242ac1c0002row4_col1,#T_715fc702_ee98_11eb_a773_0242ac1c0002row5_col1{\n",
              "            background-color:  #e5eff9;\n",
              "            color:  #000000;\n",
              "        }#T_715fc702_ee98_11eb_a773_0242ac1c0002row6_col1{\n",
              "            background-color:  #e9f2fa;\n",
              "            color:  #000000;\n",
              "        }#T_715fc702_ee98_11eb_a773_0242ac1c0002row7_col1{\n",
              "            background-color:  #f0f6fd;\n",
              "            color:  #000000;\n",
              "        }#T_715fc702_ee98_11eb_a773_0242ac1c0002row8_col1{\n",
              "            background-color:  #f7fbff;\n",
              "            color:  #000000;\n",
              "        }</style><table id=\"T_715fc702_ee98_11eb_a773_0242ac1c0002\" ><thead>    <tr>        <th class=\"blank level0\" ></th>        <th class=\"col_heading level0 col0\" >Common_words</th>        <th class=\"col_heading level0 col1\" >count</th>    </tr></thead><tbody>\n",
              "                <tr>\n",
              "                        <th id=\"T_715fc702_ee98_11eb_a773_0242ac1c0002level0_row0\" class=\"row_heading level0 row0\" >0</th>\n",
              "                        <td id=\"T_715fc702_ee98_11eb_a773_0242ac1c0002row0_col0\" class=\"data row0 col0\" >'acer',</td>\n",
              "                        <td id=\"T_715fc702_ee98_11eb_a773_0242ac1c0002row0_col1\" class=\"data row0 col1\" >69</td>\n",
              "            </tr>\n",
              "            <tr>\n",
              "                        <th id=\"T_715fc702_ee98_11eb_a773_0242ac1c0002level0_row1\" class=\"row_heading level0 row1\" >1</th>\n",
              "                        <td id=\"T_715fc702_ee98_11eb_a773_0242ac1c0002row1_col0\" class=\"data row1 col0\" >['acer',</td>\n",
              "                        <td id=\"T_715fc702_ee98_11eb_a773_0242ac1c0002row1_col1\" class=\"data row1 col1\" >48</td>\n",
              "            </tr>\n",
              "            <tr>\n",
              "                        <th id=\"T_715fc702_ee98_11eb_a773_0242ac1c0002level0_row2\" class=\"row_heading level0 row2\" >2</th>\n",
              "                        <td id=\"T_715fc702_ee98_11eb_a773_0242ac1c0002row2_col0\" class=\"data row2 col0\" >'bagus',</td>\n",
              "                        <td id=\"T_715fc702_ee98_11eb_a773_0242ac1c0002row2_col1\" class=\"data row2 col1\" >24</td>\n",
              "            </tr>\n",
              "            <tr>\n",
              "                        <th id=\"T_715fc702_ee98_11eb_a773_0242ac1c0002level0_row3\" class=\"row_heading level0 row3\" >3</th>\n",
              "                        <td id=\"T_715fc702_ee98_11eb_a773_0242ac1c0002row3_col0\" class=\"data row3 col0\" >'sih',</td>\n",
              "                        <td id=\"T_715fc702_ee98_11eb_a773_0242ac1c0002row3_col1\" class=\"data row3 col1\" >21</td>\n",
              "            </tr>\n",
              "            <tr>\n",
              "                        <th id=\"T_715fc702_ee98_11eb_a773_0242ac1c0002level0_row4\" class=\"row_heading level0 row4\" >4</th>\n",
              "                        <td id=\"T_715fc702_ee98_11eb_a773_0242ac1c0002row4_col0\" class=\"data row4 col0\" >'swift',</td>\n",
              "                        <td id=\"T_715fc702_ee98_11eb_a773_0242ac1c0002row4_col1\" class=\"data row4 col1\" >20</td>\n",
              "            </tr>\n",
              "            <tr>\n",
              "                        <th id=\"T_715fc702_ee98_11eb_a773_0242ac1c0002level0_row5\" class=\"row_heading level0 row5\" >5</th>\n",
              "                        <td id=\"T_715fc702_ee98_11eb_a773_0242ac1c0002row5_col0\" class=\"data row5 col0\" >'yg',</td>\n",
              "                        <td id=\"T_715fc702_ee98_11eb_a773_0242ac1c0002row5_col1\" class=\"data row5 col1\" >20</td>\n",
              "            </tr>\n",
              "            <tr>\n",
              "                        <th id=\"T_715fc702_ee98_11eb_a773_0242ac1c0002level0_row6\" class=\"row_heading level0 row6\" >6</th>\n",
              "                        <td id=\"T_715fc702_ee98_11eb_a773_0242ac1c0002row6_col0\" class=\"data row6 col0\" >'laptop',</td>\n",
              "                        <td id=\"T_715fc702_ee98_11eb_a773_0242ac1c0002row6_col1\" class=\"data row6 col1\" >19</td>\n",
              "            </tr>\n",
              "            <tr>\n",
              "                        <th id=\"T_715fc702_ee98_11eb_a773_0242ac1c0002level0_row7\" class=\"row_heading level0 row7\" >7</th>\n",
              "                        <td id=\"T_715fc702_ee98_11eb_a773_0242ac1c0002row7_col0\" class=\"data row7 col0\" >'aja',</td>\n",
              "                        <td id=\"T_715fc702_ee98_11eb_a773_0242ac1c0002row7_col1\" class=\"data row7 col1\" >17</td>\n",
              "            </tr>\n",
              "            <tr>\n",
              "                        <th id=\"T_715fc702_ee98_11eb_a773_0242ac1c0002level0_row8\" class=\"row_heading level0 row8\" >8</th>\n",
              "                        <td id=\"T_715fc702_ee98_11eb_a773_0242ac1c0002row8_col0\" class=\"data row8 col0\" >'aspire',</td>\n",
              "                        <td id=\"T_715fc702_ee98_11eb_a773_0242ac1c0002row8_col1\" class=\"data row8 col1\" >15</td>\n",
              "            </tr>\n",
              "    </tbody></table>"
            ],
            "text/plain": [
              "<pandas.io.formats.style.Styler at 0x7f3de3f99f10>"
            ]
          },
          "metadata": {
            "tags": []
          },
          "execution_count": 9
        }
      ]
    },
    {
      "cell_type": "code",
      "metadata": {
        "colab": {
          "base_uri": "https://localhost:8080/",
          "height": 557
        },
        "id": "4jnssUDfTmcF",
        "outputId": "a28b38db-c2f4-4e4a-f289-2d14581f007e"
      },
      "source": [
        "dpositif.plot(kind ='barh')\n",
        "plt.yticks(range(0,9), ['Estimasi','kurir','paket','jne','cepet','udh','ongkir','kirim','ramah'])"
      ],
      "execution_count": null,
      "outputs": [
        {
          "output_type": "execute_result",
          "data": {
            "text/plain": [
              "([<matplotlib.axis.YTick at 0x7f3de30b2ed0>,\n",
              "  <matplotlib.axis.YTick at 0x7f3de2c20d50>,\n",
              "  <matplotlib.axis.YTick at 0x7f3de2c32a10>,\n",
              "  <matplotlib.axis.YTick at 0x7f3de2bdf910>,\n",
              "  <matplotlib.axis.YTick at 0x7f3de2bdfcd0>,\n",
              "  <matplotlib.axis.YTick at 0x7f3de2be75d0>,\n",
              "  <matplotlib.axis.YTick at 0x7f3de2be7b50>,\n",
              "  <matplotlib.axis.YTick at 0x7f3de2c1de50>,\n",
              "  <matplotlib.axis.YTick at 0x7f3de2bf1290>],\n",
              " [Text(0, 0, 'Estimasi'),\n",
              "  Text(0, 0, 'kurir'),\n",
              "  Text(0, 0, 'paket'),\n",
              "  Text(0, 0, 'jne'),\n",
              "  Text(0, 0, 'cepet'),\n",
              "  Text(0, 0, 'udh'),\n",
              "  Text(0, 0, 'ongkir'),\n",
              "  Text(0, 0, 'kirim'),\n",
              "  Text(0, 0, 'ramah')])"
            ]
          },
          "metadata": {
            "tags": []
          },
          "execution_count": 10
        },
        {
          "output_type": "display_data",
          "data": {
            "image/png": "[encoded data removed]",
            "text/plain": [
              "<Figure size 432x288 with 1 Axes>"
            ]
          },
          "metadata": {
            "tags": [],
            "needs_background": "light"
          }
        }
      ]
    },
    {
      "cell_type": "code",
      "metadata": {
        "colab": {
          "base_uri": "https://localhost:8080/"
        },
        "id": "OeAIE9QeDpVE",
        "outputId": "41d00f26-2669-402e-b56d-8bb0fd142a4f"
      },
      "source": [
        "acer.info()"
      ],
      "execution_count": null,
      "outputs": [
        {
          "output_type": "stream",
          "text": [
            "<class 'pandas.core.frame.DataFrame'>\n",
            "RangeIndex: 200 entries, 0 to 199\n",
            "Data columns (total 3 columns):\n",
            " #   Column      Non-Null Count  Dtype \n",
            "---  ------      --------------  ----- \n",
            " 0   Unnamed: 0  200 non-null    Int64 \n",
            " 1   stemming    200 non-null    string\n",
            " 2   sentimen    200 non-null    string\n",
            "dtypes: Int64(1), string(2)\n",
            "memory usage: 5.0 KB\n"
          ],
          "name": "stdout"
        }
      ]
    },
    {
      "cell_type": "code",
      "metadata": {
        "id": "z7anDXVYD-pm"
      },
      "source": [
        "#Drop Column yang tidak penting\n",
        "acer.drop(columns=['Unnamed: 0'] , inplace=True)"
      ],
      "execution_count": null,
      "outputs": []
    },
    {
      "cell_type": "code",
      "metadata": {
        "colab": {
          "base_uri": "https://localhost:8080/",
          "height": 408
        },
        "id": "2vXjQAdBEP81",
        "outputId": "7328fe46-1a69-4fb4-a46e-5e09253971ab"
      },
      "source": [
        "acer"
      ],
      "execution_count": null,
      "outputs": [
        {
          "output_type": "execute_result",
          "data": {
            "text/html": [
              "<div>\n",
              "<style scoped>\n",
              "    .dataframe tbody tr th:only-of-type {\n",
              "        vertical-align: middle;\n",
              "    }\n",
              "\n",
              "    .dataframe tbody tr th {\n",
              "        vertical-align: top;\n",
              "    }\n",
              "\n",
              "    .dataframe thead th {\n",
              "        text-align: right;\n",
              "    }\n",
              "</style>\n",
              "<table border=\"1\" class=\"dataframe\">\n",
              "  <thead>\n",
              "    <tr style=\"text-align: right;\">\n",
              "      <th></th>\n",
              "      <th>stemming</th>\n",
              "      <th>sentimen</th>\n",
              "    </tr>\n",
              "  </thead>\n",
              "  <tbody>\n",
              "    <tr>\n",
              "      <th>0</th>\n",
              "      <td>['swift', 'not', 'bad', 'harga', 'jugak', 'ace...</td>\n",
              "      <td>negatif</td>\n",
              "    </tr>\n",
              "    <tr>\n",
              "      <th>1</th>\n",
              "      <td>['acer', 'rada', 'mahal', 'gw']</td>\n",
              "      <td>negatif</td>\n",
              "    </tr>\n",
              "    <tr>\n",
              "      <th>2</th>\n",
              "      <td>['acer', 'swift', 'sf', 'rcz', 'laptop', 'juta...</td>\n",
              "      <td>positif</td>\n",
              "    </tr>\n",
              "    <tr>\n",
              "      <th>3</th>\n",
              "      <td>['acer', 'nitro', 'enak', 'dipake', 'gaming', ...</td>\n",
              "      <td>negatif</td>\n",
              "    </tr>\n",
              "    <tr>\n",
              "      <th>4</th>\n",
              "      <td>['laptop', 'acer', 'umur', 'udah', 'taun', 'nd...</td>\n",
              "      <td>positif</td>\n",
              "    </tr>\n",
              "    <tr>\n",
              "      <th>...</th>\n",
              "      <td>...</td>\n",
              "      <td>...</td>\n",
              "    </tr>\n",
              "    <tr>\n",
              "      <th>195</th>\n",
              "      <td>['cepet', 'rusak', 'dah', 'kali', 'beli', 'ace...</td>\n",
              "      <td>negatif</td>\n",
              "    </tr>\n",
              "    <tr>\n",
              "      <th>196</th>\n",
              "      <td>['acer', 'nitro', 'mar', 'xvyp', 'ni', 'pakai'...</td>\n",
              "      <td>positif</td>\n",
              "    </tr>\n",
              "    <tr>\n",
              "      <th>197</th>\n",
              "      <td>['acer', 'webcam', 'nya', 'lebi', 'bagus', 'as...</td>\n",
              "      <td>positif</td>\n",
              "    </tr>\n",
              "    <tr>\n",
              "      <th>198</th>\n",
              "      <td>['acer', 'splil', 'intel', 'sih', 'kece', 'ban...</td>\n",
              "      <td>positif</td>\n",
              "    </tr>\n",
              "    <tr>\n",
              "      <th>199</th>\n",
              "      <td>['cari', 'acer', 'dek', 'spek', 'udah', 'lumay...</td>\n",
              "      <td>positif</td>\n",
              "    </tr>\n",
              "  </tbody>\n",
              "</table>\n",
              "<p>200 rows × 2 columns</p>\n",
              "</div>"
            ],
            "text/plain": [
              "                                              stemming sentimen\n",
              "0    ['swift', 'not', 'bad', 'harga', 'jugak', 'ace...  negatif\n",
              "1                      ['acer', 'rada', 'mahal', 'gw']  negatif\n",
              "2    ['acer', 'swift', 'sf', 'rcz', 'laptop', 'juta...  positif\n",
              "3    ['acer', 'nitro', 'enak', 'dipake', 'gaming', ...  negatif\n",
              "4    ['laptop', 'acer', 'umur', 'udah', 'taun', 'nd...  positif\n",
              "..                                                 ...      ...\n",
              "195  ['cepet', 'rusak', 'dah', 'kali', 'beli', 'ace...  negatif\n",
              "196  ['acer', 'nitro', 'mar', 'xvyp', 'ni', 'pakai'...  positif\n",
              "197  ['acer', 'webcam', 'nya', 'lebi', 'bagus', 'as...  positif\n",
              "198  ['acer', 'splil', 'intel', 'sih', 'kece', 'ban...  positif\n",
              "199  ['cari', 'acer', 'dek', 'spek', 'udah', 'lumay...  positif\n",
              "\n",
              "[200 rows x 2 columns]"
            ]
          },
          "metadata": {
            "tags": []
          },
          "execution_count": 13
        }
      ]
    },
    {
      "cell_type": "code",
      "metadata": {
        "id": "mPh6gwI6ERzV",
        "colab": {
          "base_uri": "https://localhost:8080/"
        },
        "outputId": "c9762447-548a-444a-e236-0901630c5bfd"
      },
      "source": [
        "import imblearn\n",
        "from imblearn.over_sampling import SMOTE\n",
        "from collections import Counter\n",
        "from sklearn.feature_extraction.text import TfidfVectorizer\n",
        "from sklearn.preprocessing import LabelEncoder"
      ],
      "execution_count": null,
      "outputs": [
        {
          "output_type": "stream",
          "text": [
            "/usr/local/lib/python3.7/dist-packages/sklearn/externals/six.py:31: FutureWarning: The module is deprecated in version 0.21 and will be removed in version 0.23 since we've dropped support for Python 2.7. Please rely on the official version of six (https://pypi.org/project/six/).\n",
            "  \"(https://pypi.org/project/six/).\", FutureWarning)\n",
            "/usr/local/lib/python3.7/dist-packages/sklearn/utils/deprecation.py:144: FutureWarning: The sklearn.neighbors.base module is  deprecated in version 0.22 and will be removed in version 0.24. The corresponding classes / functions should instead be imported from sklearn.neighbors. Anything that cannot be imported from sklearn.neighbors is now part of the private API.\n",
            "  warnings.warn(message, FutureWarning)\n"
          ],
          "name": "stderr"
        }
      ]
    },
    {
      "cell_type": "code",
      "metadata": {
        "id": "LJ-e94TSEnbO"
      },
      "source": [
        "#Memisahkan Data Atribut(x) dan Data Target(y)\n",
        "x = acer['stemming'].values\n",
        "y = acer['sentimen'].values"
      ],
      "execution_count": null,
      "outputs": []
    },
    {
      "cell_type": "code",
      "metadata": {
        "colab": {
          "base_uri": "https://localhost:8080/"
        },
        "id": "y38liyv43RDD",
        "outputId": "31c13c17-46ea-4b59-ab44-511d5929454d"
      },
      "source": [
        "print(x)"
      ],
      "execution_count": null,
      "outputs": [
        {
          "output_type": "stream",
          "text": [
            "<StringArray>\n",
            "[                                                                           \"['swift', 'not', 'bad', 'harga', 'jugak', 'acer', 'recommended', 'but', 'try', 'tengok', 'dell']\",\n",
            "                                                                                                                                             \"['acer', 'rada', 'mahal', 'gw']\",\n",
            "                                                                                      \"['acer', 'swift', 'sf', 'rcz', 'laptop', 'juta', 'kencang', 'ryzen', 'u', 'ssd', 'tb']\",\n",
            "                                                                  \"['acer', 'nitro', 'enak', 'dipake', 'gaming', 'desain', 'minum', 'bodi', 'gede', 'aja', 'sisa', 'perfect']\",\n",
            "                                                                                                                          \"['laptop', 'acer', 'umur', 'udah', 'taun', 'nder']\",\n",
            "                                                                                                         \"['kannnn', 'huhuhu', 'emng', 'nih', 'si', 'acer', 'macet', 'emang']\",\n",
            "                                                                                                                                         \"['pake', 'acer', 'kuat', 'bodynya']\",\n",
            "                                                                                          \"['acer', 'nitro', 'mar', 'xvyp', 'ni', 'pakai', 'skrang', 'huhu', 'lot', 'banget']\",\n",
            "                                                                                                   \"['pake', 'acer', 'aspire', 'btw', 'zoom', 'nya', 'yg', 'upgrade', 'nder']\",\n",
            "                                                        \"['wkwk', 'keinget', 'jaman', 'sekolah', 'temen', 'gw', 'beli', 'laptop', 'acer', 'bulan', 'lcd', 'udah', 'gar', 'p']\",\n",
            " ...\n",
            "                                                                                                                  \"['kecuali', 'yg', 'swift', 'acer', 'berat', 'berat', 'si']\",\n",
            "                                                                                                                                        \"['keyboard', 'tahan', 'acer', 'sih']\",\n",
            "                                                                                                                     \"['pake', 'acer', 'carger', 'kadang', 'masuk', 'kadang']\",\n",
            "                                                                                                                     \"['acer', 'sih', 'susah', 'banget', 'nangkep', 'sinyal']\",\n",
            "                                                                                                                    \"['sodara', 'gue', 'pake', 'acer', 'da', 'lot', 'banget']\",\n",
            " \"['cepet', 'rusak', 'dah', 'kali', 'beli', 'acer', 'laptop', 'lot', 'parah', 'mas', 'pake', 'acer', 'si', 'pas', 'pake', 'eh', 'bulan', 'dah', 'masuk', 'tukang', 'service']\",\n",
            "                                                                                       \"['acer', 'nitro', 'mar', 'xvyp', 'ni', 'pakai', 'skrang', 'lancar', 'aja', 'ngegame']\",\n",
            "                                                                                                                   \"['acer', 'webcam', 'nya', 'lebi', 'bagus', 'asus', 'sih']\",\n",
            "                                                                                                                         \"['acer', 'splil', 'intel', 'sih', 'kece', 'banget']\",\n",
            "                                                                                                                 \"['cari', 'acer', 'dek', 'spek', 'udah', 'lumayan', 'bagus']\"]\n",
            "Length: 200, dtype: string\n"
          ],
          "name": "stdout"
        }
      ]
    },
    {
      "cell_type": "code",
      "metadata": {
        "colab": {
          "base_uri": "https://localhost:8080/"
        },
        "id": "2uAAISo63T2v",
        "outputId": "8d769a66-e464-4a14-f014-8319dd974dd8"
      },
      "source": [
        "print(y)"
      ],
      "execution_count": null,
      "outputs": [
        {
          "output_type": "stream",
          "text": [
            "<StringArray>\n",
            "['negatif', 'negatif', 'positif', 'negatif', 'positif', 'negatif', 'positif',\n",
            " 'negatif', 'positif', 'negatif',\n",
            " ...\n",
            " 'negatif', 'positif', 'negatif', 'negatif', 'negatif', 'negatif', 'positif',\n",
            " 'positif', 'positif', 'positif']\n",
            "Length: 200, dtype: string\n"
          ],
          "name": "stdout"
        }
      ]
    },
    {
      "cell_type": "code",
      "metadata": {
        "id": "qYCYESCDE0OL"
      },
      "source": [
        "#Transform Label menjadi numerik netral(1),negatif(0),positif(2)\n",
        "Label = LabelEncoder()\n",
        "y_transform = Label.fit_transform(y)"
      ],
      "execution_count": null,
      "outputs": []
    },
    {
      "cell_type": "code",
      "metadata": {
        "colab": {
          "base_uri": "https://localhost:8080/"
        },
        "id": "E446Sn8v3XR_",
        "outputId": "2b3e0118-81ff-4cc5-a1e3-6bddb508594b"
      },
      "source": [
        "print(y_transform)"
      ],
      "execution_count": null,
      "outputs": [
        {
          "output_type": "stream",
          "text": [
            "[0 0 1 0 1 0 1 0 1 0 0 0 0 0 0 0 0 0 1 1 1 1 0 1 1 1 1 0 0 1 1 0 1 1 1 1 1\n",
            " 0 0 0 1 1 0 1 0 0 1 1 0 0 0 1 0 1 0 0 0 0 0 1 1 1 1 1 1 0 1 0 1 1 1 1 0 1\n",
            " 1 0 1 1 0 0 0 0 1 1 0 0 1 1 1 1 1 0 1 0 1 1 1 1 1 0 0 0 1 0 1 1 1 1 1 1 1\n",
            " 1 0 1 1 1 1 1 1 0 1 1 1 1 1 1 1 1 0 1 1 1 1 0 1 1 1 1 1 1 1 0 1 0 1 0 0 1\n",
            " 1 1 1 0 1 1 1 1 1 1 0 1 0 1 0 0 1 0 0 1 0 1 1 1 1 0 1 0 0 0 0 1 1 1 1 1 1\n",
            " 1 1 1 1 1 0 1 0 0 0 0 1 1 1 1]\n"
          ],
          "name": "stdout"
        }
      ]
    },
    {
      "cell_type": "code",
      "metadata": {
        "id": "FIRa3sw0E_gF",
        "colab": {
          "base_uri": "https://localhost:8080/"
        },
        "outputId": "0fd105ec-2b87-4941-ed26-1143e742b48b"
      },
      "source": [
        "#Ektraksi fitur atau merubah data text menjadi numerik vector (TF-IDF 1)\n",
        "tf_vect = TfidfVectorizer()\n",
        "x_transform = tf_vect.fit_transform(x)\n",
        "tf_vect.vocabulary_"
      ],
      "execution_count": null,
      "outputs": [
        {
          "output_type": "execute_result",
          "data": {
            "text/plain": [
              "{'aaahhh': 0,\n",
              " 'abis': 1,\n",
              " 'abu': 2,\n",
              " 'acer': 3,\n",
              " 'acerasushp': 4,\n",
              " 'ad': 5,\n",
              " 'ade': 6,\n",
              " 'adjust': 7,\n",
              " 'advice': 8,\n",
              " 'affordable': 9,\n",
              " 'ag': 10,\n",
              " 'ah': 11,\n",
              " 'air': 12,\n",
              " 'aj': 13,\n",
              " 'aja': 14,\n",
              " 'ajar': 15,\n",
              " 'ak': 16,\n",
              " 'alam': 17,\n",
              " 'alat': 18,\n",
              " 'alhamdulillah': 19,\n",
              " 'alias': 20,\n",
              " 'allah': 21,\n",
              " 'ama': 22,\n",
              " 'aman': 23,\n",
              " 'amantp': 24,\n",
              " 'ambil': 25,\n",
              " 'amd': 26,\n",
              " 'amp': 27,\n",
              " 'ampe': 28,\n",
              " 'an': 29,\n",
              " 'anak': 30,\n",
              " 'ancen': 31,\n",
              " 'and': 32,\n",
              " 'aneh': 33,\n",
              " 'angka': 34,\n",
              " 'anjgrrr': 35,\n",
              " 'anjing': 36,\n",
              " 'anjir': 37,\n",
              " 'anti': 38,\n",
              " 'aoa': 39,\n",
              " 'apain': 40,\n",
              " 'apple': 41,\n",
              " 'applikasi': 42,\n",
              " 'as': 43,\n",
              " 'asli': 44,\n",
              " 'aspire': 45,\n",
              " 'asus': 46,\n",
              " 'awal': 47,\n",
              " 'awas': 48,\n",
              " 'aweett': 49,\n",
              " 'awet': 50,\n",
              " 'bad': 51,\n",
              " 'bagus': 52,\n",
              " 'bahaya': 53,\n",
              " 'banding': 54,\n",
              " 'bangeet': 55,\n",
              " 'banget': 56,\n",
              " 'baru': 57,\n",
              " 'baterai': 58,\n",
              " 'batre': 59,\n",
              " 'batrenya': 60,\n",
              " 'bawa': 61,\n",
              " 'bawah': 62,\n",
              " 'bbrp': 63,\n",
              " 'be': 64,\n",
              " 'bec': 65,\n",
              " 'beda': 66,\n",
              " 'bekashnya': 67,\n",
              " 'bel': 68,\n",
              " 'beli': 69,\n",
              " 'beliin': 70,\n",
              " 'bener': 71,\n",
              " 'bentuk': 72,\n",
              " 'berat': 73,\n",
              " 'bestt': 74,\n",
              " 'bgt': 75,\n",
              " 'bgtttt': 76,\n",
              " 'biar': 77,\n",
              " 'bijak': 78,\n",
              " 'bikin': 79,\n",
              " 'bikos': 80,\n",
              " 'bios': 81,\n",
              " 'biru': 82,\n",
              " 'bl': 83,\n",
              " 'bnget': 84,\n",
              " 'bodi': 85,\n",
              " 'bodynya': 86,\n",
              " 'bolakbalik': 87,\n",
              " 'bru': 88,\n",
              " 'btw': 89,\n",
              " 'bu': 90,\n",
              " 'budget': 91,\n",
              " 'buka': 92,\n",
              " 'bulan': 93,\n",
              " 'bunyi': 94,\n",
              " 'burem': 95,\n",
              " 'burik': 96,\n",
              " 'buruk': 97,\n",
              " 'but': 98,\n",
              " 'butuh': 99,\n",
              " 'by': 100,\n",
              " 'cam': 101,\n",
              " 'camera': 102,\n",
              " 'canggih': 103,\n",
              " 'cantik': 104,\n",
              " 'cape': 105,\n",
              " 'card': 106,\n",
              " 'cardnya': 107,\n",
              " 'carger': 108,\n",
              " 'cari': 109,\n",
              " 'cas': 110,\n",
              " 'cek': 111,\n",
              " 'center': 112,\n",
              " 'centernya': 113,\n",
              " 'cepat': 114,\n",
              " 'cepet': 115,\n",
              " 'charger': 116,\n",
              " 'chipsetnya': 117,\n",
              " 'chrome': 118,\n",
              " 'chromebook': 119,\n",
              " 'citer': 120,\n",
              " 'coba': 121,\n",
              " 'cocok': 122,\n",
              " 'connect': 123,\n",
              " 'core': 124,\n",
              " 'cover': 125,\n",
              " 'cuman': 126,\n",
              " 'cumn': 127,\n",
              " 'da': 128,\n",
              " 'dah': 129,\n",
              " 'dapet': 130,\n",
              " 'daring': 131,\n",
              " 'data': 132,\n",
              " 'daya': 133,\n",
              " 'ddr': 134,\n",
              " 'deh': 135,\n",
              " 'dek': 136,\n",
              " 'dekstopnya': 137,\n",
              " 'dell': 138,\n",
              " 'delll': 139,\n",
              " 'deret': 140,\n",
              " 'desain': 141,\n",
              " 'design': 142,\n",
              " 'designnya': 143,\n",
              " 'dg': 144,\n",
              " 'dgn': 145,\n",
              " 'dh': 146,\n",
              " 'dibandin': 147,\n",
              " 'didiemin': 148,\n",
              " 'digituin': 149,\n",
              " 'dikit': 150,\n",
              " 'dilipet': 151,\n",
              " 'dimensi': 152,\n",
              " 'dipak': 153,\n",
              " 'dipake': 154,\n",
              " 'ditambahin': 155,\n",
              " 'ditu': 156,\n",
              " 'dll': 157,\n",
              " 'dlu': 158,\n",
              " 'dngan': 159,\n",
              " 'doang': 160,\n",
              " 'dr': 161,\n",
              " 'dri': 162,\n",
              " 'drpd': 163,\n",
              " 'duatiga': 164,\n",
              " 'edit': 165,\n",
              " 'efek': 166,\n",
              " 'eh': 167,\n",
              " 'eksternaltapi': 168,\n",
              " 'elegan': 169,\n",
              " 'emang': 170,\n",
              " 'emg': 171,\n",
              " 'emng': 172,\n",
              " 'enak': 173,\n",
              " 'engsel': 174,\n",
              " 'engselnyaa': 175,\n",
              " 'eror': 176,\n",
              " 'error': 177,\n",
              " 'even': 178,\n",
              " 'ex': 179,\n",
              " 'external': 180,\n",
              " 'far': 181,\n",
              " 'frame': 182,\n",
              " 'fyp': 183,\n",
              " 'ga': 184,\n",
              " 'gada': 185,\n",
              " 'gajelas': 186,\n",
              " 'gak': 187,\n",
              " 'gaming': 188,\n",
              " 'gamp': 189,\n",
              " 'gan': 190,\n",
              " 'gang': 191,\n",
              " 'ganti': 192,\n",
              " 'gantung': 193,\n",
              " 'gar': 194,\n",
              " 'garansi': 195,\n",
              " 'gb': 196,\n",
              " 'gede': 197,\n",
              " 'geforce': 198,\n",
              " 'generasi': 199,\n",
              " 'generation': 200,\n",
              " 'genshin': 201,\n",
              " 'geram': 202,\n",
              " 'gin': 203,\n",
              " 'gitu': 204,\n",
              " 'gk': 205,\n",
              " 'goda': 206,\n",
              " 'goyang': 207,\n",
              " 'gpu': 208,\n",
              " 'grafik': 209,\n",
              " 'grafis': 210,\n",
              " 'graphics': 211,\n",
              " 'gt': 212,\n",
              " 'gtu': 213,\n",
              " 'gua': 214,\n",
              " 'gue': 215,\n",
              " 'guru': 216,\n",
              " 'gw': 217,\n",
              " 'haha': 218,\n",
              " 'hahah': 219,\n",
              " 'hahaha': 220,\n",
              " 'hardisk': 221,\n",
              " 'harga': 222,\n",
              " 'hdd': 223,\n",
              " 'hehe': 224,\n",
              " 'hehehe': 225,\n",
              " 'hilang': 226,\n",
              " 'hmm': 227,\n",
              " 'ho': 228,\n",
              " 'hooh': 229,\n",
              " 'hp': 230,\n",
              " 'hrgnya': 231,\n",
              " 'hrus': 232,\n",
              " 'hshs': 233,\n",
              " 'huhu': 234,\n",
              " 'huhuhu': 235,\n",
              " 'ih': 236,\n",
              " 'iiiiiiiiiiiiii': 237,\n",
              " 'iki': 238,\n",
              " 'ilang': 239,\n",
              " 'imut': 240,\n",
              " 'in': 241,\n",
              " 'inch': 242,\n",
              " 'indonesia': 243,\n",
              " 'inside': 244,\n",
              " 'instal': 245,\n",
              " 'install': 246,\n",
              " 'intel': 247,\n",
              " 'inter': 248,\n",
              " 'inti': 249,\n",
              " 'ips': 250,\n",
              " 'it': 251,\n",
              " 'itudah': 252,\n",
              " 'iyaa': 253,\n",
              " 'jadul': 254,\n",
              " 'jaga': 255,\n",
              " 'jam': 256,\n",
              " 'jaman': 257,\n",
              " 'jangkau': 258,\n",
              " 'jaya': 259,\n",
              " 'jd': 260,\n",
              " 'jee': 261,\n",
              " 'jelek': 262,\n",
              " 'jg': 263,\n",
              " 'jga': 264,\n",
              " 'jgn': 265,\n",
              " 'jt': 266,\n",
              " 'jtan': 267,\n",
              " 'jugak': 268,\n",
              " 'jujur': 269,\n",
              " 'jurus': 270,\n",
              " 'juta': 271,\n",
              " 'jutqqn': 272,\n",
              " 'ka': 273,\n",
              " 'kadang': 274,\n",
              " 'kagaaa': 275,\n",
              " 'kahkahkah': 276,\n",
              " 'kak': 277,\n",
              " 'kalah': 278,\n",
              " 'kali': 279,\n",
              " 'kalo': 280,\n",
              " 'kamera': 281,\n",
              " 'kannnn': 282,\n",
              " 'kapok': 283,\n",
              " 'karna': 284,\n",
              " 'kartu': 285,\n",
              " 'kasi': 286,\n",
              " 'kaya': 287,\n",
              " 'kayak': 288,\n",
              " 'kayakny': 289,\n",
              " 'kece': 290,\n",
              " 'kecuali': 291,\n",
              " 'keinget': 292,\n",
              " 'kejap': 293,\n",
              " 'kek': 294,\n",
              " 'kelas': 295,\n",
              " 'keluh': 296,\n",
              " 'kemaren': 297,\n",
              " 'kemarin': 298,\n",
              " 'ken': 299,\n",
              " 'kena': 300,\n",
              " 'kencang': 301,\n",
              " 'kenceng': 302,\n",
              " 'kene': 303,\n",
              " 'keyboard': 304,\n",
              " 'keyboardnya': 305,\n",
              " 'keyboardyya': 306,\n",
              " 'keybordnya': 307,\n",
              " 'kisar': 308,\n",
              " 'kl': 309,\n",
              " 'klo': 310,\n",
              " 'kls': 311,\n",
              " 'klw': 312,\n",
              " 'kmrn': 313,\n",
              " 'ko': 314,\n",
              " 'kresek': 315,\n",
              " 'ku': 316,\n",
              " 'kualitas': 317,\n",
              " 'kuat': 318,\n",
              " 'kudu': 319,\n",
              " 'kuliah': 320,\n",
              " 'kurg': 321,\n",
              " 'kyaknya': 322,\n",
              " 'kyknya': 323,\n",
              " 'la': 324,\n",
              " 'lag': 325,\n",
              " 'lake': 326,\n",
              " 'lancar': 327,\n",
              " 'laptop': 328,\n",
              " 'last': 329,\n",
              " 'latop': 330,\n",
              " 'layar': 331,\n",
              " 'lbh': 332,\n",
              " 'lcd': 333,\n",
              " 'lcdnya': 334,\n",
              " 'lebi': 335,\n",
              " 'lemottt': 336,\n",
              " 'lenovo': 337,\n",
              " 'lepas': 338,\n",
              " 'lg': 339,\n",
              " 'lgi': 340,\n",
              " 'lho': 341,\n",
              " 'liat': 342,\n",
              " 'lipat': 343,\n",
              " 'lirik': 344,\n",
              " 'lm': 345,\n",
              " 'lot': 346,\n",
              " 'lowest': 347,\n",
              " 'lps': 348,\n",
              " 'lu': 349,\n",
              " 'lucu': 350,\n",
              " 'lulus': 351,\n",
              " 'lumayan': 352,\n",
              " 'lupa': 353,\n",
              " 'mac': 354,\n",
              " 'macbook': 355,\n",
              " 'macet': 356,\n",
              " 'mah': 357,\n",
              " 'mahal': 358,\n",
              " 'main': 359,\n",
              " 'majjs': 360,\n",
              " 'makasii': 361,\n",
              " 'maksutnya': 362,\n",
              " 'malang': 363,\n",
              " 'males': 364,\n",
              " 'manteppp': 365,\n",
              " 'mar': 366,\n",
              " 'mas': 367,\n",
              " 'masalah': 368,\n",
              " 'masuk': 369,\n",
              " 'mat': 370,\n",
              " 'mati': 371,\n",
              " 'mau': 372,\n",
              " 'mayan': 373,\n",
              " 'mcmni': 374,\n",
              " 'me': 375,\n",
              " 'medium': 376,\n",
              " 'mending': 377,\n",
              " 'merek': 378,\n",
              " 'merk': 379,\n",
              " 'mesti': 380,\n",
              " 'milih': 381,\n",
              " 'minimal': 382,\n",
              " 'minum': 383,\n",
              " 'misah': 384,\n",
              " 'mjb': 385,\n",
              " 'mmg': 386,\n",
              " 'mntan': 387,\n",
              " 'mo': 388,\n",
              " 'model': 389,\n",
              " 'moga': 390,\n",
              " 'motherboard': 391,\n",
              " 'mu': 392,\n",
              " 'muat': 393,\n",
              " 'mudah': 394,\n",
              " 'mugen': 395,\n",
              " 'multimedia': 396,\n",
              " 'mulu': 397,\n",
              " 'mulus': 398,\n",
              " 'murah': 399,\n",
              " 'murce': 400,\n",
              " 'mw': 401,\n",
              " 'mx': 402,\n",
              " 'nak': 403,\n",
              " 'nama': 404,\n",
              " 'nambah': 405,\n",
              " 'nan': 406,\n",
              " 'nanggung': 407,\n",
              " 'nangkep': 408,\n",
              " 'napas': 409,\n",
              " 'naskah': 410,\n",
              " 'nd': 411,\n",
              " 'nder': 412,\n",
              " 'nderadek': 413,\n",
              " 'nderprocessor': 414,\n",
              " 'ndue': 415,\n",
              " 'next': 416,\n",
              " 'ngam': 417,\n",
              " 'nge': 418,\n",
              " 'ngedrop': 419,\n",
              " 'ngegame': 420,\n",
              " 'ngehehehe': 421,\n",
              " 'ngelag': 422,\n",
              " 'ngeluarin': 423,\n",
              " 'ngeluh': 424,\n",
              " 'ngeri': 425,\n",
              " 'ngerjain': 426,\n",
              " 'ngetik': 427,\n",
              " 'ni': 428,\n",
              " 'nice': 429,\n",
              " 'nih': 430,\n",
              " 'nihhh': 431,\n",
              " 'nitro': 432,\n",
              " 'nmpk': 433,\n",
              " 'normal': 434,\n",
              " 'not': 435,\n",
              " 'notebook': 436,\n",
              " 'notionevernote': 437,\n",
              " 'nugas': 438,\n",
              " 'number': 439,\n",
              " 'nya': 440,\n",
              " 'nyalain': 441,\n",
              " 'nyaman': 442,\n",
              " 'nyari': 443,\n",
              " 'nyata': 444,\n",
              " 'nyelem': 445,\n",
              " 'nyetel': 446,\n",
              " 'oh': 447,\n",
              " 'ohh': 448,\n",
              " 'ok': 449,\n",
              " 'okee': 450,\n",
              " 'okok': 451,\n",
              " 'on': 452,\n",
              " 'one': 453,\n",
              " 'or': 454,\n",
              " 'orang': 455,\n",
              " 'over': 456,\n",
              " 'padu': 457,\n",
              " 'pakai': 458,\n",
              " 'pake': 459,\n",
              " 'paksa': 460,\n",
              " 'panas': 461,\n",
              " 'panjang': 462,\n",
              " 'parah': 463,\n",
              " 'parahhh': 464,\n",
              " 'pas': 465,\n",
              " 'pasang': 466,\n",
              " 'pasar': 467,\n",
              " 'patah': 468,\n",
              " 'pecah': 469,\n",
              " 'pen': 470,\n",
              " 'pencet': 471,\n",
              " 'perfect': 472,\n",
              " 'persis': 473,\n",
              " 'phobia': 474,\n",
              " 'pilih': 475,\n",
              " 'pinggir': 476,\n",
              " 'pingin': 477,\n",
              " 'pink': 478,\n",
              " 'pk': 479,\n",
              " 'plastik': 480,\n",
              " 'plus': 481,\n",
              " 'poll': 482,\n",
              " 'power': 483,\n",
              " 'powerful': 484,\n",
              " 'ppt': 485,\n",
              " 'predator': 486,\n",
              " 'prefer': 487,\n",
              " 'premiere': 488,\n",
              " 'pribadi': 489,\n",
              " 'processor': 490,\n",
              " 'prosesor': 491,\n",
              " 'pulak': 492,\n",
              " 'punya': 493,\n",
              " 'pusing': 494,\n",
              " 'putih': 495,\n",
              " 'quad': 496,\n",
              " 'rada': 497,\n",
              " 'radeon': 498,\n",
              " 'ram': 499,\n",
              " 'range': 500,\n",
              " 'rayzen': 501,\n",
              " 'rb': 502,\n",
              " 'rcz': 503,\n",
              " 'recomended': 504,\n",
              " 'recommended': 505,\n",
              " 'redmibook': 506,\n",
              " 'rencana': 507,\n",
              " 'rendah': 508,\n",
              " 'rentan': 509,\n",
              " 'resmi': 510,\n",
              " 'resolusi': 511,\n",
              " 'restart': 512,\n",
              " 'review': 513,\n",
              " 'rilis': 514,\n",
              " 'ringan': 515,\n",
              " 'rosak': 516,\n",
              " 'rp': 517,\n",
              " 'rtx': 518,\n",
              " 'rumah': 519,\n",
              " 'rusa': 520,\n",
              " 'rusak': 521,\n",
              " 'ryzen': 522,\n",
              " 'sabar': 523,\n",
              " 'sabi': 524,\n",
              " 'sampe': 525,\n",
              " 'saran': 526,\n",
              " 'saranin': 527,\n",
              " 'sblmnya': 528,\n",
              " 'sc': 529,\n",
              " 'sd': 530,\n",
              " 'sec': 531,\n",
              " 'second': 532,\n",
              " 'sedutan': 533,\n",
              " 'segitu': 534,\n",
              " 'sekolah': 535,\n",
              " 'seksi': 536,\n",
              " 'semalem': 537,\n",
              " 'sentuh': 538,\n",
              " 'seri': 539,\n",
              " 'service': 540,\n",
              " 'sesuai': 541,\n",
              " 'setting': 542,\n",
              " 'settingannya': 543,\n",
              " 'sf': 544,\n",
              " 'si': 545,\n",
              " 'sih': 546,\n",
              " 'sikittttt': 547,\n",
              " 'sil': 548,\n",
              " 'simpan': 549,\n",
              " 'singkat': 550,\n",
              " 'sinyal': 551,\n",
              " 'sisa': 552,\n",
              " 'sistem': 553,\n",
              " 'skaliiiii': 554,\n",
              " 'skarang': 555,\n",
              " 'skrang': 556,\n",
              " 'skrg': 557,\n",
              " 'skripsi': 558,\n",
              " 'skrng': 559,\n",
              " 'slim': 560,\n",
              " 'slot': 561,\n",
              " 'slow': 562,\n",
              " 'sm': 563,\n",
              " 'sma': 564,\n",
              " 'smp': 565,\n",
              " 'smpe': 566,\n",
              " 'smua': 567,\n",
              " 'so': 568,\n",
              " 'soak': 569,\n",
              " 'sodara': 570,\n",
              " 'speaker': 571,\n",
              " 'specs': 572,\n",
              " 'spect': 573,\n",
              " 'spek': 574,\n",
              " 'speknya': 575,\n",
              " 'spesifikasi': 576,\n",
              " 'splil': 577,\n",
              " 'ssd': 578,\n",
              " 'still': 579,\n",
              " 'storage': 580,\n",
              " 'suara': 581,\n",
              " 'suka': 582,\n",
              " 'sumpah': 583,\n",
              " 'sus': 584,\n",
              " 'susah': 585,\n",
              " 'swift': 586,\n",
              " 'switch': 587,\n",
              " 'sy': 588,\n",
              " 'tahan': 589,\n",
              " 'tahun': 590,\n",
              " 'takde': 591,\n",
              " 'takut': 592,\n",
              " 'tambah': 593,\n",
              " 'tarung': 594,\n",
              " 'tas': 595,\n",
              " 'taun': 596,\n",
              " 'tb': 597,\n",
              " 'technician': 598,\n",
              " 'teman': 599,\n",
              " 'temen': 600,\n",
              " 'temenku': 601,\n",
              " 'tenaga': 602,\n",
              " 'tengok': 603,\n",
              " 'teo': 604,\n",
              " 'teqniq': 605,\n",
              " 'terkialkial': 606,\n",
              " 'th': 607,\n",
              " 'thanks': 608,\n",
              " 'thn': 609,\n",
              " 'ti': 610,\n",
              " 'tiger': 611,\n",
              " 'tik': 612,\n",
              " 'time': 613,\n",
              " 'tinggal': 614,\n",
              " 'tipis': 615,\n",
              " 'tips': 616,\n",
              " 'tk': 617,\n",
              " 'tokped': 618,\n",
              " 'tomb': 619,\n",
              " 'tools': 620,\n",
              " 'toshiba': 621,\n",
              " 'tp': 622,\n",
              " 'tpi': 623,\n",
              " 'triton': 624,\n",
              " 'trouble': 625,\n",
              " 'trs': 626,\n",
              " 'trus': 627,\n",
              " 'try': 628,\n",
              " 'tu': 629,\n",
              " 'tua': 630,\n",
              " 'tuf': 631,\n",
              " 'tuh': 632,\n",
              " 'tuk': 633,\n",
              " 'tukang': 634,\n",
              " 'turut': 635,\n",
              " 'tws': 636,\n",
              " 'type': 637,\n",
              " 'typing': 638,\n",
              " 'ud': 639,\n",
              " 'uda': 640,\n",
              " 'udah': 641,\n",
              " 'udh': 642,\n",
              " 'uk': 643,\n",
              " 'umur': 644,\n",
              " 'unch': 645,\n",
              " 'under': 646,\n",
              " 'unggul': 647,\n",
              " 'update': 648,\n",
              " 'upgrade': 649,\n",
              " 'user': 650,\n",
              " 'valid': 651,\n",
              " 'vga': 652,\n",
              " 'via': 653,\n",
              " 'video': 654,\n",
              " 'viewnya': 655,\n",
              " 'wahhh': 656,\n",
              " 'wajar': 657,\n",
              " 'walopun': 658,\n",
              " 'warna': 659,\n",
              " 'wassalam': 660,\n",
              " 'web': 661,\n",
              " 'webcam': 662,\n",
              " 'wenak': 663,\n",
              " 'wes': 664,\n",
              " 'wifi': 665,\n",
              " 'windows': 666,\n",
              " 'wkwk': 667,\n",
              " 'wkwkehh': 668,\n",
              " 'wkwkw': 669,\n",
              " 'wkwkwk': 670,\n",
              " 'wkwkwkwkwk': 671,\n",
              " 'wlw': 672,\n",
              " 'worth': 673,\n",
              " 'wortit': 674,\n",
              " 'wuss': 675,\n",
              " 'xvyp': 676,\n",
              " 'ya': 677,\n",
              " 'yaaaaaa': 678,\n",
              " 'yah': 679,\n",
              " 'yampun': 680,\n",
              " 'yaudah': 681,\n",
              " 'yg': 682,\n",
              " 'zaman': 683,\n",
              " 'zoom': 684}"
            ]
          },
          "metadata": {
            "tags": []
          },
          "execution_count": 20
        }
      ]
    },
    {
      "cell_type": "code",
      "metadata": {
        "colab": {
          "base_uri": "https://localhost:8080/"
        },
        "id": "E6Ma4dqb3knI",
        "outputId": "7d1812bb-d523-488d-b73c-09330141be5e"
      },
      "source": [
        "print(x_transform)"
      ],
      "execution_count": null,
      "outputs": [
        {
          "output_type": "stream",
          "text": [
            "  (0, 138)\t0.3470279311134154\n",
            "  (0, 603)\t0.3219470466819936\n",
            "  (0, 628)\t0.3470279311134154\n",
            "  (0, 98)\t0.3219470466819936\n",
            "  (0, 505)\t0.3470279311134154\n",
            "  (0, 3)\t0.0627872711772387\n",
            "  (0, 268)\t0.3219470466819936\n",
            "  (0, 222)\t0.2111140519853789\n",
            "  (0, 51)\t0.3470279311134154\n",
            "  (0, 435)\t0.3470279311134154\n",
            "  (0, 586)\t0.19595149442239548\n",
            "  (1, 217)\t0.5115187635124527\n",
            "  (1, 358)\t0.5115187635124527\n",
            "  (1, 497)\t0.6794019349021081\n",
            "  (1, 3)\t0.12292322807612265\n",
            "  (2, 597)\t0.35147817436676887\n",
            "  (2, 578)\t0.3224946823431459\n",
            "  (2, 522)\t0.3355274076785709\n",
            "  (2, 301)\t0.4010257812439472\n",
            "  (2, 271)\t0.30193056748959046\n",
            "  (2, 328)\t0.1723779520354817\n",
            "  (2, 503)\t0.4010257812439472\n",
            "  (2, 544)\t0.4010257812439472\n",
            "  (2, 3)\t0.07255702558362266\n",
            "  (2, 586)\t0.22644171863785265\n",
            "  :\t:\n",
            "  (196, 676)\t0.3728721600893903\n",
            "  (196, 366)\t0.3728721600893903\n",
            "  (196, 14)\t0.20108326583167496\n",
            "  (196, 432)\t0.28661770222470584\n",
            "  (196, 3)\t0.0727188699857849\n",
            "  (197, 335)\t0.5551710065987879\n",
            "  (197, 662)\t0.515046916841789\n",
            "  (197, 52)\t0.2808006686196326\n",
            "  (197, 46)\t0.35577986780240356\n",
            "  (197, 546)\t0.2905421192112104\n",
            "  (197, 440)\t0.35577986780240356\n",
            "  (197, 3)\t0.10044630248988956\n",
            "  (198, 290)\t0.5353649274297951\n",
            "  (198, 577)\t0.5353649274297951\n",
            "  (198, 247)\t0.4305267897579565\n",
            "  (198, 546)\t0.28017684410385446\n",
            "  (198, 56)\t0.39183415245230135\n",
            "  (198, 3)\t0.09686281668875678\n",
            "  (199, 574)\t0.43356870398962893\n",
            "  (199, 136)\t0.4807532543544662\n",
            "  (199, 109)\t0.4807532543544662\n",
            "  (199, 52)\t0.2621039576191971\n",
            "  (199, 352)\t0.4024890352013301\n",
            "  (199, 641)\t0.33209077403786824\n",
            "  (199, 3)\t0.09375822906774356\n"
          ],
          "name": "stdout"
        }
      ]
    },
    {
      "cell_type": "code",
      "metadata": {
        "colab": {
          "base_uri": "https://localhost:8080/"
        },
        "id": "XnVT9aniFFMJ",
        "outputId": "eba5c428-27ae-4002-e97e-0f3ac772ba8b"
      },
      "source": [
        "#Melihat data sebelum Oversample\n",
        "print(Counter(y))\n",
        "# melakukan teknik oversampling menggunakan SMOTE\n",
        "oversample = SMOTE()\n",
        "# fit and apply the transform\n",
        "x_over, y_over = oversample.fit_resample(x_transform, y_transform)\n",
        "# Melihat data setelah oversample\n",
        "print(Counter(y_over))"
      ],
      "execution_count": null,
      "outputs": [
        {
          "output_type": "stream",
          "text": [
            "Counter({'positif': 125, 'negatif': 75})\n",
            "Counter({0: 125, 1: 125})\n"
          ],
          "name": "stdout"
        },
        {
          "output_type": "stream",
          "text": [
            "/usr/local/lib/python3.7/dist-packages/sklearn/utils/deprecation.py:87: FutureWarning: Function safe_indexing is deprecated; safe_indexing is deprecated in version 0.22 and will be removed in version 0.24.\n",
            "  warnings.warn(msg, category=FutureWarning)\n"
          ],
          "name": "stderr"
        }
      ]
    },
    {
      "cell_type": "code",
      "metadata": {
        "colab": {
          "base_uri": "https://localhost:8080/",
          "height": 498
        },
        "id": "QffcHghCFfGG",
        "outputId": "18052582-8c56-47f4-cc88-90a619055759"
      },
      "source": [
        "#Visualisasi Sebelum Oversample\n",
        "font = {'family' : 'normal',\n",
        "        'weight' : 'bold',\n",
        "        'size'   : 8}\n",
        "\n",
        "plt.rc('font', **font)\n",
        "w = collections.Counter(y)\n",
        "plt.figure(figsize=(5,8))\n",
        "plt.bar(w.keys(), w.values())\n",
        "plt.savefig(\"/content/drive/MyDrive/sebelum.png\")\n",
        "plt.show()"
      ],
      "execution_count": null,
      "outputs": [
        {
          "output_type": "stream",
          "text": [
            "findfont: Font family ['normal'] not found. Falling back to DejaVu Sans.\n"
          ],
          "name": "stderr"
        },
        {
          "output_type": "display_data",
          "data": {
            "image/png": "[encoded data removed]",
            "text/plain": [
              "<Figure size 360x576 with 1 Axes>"
            ]
          },
          "metadata": {
            "tags": [],
            "needs_background": "light"
          }
        }
      ]
    },
    {
      "cell_type": "code",
      "metadata": {
        "colab": {
          "base_uri": "https://localhost:8080/",
          "height": 482
        },
        "id": "vpOz1Pp3FvXz",
        "outputId": "8052b45d-84dd-4353-c6da-21a6a5515523"
      },
      "source": [
        "#Visualisasi Setelah Oversample\n",
        "font = {'family' : 'normal',\n",
        "        'weight' : 'bold',\n",
        "        'size'   : 8}\n",
        "\n",
        "plt.rc('font', **font)\n",
        "w = collections.Counter(y_over)\n",
        "plt.figure(figsize=(5,8))\n",
        "plt.bar(w.keys(), w.values())\n",
        "plt.xticks([1, 0], ['Negatif', 'Positif'])\n",
        "plt.savefig(\"/content/drive/MyDrive/sesudah.png\")\n",
        "plt.show()"
      ],
      "execution_count": null,
      "outputs": [
        {
          "output_type": "display_data",
          "data": {
            "image/png": "[encoded data removed]",
            "text/plain": [
              "<Figure size 360x576 with 1 Axes>"
            ]
          },
          "metadata": {
            "tags": [],
            "needs_background": "light"
          }
        }
      ]
    },
    {
      "cell_type": "code",
      "metadata": {
        "id": "ZQbXbAaCVYVC"
      },
      "source": [
        "# Dengan Smote\n",
        "xtrain,xtest,ytrain,ytest = train_test_split(x_over,y_over, test_size = 0.3)"
      ],
      "execution_count": null,
      "outputs": []
    },
    {
      "cell_type": "code",
      "metadata": {
        "id": "0fJJep7_XClf"
      },
      "source": [
        "# Tanpa Smote\n",
        "xtrain,xtest,ytrain,ytest = train_test_split(x_transform, y_transform, test_size = 0.3)"
      ],
      "execution_count": null,
      "outputs": []
    },
    {
      "cell_type": "code",
      "metadata": {
        "colab": {
          "base_uri": "https://localhost:8080/"
        },
        "id": "YmlibUweGFKA",
        "outputId": "6b21be34-da25-40ca-e596-26f2fbf295a0"
      },
      "source": [
        "#Lihat Shape Data yang sudah dibagi\n",
        "xtrain.shape,xtest.shape,ytrain.shape,ytest.shape"
      ],
      "execution_count": null,
      "outputs": [
        {
          "output_type": "execute_result",
          "data": {
            "text/plain": [
              "((140, 685), (60, 685), (140,), (60,))"
            ]
          },
          "metadata": {
            "tags": []
          },
          "execution_count": 26
        }
      ]
    },
    {
      "cell_type": "code",
      "metadata": {
        "id": "IFPHzxIZGIh-"
      },
      "source": [
        "#Merancang Step Algoritma\n",
        "from sklearn.svm import SVC\n",
        "pipeline = Pipeline([\n",
        "                     ('tfidf', TfidfTransformer()),\n",
        "                     ('classifier', SVC(kernel='sigmoid')),\n",
        "                     ])"
      ],
      "execution_count": null,
      "outputs": []
    },
    {
      "cell_type": "code",
      "metadata": {
        "id": "b8vYHrv6MTRH"
      },
      "source": [
        "pipeline2 = Pipeline([\n",
        "                     ('tfidf', TfidfTransformer()),\n",
        "                     ('classifier', SVC(kernel='linear')),\n",
        "                     ])"
      ],
      "execution_count": null,
      "outputs": []
    },
    {
      "cell_type": "code",
      "metadata": {
        "id": "SierLbwMMcHQ"
      },
      "source": [
        "pipeline3 = Pipeline([\n",
        "                     ('tfidf', TfidfTransformer()),\n",
        "                     ('classifier', SVC(kernel='rbf')),\n",
        "                     ])"
      ],
      "execution_count": null,
      "outputs": []
    },
    {
      "cell_type": "code",
      "metadata": {
        "id": "9NDkJbQpMfai"
      },
      "source": [
        "pipeline4 = Pipeline([\n",
        "                     ('tfidf', TfidfTransformer()),\n",
        "                     ('classifier', SVC(kernel='poly')),\n",
        "                     ])"
      ],
      "execution_count": null,
      "outputs": []
    },
    {
      "cell_type": "code",
      "metadata": {
        "id": "_8cP4RoEH1cv"
      },
      "source": [
        "pipeline5 = Pipeline([\n",
        "                     ('tfidf', TfidfTransformer()),\n",
        "                     ('classifier', SVC()),\n",
        "                     ])"
      ],
      "execution_count": null,
      "outputs": []
    },
    {
      "cell_type": "code",
      "metadata": {
        "colab": {
          "base_uri": "https://localhost:8080/"
        },
        "id": "W5BUydBlGcjQ",
        "outputId": "7566c960-e250-49da-abe1-6449e5516fa7"
      },
      "source": [
        "#Train Model\n",
        "pipeline.fit(xtrain,ytrain)"
      ],
      "execution_count": null,
      "outputs": [
        {
          "output_type": "execute_result",
          "data": {
            "text/plain": [
              "Pipeline(memory=None,\n",
              "         steps=[('tfidf',\n",
              "                 TfidfTransformer(norm='l2', smooth_idf=True,\n",
              "                                  sublinear_tf=False, use_idf=True)),\n",
              "                ('classifier',\n",
              "                 SVC(C=1.0, break_ties=False, cache_size=200, class_weight=None,\n",
              "                     coef0=0.0, decision_function_shape='ovr', degree=3,\n",
              "                     gamma='scale', kernel='sigmoid', max_iter=-1,\n",
              "                     probability=False, random_state=None, shrinking=True,\n",
              "                     tol=0.001, verbose=False))],\n",
              "         verbose=False)"
            ]
          },
          "metadata": {
            "tags": []
          },
          "execution_count": 32
        }
      ]
    },
    {
      "cell_type": "code",
      "metadata": {
        "colab": {
          "base_uri": "https://localhost:8080/"
        },
        "id": "zuBMkcW8VsyJ",
        "outputId": "c87e7011-243b-4775-eb01-57e423bdc7c5"
      },
      "source": [
        "pipeline2.fit(xtrain,ytrain)"
      ],
      "execution_count": null,
      "outputs": [
        {
          "output_type": "execute_result",
          "data": {
            "text/plain": [
              "Pipeline(memory=None,\n",
              "         steps=[('tfidf',\n",
              "                 TfidfTransformer(norm='l2', smooth_idf=True,\n",
              "                                  sublinear_tf=False, use_idf=True)),\n",
              "                ('classifier',\n",
              "                 SVC(C=1.0, break_ties=False, cache_size=200, class_weight=None,\n",
              "                     coef0=0.0, decision_function_shape='ovr', degree=3,\n",
              "                     gamma='scale', kernel='linear', max_iter=-1,\n",
              "                     probability=False, random_state=None, shrinking=True,\n",
              "                     tol=0.001, verbose=False))],\n",
              "         verbose=False)"
            ]
          },
          "metadata": {
            "tags": []
          },
          "execution_count": 33
        }
      ]
    },
    {
      "cell_type": "code",
      "metadata": {
        "colab": {
          "base_uri": "https://localhost:8080/"
        },
        "id": "hsaQX47UVqNv",
        "outputId": "a3e3cb12-8b62-4f04-ac4a-f823bc415547"
      },
      "source": [
        "pipeline3.fit(xtrain,ytrain)"
      ],
      "execution_count": null,
      "outputs": [
        {
          "output_type": "execute_result",
          "data": {
            "text/plain": [
              "Pipeline(memory=None,\n",
              "         steps=[('tfidf',\n",
              "                 TfidfTransformer(norm='l2', smooth_idf=True,\n",
              "                                  sublinear_tf=False, use_idf=True)),\n",
              "                ('classifier',\n",
              "                 SVC(C=1.0, break_ties=False, cache_size=200, class_weight=None,\n",
              "                     coef0=0.0, decision_function_shape='ovr', degree=3,\n",
              "                     gamma='scale', kernel='rbf', max_iter=-1,\n",
              "                     probability=False, random_state=None, shrinking=True,\n",
              "                     tol=0.001, verbose=False))],\n",
              "         verbose=False)"
            ]
          },
          "metadata": {
            "tags": []
          },
          "execution_count": 34
        }
      ]
    },
    {
      "cell_type": "code",
      "metadata": {
        "colab": {
          "base_uri": "https://localhost:8080/"
        },
        "id": "rRKIqTWBNN0q",
        "outputId": "f97d1324-93ab-40c7-c5d4-f37f5eb259e5"
      },
      "source": [
        "pipeline4.fit(xtrain,ytrain)"
      ],
      "execution_count": null,
      "outputs": [
        {
          "output_type": "execute_result",
          "data": {
            "text/plain": [
              "Pipeline(memory=None,\n",
              "         steps=[('tfidf',\n",
              "                 TfidfTransformer(norm='l2', smooth_idf=True,\n",
              "                                  sublinear_tf=False, use_idf=True)),\n",
              "                ('classifier',\n",
              "                 SVC(C=1.0, break_ties=False, cache_size=200, class_weight=None,\n",
              "                     coef0=0.0, decision_function_shape='ovr', degree=3,\n",
              "                     gamma='scale', kernel='poly', max_iter=-1,\n",
              "                     probability=False, random_state=None, shrinking=True,\n",
              "                     tol=0.001, verbose=False))],\n",
              "         verbose=False)"
            ]
          },
          "metadata": {
            "tags": []
          },
          "execution_count": 35
        }
      ]
    },
    {
      "cell_type": "code",
      "metadata": {
        "colab": {
          "base_uri": "https://localhost:8080/"
        },
        "id": "OVLuX-D-H9LZ",
        "outputId": "06ad68f1-0017-43f3-a59d-2a7b4c9e0419"
      },
      "source": [
        "pipeline5.fit(xtrain,ytrain)"
      ],
      "execution_count": null,
      "outputs": [
        {
          "output_type": "execute_result",
          "data": {
            "text/plain": [
              "Pipeline(memory=None,\n",
              "         steps=[('tfidf',\n",
              "                 TfidfTransformer(norm='l2', smooth_idf=True,\n",
              "                                  sublinear_tf=False, use_idf=True)),\n",
              "                ('classifier',\n",
              "                 SVC(C=1.0, break_ties=False, cache_size=200, class_weight=None,\n",
              "                     coef0=0.0, decision_function_shape='ovr', degree=3,\n",
              "                     gamma='scale', kernel='rbf', max_iter=-1,\n",
              "                     probability=False, random_state=None, shrinking=True,\n",
              "                     tol=0.001, verbose=False))],\n",
              "         verbose=False)"
            ]
          },
          "metadata": {
            "tags": []
          },
          "execution_count": 36
        }
      ]
    },
    {
      "cell_type": "code",
      "metadata": {
        "id": "89tF3tgKGlKz"
      },
      "source": [
        "#Test Model\n",
        "prediksi = pipeline.predict(xtest)"
      ],
      "execution_count": null,
      "outputs": []
    },
    {
      "cell_type": "code",
      "metadata": {
        "id": "Vw3VC_5qV_Fi"
      },
      "source": [
        "prediksi2 = pipeline2.predict(xtest)"
      ],
      "execution_count": null,
      "outputs": []
    },
    {
      "cell_type": "code",
      "metadata": {
        "id": "aG6cPMeeWCAv"
      },
      "source": [
        "prediksi3 = pipeline3.predict(xtest)"
      ],
      "execution_count": null,
      "outputs": []
    },
    {
      "cell_type": "code",
      "metadata": {
        "id": "0dPKestJOAYf"
      },
      "source": [
        "prediksi4 = pipeline4.predict(xtest)"
      ],
      "execution_count": null,
      "outputs": []
    },
    {
      "cell_type": "code",
      "metadata": {
        "id": "BGNd5WzcH__x"
      },
      "source": [
        "prediksi5 = pipeline5.predict(xtest)"
      ],
      "execution_count": null,
      "outputs": []
    },
    {
      "cell_type": "code",
      "metadata": {
        "colab": {
          "base_uri": "https://localhost:8080/"
        },
        "id": "QzxXVGsWGnmL",
        "outputId": "fe4cdf67-0cbf-44ef-b6e5-c7a2d7f81646"
      },
      "source": [
        "#Cek Akurasi Model\n",
        "from sklearn.metrics import accuracy_score\n",
        "print('Model accuracy score: {0:0.4f}'. format(accuracy_score(ytest, prediksi)))"
      ],
      "execution_count": null,
      "outputs": [
        {
          "output_type": "stream",
          "text": [
            "Model accuracy score: 0.5667\n"
          ],
          "name": "stdout"
        }
      ]
    },
    {
      "cell_type": "code",
      "metadata": {
        "colab": {
          "base_uri": "https://localhost:8080/"
        },
        "id": "UbhGXyBBWGfE",
        "outputId": "212d505a-0cb0-4e50-a4c1-ec393b43bdb2"
      },
      "source": [
        "from sklearn.metrics import accuracy_score\n",
        "print('Model accuracy score: {0:0.4f}'. format(accuracy_score(ytest, prediksi2)))"
      ],
      "execution_count": null,
      "outputs": [
        {
          "output_type": "stream",
          "text": [
            "Model accuracy score: 0.5833\n"
          ],
          "name": "stdout"
        }
      ]
    },
    {
      "cell_type": "code",
      "metadata": {
        "colab": {
          "base_uri": "https://localhost:8080/"
        },
        "id": "Am4HpIaMWJrf",
        "outputId": "62407870-3779-4669-cdfd-f90a86bd3675"
      },
      "source": [
        "from sklearn.metrics import accuracy_score\n",
        "print('Model accuracy score: {0:0.4f}'. format(accuracy_score(ytest, prediksi3)))"
      ],
      "execution_count": null,
      "outputs": [
        {
          "output_type": "stream",
          "text": [
            "Model accuracy score: 0.6000\n"
          ],
          "name": "stdout"
        }
      ]
    },
    {
      "cell_type": "code",
      "metadata": {
        "colab": {
          "base_uri": "https://localhost:8080/"
        },
        "id": "qDoNpqbzOKCJ",
        "outputId": "894bf752-e711-4d54-ab7e-5d5f1a1c6cf5"
      },
      "source": [
        "from sklearn.metrics import accuracy_score\n",
        "print('Model accuracy score: {0:0.4f}'. format(accuracy_score(ytest, prediksi4)))"
      ],
      "execution_count": null,
      "outputs": [
        {
          "output_type": "stream",
          "text": [
            "Model accuracy score: 0.6167\n"
          ],
          "name": "stdout"
        }
      ]
    },
    {
      "cell_type": "code",
      "metadata": {
        "colab": {
          "base_uri": "https://localhost:8080/"
        },
        "id": "qKHWBVXwIKSq",
        "outputId": "44c89569-06d7-4e91-c565-bff531482d66"
      },
      "source": [
        "from sklearn.metrics import accuracy_score\n",
        "print('Model accuracy score: {0:0.4f}'. format(accuracy_score(ytest, prediksi5)))"
      ],
      "execution_count": null,
      "outputs": [
        {
          "output_type": "stream",
          "text": [
            "Model accuracy score: 0.6000\n"
          ],
          "name": "stdout"
        }
      ]
    },
    {
      "cell_type": "code",
      "metadata": {
        "id": "egdGWuLnVOun"
      },
      "source": [
        "#Test Model dengan Training\n",
        "prediksiTrain1 = pipeline.predict(xtrain)"
      ],
      "execution_count": null,
      "outputs": []
    },
    {
      "cell_type": "code",
      "metadata": {
        "id": "aVBubA7RVOuo"
      },
      "source": [
        "prediksiTrain2 = pipeline2.predict(xtrain)"
      ],
      "execution_count": null,
      "outputs": []
    },
    {
      "cell_type": "code",
      "metadata": {
        "id": "yijalvjSVOup"
      },
      "source": [
        "prediksiTrain3 = pipeline3.predict(xtrain)"
      ],
      "execution_count": null,
      "outputs": []
    },
    {
      "cell_type": "code",
      "metadata": {
        "id": "wpOxkbxpVOup"
      },
      "source": [
        "prediksiTrain4 = pipeline4.predict(xtrain)"
      ],
      "execution_count": null,
      "outputs": []
    },
    {
      "cell_type": "code",
      "metadata": {
        "id": "XDSeIQO7VOuq"
      },
      "source": [
        "prediksiTrain5 = pipeline5.predict(xtrain)"
      ],
      "execution_count": null,
      "outputs": []
    },
    {
      "cell_type": "code",
      "metadata": {
        "colab": {
          "base_uri": "https://localhost:8080/"
        },
        "id": "MA5OaR3RVOur",
        "outputId": "bda7c820-6541-479e-c5d5-cec80d0b516c"
      },
      "source": [
        "print('Model accuracy score: {0:0.4f}'. format(accuracy_score(ytrain, prediksiTrain1)))"
      ],
      "execution_count": null,
      "outputs": [
        {
          "output_type": "stream",
          "text": [
            "Model accuracy score: 0.9786\n"
          ],
          "name": "stdout"
        }
      ]
    },
    {
      "cell_type": "code",
      "metadata": {
        "colab": {
          "base_uri": "https://localhost:8080/"
        },
        "id": "hWA3oFXSVOus",
        "outputId": "0f93de8d-0b14-4479-ca10-4a892994c592"
      },
      "source": [
        "print('Model accuracy score: {0:0.4f}'. format(accuracy_score(ytrain, prediksiTrain2)))"
      ],
      "execution_count": null,
      "outputs": [
        {
          "output_type": "stream",
          "text": [
            "Model accuracy score: 1.0000\n"
          ],
          "name": "stdout"
        }
      ]
    },
    {
      "cell_type": "code",
      "metadata": {
        "colab": {
          "base_uri": "https://localhost:8080/"
        },
        "id": "Ca8jw4aAVOus",
        "outputId": "600106b3-f211-4780-84d9-d8c77b3274c4"
      },
      "source": [
        "print('Model accuracy score: {0:0.4f}'. format(accuracy_score(ytrain, prediksiTrain3)))"
      ],
      "execution_count": null,
      "outputs": [
        {
          "output_type": "stream",
          "text": [
            "Model accuracy score: 1.0000\n"
          ],
          "name": "stdout"
        }
      ]
    },
    {
      "cell_type": "code",
      "metadata": {
        "colab": {
          "base_uri": "https://localhost:8080/"
        },
        "id": "1MVnPYvtVOut",
        "outputId": "8bb9a7bf-b771-4294-9894-5c100225b2b9"
      },
      "source": [
        "print('Model accuracy score: {0:0.4f}'. format(accuracy_score(ytrain, prediksiTrain4)))"
      ],
      "execution_count": null,
      "outputs": [
        {
          "output_type": "stream",
          "text": [
            "Model accuracy score: 1.0000\n"
          ],
          "name": "stdout"
        }
      ]
    },
    {
      "cell_type": "code",
      "metadata": {
        "colab": {
          "base_uri": "https://localhost:8080/"
        },
        "id": "5WPUKzyaVOuw",
        "outputId": "bc3d99a6-b2aa-48f4-90d5-4b2adaa72fdf"
      },
      "source": [
        "print('Model accuracy score: {0:0.4f}'. format(accuracy_score(ytrain, prediksiTrain5)))"
      ],
      "execution_count": null,
      "outputs": [
        {
          "output_type": "stream",
          "text": [
            "Model accuracy score: 1.0000\n"
          ],
          "name": "stdout"
        }
      ]
    },
    {
      "cell_type": "markdown",
      "metadata": {
        "id": "a4Cej4DqLU_P"
      },
      "source": [
        "# Evaluate"
      ]
    },
    {
      "cell_type": "code",
      "metadata": {
        "colab": {
          "base_uri": "https://localhost:8080/"
        },
        "id": "ARj7Zz7OLsDZ",
        "outputId": "d1e95556-3a3c-470c-ecf0-19ad22ea5249"
      },
      "source": [
        "#Evaluasi Model Menggunakan Confusion Matrix, recall, precision dan F1-Score\n",
        "from sklearn.metrics import confusion_matrix,classification_report\n",
        "print(confusion_matrix(ytest,prediksi))\n",
        "print(classification_report(ytest,prediksi))"
      ],
      "execution_count": null,
      "outputs": [
        {
          "output_type": "stream",
          "text": [
            "[[33  7]\n",
            " [ 5 30]]\n",
            "              precision    recall  f1-score   support\n",
            "\n",
            "           0       0.87      0.82      0.85        40\n",
            "           1       0.81      0.86      0.83        35\n",
            "\n",
            "    accuracy                           0.84        75\n",
            "   macro avg       0.84      0.84      0.84        75\n",
            "weighted avg       0.84      0.84      0.84        75\n",
            "\n"
          ],
          "name": "stdout"
        }
      ]
    },
    {
      "cell_type": "code",
      "metadata": {
        "colab": {
          "base_uri": "https://localhost:8080/"
        },
        "id": "zaaMfkTpO4xU",
        "outputId": "bd9d5252-93c5-4c24-d49f-7afbf6e85701"
      },
      "source": [
        "print(confusion_matrix(ytest,prediksi2))\n",
        "print(classification_report(ytest,prediksi2))"
      ],
      "execution_count": null,
      "outputs": [
        {
          "output_type": "stream",
          "text": [
            "[[33  7]\n",
            " [ 4 31]]\n",
            "              precision    recall  f1-score   support\n",
            "\n",
            "           0       0.89      0.82      0.86        40\n",
            "           1       0.82      0.89      0.85        35\n",
            "\n",
            "    accuracy                           0.85        75\n",
            "   macro avg       0.85      0.86      0.85        75\n",
            "weighted avg       0.86      0.85      0.85        75\n",
            "\n"
          ],
          "name": "stdout"
        }
      ]
    },
    {
      "cell_type": "code",
      "metadata": {
        "colab": {
          "base_uri": "https://localhost:8080/"
        },
        "id": "sG3J0HZtO_51",
        "outputId": "c12a4c89-00f6-4981-96fa-0611aa90e25f"
      },
      "source": [
        "print(confusion_matrix(ytest,prediksi3))\n",
        "print(classification_report(ytest,prediksi3))"
      ],
      "execution_count": null,
      "outputs": [
        {
          "output_type": "stream",
          "text": [
            "[[28 12]\n",
            " [ 0 35]]\n",
            "              precision    recall  f1-score   support\n",
            "\n",
            "           0       1.00      0.70      0.82        40\n",
            "           1       0.74      1.00      0.85        35\n",
            "\n",
            "    accuracy                           0.84        75\n",
            "   macro avg       0.87      0.85      0.84        75\n",
            "weighted avg       0.88      0.84      0.84        75\n",
            "\n"
          ],
          "name": "stdout"
        }
      ]
    },
    {
      "cell_type": "code",
      "metadata": {
        "colab": {
          "base_uri": "https://localhost:8080/"
        },
        "id": "fEVzcafPPCdW",
        "outputId": "16079691-b353-4723-aa41-360b7b834cac"
      },
      "source": [
        "print(confusion_matrix(ytest,prediksi4))\n",
        "print(classification_report(ytest,prediksi4))"
      ],
      "execution_count": null,
      "outputs": [
        {
          "output_type": "stream",
          "text": [
            "[[27 13]\n",
            " [ 0 35]]\n",
            "              precision    recall  f1-score   support\n",
            "\n",
            "           0       1.00      0.68      0.81        40\n",
            "           1       0.73      1.00      0.84        35\n",
            "\n",
            "    accuracy                           0.83        75\n",
            "   macro avg       0.86      0.84      0.82        75\n",
            "weighted avg       0.87      0.83      0.82        75\n",
            "\n"
          ],
          "name": "stdout"
        }
      ]
    },
    {
      "cell_type": "code",
      "metadata": {
        "colab": {
          "base_uri": "https://localhost:8080/"
        },
        "id": "htFm6c7-JF95",
        "outputId": "65d4d905-7b87-4f1e-f309-ecbeb83c00cc"
      },
      "source": [
        "print(confusion_matrix(ytest,prediksi5))\n",
        "print(classification_report(ytest,prediksi5))"
      ],
      "execution_count": null,
      "outputs": [
        {
          "output_type": "stream",
          "text": [
            "[[28 12]\n",
            " [ 0 35]]\n",
            "              precision    recall  f1-score   support\n",
            "\n",
            "           0       1.00      0.70      0.82        40\n",
            "           1       0.74      1.00      0.85        35\n",
            "\n",
            "    accuracy                           0.84        75\n",
            "   macro avg       0.87      0.85      0.84        75\n",
            "weighted avg       0.88      0.84      0.84        75\n",
            "\n"
          ],
          "name": "stdout"
        }
      ]
    },
    {
      "cell_type": "code",
      "metadata": {
        "id": "NGq33_Z9W1rj",
        "colab": {
          "base_uri": "https://localhost:8080/",
          "height": 613
        },
        "outputId": "71d5f980-d930-4d95-c098-ff5978b6dd9e"
      },
      "source": [
        "import seaborn as sns\n",
        "cm_matrix = pd.DataFrame(data=confusion_matrix(ytest,prediksi), columns=['Actual Negative', 'Actual Positif'], \n",
        "                                 index=['Predict Negative', 'Predict Positive'])\n",
        "sns.set(rc={'figure.figsize':(10,10)})\n",
        "sns.heatmap(cm_matrix, annot=True, fmt='d', cmap='PiYG')"
      ],
      "execution_count": null,
      "outputs": [
        {
          "output_type": "execute_result",
          "data": {
            "text/plain": [
              "<matplotlib.axes._subplots.AxesSubplot at 0x7f7bc89c9810>"
            ]
          },
          "metadata": {
            "tags": []
          },
          "execution_count": 100
        },
        {
          "output_type": "display_data",
          "data": {
            "image/png": "[encoded data removed]",
            "text/plain": [
              "<Figure size 720x720 with 2 Axes>"
            ]
          },
          "metadata": {
            "tags": []
          }
        }
      ]
    },
    {
      "cell_type": "code",
      "metadata": {
        "colab": {
          "base_uri": "https://localhost:8080/",
          "height": 613
        },
        "id": "2mdp6R0S_MDT",
        "outputId": "d74e0427-6fc4-4d10-873f-44a94e7c3f4b"
      },
      "source": [
        "import seaborn as sns\n",
        "cm_matrix = pd.DataFrame(data=confusion_matrix(ytest,prediksi2), columns=['Actual Negative', 'Actual Positif'], \n",
        "                                 index=['Predict Negative', 'Predict Positive'])\n",
        "sns.set(rc={'figure.figsize':(10,10)})\n",
        "sns.heatmap(cm_matrix, annot=True, fmt='d', cmap='PiYG')"
      ],
      "execution_count": null,
      "outputs": [
        {
          "output_type": "execute_result",
          "data": {
            "text/plain": [
              "<matplotlib.axes._subplots.AxesSubplot at 0x7f7bc0900050>"
            ]
          },
          "metadata": {
            "tags": []
          },
          "execution_count": 101
        },
        {
          "output_type": "display_data",
          "data": {
            "image/png": "[encoded data removed]",
            "text/plain": [
              "<Figure size 720x720 with 2 Axes>"
            ]
          },
          "metadata": {
            "tags": []
          }
        }
      ]
    },
    {
      "cell_type": "code",
      "metadata": {
        "id": "ts2w2c-8_S9W",
        "colab": {
          "base_uri": "https://localhost:8080/",
          "height": 617
        },
        "outputId": "9e4eb6a7-34bb-4b8b-e9b6-e86e0ef004ba"
      },
      "source": [
        "import seaborn as sns\n",
        "cm_matrix = pd.DataFrame(data=confusion_matrix(ytest,prediksi3), columns=['Actual Negative', 'Actual Positif'], \n",
        "                                 index=['Predict Negative', 'Predict Positive'])\n",
        "sns.set(rc={'figure.figsize':(10,10)})\n",
        "sns.heatmap(cm_matrix, annot=True, fmt='d', cmap='PiYG')"
      ],
      "execution_count": null,
      "outputs": [
        {
          "output_type": "execute_result",
          "data": {
            "text/plain": [
              "<matplotlib.axes._subplots.AxesSubplot at 0x7f7bc08a3bd0>"
            ]
          },
          "metadata": {
            "tags": []
          },
          "execution_count": 102
        },
        {
          "output_type": "display_data",
          "data": {
            "image/png": "[encoded data removed]",
            "text/plain": [
              "<Figure size 720x720 with 2 Axes>"
            ]
          },
          "metadata": {
            "tags": []
          }
        }
      ]
    },
    {
      "cell_type": "code",
      "metadata": {
        "id": "51xb1FSZ_UrF",
        "colab": {
          "base_uri": "https://localhost:8080/",
          "height": 617
        },
        "outputId": "3c2f5379-4315-4218-dcfd-760c68e5af87"
      },
      "source": [
        "import seaborn as sns\n",
        "cm_matrix = pd.DataFrame(data=confusion_matrix(ytest,prediksi4), columns=['Actual Negative', 'Actual Positif'], \n",
        "                                 index=['Predict Negative', 'Predict Positive'])\n",
        "sns.set(rc={'figure.figsize':(10,10)})\n",
        "sns.heatmap(cm_matrix, annot=True, fmt='d', cmap='PiYG')"
      ],
      "execution_count": null,
      "outputs": [
        {
          "output_type": "execute_result",
          "data": {
            "text/plain": [
              "<matplotlib.axes._subplots.AxesSubplot at 0x7f7bc083d050>"
            ]
          },
          "metadata": {
            "tags": []
          },
          "execution_count": 103
        },
        {
          "output_type": "display_data",
          "data": {
            "image/png": "[encoded data removed]",
            "text/plain": [
              "<Figure size 720x720 with 2 Axes>"
            ]
          },
          "metadata": {
            "tags": []
          }
        }
      ]
    },
    {
      "cell_type": "code",
      "metadata": {
        "colab": {
          "base_uri": "https://localhost:8080/",
          "height": 617
        },
        "id": "jW1YmCO3JKfz",
        "outputId": "c18ec80f-5428-4684-ac39-191951dc5c2d"
      },
      "source": [
        "import seaborn as sns\n",
        "cm_matrix = pd.DataFrame(data=confusion_matrix(ytest,prediksi5), columns=['Actual Negative', 'Actual Positif'], \n",
        "                                 index=['Predict Negative', 'Predict Positive'])\n",
        "sns.set(rc={'figure.figsize':(10,10)})\n",
        "sns.heatmap(cm_matrix, annot=True, fmt='d', cmap='PiYG')"
      ],
      "execution_count": null,
      "outputs": [
        {
          "output_type": "execute_result",
          "data": {
            "text/plain": [
              "<matplotlib.axes._subplots.AxesSubplot at 0x7f7bc0756a50>"
            ]
          },
          "metadata": {
            "tags": []
          },
          "execution_count": 104
        },
        {
          "output_type": "display_data",
          "data": {
            "image/png": "[encoded data removed]",
            "text/plain": [
              "<Figure size 720x720 with 2 Axes>"
            ]
          },
          "metadata": {
            "tags": []
          }
        }
      ]
    },
    {
      "cell_type": "markdown",
      "metadata": {
        "id": "kz12MK_a4QQx"
      },
      "source": [
        "##Clear text"
      ]
    },
    {
      "cell_type": "code",
      "metadata": {
        "id": "Ey-tegreiO3h"
      },
      "source": [
        "hasilSearch = api.search(q=\"@JNE_ID\", lang=\"id\", count=101)"
      ],
      "execution_count": null,
      "outputs": []
    },
    {
      "cell_type": "code",
      "metadata": {
        "id": "lT3s6lfifnFF"
      },
      "source": [
        "hasilSearch"
      ],
      "execution_count": null,
      "outputs": []
    },
    {
      "cell_type": "code",
      "metadata": {
        "id": "DoDXFuK6BLjO"
      },
      "source": [
        "hasilAnalisis =[]\n",
        "\n",
        "for tweet in hasilSearch :\n",
        "    tweet_properties = {}\n",
        "    tweet_properties[\"tanggal_tweet\"] = tweet.created_at \n",
        "    tweet_properties[\"penguna\"] = tweet.user.screen_name\n",
        "    tweet_properties[\"isi_tweet\"] = tweet.text\n",
        "    tweet_bersih = ' '.join(re.sub(\"(@[A-Za-z0-9]+)|([^0-9A-Za-z \\t])|(\\w+:\\/\\/\\S+)\",\" \", tweet.text).split())\n",
        "    \n",
        "    analysis = TextBlob(tweet_bersih)\n",
        "    try:\n",
        "        analysis = analysis.translate(to='en')\n",
        "    except Exception as e:\n",
        "      print (e)\n",
        "\n",
        "    if analysis.sentiment.polarity > 0.0:\n",
        "        tweet_properties[\"sentimen\"] = \"positif\"\n",
        "    elif analysis.sentiment.polarity == 0.0:\n",
        "        tweet_properties[\"sentimen\"] = \"netral\"\n",
        "    else: \n",
        "        tweet_properties[\"sentimen\"] = \"negatif\"\n",
        "\n",
        "    if tweet.retweet_count > 0:\n",
        "        if tweet_properties not in hasilAnalisis: \n",
        "            hasilAnalisis.append(tweet_properties)\n",
        "    else: \n",
        "            hasilAnalisis.append(tweet_properties)"
      ],
      "execution_count": null,
      "outputs": []
    },
    {
      "cell_type": "code",
      "metadata": {
        "id": "nehK_A9uXQga"
      },
      "source": [
        ""
      ],
      "execution_count": null,
      "outputs": []
    },
    {
      "cell_type": "code",
      "metadata": {
        "id": "gU0Wb5NzfMS5"
      },
      "source": [
        "hasilAnalisis"
      ],
      "execution_count": null,
      "outputs": []
    },
    {
      "cell_type": "code",
      "metadata": {
        "id": "_-xEURI9jbcg"
      },
      "source": [
        "tweet_positif = [t for t in hasilAnalisis if t[\"sentimen\"]==\"positif\"]\n",
        "tweet_netral = [t for t in hasilAnalisis if t[\"sentimen\"]==\"netral\"]\n",
        "tweet_negatif = [t for t in hasilAnalisis if t[\"sentimen\"]==\"negatif\"]\n",
        "print(tweet_netral)"
      ],
      "execution_count": null,
      "outputs": []
    },
    {
      "cell_type": "code",
      "metadata": {
        "id": "7ZQDIlRlk_PE"
      },
      "source": [
        "print(\"Hasil Sentimen\")\n",
        "print(\"positif: \", len(tweet_positif),\"({}%)\".format(100*len(tweet_positif)/len(hasilAnalisis)))\n",
        "print(\"negatif: \", len(tweet_negatif),\"({}%)\".format(100*len(tweet_negatif)/len(hasilAnalisis)))\n",
        "print(\"netral: \", len(tweet_netral),\"({}%)\".format(100*len(tweet_netral)/len(hasilAnalisis)))"
      ],
      "execution_count": null,
      "outputs": []
    },
    {
      "cell_type": "code",
      "metadata": {
        "id": "wJq3PC4Gr_UL"
      },
      "source": [
        "tweet_negatif"
      ],
      "execution_count": null,
      "outputs": []
    },
    {
      "cell_type": "code",
      "metadata": {
        "id": "BVijfaIlozpS"
      },
      "source": [
        "import tweepy\n",
        "import csv #Import csv\n",
        "auth = tweepy.auth.OAuthHandler(api_key, api_secret_key)\n",
        "auth.set_access_token(access_token, access_token_secret)\n",
        "\n",
        "api = tweepy.API(auth)\n",
        "\n",
        "# Open/create a file to append data to\n",
        "csvFile = open('result.csv', 'a')\n",
        "\n",
        "#Use csv writer\n",
        "csvWriter = csv.writer(csvFile)\n",
        "\n",
        "for tweet in tweepy.Cursor(api.search,\n",
        "                           q = \"google\",\n",
        "                           since = \"2014-02-14\",\n",
        "                           until = \"2014-02-15\",\n",
        "                           lang = \"en\").items():\n",
        "\n",
        "    # Write a row to the CSV file. I use encode UTF-8\n",
        "    csvWriter.writerow([tweet.created_at, tweet.text.encode('utf-8')])\n",
        "    print (tweet.created_at, tweet.text)\n",
        "csvFile.close()"
      ],
      "execution_count": null,
      "outputs": []
    }
  ]
}