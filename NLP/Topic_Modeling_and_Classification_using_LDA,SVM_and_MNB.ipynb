{
  "nbformat": 4,
  "nbformat_minor": 0,
  "metadata": {
    "colab": {
      "name": "Topic Modeling and Classification using LDA,SVM and MNB",
      "provenance": [],
      "collapsed_sections": [
        "0IjTQwdy1FEI",
        "ip55wA7fAwGR",
        "XRoOMp86D-B4",
        "XHQX9mCfT-tp"
      ]
    },
    "kernelspec": {
      "name": "python3",
      "display_name": "Python 3"
    },
    "language_info": {
      "name": "python"
    }
  },
  "cells": [
    {
      "cell_type": "markdown",
      "metadata": {
        "id": "0IjTQwdy1FEI"
      },
      "source": [
        "# **Text Pre-Processing**"
      ]
    },
    {
      "cell_type": "code",
      "metadata": {
        "colab": {
          "base_uri": "https://localhost:8080/"
        },
        "id": "BijSTFt8AK4r",
        "outputId": "83b50de8-4b41-488d-df26-055d27f34303"
      },
      "source": [
        "pip install Sastrawi"
      ],
      "execution_count": null,
      "outputs": [
        {
          "output_type": "stream",
          "text": [
            "Requirement already satisfied: Sastrawi in /usr/local/lib/python3.7/dist-packages (1.0.1)\n"
          ],
          "name": "stdout"
        }
      ]
    },
    {
      "cell_type": "code",
      "metadata": {
        "colab": {
          "base_uri": "https://localhost:8080/"
        },
        "id": "XPbgaODRMwsM",
        "outputId": "76064d2b-69ab-4b90-f65c-a344fc964ee2"
      },
      "source": [
        "pip install --upgrade openpyxl"
      ],
      "execution_count": null,
      "outputs": [
        {
          "output_type": "stream",
          "text": [
            "Requirement already satisfied: openpyxl in /usr/local/lib/python3.7/dist-packages (3.0.7)\n",
            "Requirement already satisfied: et-xmlfile in /usr/local/lib/python3.7/dist-packages (from openpyxl) (1.1.0)\n"
          ],
          "name": "stdout"
        }
      ]
    },
    {
      "cell_type": "code",
      "metadata": {
        "colab": {
          "base_uri": "https://localhost:8080/"
        },
        "id": "X9yDej33NQKB",
        "outputId": "ce86541f-7404-4d94-e2b1-aecc9cdb7af7"
      },
      "source": [
        "pip install --upgrade pandas"
      ],
      "execution_count": null,
      "outputs": [
        {
          "output_type": "stream",
          "text": [
            "Requirement already satisfied: pandas in /usr/local/lib/python3.7/dist-packages (1.3.1)\n",
            "Requirement already satisfied: pytz>=2017.3 in /usr/local/lib/python3.7/dist-packages (from pandas) (2018.9)\n",
            "Requirement already satisfied: python-dateutil>=2.7.3 in /usr/local/lib/python3.7/dist-packages (from pandas) (2.8.1)\n",
            "Requirement already satisfied: numpy>=1.17.3 in /usr/local/lib/python3.7/dist-packages (from pandas) (1.21.1)\n",
            "Requirement already satisfied: six>=1.5 in /usr/local/lib/python3.7/dist-packages (from python-dateutil>=2.7.3->pandas) (1.15.0)\n"
          ],
          "name": "stdout"
        }
      ]
    },
    {
      "cell_type": "code",
      "metadata": {
        "colab": {
          "base_uri": "https://localhost:8080/"
        },
        "id": "wrhCxPMGZD0A",
        "outputId": "e8d32b43-41fb-426a-b80a-4173adc77fad"
      },
      "source": [
        "from google.colab import drive\n",
        "drive.mount('/content/drive')"
      ],
      "execution_count": null,
      "outputs": [
        {
          "output_type": "stream",
          "text": [
            "Drive already mounted at /content/drive; to attempt to forcibly remount, call drive.mount(\"/content/drive\", force_remount=True).\n"
          ],
          "name": "stdout"
        }
      ]
    },
    {
      "cell_type": "code",
      "metadata": {
        "colab": {
          "base_uri": "https://localhost:8080/"
        },
        "id": "hanxRfLvM1Bx",
        "outputId": "c8361f11-cd31-4daa-810c-579a97afad56"
      },
      "source": [
        "pip install pyLDAvis"
      ],
      "execution_count": null,
      "outputs": [
        {
          "output_type": "stream",
          "text": [
            "Requirement already satisfied: pyLDAvis in /usr/local/lib/python3.7/dist-packages (3.3.1)\n",
            "Requirement already satisfied: scipy in /usr/local/lib/python3.7/dist-packages (from pyLDAvis) (1.4.1)\n",
            "Requirement already satisfied: joblib in /usr/local/lib/python3.7/dist-packages (from pyLDAvis) (1.0.1)\n",
            "Requirement already satisfied: numpy>=1.20.0 in /usr/local/lib/python3.7/dist-packages (from pyLDAvis) (1.21.1)\n",
            "Requirement already satisfied: jinja2 in /usr/local/lib/python3.7/dist-packages (from pyLDAvis) (2.11.3)\n",
            "Requirement already satisfied: future in /usr/local/lib/python3.7/dist-packages (from pyLDAvis) (0.16.0)\n",
            "Requirement already satisfied: gensim in /usr/local/lib/python3.7/dist-packages (from pyLDAvis) (3.6.0)\n",
            "Requirement already satisfied: numexpr in /usr/local/lib/python3.7/dist-packages (from pyLDAvis) (2.7.3)\n",
            "Requirement already satisfied: sklearn in /usr/local/lib/python3.7/dist-packages (from pyLDAvis) (0.0)\n",
            "Requirement already satisfied: scikit-learn in /usr/local/lib/python3.7/dist-packages (from pyLDAvis) (0.22.2.post1)\n",
            "Requirement already satisfied: setuptools in /usr/local/lib/python3.7/dist-packages (from pyLDAvis) (57.2.0)\n",
            "Requirement already satisfied: pandas>=1.2.0 in /usr/local/lib/python3.7/dist-packages (from pyLDAvis) (1.3.1)\n",
            "Requirement already satisfied: funcy in /usr/local/lib/python3.7/dist-packages (from pyLDAvis) (1.16)\n",
            "Requirement already satisfied: pytz>=2017.3 in /usr/local/lib/python3.7/dist-packages (from pandas>=1.2.0->pyLDAvis) (2018.9)\n",
            "Requirement already satisfied: python-dateutil>=2.7.3 in /usr/local/lib/python3.7/dist-packages (from pandas>=1.2.0->pyLDAvis) (2.8.1)\n",
            "Requirement already satisfied: six>=1.5 in /usr/local/lib/python3.7/dist-packages (from python-dateutil>=2.7.3->pandas>=1.2.0->pyLDAvis) (1.15.0)\n",
            "Requirement already satisfied: smart-open>=1.2.1 in /usr/local/lib/python3.7/dist-packages (from gensim->pyLDAvis) (5.1.0)\n",
            "Requirement already satisfied: MarkupSafe>=0.23 in /usr/local/lib/python3.7/dist-packages (from jinja2->pyLDAvis) (2.0.1)\n"
          ],
          "name": "stdout"
        }
      ]
    },
    {
      "cell_type": "code",
      "metadata": {
        "colab": {
          "base_uri": "https://localhost:8080/"
        },
        "id": "fvtlf0NT1hNP",
        "outputId": "ca0f62ad-e95a-478b-e23c-86e529a27e2e"
      },
      "source": [
        "pip install nltk"
      ],
      "execution_count": null,
      "outputs": [
        {
          "output_type": "stream",
          "text": [
            "Requirement already satisfied: nltk in /usr/local/lib/python3.7/dist-packages (3.2.5)\n",
            "Requirement already satisfied: six in /usr/local/lib/python3.7/dist-packages (from nltk) (1.15.0)\n"
          ],
          "name": "stdout"
        }
      ]
    },
    {
      "cell_type": "code",
      "metadata": {
        "colab": {
          "base_uri": "https://localhost:8080/"
        },
        "id": "aDIT3smr1jlr",
        "outputId": "e671e715-644b-4e3d-ed72-59beea38818b"
      },
      "source": [
        "#import library yang dibutuhkan\n",
        "import pandas as pd\n",
        "import numpy as np\n",
        "import re\n",
        "import nltk\n",
        "import Sastrawi\n",
        "from nltk.corpus import stopwords\n",
        "import nltk\n",
        "from nltk.tokenize import word_tokenize\n",
        "from Sastrawi.Stemmer.StemmerFactory import StemmerFactory\n",
        "nltk.download('stopwords')\n",
        "nltk.download('punkt')"
      ],
      "execution_count": null,
      "outputs": [
        {
          "output_type": "stream",
          "text": [
            "[nltk_data] Downloading package stopwords to /root/nltk_data...\n",
            "[nltk_data]   Package stopwords is already up-to-date!\n",
            "[nltk_data] Downloading package punkt to /root/nltk_data...\n",
            "[nltk_data]   Package punkt is already up-to-date!\n"
          ],
          "name": "stdout"
        },
        {
          "output_type": "execute_result",
          "data": {
            "text/plain": [
              "True"
            ]
          },
          "metadata": {
            "tags": []
          },
          "execution_count": 7
        }
      ]
    },
    {
      "cell_type": "code",
      "metadata": {
        "colab": {
          "base_uri": "https://localhost:8080/"
        },
        "id": "dClBYVNGNGSV",
        "outputId": "12dc56de-e4ca-473b-fb73-12f247864203"
      },
      "source": [
        "print(pd.__version__)"
      ],
      "execution_count": null,
      "outputs": [
        {
          "output_type": "stream",
          "text": [
            "1.3.1\n"
          ],
          "name": "stdout"
        }
      ]
    },
    {
      "cell_type": "code",
      "metadata": {
        "colab": {
          "base_uri": "https://localhost:8080/",
          "height": 424
        },
        "id": "axNBLhyt1pMX",
        "outputId": "f8493af8-433f-403a-bb39-2f2cd0dc16c6"
      },
      "source": [
        "#Import Dataset\n",
        "data = pd.read_excel('/content/drive/MyDrive/Project/Dataset.xlsx')\n",
        "data"
      ],
      "execution_count": null,
      "outputs": [
        {
          "output_type": "execute_result",
          "data": {
            "text/html": [
              "<div>\n",
              "<style scoped>\n",
              "    .dataframe tbody tr th:only-of-type {\n",
              "        vertical-align: middle;\n",
              "    }\n",
              "\n",
              "    .dataframe tbody tr th {\n",
              "        vertical-align: top;\n",
              "    }\n",
              "\n",
              "    .dataframe thead th {\n",
              "        text-align: right;\n",
              "    }\n",
              "</style>\n",
              "<table border=\"1\" class=\"dataframe\">\n",
              "  <thead>\n",
              "    <tr style=\"text-align: right;\">\n",
              "      <th></th>\n",
              "      <th>Complaint</th>\n",
              "      <th>Sentiment</th>\n",
              "      <th>Problem</th>\n",
              "    </tr>\n",
              "  </thead>\n",
              "  <tbody>\n",
              "    <tr>\n",
              "      <th>0</th>\n",
              "      <td>kedepanya dicek dulu lah ya sebelum ngirim ke ...</td>\n",
              "      <td>Negative</td>\n",
              "      <td>Conduct</td>\n",
              "    </tr>\n",
              "    <tr>\n",
              "      <th>1</th>\n",
              "      <td>oke tapi kumasukin kasus ini ke shitposting ya...</td>\n",
              "      <td>Negative</td>\n",
              "      <td>Conduct</td>\n",
              "    </tr>\n",
              "    <tr>\n",
              "      <th>2</th>\n",
              "      <td>hari ke belum ada penyelesaian nunggu lebaran ...</td>\n",
              "      <td>Negative</td>\n",
              "      <td>Conduct</td>\n",
              "    </tr>\n",
              "    <tr>\n",
              "      <th>3</th>\n",
              "      <td>tim kamu itu yg katanya mau konfirmasi lewat e...</td>\n",
              "      <td>Negative</td>\n",
              "      <td>Conduct</td>\n",
              "    </tr>\n",
              "    <tr>\n",
              "      <th>4</th>\n",
              "      <td>bakal sampe kapan saya nunggu nya</td>\n",
              "      <td>Negative</td>\n",
              "      <td>Conduct</td>\n",
              "    </tr>\n",
              "    <tr>\n",
              "      <th>...</th>\n",
              "      <td>...</td>\n",
              "      <td>...</td>\n",
              "      <td>...</td>\n",
              "    </tr>\n",
              "    <tr>\n",
              "      <th>1472</th>\n",
              "      <td>tolong kalo balas satu masalah, jangan oper ke...</td>\n",
              "      <td>Negative</td>\n",
              "      <td>Sales Methods</td>\n",
              "    </tr>\n",
              "    <tr>\n",
              "      <th>1473</th>\n",
              "      <td>tolong kalau orang sudah bayar jgn di teror te...</td>\n",
              "      <td>Negative</td>\n",
              "      <td>Sales Methods</td>\n",
              "    </tr>\n",
              "    <tr>\n",
              "      <th>1474</th>\n",
              "      <td>sudah saya baca,tapi alasan pembatalannya apa?...</td>\n",
              "      <td>Negative</td>\n",
              "      <td>Sales Methods</td>\n",
              "    </tr>\n",
              "    <tr>\n",
              "      <th>1475</th>\n",
              "      <td>setelah update kok tampilan i malah gak nyaman.</td>\n",
              "      <td>Negative</td>\n",
              "      <td>Sales Methods</td>\n",
              "    </tr>\n",
              "    <tr>\n",
              "      <th>1476</th>\n",
              "      <td>saya mau complain lewat aplikasi kok susah bgt...</td>\n",
              "      <td>Negative</td>\n",
              "      <td>Sales Methods</td>\n",
              "    </tr>\n",
              "  </tbody>\n",
              "</table>\n",
              "<p>1477 rows × 3 columns</p>\n",
              "</div>"
            ],
            "text/plain": [
              "                                              Complaint  ...        Problem\n",
              "0     kedepanya dicek dulu lah ya sebelum ngirim ke ...  ...        Conduct\n",
              "1     oke tapi kumasukin kasus ini ke shitposting ya...  ...        Conduct\n",
              "2     hari ke belum ada penyelesaian nunggu lebaran ...  ...        Conduct\n",
              "3     tim kamu itu yg katanya mau konfirmasi lewat e...  ...        Conduct\n",
              "4                     bakal sampe kapan saya nunggu nya  ...        Conduct\n",
              "...                                                 ...  ...            ...\n",
              "1472  tolong kalo balas satu masalah, jangan oper ke...  ...  Sales Methods\n",
              "1473  tolong kalau orang sudah bayar jgn di teror te...  ...  Sales Methods\n",
              "1474  sudah saya baca,tapi alasan pembatalannya apa?...  ...  Sales Methods\n",
              "1475    setelah update kok tampilan i malah gak nyaman.  ...  Sales Methods\n",
              "1476  saya mau complain lewat aplikasi kok susah bgt...  ...  Sales Methods\n",
              "\n",
              "[1477 rows x 3 columns]"
            ]
          },
          "metadata": {
            "tags": []
          },
          "execution_count": 26
        }
      ]
    },
    {
      "cell_type": "code",
      "metadata": {
        "id": "LbcT2JbR13mn",
        "colab": {
          "base_uri": "https://localhost:8080/"
        },
        "outputId": "ec156496-ce27-4d25-e365-e9a83f1bd2cf"
      },
      "source": [
        "data['Sentiment'].value_counts()"
      ],
      "execution_count": null,
      "outputs": [
        {
          "output_type": "execute_result",
          "data": {
            "text/plain": [
              "Negative    769\n",
              "Neutral     708\n",
              "Name: Sentiment, dtype: int64"
            ]
          },
          "metadata": {
            "tags": []
          },
          "execution_count": 27
        }
      ]
    },
    {
      "cell_type": "code",
      "metadata": {
        "id": "fNmt2bF02FEz",
        "colab": {
          "base_uri": "https://localhost:8080/"
        },
        "outputId": "38ff7011-ef9d-4ab5-e362-ba723b459055"
      },
      "source": [
        "data['Problem'].value_counts()"
      ],
      "execution_count": null,
      "outputs": [
        {
          "output_type": "execute_result",
          "data": {
            "text/plain": [
              "Post Purchase Phase       543\n",
              "Purchase Phase            312\n",
              "Conduct                   178\n",
              "Purchase Phase Problem    161\n",
              "Pre Purchase Phase        141\n",
              "Privacy Problem            61\n",
              "Evidence                   46\n",
              "Sales Methods              29\n",
              "Pre-Purchase Phase          6\n",
              "Name: Problem, dtype: int64"
            ]
          },
          "metadata": {
            "tags": []
          },
          "execution_count": 28
        }
      ]
    },
    {
      "cell_type": "code",
      "metadata": {
        "id": "aiqaxMPF2HhJ"
      },
      "source": [
        "#Fixed Value\n",
        "data = data.replace(to_replace='Pre-Purchase Phase',value='Pre Purchase Phase')\n",
        "data = data.replace(to_replace='Purchase Phase Problem',value='Purchase Phase')"
      ],
      "execution_count": null,
      "outputs": []
    },
    {
      "cell_type": "code",
      "metadata": {
        "id": "qu3BphD62aEe",
        "colab": {
          "base_uri": "https://localhost:8080/"
        },
        "outputId": "cdb44747-e717-4d1a-acc5-634ef9673e36"
      },
      "source": [
        "data['Problem'].value_counts()"
      ],
      "execution_count": null,
      "outputs": [
        {
          "output_type": "execute_result",
          "data": {
            "text/plain": [
              "Post Purchase Phase    543\n",
              "Purchase Phase         473\n",
              "Conduct                178\n",
              "Pre Purchase Phase     147\n",
              "Privacy Problem         61\n",
              "Evidence                46\n",
              "Sales Methods           29\n",
              "Name: Problem, dtype: int64"
            ]
          },
          "metadata": {
            "tags": []
          },
          "execution_count": 30
        }
      ]
    },
    {
      "cell_type": "code",
      "metadata": {
        "id": "NjFjpQKf2lQR",
        "colab": {
          "base_uri": "https://localhost:8080/"
        },
        "outputId": "06d89437-587e-4793-adf0-0c715a127af7"
      },
      "source": [
        "data.info()"
      ],
      "execution_count": null,
      "outputs": [
        {
          "output_type": "stream",
          "text": [
            "<class 'pandas.core.frame.DataFrame'>\n",
            "RangeIndex: 1477 entries, 0 to 1476\n",
            "Data columns (total 3 columns):\n",
            " #   Column     Non-Null Count  Dtype \n",
            "---  ------     --------------  ----- \n",
            " 0   Complaint  1477 non-null   object\n",
            " 1   Sentiment  1477 non-null   object\n",
            " 2   Problem    1477 non-null   object\n",
            "dtypes: object(3)\n",
            "memory usage: 34.7+ KB\n"
          ],
          "name": "stdout"
        }
      ]
    },
    {
      "cell_type": "code",
      "metadata": {
        "id": "p81blEPN2drK"
      },
      "source": [
        "#Return Data Type\n",
        "data = data.convert_dtypes(infer_objects= False)"
      ],
      "execution_count": null,
      "outputs": []
    },
    {
      "cell_type": "code",
      "metadata": {
        "id": "HuZq00ug2nIT"
      },
      "source": [
        "data.info()"
      ],
      "execution_count": null,
      "outputs": []
    },
    {
      "cell_type": "code",
      "metadata": {
        "id": "4ymVfaR02rjg"
      },
      "source": [
        "data['Complaint'] = data['Complaint'].str.lower() # Case Folding"
      ],
      "execution_count": null,
      "outputs": []
    },
    {
      "cell_type": "code",
      "metadata": {
        "id": "6psDfOPp21Ei"
      },
      "source": [
        "#Punctuation Removal\n",
        "def Punctuation(text) :\n",
        "    text = text.str.replace(r'\\-t',' ', regex=True)\n",
        "    text = text.str.replace(r'[, ]+',' ', regex=True)\n",
        "    text = text.str.replace(r'[^a-zA-Z\\s]',' ', regex=True)\n",
        "    text = text.str.replace(r'\\n',' ', regex=True)\n",
        "    text = text.str.replace(r\"((http://)[^ ]*|(https://)[^ ]*|( www\\.)[^ ]*)\",' ', regex=True)\n",
        "    return text"
      ],
      "execution_count": null,
      "outputs": []
    },
    {
      "cell_type": "code",
      "metadata": {
        "id": "QgmUJreO27Yj",
        "colab": {
          "base_uri": "https://localhost:8080/"
        },
        "outputId": "ae4c44f3-f66e-46a8-8e00-918a98d74da8"
      },
      "source": [
        "indostopword = stopwords.words('indonesian')\n",
        "indostopword"
      ],
      "execution_count": null,
      "outputs": [
        {
          "output_type": "execute_result",
          "data": {
            "text/plain": [
              "['ada',\n",
              " 'adalah',\n",
              " 'adanya',\n",
              " 'adapun',\n",
              " 'agak',\n",
              " 'agaknya',\n",
              " 'agar',\n",
              " 'akan',\n",
              " 'akankah',\n",
              " 'akhir',\n",
              " 'akhiri',\n",
              " 'akhirnya',\n",
              " 'aku',\n",
              " 'akulah',\n",
              " 'amat',\n",
              " 'amatlah',\n",
              " 'anda',\n",
              " 'andalah',\n",
              " 'antar',\n",
              " 'antara',\n",
              " 'antaranya',\n",
              " 'apa',\n",
              " 'apaan',\n",
              " 'apabila',\n",
              " 'apakah',\n",
              " 'apalagi',\n",
              " 'apatah',\n",
              " 'artinya',\n",
              " 'asal',\n",
              " 'asalkan',\n",
              " 'atas',\n",
              " 'atau',\n",
              " 'ataukah',\n",
              " 'ataupun',\n",
              " 'awal',\n",
              " 'awalnya',\n",
              " 'bagai',\n",
              " 'bagaikan',\n",
              " 'bagaimana',\n",
              " 'bagaimanakah',\n",
              " 'bagaimanapun',\n",
              " 'bagi',\n",
              " 'bagian',\n",
              " 'bahkan',\n",
              " 'bahwa',\n",
              " 'bahwasanya',\n",
              " 'baik',\n",
              " 'bakal',\n",
              " 'bakalan',\n",
              " 'balik',\n",
              " 'banyak',\n",
              " 'bapak',\n",
              " 'baru',\n",
              " 'bawah',\n",
              " 'beberapa',\n",
              " 'begini',\n",
              " 'beginian',\n",
              " 'beginikah',\n",
              " 'beginilah',\n",
              " 'begitu',\n",
              " 'begitukah',\n",
              " 'begitulah',\n",
              " 'begitupun',\n",
              " 'bekerja',\n",
              " 'belakang',\n",
              " 'belakangan',\n",
              " 'belum',\n",
              " 'belumlah',\n",
              " 'benar',\n",
              " 'benarkah',\n",
              " 'benarlah',\n",
              " 'berada',\n",
              " 'berakhir',\n",
              " 'berakhirlah',\n",
              " 'berakhirnya',\n",
              " 'berapa',\n",
              " 'berapakah',\n",
              " 'berapalah',\n",
              " 'berapapun',\n",
              " 'berarti',\n",
              " 'berawal',\n",
              " 'berbagai',\n",
              " 'berdatangan',\n",
              " 'beri',\n",
              " 'berikan',\n",
              " 'berikut',\n",
              " 'berikutnya',\n",
              " 'berjumlah',\n",
              " 'berkali-kali',\n",
              " 'berkata',\n",
              " 'berkehendak',\n",
              " 'berkeinginan',\n",
              " 'berkenaan',\n",
              " 'berlainan',\n",
              " 'berlalu',\n",
              " 'berlangsung',\n",
              " 'berlebihan',\n",
              " 'bermacam',\n",
              " 'bermacam-macam',\n",
              " 'bermaksud',\n",
              " 'bermula',\n",
              " 'bersama',\n",
              " 'bersama-sama',\n",
              " 'bersiap',\n",
              " 'bersiap-siap',\n",
              " 'bertanya',\n",
              " 'bertanya-tanya',\n",
              " 'berturut',\n",
              " 'berturut-turut',\n",
              " 'bertutur',\n",
              " 'berujar',\n",
              " 'berupa',\n",
              " 'besar',\n",
              " 'betul',\n",
              " 'betulkah',\n",
              " 'biasa',\n",
              " 'biasanya',\n",
              " 'bila',\n",
              " 'bilakah',\n",
              " 'bisa',\n",
              " 'bisakah',\n",
              " 'boleh',\n",
              " 'bolehkah',\n",
              " 'bolehlah',\n",
              " 'buat',\n",
              " 'bukan',\n",
              " 'bukankah',\n",
              " 'bukanlah',\n",
              " 'bukannya',\n",
              " 'bulan',\n",
              " 'bung',\n",
              " 'cara',\n",
              " 'caranya',\n",
              " 'cukup',\n",
              " 'cukupkah',\n",
              " 'cukuplah',\n",
              " 'cuma',\n",
              " 'dahulu',\n",
              " 'dalam',\n",
              " 'dan',\n",
              " 'dapat',\n",
              " 'dari',\n",
              " 'daripada',\n",
              " 'datang',\n",
              " 'dekat',\n",
              " 'demi',\n",
              " 'demikian',\n",
              " 'demikianlah',\n",
              " 'dengan',\n",
              " 'depan',\n",
              " 'di',\n",
              " 'dia',\n",
              " 'diakhiri',\n",
              " 'diakhirinya',\n",
              " 'dialah',\n",
              " 'diantara',\n",
              " 'diantaranya',\n",
              " 'diberi',\n",
              " 'diberikan',\n",
              " 'diberikannya',\n",
              " 'dibuat',\n",
              " 'dibuatnya',\n",
              " 'didapat',\n",
              " 'didatangkan',\n",
              " 'digunakan',\n",
              " 'diibaratkan',\n",
              " 'diibaratkannya',\n",
              " 'diingat',\n",
              " 'diingatkan',\n",
              " 'diinginkan',\n",
              " 'dijawab',\n",
              " 'dijelaskan',\n",
              " 'dijelaskannya',\n",
              " 'dikarenakan',\n",
              " 'dikatakan',\n",
              " 'dikatakannya',\n",
              " 'dikerjakan',\n",
              " 'diketahui',\n",
              " 'diketahuinya',\n",
              " 'dikira',\n",
              " 'dilakukan',\n",
              " 'dilalui',\n",
              " 'dilihat',\n",
              " 'dimaksud',\n",
              " 'dimaksudkan',\n",
              " 'dimaksudkannya',\n",
              " 'dimaksudnya',\n",
              " 'diminta',\n",
              " 'dimintai',\n",
              " 'dimisalkan',\n",
              " 'dimulai',\n",
              " 'dimulailah',\n",
              " 'dimulainya',\n",
              " 'dimungkinkan',\n",
              " 'dini',\n",
              " 'dipastikan',\n",
              " 'diperbuat',\n",
              " 'diperbuatnya',\n",
              " 'dipergunakan',\n",
              " 'diperkirakan',\n",
              " 'diperlihatkan',\n",
              " 'diperlukan',\n",
              " 'diperlukannya',\n",
              " 'dipersoalkan',\n",
              " 'dipertanyakan',\n",
              " 'dipunyai',\n",
              " 'diri',\n",
              " 'dirinya',\n",
              " 'disampaikan',\n",
              " 'disebut',\n",
              " 'disebutkan',\n",
              " 'disebutkannya',\n",
              " 'disini',\n",
              " 'disinilah',\n",
              " 'ditambahkan',\n",
              " 'ditandaskan',\n",
              " 'ditanya',\n",
              " 'ditanyai',\n",
              " 'ditanyakan',\n",
              " 'ditegaskan',\n",
              " 'ditujukan',\n",
              " 'ditunjuk',\n",
              " 'ditunjuki',\n",
              " 'ditunjukkan',\n",
              " 'ditunjukkannya',\n",
              " 'ditunjuknya',\n",
              " 'dituturkan',\n",
              " 'dituturkannya',\n",
              " 'diucapkan',\n",
              " 'diucapkannya',\n",
              " 'diungkapkan',\n",
              " 'dong',\n",
              " 'dua',\n",
              " 'dulu',\n",
              " 'empat',\n",
              " 'enggak',\n",
              " 'enggaknya',\n",
              " 'entah',\n",
              " 'entahlah',\n",
              " 'guna',\n",
              " 'gunakan',\n",
              " 'hal',\n",
              " 'hampir',\n",
              " 'hanya',\n",
              " 'hanyalah',\n",
              " 'hari',\n",
              " 'harus',\n",
              " 'haruslah',\n",
              " 'harusnya',\n",
              " 'hendak',\n",
              " 'hendaklah',\n",
              " 'hendaknya',\n",
              " 'hingga',\n",
              " 'ia',\n",
              " 'ialah',\n",
              " 'ibarat',\n",
              " 'ibaratkan',\n",
              " 'ibaratnya',\n",
              " 'ibu',\n",
              " 'ikut',\n",
              " 'ingat',\n",
              " 'ingat-ingat',\n",
              " 'ingin',\n",
              " 'inginkah',\n",
              " 'inginkan',\n",
              " 'ini',\n",
              " 'inikah',\n",
              " 'inilah',\n",
              " 'itu',\n",
              " 'itukah',\n",
              " 'itulah',\n",
              " 'jadi',\n",
              " 'jadilah',\n",
              " 'jadinya',\n",
              " 'jangan',\n",
              " 'jangankan',\n",
              " 'janganlah',\n",
              " 'jauh',\n",
              " 'jawab',\n",
              " 'jawaban',\n",
              " 'jawabnya',\n",
              " 'jelas',\n",
              " 'jelaskan',\n",
              " 'jelaslah',\n",
              " 'jelasnya',\n",
              " 'jika',\n",
              " 'jikalau',\n",
              " 'juga',\n",
              " 'jumlah',\n",
              " 'jumlahnya',\n",
              " 'justru',\n",
              " 'kala',\n",
              " 'kalau',\n",
              " 'kalaulah',\n",
              " 'kalaupun',\n",
              " 'kalian',\n",
              " 'kami',\n",
              " 'kamilah',\n",
              " 'kamu',\n",
              " 'kamulah',\n",
              " 'kan',\n",
              " 'kapan',\n",
              " 'kapankah',\n",
              " 'kapanpun',\n",
              " 'karena',\n",
              " 'karenanya',\n",
              " 'kasus',\n",
              " 'kata',\n",
              " 'katakan',\n",
              " 'katakanlah',\n",
              " 'katanya',\n",
              " 'ke',\n",
              " 'keadaan',\n",
              " 'kebetulan',\n",
              " 'kecil',\n",
              " 'kedua',\n",
              " 'keduanya',\n",
              " 'keinginan',\n",
              " 'kelamaan',\n",
              " 'kelihatan',\n",
              " 'kelihatannya',\n",
              " 'kelima',\n",
              " 'keluar',\n",
              " 'kembali',\n",
              " 'kemudian',\n",
              " 'kemungkinan',\n",
              " 'kemungkinannya',\n",
              " 'kenapa',\n",
              " 'kepada',\n",
              " 'kepadanya',\n",
              " 'kesampaian',\n",
              " 'keseluruhan',\n",
              " 'keseluruhannya',\n",
              " 'keterlaluan',\n",
              " 'ketika',\n",
              " 'khususnya',\n",
              " 'kini',\n",
              " 'kinilah',\n",
              " 'kira',\n",
              " 'kira-kira',\n",
              " 'kiranya',\n",
              " 'kita',\n",
              " 'kitalah',\n",
              " 'kok',\n",
              " 'kurang',\n",
              " 'lagi',\n",
              " 'lagian',\n",
              " 'lah',\n",
              " 'lain',\n",
              " 'lainnya',\n",
              " 'lalu',\n",
              " 'lama',\n",
              " 'lamanya',\n",
              " 'lanjut',\n",
              " 'lanjutnya',\n",
              " 'lebih',\n",
              " 'lewat',\n",
              " 'lima',\n",
              " 'luar',\n",
              " 'macam',\n",
              " 'maka',\n",
              " 'makanya',\n",
              " 'makin',\n",
              " 'malah',\n",
              " 'malahan',\n",
              " 'mampu',\n",
              " 'mampukah',\n",
              " 'mana',\n",
              " 'manakala',\n",
              " 'manalagi',\n",
              " 'masa',\n",
              " 'masalah',\n",
              " 'masalahnya',\n",
              " 'masih',\n",
              " 'masihkah',\n",
              " 'masing',\n",
              " 'masing-masing',\n",
              " 'mau',\n",
              " 'maupun',\n",
              " 'melainkan',\n",
              " 'melakukan',\n",
              " 'melalui',\n",
              " 'melihat',\n",
              " 'melihatnya',\n",
              " 'memang',\n",
              " 'memastikan',\n",
              " 'memberi',\n",
              " 'memberikan',\n",
              " 'membuat',\n",
              " 'memerlukan',\n",
              " 'memihak',\n",
              " 'meminta',\n",
              " 'memintakan',\n",
              " 'memisalkan',\n",
              " 'memperbuat',\n",
              " 'mempergunakan',\n",
              " 'memperkirakan',\n",
              " 'memperlihatkan',\n",
              " 'mempersiapkan',\n",
              " 'mempersoalkan',\n",
              " 'mempertanyakan',\n",
              " 'mempunyai',\n",
              " 'memulai',\n",
              " 'memungkinkan',\n",
              " 'menaiki',\n",
              " 'menambahkan',\n",
              " 'menandaskan',\n",
              " 'menanti',\n",
              " 'menanti-nanti',\n",
              " 'menantikan',\n",
              " 'menanya',\n",
              " 'menanyai',\n",
              " 'menanyakan',\n",
              " 'mendapat',\n",
              " 'mendapatkan',\n",
              " 'mendatang',\n",
              " 'mendatangi',\n",
              " 'mendatangkan',\n",
              " 'menegaskan',\n",
              " 'mengakhiri',\n",
              " 'mengapa',\n",
              " 'mengatakan',\n",
              " 'mengatakannya',\n",
              " 'mengenai',\n",
              " 'mengerjakan',\n",
              " 'mengetahui',\n",
              " 'menggunakan',\n",
              " 'menghendaki',\n",
              " 'mengibaratkan',\n",
              " 'mengibaratkannya',\n",
              " 'mengingat',\n",
              " 'mengingatkan',\n",
              " 'menginginkan',\n",
              " 'mengira',\n",
              " 'mengucapkan',\n",
              " 'mengucapkannya',\n",
              " 'mengungkapkan',\n",
              " 'menjadi',\n",
              " 'menjawab',\n",
              " 'menjelaskan',\n",
              " 'menuju',\n",
              " 'menunjuk',\n",
              " 'menunjuki',\n",
              " 'menunjukkan',\n",
              " 'menunjuknya',\n",
              " 'menurut',\n",
              " 'menuturkan',\n",
              " 'menyampaikan',\n",
              " 'menyangkut',\n",
              " 'menyatakan',\n",
              " 'menyebutkan',\n",
              " 'menyeluruh',\n",
              " 'menyiapkan',\n",
              " 'merasa',\n",
              " 'mereka',\n",
              " 'merekalah',\n",
              " 'merupakan',\n",
              " 'meski',\n",
              " 'meskipun',\n",
              " 'meyakini',\n",
              " 'meyakinkan',\n",
              " 'minta',\n",
              " 'mirip',\n",
              " 'misal',\n",
              " 'misalkan',\n",
              " 'misalnya',\n",
              " 'mula',\n",
              " 'mulai',\n",
              " 'mulailah',\n",
              " 'mulanya',\n",
              " 'mungkin',\n",
              " 'mungkinkah',\n",
              " 'nah',\n",
              " 'naik',\n",
              " 'namun',\n",
              " 'nanti',\n",
              " 'nantinya',\n",
              " 'nyaris',\n",
              " 'nyatanya',\n",
              " 'oleh',\n",
              " 'olehnya',\n",
              " 'pada',\n",
              " 'padahal',\n",
              " 'padanya',\n",
              " 'pak',\n",
              " 'paling',\n",
              " 'panjang',\n",
              " 'pantas',\n",
              " 'para',\n",
              " 'pasti',\n",
              " 'pastilah',\n",
              " 'penting',\n",
              " 'pentingnya',\n",
              " 'per',\n",
              " 'percuma',\n",
              " 'perlu',\n",
              " 'perlukah',\n",
              " 'perlunya',\n",
              " 'pernah',\n",
              " 'persoalan',\n",
              " 'pertama',\n",
              " 'pertama-tama',\n",
              " 'pertanyaan',\n",
              " 'pertanyakan',\n",
              " 'pihak',\n",
              " 'pihaknya',\n",
              " 'pukul',\n",
              " 'pula',\n",
              " 'pun',\n",
              " 'punya',\n",
              " 'rasa',\n",
              " 'rasanya',\n",
              " 'rata',\n",
              " 'rupanya',\n",
              " 'saat',\n",
              " 'saatnya',\n",
              " 'saja',\n",
              " 'sajalah',\n",
              " 'saling',\n",
              " 'sama',\n",
              " 'sama-sama',\n",
              " 'sambil',\n",
              " 'sampai',\n",
              " 'sampai-sampai',\n",
              " 'sampaikan',\n",
              " 'sana',\n",
              " 'sangat',\n",
              " 'sangatlah',\n",
              " 'satu',\n",
              " 'saya',\n",
              " 'sayalah',\n",
              " 'se',\n",
              " 'sebab',\n",
              " 'sebabnya',\n",
              " 'sebagai',\n",
              " 'sebagaimana',\n",
              " 'sebagainya',\n",
              " 'sebagian',\n",
              " 'sebaik',\n",
              " 'sebaik-baiknya',\n",
              " 'sebaiknya',\n",
              " 'sebaliknya',\n",
              " 'sebanyak',\n",
              " 'sebegini',\n",
              " 'sebegitu',\n",
              " 'sebelum',\n",
              " 'sebelumnya',\n",
              " 'sebenarnya',\n",
              " 'seberapa',\n",
              " 'sebesar',\n",
              " 'sebetulnya',\n",
              " 'sebisanya',\n",
              " 'sebuah',\n",
              " 'sebut',\n",
              " 'sebutlah',\n",
              " 'sebutnya',\n",
              " 'secara',\n",
              " 'secukupnya',\n",
              " 'sedang',\n",
              " 'sedangkan',\n",
              " 'sedemikian',\n",
              " 'sedikit',\n",
              " 'sedikitnya',\n",
              " 'seenaknya',\n",
              " 'segala',\n",
              " 'segalanya',\n",
              " 'segera',\n",
              " 'seharusnya',\n",
              " 'sehingga',\n",
              " 'seingat',\n",
              " 'sejak',\n",
              " 'sejauh',\n",
              " 'sejenak',\n",
              " 'sejumlah',\n",
              " 'sekadar',\n",
              " 'sekadarnya',\n",
              " 'sekali',\n",
              " 'sekali-kali',\n",
              " 'sekalian',\n",
              " 'sekaligus',\n",
              " 'sekalipun',\n",
              " 'sekarang',\n",
              " 'sekarang',\n",
              " 'sekecil',\n",
              " 'seketika',\n",
              " 'sekiranya',\n",
              " 'sekitar',\n",
              " 'sekitarnya',\n",
              " 'sekurang-kurangnya',\n",
              " 'sekurangnya',\n",
              " 'sela',\n",
              " 'selain',\n",
              " 'selaku',\n",
              " 'selalu',\n",
              " 'selama',\n",
              " 'selama-lamanya',\n",
              " 'selamanya',\n",
              " 'selanjutnya',\n",
              " 'seluruh',\n",
              " 'seluruhnya',\n",
              " 'semacam',\n",
              " 'semakin',\n",
              " 'semampu',\n",
              " 'semampunya',\n",
              " 'semasa',\n",
              " 'semasih',\n",
              " 'semata',\n",
              " 'semata-mata',\n",
              " 'semaunya',\n",
              " 'sementara',\n",
              " 'semisal',\n",
              " 'semisalnya',\n",
              " 'sempat',\n",
              " 'semua',\n",
              " 'semuanya',\n",
              " 'semula',\n",
              " 'sendiri',\n",
              " 'sendirian',\n",
              " 'sendirinya',\n",
              " 'seolah',\n",
              " 'seolah-olah',\n",
              " 'seorang',\n",
              " 'sepanjang',\n",
              " 'sepantasnya',\n",
              " 'sepantasnyalah',\n",
              " 'seperlunya',\n",
              " 'seperti',\n",
              " 'sepertinya',\n",
              " 'sepihak',\n",
              " 'sering',\n",
              " 'seringnya',\n",
              " 'serta',\n",
              " 'serupa',\n",
              " 'sesaat',\n",
              " 'sesama',\n",
              " 'sesampai',\n",
              " 'sesegera',\n",
              " 'sesekali',\n",
              " 'seseorang',\n",
              " 'sesuatu',\n",
              " 'sesuatunya',\n",
              " 'sesudah',\n",
              " 'sesudahnya',\n",
              " 'setelah',\n",
              " 'setempat',\n",
              " 'setengah',\n",
              " 'seterusnya',\n",
              " 'setiap',\n",
              " 'setiba',\n",
              " 'setibanya',\n",
              " 'setidak-tidaknya',\n",
              " 'setidaknya',\n",
              " 'setinggi',\n",
              " 'seusai',\n",
              " 'sewaktu',\n",
              " 'siap',\n",
              " 'siapa',\n",
              " 'siapakah',\n",
              " 'siapapun',\n",
              " 'sini',\n",
              " 'sinilah',\n",
              " 'soal',\n",
              " 'soalnya',\n",
              " 'suatu',\n",
              " 'sudah',\n",
              " 'sudahkah',\n",
              " 'sudahlah',\n",
              " 'supaya',\n",
              " 'tadi',\n",
              " 'tadinya',\n",
              " 'tahu',\n",
              " 'tahun',\n",
              " 'tak',\n",
              " 'tambah',\n",
              " 'tambahnya',\n",
              " 'tampak',\n",
              " 'tampaknya',\n",
              " 'tandas',\n",
              " 'tandasnya',\n",
              " 'tanpa',\n",
              " 'tanya',\n",
              " 'tanyakan',\n",
              " 'tanyanya',\n",
              " 'tapi',\n",
              " 'tegas',\n",
              " 'tegasnya',\n",
              " 'telah',\n",
              " 'tempat',\n",
              " 'tengah',\n",
              " 'tentang',\n",
              " 'tentu',\n",
              " 'tentulah',\n",
              " 'tentunya',\n",
              " 'tepat',\n",
              " 'terakhir',\n",
              " 'terasa',\n",
              " 'terbanyak',\n",
              " 'terdahulu',\n",
              " 'terdapat',\n",
              " 'terdiri',\n",
              " 'terhadap',\n",
              " 'terhadapnya',\n",
              " 'teringat',\n",
              " 'teringat-ingat',\n",
              " 'terjadi',\n",
              " 'terjadilah',\n",
              " 'terjadinya',\n",
              " 'terkira',\n",
              " 'terlalu',\n",
              " 'terlebih',\n",
              " 'terlihat',\n",
              " 'termasuk',\n",
              " 'ternyata',\n",
              " 'tersampaikan',\n",
              " 'tersebut',\n",
              " 'tersebutlah',\n",
              " 'tertentu',\n",
              " 'tertuju',\n",
              " 'terus',\n",
              " 'terutama',\n",
              " 'tetap',\n",
              " 'tetapi',\n",
              " 'tiap',\n",
              " 'tiba',\n",
              " 'tiba-tiba',\n",
              " 'tidak',\n",
              " 'tidakkah',\n",
              " 'tidaklah',\n",
              " 'tiga',\n",
              " 'tinggi',\n",
              " 'toh',\n",
              " 'tunjuk',\n",
              " 'turut',\n",
              " 'tutur',\n",
              " 'tuturnya',\n",
              " 'ucap',\n",
              " 'ucapnya',\n",
              " 'ujar',\n",
              " 'ujarnya',\n",
              " 'umum',\n",
              " 'umumnya',\n",
              " 'ungkap',\n",
              " 'ungkapnya',\n",
              " 'untuk',\n",
              " 'usah',\n",
              " 'usai',\n",
              " 'waduh',\n",
              " 'wah',\n",
              " 'wahai',\n",
              " 'waktu',\n",
              " 'waktunya',\n",
              " 'walau',\n",
              " 'walaupun',\n",
              " 'wong',\n",
              " 'yaitu',\n",
              " 'yakin',\n",
              " 'yakni',\n",
              " 'yang']"
            ]
          },
          "metadata": {
            "tags": []
          },
          "execution_count": 36
        }
      ]
    },
    {
      "cell_type": "code",
      "metadata": {
        "id": "-P67SNYz3N8r"
      },
      "source": [
        "#Stopword removal Function\n",
        "def remove_stopwords(text):\n",
        "    return \" \".join([word for word in str(text).split() if word not in indostopword])"
      ],
      "execution_count": null,
      "outputs": []
    },
    {
      "cell_type": "code",
      "metadata": {
        "id": "dP--km1U3-jq"
      },
      "source": [
        "#Initialize Stemmer\n",
        "factory = StemmerFactory()\n",
        "stemmer = factory.create_stemmer()"
      ],
      "execution_count": null,
      "outputs": []
    },
    {
      "cell_type": "code",
      "metadata": {
        "id": "oAUl41r34DXW"
      },
      "source": [
        "#Stemming Function\n",
        "def stem_words(text):\n",
        "    return \" \".join([stemmer.stem(word) for word in text.split()])\n",
        "# def stem_word(text):\n",
        "#     stem_text = [StemmerFactory().create_stemmer().stem(i) for i in text]\n",
        "#     return stem_text"
      ],
      "execution_count": null,
      "outputs": []
    },
    {
      "cell_type": "code",
      "metadata": {
        "id": "97H5zYa24eWh",
        "colab": {
          "base_uri": "https://localhost:8080/",
          "height": 258
        },
        "outputId": "069ebdfa-4111-48da-a66f-5d078e39f0f2"
      },
      "source": [
        "#Implement Text Processing Function\n",
        "data['Complaint'] = Punctuation(data['Complaint'])\n",
        "data['Tokenized'] = data['Complaint'].apply(lambda x: word_tokenize(x))\n",
        "data['stopword'] = data['Tokenized'].apply(lambda x :remove_stopwords(x))\n",
        "data['text_stemmed'] = data['stopword'].apply(lambda text: stem_words(text))\n",
        "data.head()"
      ],
      "execution_count": null,
      "outputs": [
        {
          "output_type": "execute_result",
          "data": {
            "text/html": [
              "<div>\n",
              "<style scoped>\n",
              "    .dataframe tbody tr th:only-of-type {\n",
              "        vertical-align: middle;\n",
              "    }\n",
              "\n",
              "    .dataframe tbody tr th {\n",
              "        vertical-align: top;\n",
              "    }\n",
              "\n",
              "    .dataframe thead th {\n",
              "        text-align: right;\n",
              "    }\n",
              "</style>\n",
              "<table border=\"1\" class=\"dataframe\">\n",
              "  <thead>\n",
              "    <tr style=\"text-align: right;\">\n",
              "      <th></th>\n",
              "      <th>Complaint</th>\n",
              "      <th>Sentiment</th>\n",
              "      <th>Problem</th>\n",
              "      <th>Tokenized</th>\n",
              "      <th>stopword</th>\n",
              "      <th>text_stemmed</th>\n",
              "    </tr>\n",
              "  </thead>\n",
              "  <tbody>\n",
              "    <tr>\n",
              "      <th>0</th>\n",
              "      <td>kedepanya dicek dulu lah ya sebelum ngirim ke ...</td>\n",
              "      <td>Negative</td>\n",
              "      <td>Conduct</td>\n",
              "      <td>[kedepanya, dicek, dulu, lah, ya, sebelum, ngi...</td>\n",
              "      <td>['kedepanya', 'dicek', 'dulu', 'lah', 'ya', 's...</td>\n",
              "      <td>depa cek dulu lah ya belum ngirim ke user ini ...</td>\n",
              "    </tr>\n",
              "    <tr>\n",
              "      <th>1</th>\n",
              "      <td>oke tapi kumasukin kasus ini ke shitposting ya...</td>\n",
              "      <td>Negative</td>\n",
              "      <td>Conduct</td>\n",
              "      <td>[oke, tapi, kumasukin, kasus, ini, ke, shitpos...</td>\n",
              "      <td>['oke', 'tapi', 'kumasukin', 'kasus', 'ini', '...</td>\n",
              "      <td>oke tapi kumasukin kasus ini ke shitposting ya...</td>\n",
              "    </tr>\n",
              "    <tr>\n",
              "      <th>2</th>\n",
              "      <td>hari ke belum ada penyelesaian nunggu lebaran ...</td>\n",
              "      <td>Negative</td>\n",
              "      <td>Conduct</td>\n",
              "      <td>[hari, ke, belum, ada, penyelesaian, nunggu, l...</td>\n",
              "      <td>['hari', 'ke', 'belum', 'ada', 'penyelesaian',...</td>\n",
              "      <td>hari ke belum ada selesai nunggu lebaran ya bang</td>\n",
              "    </tr>\n",
              "    <tr>\n",
              "      <th>3</th>\n",
              "      <td>tim kamu itu yg katanya mau konfirmasi lewat e...</td>\n",
              "      <td>Negative</td>\n",
              "      <td>Conduct</td>\n",
              "      <td>[tim, kamu, itu, yg, katanya, mau, konfirmasi,...</td>\n",
              "      <td>['tim', 'kamu', 'itu', 'yg', 'katanya', 'mau',...</td>\n",
              "      <td>tim kamu itu yg kata mau konfirmasi lewat emai...</td>\n",
              "    </tr>\n",
              "    <tr>\n",
              "      <th>4</th>\n",
              "      <td>bakal sampe kapan saya nunggu nya</td>\n",
              "      <td>Negative</td>\n",
              "      <td>Conduct</td>\n",
              "      <td>[bakal, sampe, kapan, saya, nunggu, nya]</td>\n",
              "      <td>['bakal', 'sampe', 'kapan', 'saya', 'nunggu', ...</td>\n",
              "      <td>bakal sampe kapan saya nunggu nya</td>\n",
              "    </tr>\n",
              "  </tbody>\n",
              "</table>\n",
              "</div>"
            ],
            "text/plain": [
              "                                           Complaint  ...                                       text_stemmed\n",
              "0  kedepanya dicek dulu lah ya sebelum ngirim ke ...  ...  depa cek dulu lah ya belum ngirim ke user ini ...\n",
              "1  oke tapi kumasukin kasus ini ke shitposting ya...  ...  oke tapi kumasukin kasus ini ke shitposting ya...\n",
              "2  hari ke belum ada penyelesaian nunggu lebaran ...  ...   hari ke belum ada selesai nunggu lebaran ya bang\n",
              "3  tim kamu itu yg katanya mau konfirmasi lewat e...  ...  tim kamu itu yg kata mau konfirmasi lewat emai...\n",
              "4                  bakal sampe kapan saya nunggu nya  ...                  bakal sampe kapan saya nunggu nya\n",
              "\n",
              "[5 rows x 6 columns]"
            ]
          },
          "metadata": {
            "tags": []
          },
          "execution_count": 40
        }
      ]
    },
    {
      "cell_type": "code",
      "metadata": {
        "id": "eqCXdaMB4rbw"
      },
      "source": [
        "data.to_excel('/content/drive/MyDrive/Project/Hasil_preprocessing.xlsx')"
      ],
      "execution_count": null,
      "outputs": []
    },
    {
      "cell_type": "markdown",
      "metadata": {
        "id": "ip55wA7fAwGR"
      },
      "source": [
        "# **MNB and SVC Implementation**"
      ]
    },
    {
      "cell_type": "code",
      "metadata": {
        "id": "HnRpBTY1A1ga"
      },
      "source": [
        "import pandas as pd\n",
        "import numpy as np\n",
        "from sklearn.feature_extraction.text import TfidfVectorizer\n",
        "from sklearn.feature_extraction.text import TfidfTransformer\n",
        "from sklearn import model_selection, naive_bayes\n",
        "from sklearn.metrics import accuracy_score\n",
        "from sklearn.model_selection import train_test_split\n",
        "from sklearn.svm import SVC"
      ],
      "execution_count": null,
      "outputs": []
    },
    {
      "cell_type": "code",
      "metadata": {
        "id": "XTzWpsfrA6PE",
        "colab": {
          "base_uri": "https://localhost:8080/"
        },
        "outputId": "fd35b71f-41a1-4f6e-f08d-4a32d10be8cb"
      },
      "source": [
        "used = ['Problem','text_stemmed']\n",
        "data_stemmed = pd.read_excel('/content/drive/MyDrive/Project/Hasil_preprocessing.xlsx',usecols=used)\n",
        "data_stemmed"
      ],
      "execution_count": null,
      "outputs": [
        {
          "output_type": "execute_result",
          "data": {
            "text/html": [
              "<div>\n",
              "<style scoped>\n",
              "    .dataframe tbody tr th:only-of-type {\n",
              "        vertical-align: middle;\n",
              "    }\n",
              "\n",
              "    .dataframe tbody tr th {\n",
              "        vertical-align: top;\n",
              "    }\n",
              "\n",
              "    .dataframe thead th {\n",
              "        text-align: right;\n",
              "    }\n",
              "</style>\n",
              "<table border=\"1\" class=\"dataframe\">\n",
              "  <thead>\n",
              "    <tr style=\"text-align: right;\">\n",
              "      <th></th>\n",
              "      <th>Problem</th>\n",
              "      <th>text_stemmed</th>\n",
              "    </tr>\n",
              "  </thead>\n",
              "  <tbody>\n",
              "    <tr>\n",
              "      <th>0</th>\n",
              "      <td>Conduct</td>\n",
              "      <td>depa cek dulu lah ya belum ngirim ke user ini ...</td>\n",
              "    </tr>\n",
              "    <tr>\n",
              "      <th>1</th>\n",
              "      <td>Conduct</td>\n",
              "      <td>oke tapi kumasukin kasus ini ke shitposting ya...</td>\n",
              "    </tr>\n",
              "    <tr>\n",
              "      <th>2</th>\n",
              "      <td>Conduct</td>\n",
              "      <td>hari ke belum ada selesai nunggu lebaran ya bang</td>\n",
              "    </tr>\n",
              "    <tr>\n",
              "      <th>3</th>\n",
              "      <td>Conduct</td>\n",
              "      <td>tim kamu itu yg kata mau konfirmasi lewat emai...</td>\n",
              "    </tr>\n",
              "    <tr>\n",
              "      <th>4</th>\n",
              "      <td>Conduct</td>\n",
              "      <td>bakal sampe kapan saya nunggu nya</td>\n",
              "    </tr>\n",
              "    <tr>\n",
              "      <th>...</th>\n",
              "      <td>...</td>\n",
              "      <td>...</td>\n",
              "    </tr>\n",
              "    <tr>\n",
              "      <th>1472</th>\n",
              "      <td>Sales Methods</td>\n",
              "      <td>tolong kalo balas satu masalah jangan oper ke ...</td>\n",
              "    </tr>\n",
              "    <tr>\n",
              "      <th>1473</th>\n",
              "      <td>Sales Methods</td>\n",
              "      <td>tolong kalau orang sudah bayar jgn di teror te...</td>\n",
              "    </tr>\n",
              "    <tr>\n",
              "      <th>1474</th>\n",
              "      <td>Sales Methods</td>\n",
              "      <td>sudah saya baca tapi alas batal apa sy tanya k...</td>\n",
              "    </tr>\n",
              "    <tr>\n",
              "      <th>1475</th>\n",
              "      <td>Sales Methods</td>\n",
              "      <td>telah update kok tampil i malah gak nyaman</td>\n",
              "    </tr>\n",
              "    <tr>\n",
              "      <th>1476</th>\n",
              "      <td>Sales Methods</td>\n",
              "      <td>saya mau complain lewat aplikasi kok susah bgt...</td>\n",
              "    </tr>\n",
              "  </tbody>\n",
              "</table>\n",
              "<p>1477 rows × 2 columns</p>\n",
              "</div>"
            ],
            "text/plain": [
              "            Problem                                       text_stemmed\n",
              "0           Conduct  depa cek dulu lah ya belum ngirim ke user ini ...\n",
              "1           Conduct  oke tapi kumasukin kasus ini ke shitposting ya...\n",
              "2           Conduct   hari ke belum ada selesai nunggu lebaran ya bang\n",
              "3           Conduct  tim kamu itu yg kata mau konfirmasi lewat emai...\n",
              "4           Conduct                  bakal sampe kapan saya nunggu nya\n",
              "...             ...                                                ...\n",
              "1472  Sales Methods  tolong kalo balas satu masalah jangan oper ke ...\n",
              "1473  Sales Methods  tolong kalau orang sudah bayar jgn di teror te...\n",
              "1474  Sales Methods  sudah saya baca tapi alas batal apa sy tanya k...\n",
              "1475  Sales Methods         telah update kok tampil i malah gak nyaman\n",
              "1476  Sales Methods  saya mau complain lewat aplikasi kok susah bgt...\n",
              "\n",
              "[1477 rows x 2 columns]"
            ]
          },
          "metadata": {
            "tags": []
          },
          "execution_count": 8
        }
      ]
    },
    {
      "cell_type": "code",
      "metadata": {
        "id": "54Sy5L1KA96s"
      },
      "source": [
        "# #Menggabungkan Kolom Sentiment dan Problem Menjadi Label\n",
        "# data_stemmed['Label'] = data_stemmed['Sentiment']+'-'+data_stemmed['Problem']"
      ],
      "execution_count": null,
      "outputs": []
    },
    {
      "cell_type": "code",
      "metadata": {
        "id": "BcQmJBUlBJUF",
        "colab": {
          "base_uri": "https://localhost:8080/"
        },
        "outputId": "8427ec57-ed42-4bba-d2be-38b6ee79c61a"
      },
      "source": [
        "data_stemmed"
      ],
      "execution_count": null,
      "outputs": [
        {
          "output_type": "execute_result",
          "data": {
            "text/html": [
              "<div>\n",
              "<style scoped>\n",
              "    .dataframe tbody tr th:only-of-type {\n",
              "        vertical-align: middle;\n",
              "    }\n",
              "\n",
              "    .dataframe tbody tr th {\n",
              "        vertical-align: top;\n",
              "    }\n",
              "\n",
              "    .dataframe thead th {\n",
              "        text-align: right;\n",
              "    }\n",
              "</style>\n",
              "<table border=\"1\" class=\"dataframe\">\n",
              "  <thead>\n",
              "    <tr style=\"text-align: right;\">\n",
              "      <th></th>\n",
              "      <th>Problem</th>\n",
              "      <th>text_stemmed</th>\n",
              "    </tr>\n",
              "  </thead>\n",
              "  <tbody>\n",
              "    <tr>\n",
              "      <th>0</th>\n",
              "      <td>Conduct</td>\n",
              "      <td>depa cek dulu lah ya belum ngirim ke user ini ...</td>\n",
              "    </tr>\n",
              "    <tr>\n",
              "      <th>1</th>\n",
              "      <td>Conduct</td>\n",
              "      <td>oke tapi kumasukin kasus ini ke shitposting ya...</td>\n",
              "    </tr>\n",
              "    <tr>\n",
              "      <th>2</th>\n",
              "      <td>Conduct</td>\n",
              "      <td>hari ke belum ada selesai nunggu lebaran ya bang</td>\n",
              "    </tr>\n",
              "    <tr>\n",
              "      <th>3</th>\n",
              "      <td>Conduct</td>\n",
              "      <td>tim kamu itu yg kata mau konfirmasi lewat emai...</td>\n",
              "    </tr>\n",
              "    <tr>\n",
              "      <th>4</th>\n",
              "      <td>Conduct</td>\n",
              "      <td>bakal sampe kapan saya nunggu nya</td>\n",
              "    </tr>\n",
              "    <tr>\n",
              "      <th>...</th>\n",
              "      <td>...</td>\n",
              "      <td>...</td>\n",
              "    </tr>\n",
              "    <tr>\n",
              "      <th>1472</th>\n",
              "      <td>Sales Methods</td>\n",
              "      <td>tolong kalo balas satu masalah jangan oper ke ...</td>\n",
              "    </tr>\n",
              "    <tr>\n",
              "      <th>1473</th>\n",
              "      <td>Sales Methods</td>\n",
              "      <td>tolong kalau orang sudah bayar jgn di teror te...</td>\n",
              "    </tr>\n",
              "    <tr>\n",
              "      <th>1474</th>\n",
              "      <td>Sales Methods</td>\n",
              "      <td>sudah saya baca tapi alas batal apa sy tanya k...</td>\n",
              "    </tr>\n",
              "    <tr>\n",
              "      <th>1475</th>\n",
              "      <td>Sales Methods</td>\n",
              "      <td>telah update kok tampil i malah gak nyaman</td>\n",
              "    </tr>\n",
              "    <tr>\n",
              "      <th>1476</th>\n",
              "      <td>Sales Methods</td>\n",
              "      <td>saya mau complain lewat aplikasi kok susah bgt...</td>\n",
              "    </tr>\n",
              "  </tbody>\n",
              "</table>\n",
              "<p>1477 rows × 2 columns</p>\n",
              "</div>"
            ],
            "text/plain": [
              "            Problem                                       text_stemmed\n",
              "0           Conduct  depa cek dulu lah ya belum ngirim ke user ini ...\n",
              "1           Conduct  oke tapi kumasukin kasus ini ke shitposting ya...\n",
              "2           Conduct   hari ke belum ada selesai nunggu lebaran ya bang\n",
              "3           Conduct  tim kamu itu yg kata mau konfirmasi lewat emai...\n",
              "4           Conduct                  bakal sampe kapan saya nunggu nya\n",
              "...             ...                                                ...\n",
              "1472  Sales Methods  tolong kalo balas satu masalah jangan oper ke ...\n",
              "1473  Sales Methods  tolong kalau orang sudah bayar jgn di teror te...\n",
              "1474  Sales Methods  sudah saya baca tapi alas batal apa sy tanya k...\n",
              "1475  Sales Methods         telah update kok tampil i malah gak nyaman\n",
              "1476  Sales Methods  saya mau complain lewat aplikasi kok susah bgt...\n",
              "\n",
              "[1477 rows x 2 columns]"
            ]
          },
          "metadata": {
            "tags": []
          },
          "execution_count": 10
        }
      ]
    },
    {
      "cell_type": "code",
      "metadata": {
        "id": "YqRnpTPdBsH4",
        "colab": {
          "base_uri": "https://localhost:8080/"
        },
        "outputId": "56596a3a-6ed6-4061-ad69-9bdb030900e0"
      },
      "source": [
        "#Count Label\n",
        "data_stemmed['Problem'].value_counts()"
      ],
      "execution_count": null,
      "outputs": [
        {
          "output_type": "execute_result",
          "data": {
            "text/plain": [
              "Post Purchase Phase    543\n",
              "Purchase Phase         473\n",
              "Conduct                178\n",
              "Pre Purchase Phase     147\n",
              "Privacy Problem         61\n",
              "Evidence                46\n",
              "Sales Methods           29\n",
              "Name: Problem, dtype: int64"
            ]
          },
          "metadata": {
            "tags": []
          },
          "execution_count": 11
        }
      ]
    },
    {
      "cell_type": "code",
      "metadata": {
        "id": "ObNskqPiB1uB",
        "colab": {
          "base_uri": "https://localhost:8080/"
        },
        "outputId": "defc75c8-7839-4284-bbb6-559a0c487b90"
      },
      "source": [
        "import imblearn\n",
        "from imblearn.over_sampling import SMOTE\n",
        "from collections import Counter\n",
        "from sklearn.feature_extraction.text import TfidfVectorizer"
      ],
      "execution_count": null,
      "outputs": [
        {
          "output_type": "stream",
          "text": [
            "/usr/local/lib/python3.7/dist-packages/sklearn/externals/six.py:31: FutureWarning: The module is deprecated in version 0.21 and will be removed in version 0.23 since we've dropped support for Python 2.7. Please rely on the official version of six (https://pypi.org/project/six/).\n",
            "  \"(https://pypi.org/project/six/).\", FutureWarning)\n",
            "/usr/local/lib/python3.7/dist-packages/sklearn/utils/deprecation.py:144: FutureWarning: The sklearn.neighbors.base module is  deprecated in version 0.22 and will be removed in version 0.24. The corresponding classes / functions should instead be imported from sklearn.neighbors. Anything that cannot be imported from sklearn.neighbors is now part of the private API.\n",
            "  warnings.warn(message, FutureWarning)\n"
          ],
          "name": "stderr"
        }
      ]
    },
    {
      "cell_type": "code",
      "metadata": {
        "id": "zjHbb0_wCDbG"
      },
      "source": [
        "#Set Attribute and Target\n",
        "x = data_stemmed['text_stemmed'].values\n",
        "y = data_stemmed['Problem'].values"
      ],
      "execution_count": null,
      "outputs": []
    },
    {
      "cell_type": "code",
      "metadata": {
        "id": "cjuKDuWQCNDA"
      },
      "source": [
        "from sklearn.preprocessing import LabelEncoder"
      ],
      "execution_count": null,
      "outputs": []
    },
    {
      "cell_type": "code",
      "metadata": {
        "id": "bpCKxIlOCPr6"
      },
      "source": [
        "#Transform Label\n",
        "LE = LabelEncoder()\n",
        "y_le = LE.fit_transform(y)"
      ],
      "execution_count": null,
      "outputs": []
    },
    {
      "cell_type": "code",
      "metadata": {
        "id": "ySRPU6EwCblN"
      },
      "source": [
        "tfidf = TfidfVectorizer() #initialize tfidf vectorizer\n",
        "x_tf = tfidf.fit_transform(x).toarray() #transform tfidf"
      ],
      "execution_count": null,
      "outputs": []
    },
    {
      "cell_type": "code",
      "metadata": {
        "colab": {
          "base_uri": "https://localhost:8080/"
        },
        "id": "lpxdWjfF4Xlb",
        "outputId": "098033db-eea6-4735-e686-d1b76d56dc7d"
      },
      "source": [
        "tfidf.vocabulary_"
      ],
      "execution_count": null,
      "outputs": [
        {
          "output_type": "execute_result",
          "data": {
            "text/plain": [
              "{'depa': 410,\n",
              " 'cek': 307,\n",
              " 'dulu': 506,\n",
              " 'lah': 996,\n",
              " 'ya': 2081,\n",
              " 'belum': 177,\n",
              " 'ngirim': 1299,\n",
              " 'ke': 872,\n",
              " 'user': 2030,\n",
              " 'ini': 732,\n",
              " 'code': 341,\n",
              " 'dan': 377,\n",
              " 'masih': 1133,\n",
              " 'muncul': 1224,\n",
              " 'tidak': 1917,\n",
              " 'indikasi': 721,\n",
              " 'oke': 1362,\n",
              " 'tapi': 1856,\n",
              " 'kumasukin': 979,\n",
              " 'kasus': 866,\n",
              " 'shitposting': 1719,\n",
              " 'biar': 197,\n",
              " 'ga': 576,\n",
              " 'ada': 8,\n",
              " 'lagi': 995,\n",
              " 'korban': 958,\n",
              " 'tipu': 1931,\n",
              " 'hari': 664,\n",
              " 'selesai': 1677,\n",
              " 'nunggu': 1334,\n",
              " 'lebaran': 1024,\n",
              " 'bang': 131,\n",
              " 'tim': 1922,\n",
              " 'kamu': 847,\n",
              " 'itu': 756,\n",
              " 'yg': 2093,\n",
              " 'kata': 867,\n",
              " 'mau': 1143,\n",
              " 'konfirmasi': 949,\n",
              " 'lewat': 1034,\n",
              " 'email': 519,\n",
              " 'kabar': 819,\n",
              " 'saya': 1637,\n",
              " 'tanya': 1854,\n",
              " 'udah': 2004,\n",
              " 'respon': 1582,\n",
              " 'pikir': 1479,\n",
              " 'kenapa': 897,\n",
              " 'ribut': 1596,\n",
              " 'di': 423,\n",
              " 'sosmed': 1776,\n",
              " 'sekarang': 1667,\n",
              " 'jawab': 780,\n",
              " 'sampe': 1629,\n",
              " 'kapan': 852,\n",
              " 'suruh': 1823,\n",
              " 'bakal': 120,\n",
              " 'nya': 1338,\n",
              " 'padahal': 1393,\n",
              " 'jelas': 787,\n",
              " 'perihal': 1456,\n",
              " 'komplain': 943,\n",
              " 'yang': 2090,\n",
              " 'kemarin': 889,\n",
              " 'sampai': 1628,\n",
              " 'tutup': 1994,\n",
              " 'cara': 294,\n",
              " 'pihak': 1477,\n",
              " 'kan': 849,\n",
              " 'tinggal': 1927,\n",
              " 'mesti': 1175,\n",
              " 'juga': 808,\n",
              " 'kok': 939,\n",
              " 'harap': 662,\n",
              " 'mulu': 1221,\n",
              " 'dokumen': 488,\n",
              " 'minta': 1190,\n",
              " 'semua': 1691,\n",
              " 'apa': 80,\n",
              " 'logika': 1062,\n",
              " 'aja': 22,\n",
              " 'dong': 491,\n",
              " 'uang': 2000,\n",
              " 'kalian': 841,\n",
              " 'beku': 169,\n",
              " 'pernah': 1463,\n",
              " 'dapat': 381,\n",
              " 'laku': 1000,\n",
              " 'potong': 1504,\n",
              " 'tanpa': 1852,\n",
              " 'tahu': 1835,\n",
              " 'guna': 633,\n",
              " 'maksud': 1102,\n",
              " 'motongnya': 1212,\n",
              " 'tiap': 1915,\n",
              " 'min': 1186,\n",
              " 'maaf': 1080,\n",
              " 'bisa': 208,\n",
              " 'akun': 39,\n",
              " 'atas': 94,\n",
              " 'nama': 1241,\n",
              " 'iqbal': 753,\n",
              " 'shopp': 1730,\n",
              " 'murah': 1226,\n",
              " 'karena': 854,\n",
              " 'telah': 1867,\n",
              " 'sudah': 1812,\n",
              " 'dm': 486,\n",
              " 'tgl': 1909,\n",
              " 'mei': 1153,\n",
              " 'atau': 95,\n",
              " 'lalu': 1002,\n",
              " 'gak': 584,\n",
              " 'balas': 123,\n",
              " 'kasih': 862,\n",
              " 'feedback': 553,\n",
              " 'kek': 881,\n",
              " 'klasik': 927,\n",
              " 'kali': 840,\n",
              " 'jawabanya': 781,\n",
              " 'selalu': 1673,\n",
              " 'dalam': 375,\n",
              " 'tangan': 1845,\n",
              " 'kait': 831,\n",
              " 'dari': 384,\n",
              " 'bantu': 140,\n",
              " 'bilang': 204,\n",
              " 'tanggal': 1846,\n",
              " 'loh': 1065,\n",
              " 'soal': 1767,\n",
              " 'bukan': 264,\n",
              " 'dar': 383,\n",
              " 'kembali': 891,\n",
              " 'amatir': 55,\n",
              " 'banget': 132,\n",
              " 'bisnis': 209,\n",
              " 'jelek': 788,\n",
              " 'mikir': 1180,\n",
              " 'langgan': 1008,\n",
              " 'kecewa': 875,\n",
              " 'berapa': 184,\n",
              " 'lama': 1003,\n",
              " 'nih': 1305,\n",
              " 'sabar': 1615,\n",
              " 'ingkar': 731,\n",
              " 'janji': 772,\n",
              " 'lo': 1059,\n",
              " 'nyata': 1347,\n",
              " 'hanya': 658,\n",
              " 'slogan': 1760,\n",
              " 'semata': 1686,\n",
              " 'bukti': 266,\n",
              " 'cs': 354,\n",
              " 'erti': 534,\n",
              " 'keluh': 887,\n",
              " 'tau': 1860,\n",
              " 'sama': 1624,\n",
              " 'gila': 612,\n",
              " 'transaksi': 1961,\n",
              " 'dri': 498,\n",
              " 'april': 87,\n",
              " 'via': 2042,\n",
              " 'app': 85,\n",
              " 'terus': 1900,\n",
              " 'kemaren': 888,\n",
              " 'jadi': 760,\n",
              " 'harus': 665,\n",
              " 'lelah': 1026,\n",
              " 'benar': 178,\n",
              " 'bolak': 229,\n",
              " 'balik': 127,\n",
              " 'bukalapak': 260,\n",
              " 'tanggap': 1848,\n",
              " 'nggak': 1295,\n",
              " 'becus': 163,\n",
              " 'admin': 12,\n",
              " 'mana': 1112,\n",
              " 'ny': 1337,\n",
              " 'beberapa': 162,\n",
              " 'jam': 767,\n",
              " 'tiket': 1921,\n",
              " 'adu': 15,\n",
              " 'kak': 832,\n",
              " 'saat': 1614,\n",
              " 'tunggu': 1988,\n",
              " 'kirim': 921,\n",
              " 'pesan': 1467,\n",
              " 'kendala': 899,\n",
              " 'anda': 65,\n",
              " 'timterkait': 1924,\n",
              " 'akan': 29,\n",
              " 'relatif': 1566,\n",
              " 'panjang': 1408,\n",
              " 'jaman': 768,\n",
              " 'tadi': 1830,\n",
              " 'malam': 1104,\n",
              " 'masyuk': 1139,\n",
              " 'pagi': 1394,\n",
              " 'masuk': 1136,\n",
              " 'yaiyalah': 2085,\n",
              " 'pancing': 1404,\n",
              " 'sering': 1703,\n",
              " 'ngga': 1294,\n",
              " 'sesuai': 1709,\n",
              " 'waktu': 2061,\n",
              " 'tentu': 1886,\n",
              " 'kudu': 976,\n",
              " 'ingetin': 729,\n",
              " 'tegas': 1864,\n",
              " 'solusi': 1771,\n",
              " 'untuk': 2016,\n",
              " 'costumer': 349,\n",
              " 'punya': 1534,\n",
              " 'masalah': 1131,\n",
              " 'seperti': 1701,\n",
              " 'aku': 38,\n",
              " 'kunjung': 982,\n",
              " 'tolong': 1948,\n",
              " 'no': 1314,\n",
              " 'yak': 2086,\n",
              " 'lima': 1044,\n",
              " 'awal': 99,\n",
              " 'saldo': 1621,\n",
              " 'pribadi': 1510,\n",
              " 'dgn': 422,\n",
              " 'sm': 1763,\n",
              " 'proses': 1524,\n",
              " 'bagaimana': 108,\n",
              " 'cerita': 315,\n",
              " 'susah': 1824,\n",
              " 'hubung': 701,\n",
              " 'medsos': 1152,\n",
              " 'trx': 1972,\n",
              " 'lapak': 1014,\n",
              " 'banned': 139,\n",
              " 'aktif': 34,\n",
              " 'status': 1792,\n",
              " 'introspeksi': 746,\n",
              " 'diri': 464,\n",
              " 'usaha': 2029,\n",
              " 'unicorn': 2013,\n",
              " 'masak': 1130,\n",
              " 'kayak': 869,\n",
              " 'gitu': 618,\n",
              " 'layan': 1020,\n",
              " 'batal': 147,\n",
              " 'juni': 814,\n",
              " 'respond': 1583,\n",
              " 'waduh': 2053,\n",
              " 'gua': 630,\n",
              " 'baru': 145,\n",
              " 'kena': 894,\n",
              " 'dengan': 408,\n",
              " 'modus': 1203,\n",
              " 'hadehhh': 639,\n",
              " 'betul': 193,\n",
              " 'resmi': 1580,\n",
              " 'telpon': 1875,\n",
              " 'hadiah': 640,\n",
              " 'jt': 804,\n",
              " 'otomatis': 1387,\n",
              " 'dana': 378,\n",
              " 'rekening': 1564,\n",
              " 'mohon': 1206,\n",
              " 'takut': 1838,\n",
              " 'si': 1734,\n",
              " 'kah': 830,\n",
              " 'kalo': 843,\n",
              " 'kurang': 986,\n",
              " 'manfaat': 1116,\n",
              " 'halo': 649,\n",
              " 'report': 1571,\n",
              " 'curang': 360,\n",
              " 'begini': 165,\n",
              " 'gimana': 615,\n",
              " 'lapor': 1015,\n",
              " 'sy': 1826,\n",
              " 'login': 1063,\n",
              " 'hapus': 660,\n",
              " 'well': 2066,\n",
              " 'cuma': 357,\n",
              " 'doang': 487,\n",
              " 'alamat': 41,\n",
              " 'hack': 637,\n",
              " 'mbak': 1148,\n",
              " 'makan': 1094,\n",
              " 'brp': 244,\n",
              " 'bulan': 269,\n",
              " 'beres': 187,\n",
              " 'sekali': 1664,\n",
              " 'lihat': 1043,\n",
              " 'isi': 754,\n",
              " 'tepat': 1887,\n",
              " 'data': 390,\n",
              " 'langgar': 1009,\n",
              " 'saja': 1619,\n",
              " 'nomor': 1321,\n",
              " 'bikin': 203,\n",
              " 'catetannya': 304,\n",
              " 'lanjut': 1012,\n",
              " 'ganti': 592,\n",
              " 'paswd': 1419,\n",
              " 'ilang': 715,\n",
              " 'selamat': 1674,\n",
              " 'siang': 1735,\n",
              " 'boleh': 230,\n",
              " 'ranty': 1548,\n",
              " 'kode': 937,\n",
              " 'bayar': 156,\n",
              " 'referensi': 1559,\n",
              " 'tsb': 1973,\n",
              " 'bahkan': 114,\n",
              " 'serta': 1705,\n",
              " 'telp': 1873,\n",
              " 'bl': 211,\n",
              " 'tanggung': 1851,\n",
              " 'arti': 90,\n",
              " 'oleh': 1365,\n",
              " 'entah': 531,\n",
              " 'sistem': 1750,\n",
              " 'nali': 1240,\n",
              " 'jumlah': 813,\n",
              " 'item': 755,\n",
              " 'hei': 674,\n",
              " 'kerja': 905,\n",
              " 'coba': 337,\n",
              " 'ayo': 101,\n",
              " 'jujur': 809,\n",
              " 'jujuran': 810,\n",
              " 'ajah': 23,\n",
              " 'duit': 505,\n",
              " 'kepake': 901,\n",
              " 'malah': 1103,\n",
              " 'paksa': 1400,\n",
              " 'sop': 1772,\n",
              " 'cocok': 339,\n",
              " 'case': 299,\n",
              " 'iya': 757,\n",
              " 'anjing': 73,\n",
              " 'memang': 1156,\n",
              " 'gilir': 613,\n",
              " 'blokir': 219,\n",
              " 'or': 1379,\n",
              " 'baik': 116,\n",
              " 'sepele': 1700,\n",
              " 'hak': 645,\n",
              " 'lebar': 1023,\n",
              " 'tuh': 1981,\n",
              " 'chat': 318,\n",
              " 'masa': 1129,\n",
              " 'kagak': 829,\n",
              " 'baca': 104,\n",
              " 'segera': 1658,\n",
              " 'direspon': 462,\n",
              " 'followupnya': 567,\n",
              " 'sadar': 1618,\n",
              " 'platform': 1488,\n",
              " 'rusak': 1611,\n",
              " 'produk': 1515,\n",
              " 'statistik': 1791,\n",
              " 'jual': 806,\n",
              " 'heran': 679,\n",
              " 'sekian': 1668,\n",
              " 'fitnah': 560,\n",
              " 'belanja': 174,\n",
              " 'bukadompet': 257,\n",
              " 'salah': 1620,\n",
              " 'kadaluwarsa': 825,\n",
              " 'clearkan': 332,\n",
              " 'dikkonfirmasi': 452,\n",
              " 'maks': 1099,\n",
              " 'juli': 811,\n",
              " 'pukul': 1528,\n",
              " 'kdaluwarsa': 871,\n",
              " 'buka': 255,\n",
              " 'apps': 86,\n",
              " 'info': 725,\n",
              " 'bener': 179,\n",
              " 'skg': 1757,\n",
              " 'ngabisin': 1263,\n",
              " 'sih': 1739,\n",
              " 'sore': 1774,\n",
              " 'kaka': 833,\n",
              " 'hampir': 654,\n",
              " 'ngaasi': 1262,\n",
              " 'customer': 365,\n",
              " 'bloked': 218,\n",
              " 'jangan': 770,\n",
              " 'cod': 340,\n",
              " 'tindak': 1925,\n",
              " 'cepat': 312,\n",
              " 'ku': 975,\n",
              " 'cinta': 328,\n",
              " 'sedang': 1653,\n",
              " 'tak': 1837,\n",
              " 'ngantuk': 1275,\n",
              " 'capek': 293,\n",
              " 'mati': 1141,\n",
              " 'mainin': 1091,\n",
              " 'jalan': 766,\n",
              " 'sini': 1744,\n",
              " 'main': 1090,\n",
              " 'lain': 999,\n",
              " 'keren': 903,\n",
              " 'bicara': 201,\n",
              " 'terlalu': 1896,\n",
              " 'dengar': 409,\n",
              " 'orng': 1384,\n",
              " 'niat': 1304,\n",
              " 'tekan': 1866,\n",
              " 'sopan': 1773,\n",
              " 'jika': 796,\n",
              " 'layak': 1019,\n",
              " 'beri': 188,\n",
              " 'dear': 397,\n",
              " 'policy': 1498,\n",
              " 'nomer': 1317,\n",
              " 'sebut': 1652,\n",
              " 'hbs': 669,\n",
              " 'dompet': 489,\n",
              " 'gin': 617,\n",
              " 'olong': 1368,\n",
              " 'banyak': 142,\n",
              " 'canda': 287,\n",
              " 'lempar': 1028,\n",
              " 'enail': 525,\n",
              " 'lenpar': 1031,\n",
              " 'kedalahan': 878,\n",
              " 'pada': 1392,\n",
              " 'konsumen': 951,\n",
              " 'oenguna': 1355,\n",
              " 'kaki': 835,\n",
              " 'berdalah': 186,\n",
              " 'madih': 1084,\n",
              " 'batu': 153,\n",
              " 'sembunyi': 1687,\n",
              " 'bangsat': 135,\n",
              " 'oihak': 1359,\n",
              " 'lebih': 1025,\n",
              " 'macam': 1081,\n",
              " 'siapa': 1737,\n",
              " 'rada': 1542,\n",
              " 'rugi': 1607,\n",
              " 'ikan': 710,\n",
              " 'pakai': 1397,\n",
              " 'live': 1057,\n",
              " 'lbh': 1022,\n",
              " 'efektif': 513,\n",
              " 'ah': 18,\n",
              " 'kasihan': 863,\n",
              " 'paham': 1395,\n",
              " 'komunikasi': 945,\n",
              " 'bot': 234,\n",
              " 'emosi': 524,\n",
              " 'refund': 1560,\n",
              " 'krn': 968,\n",
              " 'mrerasa': 1213,\n",
              " 'yakin': 2088,\n",
              " 'barang': 144,\n",
              " 'sedia': 1654,\n",
              " 'dr': 495,\n",
              " 'februari': 550,\n",
              " 'sejak': 1663,\n",
              " 'amanah': 53,\n",
              " 'bagus': 111,\n",
              " 'buat': 251,\n",
              " 'maling': 1111,\n",
              " 'duga': 504,\n",
              " 'beli': 175,\n",
              " 'tuduh': 1978,\n",
              " 'repot': 1572,\n",
              " 'abai': 1,\n",
              " 'progress': 1518,\n",
              " 'dibukalapak': 438,\n",
              " 'jgn': 794,\n",
              " 'sulit': 1816,\n",
              " 'kembang': 892,\n",
              " 'hingga': 686,\n",
              " 'hasil': 666,\n",
              " 'mas': 1128,\n",
              " 'peniouan': 1443,\n",
              " 'mavia': 1145,\n",
              " 'hati': 667,\n",
              " 'usah': 2028,\n",
              " 'ininbukti': 733,\n",
              " 'bajing': 119,\n",
              " 'klaim': 926,\n",
              " 'block': 216,\n",
              " 'usut': 2032,\n",
              " 'tuntas': 1990,\n",
              " 'hai': 644,\n",
              " 'yaaa': 2083,\n",
              " 'hubungin': 702,\n",
              " 'diblowup': 437,\n",
              " 'penting': 1445,\n",
              " 'huhu': 704,\n",
              " 'jd': 783,\n",
              " 'sebenernya': 1651,\n",
              " 'mereka': 1170,\n",
              " 'jobdesknya': 801,\n",
              " 'ampun': 61,\n",
              " 'tweet': 1995,\n",
              " 'notice': 1329,\n",
              " 'bagi': 110,\n",
              " 'seller': 1681,\n",
              " 'nakal': 1239,\n",
              " 'penalty': 1440,\n",
              " 'objek': 1354,\n",
              " 'hallo': 648,\n",
              " 'mediasi': 1151,\n",
              " 'postingan': 1503,\n",
              " 'ditelantarin': 473,\n",
              " 'parah': 1412,\n",
              " 'kalau': 837,\n",
              " 'mimin': 1185,\n",
              " 'lanjutin': 1013,\n",
              " 'barusan': 146,\n",
              " 'telpob': 1874,\n",
              " 'ngaku': 1269,\n",
              " 'shopee': 1721,\n",
              " 'dpt': 494,\n",
              " 'voucher': 2050,\n",
              " 'ujung': 2008,\n",
              " 'verifikasi': 2039,\n",
              " 'care': 297,\n",
              " 'loyal': 1070,\n",
              " 'kita': 922,\n",
              " 'musti': 1228,\n",
              " 'jaga': 762,\n",
              " 'pelihara': 1432,\n",
              " 'hilang': 685,\n",
              " 'curi': 361,\n",
              " 'air': 21,\n",
              " 'kedok': 879,\n",
              " 'extra': 541,\n",
              " 'tanam': 1843,\n",
              " 'caran': 295,\n",
              " 'spam': 1777,\n",
              " 'curiga': 362,\n",
              " 'bahwa': 115,\n",
              " 'hold': 692,\n",
              " 'placement': 1487,\n",
              " 'tiba': 1916,\n",
              " 'akses': 33,\n",
              " 'orang': 1380,\n",
              " 'beulm': 194,\n",
              " 'kelar': 883,\n",
              " 'ngechat': 1282,\n",
              " 'akhirin': 31,\n",
              " 'enam': 527,\n",
              " 'hi': 683,\n",
              " 'sangat': 1631,\n",
              " 'slowresp': 1762,\n",
              " 'bales': 125,\n",
              " 'urgent': 2025,\n",
              " 'hiks': 684,\n",
              " 'desak': 414,\n",
              " 'daritadi': 387,\n",
              " 'stengah': 1796,\n",
              " 'dibilangin': 435,\n",
              " 'sendiri': 1694,\n",
              " 'pay': 1421,\n",
              " 'transfer': 1962,\n",
              " 'shopeepay': 1725,\n",
              " 'online': 1375,\n",
              " 'kagaaa': 828,\n",
              " 'situs': 1753,\n",
              " 'mengatasnamakan': 1163,\n",
              " 'jebak': 784,\n",
              " 'dia': 424,\n",
              " 'ngeretas': 1289,\n",
              " 'moga': 1204,\n",
              " 'dah': 374,\n",
              " 'kaya': 868,\n",
              " 'kasi': 861,\n",
              " 'badan': 106,\n",
              " 'daging': 373,\n",
              " 'hrm': 698,\n",
              " 'sate': 1635,\n",
              " 'pake': 1398,\n",
              " 'izin': 759,\n",
              " 'kami': 845,\n",
              " 'bagai': 107,\n",
              " 'lindung': 1047,\n",
              " 'yoi': 2094,\n",
              " 'jiga': 795,\n",
              " 'yah': 2084,\n",
              " 'mantap': 1121,\n",
              " 'sbg': 1640,\n",
              " 'mrsa': 1215,\n",
              " 'krna': 969,\n",
              " 'fraud': 571,\n",
              " 'shipment': 1718,\n",
              " 'fee': 551,\n",
              " 'tuju': 1982,\n",
              " 'antifraud': 79,\n",
              " 'notfraudfree': 1328,\n",
              " 'alas': 43,\n",
              " 'demi': 406,\n",
              " 'berantas': 183,\n",
              " 'nyari': 1345,\n",
              " 'untung': 2017,\n",
              " 'situ': 1752,\n",
              " 'sya': 1827,\n",
              " 'juta': 816,\n",
              " 'km': 932,\n",
              " 'koperatif': 955,\n",
              " 'polisi': 1499,\n",
              " 'depan': 411,\n",
              " 'polsek': 1500,\n",
              " 'kecil': 876,\n",
              " 'ngiang': 1296,\n",
              " 'emang': 520,\n",
              " 'toko': 1941,\n",
              " 'tukang': 1984,\n",
              " 'toped': 1951,\n",
              " 'piara': 1473,\n",
              " 'urusin': 2027,\n",
              " 'abis': 3,\n",
              " 'rb': 1553,\n",
              " 'biaya': 199,\n",
              " 'simple': 1742,\n",
              " 'cieh': 325,\n",
              " 'miara': 1178,\n",
              " 'pidana': 1476,\n",
              " 'sanksi': 1633,\n",
              " 'rasa': 1550,\n",
              " 'tokopedia': 1942,\n",
              " 'lg': 1035,\n",
              " 'tahan': 1833,\n",
              " 'ka': 817,\n",
              " 'kerna': 908,\n",
              " 'grab': 626,\n",
              " 'brng': 241,\n",
              " 'bawa': 154,\n",
              " 'kabur': 822,\n",
              " 'cwe': 367,\n",
              " 'kriminal': 967,\n",
              " 'msih': 1216,\n",
              " 'alami': 42,\n",
              " 'manipulasi': 1118,\n",
              " 'bel': 170,\n",
              " 'rajin': 1546,\n",
              " 'muter': 1230,\n",
              " 'tarik': 1858,\n",
              " 'percuma': 1453,\n",
              " 'resiko': 1579,\n",
              " 'ongkir': 1371,\n",
              " 'bingung': 207,\n",
              " 'cust': 364,\n",
              " 'centre': 311,\n",
              " 'cmn': 336,\n",
              " 'ad': 7,\n",
              " 'kesel': 913,\n",
              " 'namun': 1245,\n",
              " 'bijak': 202,\n",
              " 'hebat': 671,\n",
              " 'ngapa': 1276,\n",
              " 'ngapain': 1277,\n",
              " 'dg': 421,\n",
              " 'ba': 102,\n",
              " 'silah': 1741,\n",
              " 'nyudutin': 1352,\n",
              " 'wkwk': 2073,\n",
              " 'spihak': 1780,\n",
              " 'januari': 773,\n",
              " 'perlu': 1459,\n",
              " 'satu': 1636,\n",
              " 'minggu': 1187,\n",
              " 'make': 1097,\n",
              " 'sense': 1697,\n",
              " 'anggap': 69,\n",
              " 'robot': 1601,\n",
              " 'template': 1879,\n",
              " 'ahh': 19,\n",
              " 'biasa': 198,\n",
              " 'slow': 1761,\n",
              " 'response': 1586,\n",
              " 'soale': 1768,\n",
              " 'balesnya': 126,\n",
              " 'sambil': 1625,\n",
              " 'rebah': 1557,\n",
              " 'males': 1107,\n",
              " 'pantesan': 1410,\n",
              " 'makin': 1098,\n",
              " 'kusut': 988,\n",
              " 'paling': 1401,\n",
              " 'malesin': 1108,\n",
              " 'tokped': 1945,\n",
              " 'nanggepinnya': 1247,\n",
              " 'enak': 526,\n",
              " 'laa': 991,\n",
              " 'yaa': 2082,\n",
              " 'makanya': 1095,\n",
              " 'hotline': 695,\n",
              " 'ribet': 1593,\n",
              " 'head': 670,\n",
              " 'to': 1938,\n",
              " 'sampah': 1627,\n",
              " 'bersih': 189,\n",
              " 'terima': 1893,\n",
              " 'sisi': 1749,\n",
              " 'hadap': 638,\n",
              " 'invoi': 748,\n",
              " 'kontak': 952,\n",
              " 'nyambung': 1341,\n",
              " 'blassss': 214,\n",
              " 'nge': 1280,\n",
              " 'copy': 348,\n",
              " 'paste': 1416,\n",
              " 'buruk': 271,\n",
              " 'daripada': 386,\n",
              " 'batas': 150,\n",
              " 'dalih': 376,\n",
              " 'snk': 1766,\n",
              " 'rahasia': 1545,\n",
              " 'internal': 743,\n",
              " 'nanti': 1251,\n",
              " 'ajak': 24,\n",
              " 'eh': 514,\n",
              " 'copas': 347,\n",
              " 'dicheck': 442,\n",
              " 'duplikasi': 507,\n",
              " 'non': 1322,\n",
              " 'power': 1505,\n",
              " 'merchant': 1169,\n",
              " 'tetap': 1904,\n",
              " 'moderasi': 1202,\n",
              " 'apakah': 81,\n",
              " 'pulih': 1530,\n",
              " 'org': 1382,\n",
              " 'photo': 1471,\n",
              " 'mungkin': 1225,\n",
              " 'market': 1127,\n",
              " 'place': 1486,\n",
              " 'besar': 190,\n",
              " 'mekanisme': 1155,\n",
              " 'unggah': 2012,\n",
              " 'foto': 570,\n",
              " 'beda': 164,\n",
              " 'bos': 233,\n",
              " 'terang': 1890,\n",
              " 'ngaco': 1264,\n",
              " 'maupun': 1144,\n",
              " 'sengaja': 1695,\n",
              " 'inbox': 720,\n",
              " 'tercancel': 1892,\n",
              " 'kira': 920,\n",
              " 'tf': 1907,\n",
              " 'lampir': 1005,\n",
              " 'mutasi': 1229,\n",
              " 'virtual': 2044,\n",
              " 'acount': 6,\n",
              " 'danamon': 379,\n",
              " 'kronologis': 970,\n",
              " 'lensa': 1032,\n",
              " 'kamera': 844,\n",
              " 'tetapi': 1905,\n",
              " 'ketemu': 915,\n",
              " 'sehingga': 1662,\n",
              " 'mes': 1173,\n",
              " 'riwayat': 1600,\n",
              " 'sukses': 1815,\n",
              " 'cuman': 358,\n",
              " 'sms': 1765,\n",
              " 'banking': 138,\n",
              " 'rt': 1605,\n",
              " 'resi': 1578,\n",
              " 'fisik': 559,\n",
              " 'misi': 1193,\n",
              " 'masing': 1134,\n",
              " 'koran': 957,\n",
              " 'trims': 1967,\n",
              " 'standar': 1786,\n",
              " 'turunin': 1992,\n",
              " 'harga': 663,\n",
              " 'account': 5,\n",
              " 'nipu': 1311,\n",
              " 'kelas': 884,\n",
              " 'karyawan': 859,\n",
              " 'ngehubungin': 1285,\n",
              " 'voice': 2048,\n",
              " 'note': 1327,\n",
              " 'ancam': 64,\n",
              " 'video': 2043,\n",
              " 'attached': 97,\n",
              " 'vernya': 2040,\n",
              " 'udh': 2007,\n",
              " 'terupdate': 1899,\n",
              " 'deret': 412,\n",
              " 'terimakasih': 1894,\n",
              " 'responnya': 1584,\n",
              " 'invoice': 749,\n",
              " 'mail': 1089,\n",
              " 'premiro': 1508,\n",
              " 'wa': 2052,\n",
              " 'centang': 309,\n",
              " 'hal': 646,\n",
              " 'tulis': 1986,\n",
              " 'pusat': 1535,\n",
              " 'resolusi': 1581,\n",
              " 'hr': 697,\n",
              " 'pesawat': 1468,\n",
              " 'route': 1603,\n",
              " 'lhe': 1039,\n",
              " 'cgk': 317,\n",
              " 'maskapai': 1135,\n",
              " 'malindo': 1110,\n",
              " 'informasi': 726,\n",
              " 'terbang': 1891,\n",
              " 'menit': 1165,\n",
              " 'lupa': 1078,\n",
              " 'ulas': 2010,\n",
              " 'malas': 1105,\n",
              " 'ni': 1303,\n",
              " 'begitu': 166,\n",
              " 'ingin': 730,\n",
              " 'nambah': 1242,\n",
              " 'haloo': 651,\n",
              " 'mannual': 1119,\n",
              " 'ktpnya': 974,\n",
              " 'disalahgunakan': 465,\n",
              " 'masukin': 1137,\n",
              " 'kolom': 940,\n",
              " 'diskusi': 470,\n",
              " 'ktp': 973,\n",
              " 'horor': 694,\n",
              " 'bela': 171,\n",
              " 'deskripsi': 416,\n",
              " 'jauh': 779,\n",
              " 'software': 1769,\n",
              " 'upload': 2023,\n",
              " 'lancar': 1007,\n",
              " 'tap': 1855,\n",
              " 'continue': 345,\n",
              " 'ngilang': 1297,\n",
              " 'diskus': 469,\n",
              " 'halaman': 647,\n",
              " 'follow': 564,\n",
              " 'up': 2018,\n",
              " 'cair': 281,\n",
              " 'gaptek': 595,\n",
              " 'udel': 2006,\n",
              " 'panik': 1407,\n",
              " 'sam': 1623,\n",
              " 'rutin': 1612,\n",
              " 'investasi': 747,\n",
              " 'aju': 26,\n",
              " 'tolak': 1947,\n",
              " 'akhir': 30,\n",
              " 'retur': 1591,\n",
              " 'tuntut': 1991,\n",
              " 'rusa': 1610,\n",
              " 'kurir': 987,\n",
              " 'asuransi': 93,\n",
              " 'cashback': 301,\n",
              " 'asal': 92,\n",
              " 'kunci': 981,\n",
              " 'datang': 391,\n",
              " 'ambil': 57,\n",
              " 'langsung': 1010,\n",
              " 'nah': 1234,\n",
              " 'anteraja': 77,\n",
              " 'opsi': 1378,\n",
              " 'update': 2020,\n",
              " 'rit': 1599,\n",
              " 'makasih': 1096,\n",
              " 'pindah': 1482,\n",
              " 'tetangga': 1903,\n",
              " 'lanjur': 1011,\n",
              " 'order': 1381,\n",
              " 'driver': 499,\n",
              " 'cancel': 285,\n",
              " 'cukup': 356,\n",
              " 'perantarain': 1450,\n",
              " 'lari': 1017,\n",
              " 'sellernya': 1683,\n",
              " 'pun': 1532,\n",
              " 'tampak': 1841,\n",
              " 'paket': 1399,\n",
              " 'butuh': 276,\n",
              " 'balikin': 128,\n",
              " 'manusia': 1123,\n",
              " 'type': 1999,\n",
              " 'pending': 1441,\n",
              " 'tangguh': 1850,\n",
              " 'haram': 661,\n",
              " 'hukum': 705,\n",
              " 'mibya': 1179,\n",
              " 'muluk': 1222,\n",
              " 'serius': 1704,\n",
              " 'bank': 137,\n",
              " 'mandiri': 1115,\n",
              " 'gw': 635,\n",
              " 'hay': 668,\n",
              " 'dibalikin': 429,\n",
              " 'jengkel': 790,\n",
              " 'tranfer': 1959,\n",
              " 'kenap': 896,\n",
              " 'gatau': 600,\n",
              " 'hangus': 657,\n",
              " 'linkaja': 1049,\n",
              " 'tambah': 1840,\n",
              " 'bego': 167,\n",
              " 'in': 719,\n",
              " 'tidur': 1918,\n",
              " 'bangun': 136,\n",
              " 'ngak': 1268,\n",
              " 'bayak': 155,\n",
              " 'bacot': 105,\n",
              " 'memng': 1158,\n",
              " 'ngonggong': 1301,\n",
              " 'jg': 792,\n",
              " 'sabtu': 1616,\n",
              " 'batalin': 148,\n",
              " 'gregetan': 628,\n",
              " 'stok': 1803,\n",
              " 'brg': 237,\n",
              " 'kosong': 961,\n",
              " 'agar': 17,\n",
              " 'rabu': 1541,\n",
              " 'screenshot': 1642,\n",
              " 'wkwkwk': 2074,\n",
              " 'ngelawak': 1287,\n",
              " 'percaya': 1452,\n",
              " 'kumpul': 980,\n",
              " 'aplikasi': 84,\n",
              " 'srngaja': 1782,\n",
              " 'twiter': 1996,\n",
              " 'ubah': 2001,\n",
              " 'cacat': 280,\n",
              " 'alam': 40,\n",
              " 'semalem': 1684,\n",
              " 'upnya': 2024,\n",
              " 'goblok': 622,\n",
              " 'selain': 1671,\n",
              " 'klo': 930,\n",
              " 'notif': 1330,\n",
              " 'claim': 330,\n",
              " 'lucu': 1075,\n",
              " 'buyer': 278,\n",
              " 'gera': 607,\n",
              " 'ko': 936,\n",
              " 'deliverey': 405,\n",
              " 'by': 279,\n",
              " 'prilaku': 1511,\n",
              " 'kyk': 989,\n",
              " 'ecek': 510,\n",
              " 'cari': 298,\n",
              " 'top': 1950,\n",
              " 'memperoses': 1159,\n",
              " 'apk': 83,\n",
              " 'karya': 858,\n",
              " 'anak': 63,\n",
              " 'bangsa': 134,\n",
              " 'oh': 1358,\n",
              " 'mulai': 1220,\n",
              " 'perhati': 1455,\n",
              " 'susun': 1825,\n",
              " 'dasar': 388,\n",
              " 'bella': 176,\n",
              " 'blok': 217,\n",
              " 'nyaman': 1340,\n",
              " 'malem': 1106,\n",
              " 'call': 283,\n",
              " 'center': 310,\n",
              " 'sambung': 1626,\n",
              " 'bukabantuan': 256,\n",
              " 'ngalami': 1270,\n",
              " 'urus': 2026,\n",
              " 'lai': 998,\n",
              " 'cpat': 350,\n",
              " 'bahas': 113,\n",
              " 'hedeeuu': 672,\n",
              " 'gaada': 577,\n",
              " 'sorry': 1775,\n",
              " 'turut': 1993,\n",
              " 'trik': 1966,\n",
              " 'ahli': 20,\n",
              " 'pinyer': 1485,\n",
              " 'negatif': 1255,\n",
              " 'thingking': 1911,\n",
              " 'shopepay': 1727,\n",
              " 'lipstik': 1052,\n",
              " 'lusin': 1079,\n",
              " 'buah': 249,\n",
              " 'sj': 1754,\n",
              " 'sen': 1693,\n",
              " 'bakpia': 121,\n",
              " 'tugu': 1980,\n",
              " 'jogja': 803,\n",
              " 'officialnya': 1357,\n",
              " 'dateng': 392,\n",
              " 'karna': 856,\n",
              " 'ongkirnya': 1372,\n",
              " 'mahal': 1087,\n",
              " 'bingit': 206,\n",
              " 'jkt': 797,\n",
              " 'lumayan': 1076,\n",
              " 'deh': 402,\n",
              " ...}"
            ]
          },
          "metadata": {
            "tags": []
          },
          "execution_count": 17
        }
      ]
    },
    {
      "cell_type": "code",
      "metadata": {
        "id": "f_I4L9p8CeME",
        "colab": {
          "base_uri": "https://localhost:8080/"
        },
        "outputId": "42821c61-c6ea-457b-f224-9b9c6b922938"
      },
      "source": [
        "#Oversampling\n",
        "oversample = SMOTE()\n",
        "# fit and apply metode oversampling\n",
        "x_over, y_over = oversample.fit_resample(x_tf, y_le)"
      ],
      "execution_count": null,
      "outputs": [
        {
          "output_type": "stream",
          "text": [
            "/usr/local/lib/python3.7/dist-packages/sklearn/utils/deprecation.py:87: FutureWarning: Function safe_indexing is deprecated; safe_indexing is deprecated in version 0.22 and will be removed in version 0.24.\n",
            "  warnings.warn(msg, category=FutureWarning)\n",
            "/usr/local/lib/python3.7/dist-packages/sklearn/utils/deprecation.py:87: FutureWarning: Function safe_indexing is deprecated; safe_indexing is deprecated in version 0.22 and will be removed in version 0.24.\n",
            "  warnings.warn(msg, category=FutureWarning)\n",
            "/usr/local/lib/python3.7/dist-packages/sklearn/utils/deprecation.py:87: FutureWarning: Function safe_indexing is deprecated; safe_indexing is deprecated in version 0.22 and will be removed in version 0.24.\n",
            "  warnings.warn(msg, category=FutureWarning)\n",
            "/usr/local/lib/python3.7/dist-packages/sklearn/utils/deprecation.py:87: FutureWarning: Function safe_indexing is deprecated; safe_indexing is deprecated in version 0.22 and will be removed in version 0.24.\n",
            "  warnings.warn(msg, category=FutureWarning)\n",
            "/usr/local/lib/python3.7/dist-packages/sklearn/utils/deprecation.py:87: FutureWarning: Function safe_indexing is deprecated; safe_indexing is deprecated in version 0.22 and will be removed in version 0.24.\n",
            "  warnings.warn(msg, category=FutureWarning)\n",
            "/usr/local/lib/python3.7/dist-packages/sklearn/utils/deprecation.py:87: FutureWarning: Function safe_indexing is deprecated; safe_indexing is deprecated in version 0.22 and will be removed in version 0.24.\n",
            "  warnings.warn(msg, category=FutureWarning)\n"
          ],
          "name": "stderr"
        }
      ]
    },
    {
      "cell_type": "code",
      "metadata": {
        "id": "g8YYTOGQCnDu",
        "colab": {
          "base_uri": "https://localhost:8080/"
        },
        "outputId": "25b266d5-0d45-4174-fd03-d6a7f1f8a92b"
      },
      "source": [
        "#Print before oversampling and result Oversampling\n",
        "print(Counter(y))\n",
        "print(Counter(y_over))"
      ],
      "execution_count": null,
      "outputs": [
        {
          "output_type": "stream",
          "text": [
            "Counter({'Post Purchase Phase': 543, 'Purchase Phase': 473, 'Conduct': 178, 'Pre Purchase Phase': 147, 'Privacy Problem': 61, 'Evidence': 46, 'Sales Methods': 29})\n",
            "Counter({0: 543, 1: 543, 2: 543, 3: 543, 4: 543, 5: 543, 6: 543})\n"
          ],
          "name": "stdout"
        }
      ]
    },
    {
      "cell_type": "code",
      "metadata": {
        "id": "9egZwdQLCwMc",
        "colab": {
          "base_uri": "https://localhost:8080/"
        },
        "outputId": "31b80ad3-0c79-4f56-9ce8-b8d078e1550f"
      },
      "source": [
        "#Visualize dataset Before oversample\n",
        "import collections\n",
        "import matplotlib.pyplot as plt\n",
        "import seaborn as sns\n",
        "font = {'family' : 'normal',\n",
        "        'weight' : 'bold',\n",
        "        'size'   : 8}\n",
        "\n",
        "plt.rc('font', **font)\n",
        "w = collections.Counter(y)\n",
        "plt.figure(figsize=(50,30))\n",
        "plt.bar(w.keys(), w.values())\n",
        "plt.savefig(\"/content/drive/MyDrive/sebelum.png\")\n",
        "plt.show()"
      ],
      "execution_count": null,
      "outputs": [
        {
          "output_type": "stream",
          "text": [
            "findfont: Font family ['normal'] not found. Falling back to DejaVu Sans.\n"
          ],
          "name": "stderr"
        },
        {
          "output_type": "display_data",
          "data": {
            "image/png": "[encoded data removed]",
            "text/plain": [
              "<Figure size 3600x2160 with 1 Axes>"
            ]
          },
          "metadata": {
            "tags": [],
            "needs_background": "light"
          }
        }
      ]
    },
    {
      "cell_type": "code",
      "metadata": {
        "id": "vykQD-OWC5Rx",
        "colab": {
          "base_uri": "https://localhost:8080/"
        },
        "outputId": "3761b780-ae70-4f71-d532-e93a2c6ad862"
      },
      "source": [
        "#Visualize dataset After oversample\n",
        "font = {'family' : 'normal',\n",
        "        'weight' : 'bold',\n",
        "        'size'   : 8}\n",
        "\n",
        "plt.rc('font', **font)\n",
        "w = collections.Counter(y_over)\n",
        "plt.figure(figsize=(50,30))\n",
        "plt.bar(w.keys(), w.values())\n",
        "plt.savefig(\"/content/drive/MyDrive/sesudah.png\")\n",
        "plt.show()"
      ],
      "execution_count": null,
      "outputs": [
        {
          "output_type": "display_data",
          "data": {
            "image/png": "[encoded data removed]",
            "text/plain": [
              "<Figure size 3600x2160 with 1 Axes>"
            ]
          },
          "metadata": {
            "tags": [],
            "needs_background": "light"
          }
        }
      ]
    },
    {
      "cell_type": "code",
      "metadata": {
        "id": "OZhFUFcNDBXq"
      },
      "source": [
        "#Split dataset into data training dan testing\n",
        "xtrain,xtest,ytrain,ytest = train_test_split(x_over,y_over, test_size = 0.3)"
      ],
      "execution_count": null,
      "outputs": []
    },
    {
      "cell_type": "code",
      "metadata": {
        "colab": {
          "base_uri": "https://localhost:8080/"
        },
        "id": "alnmCEIgOpfr",
        "outputId": "28af7456-5dcd-49e9-8cf4-cdeea7538fbf"
      },
      "source": [
        "xtrain.shape"
      ],
      "execution_count": null,
      "outputs": [
        {
          "output_type": "execute_result",
          "data": {
            "text/plain": [
              "(2660, 2095)"
            ]
          },
          "metadata": {
            "tags": []
          },
          "execution_count": 23
        }
      ]
    },
    {
      "cell_type": "code",
      "metadata": {
        "id": "h5oIH9KgDaRe"
      },
      "source": [
        "from sklearn.pipeline import Pipeline"
      ],
      "execution_count": null,
      "outputs": []
    },
    {
      "cell_type": "code",
      "metadata": {
        "id": "-D_AKJnSDFuY"
      },
      "source": [
        "#Create pipeline with tfidf transformer and MNB\n",
        "pipeline = Pipeline([  \n",
        "    ('tfidf', TfidfTransformer()),  \n",
        "    ('classifier', naive_bayes.MultinomialNB()),  \n",
        "])"
      ],
      "execution_count": null,
      "outputs": []
    },
    {
      "cell_type": "code",
      "metadata": {
        "id": "XBpHhM1nDVg4",
        "colab": {
          "base_uri": "https://localhost:8080/"
        },
        "outputId": "fc0266b7-160b-4594-dff3-1805a3423f93"
      },
      "source": [
        "#Training\n",
        "pipeline.fit(xtrain,ytrain)"
      ],
      "execution_count": null,
      "outputs": [
        {
          "output_type": "execute_result",
          "data": {
            "text/plain": [
              "Pipeline(memory=None,\n",
              "         steps=[('tfidf',\n",
              "                 TfidfTransformer(norm='l2', smooth_idf=True,\n",
              "                                  sublinear_tf=False, use_idf=True)),\n",
              "                ('classifier',\n",
              "                 MultinomialNB(alpha=1.0, class_prior=None, fit_prior=True))],\n",
              "         verbose=False)"
            ]
          },
          "metadata": {
            "tags": []
          },
          "execution_count": 26
        }
      ]
    },
    {
      "cell_type": "code",
      "metadata": {
        "id": "ElUCArQ2l64Q"
      },
      "source": [
        "#Create model with tfidf transformer and SVC\n",
        "pipeline2 = Pipeline([\n",
        "                     ('tfidf', TfidfTransformer()),\n",
        "                     ('classifier', SVC()),\n",
        "                     ])"
      ],
      "execution_count": null,
      "outputs": []
    },
    {
      "cell_type": "code",
      "metadata": {
        "colab": {
          "base_uri": "https://localhost:8080/"
        },
        "id": "TP5X-W33mLEZ",
        "outputId": "65dbf921-a783-467f-b479-3deee30d5434"
      },
      "source": [
        "pipeline2.fit(xtrain,ytrain) #Train"
      ],
      "execution_count": null,
      "outputs": [
        {
          "output_type": "execute_result",
          "data": {
            "text/plain": [
              "Pipeline(memory=None,\n",
              "         steps=[('tfidf',\n",
              "                 TfidfTransformer(norm='l2', smooth_idf=True,\n",
              "                                  sublinear_tf=False, use_idf=True)),\n",
              "                ('classifier',\n",
              "                 SVC(C=1.0, break_ties=False, cache_size=200, class_weight=None,\n",
              "                     coef0=0.0, decision_function_shape='ovr', degree=3,\n",
              "                     gamma='scale', kernel='rbf', max_iter=-1,\n",
              "                     probability=False, random_state=None, shrinking=True,\n",
              "                     tol=0.001, verbose=False))],\n",
              "         verbose=False)"
            ]
          },
          "metadata": {
            "tags": []
          },
          "execution_count": 28
        }
      ]
    },
    {
      "cell_type": "code",
      "metadata": {
        "id": "e8NgibwDDobz"
      },
      "source": [
        "#Test Predict MNB\n",
        "predict = pipeline.predict(xtest)"
      ],
      "execution_count": null,
      "outputs": []
    },
    {
      "cell_type": "code",
      "metadata": {
        "id": "7CIOSA3wmSOb"
      },
      "source": [
        "#Test Predict SVC\n",
        "predict2 = pipeline2.predict(xtest)"
      ],
      "execution_count": null,
      "outputs": []
    },
    {
      "cell_type": "code",
      "metadata": {
        "id": "aoq6JUqeDr0p",
        "colab": {
          "base_uri": "https://localhost:8080/"
        },
        "outputId": "3d810a56-86b7-44af-8b50-9d2e7cf3d5d1"
      },
      "source": [
        "#Calculate MNB Accuracy\n",
        "from sklearn.metrics import accuracy_score\n",
        "print('Model Naive Bayes accuracy score: {0:0.4f}'. format(accuracy_score(ytest, predict)))"
      ],
      "execution_count": null,
      "outputs": [
        {
          "output_type": "stream",
          "text": [
            "Model Naive Bayes accuracy score: 0.9036\n"
          ],
          "name": "stdout"
        }
      ]
    },
    {
      "cell_type": "code",
      "metadata": {
        "colab": {
          "base_uri": "https://localhost:8080/"
        },
        "id": "RFjV5tq2mdlN",
        "outputId": "7aa90678-06c0-46c9-a8b6-f964865c054d"
      },
      "source": [
        "#Calculate SVC Accuracy\n",
        "from sklearn.metrics import accuracy_score\n",
        "print('Model SVM accuracy score: {0:0.4f}'. format(accuracy_score(ytest, predict2)))"
      ],
      "execution_count": null,
      "outputs": [
        {
          "output_type": "stream",
          "text": [
            "Model SVM accuracy score: 0.9430\n"
          ],
          "name": "stdout"
        }
      ]
    },
    {
      "cell_type": "markdown",
      "metadata": {
        "id": "XRoOMp86D-B4"
      },
      "source": [
        "# LDA Implementation"
      ]
    },
    {
      "cell_type": "code",
      "metadata": {
        "id": "Y24rmUr3EFTz"
      },
      "source": [
        "from sklearn.decomposition import LatentDirichletAllocation as LDA\n",
        "import numpy as np"
      ],
      "execution_count": null,
      "outputs": []
    },
    {
      "cell_type": "code",
      "metadata": {
        "id": "dVksi7BcJmwF"
      },
      "source": [
        "#Function to Print Topic\n",
        "def print_topics(model, count_vectorizer, n_top_words):\n",
        "    words = count_vectorizer.get_feature_names()\n",
        "    for topic_idx, topic in enumerate(model.components_):\n",
        "        print(\"\\nTopic #%d:\" % topic_idx)\n",
        "        print(\" \".join([words[i]\n",
        "                        for i in topic.argsort()[:-n_top_words - 1:-1]]))"
      ],
      "execution_count": null,
      "outputs": []
    },
    {
      "cell_type": "code",
      "metadata": {
        "id": "0yYBKlZSJrrb"
      },
      "source": [
        "#Create object LDA\n",
        "lda = LDA(n_components=7)"
      ],
      "execution_count": null,
      "outputs": []
    },
    {
      "cell_type": "code",
      "metadata": {
        "id": "QhyIm6QYLGxs",
        "colab": {
          "base_uri": "https://localhost:8080/"
        },
        "outputId": "56d33535-268f-4454-9fa5-40eca60dd9b0"
      },
      "source": [
        "#Train Model LDA\n",
        "lda.fit(x_over)"
      ],
      "execution_count": null,
      "outputs": [
        {
          "output_type": "execute_result",
          "data": {
            "text/plain": [
              "LatentDirichletAllocation(batch_size=128, doc_topic_prior=None,\n",
              "                          evaluate_every=-1, learning_decay=0.7,\n",
              "                          learning_method='batch', learning_offset=10.0,\n",
              "                          max_doc_update_iter=100, max_iter=10,\n",
              "                          mean_change_tol=0.001, n_components=7, n_jobs=None,\n",
              "                          perp_tol=0.1, random_state=None,\n",
              "                          topic_word_prior=None, total_samples=1000000.0,\n",
              "                          verbose=0)"
            ]
          },
          "metadata": {
            "tags": []
          },
          "execution_count": 36
        }
      ]
    },
    {
      "cell_type": "code",
      "metadata": {
        "id": "4BChjD8jLQ2F",
        "colab": {
          "base_uri": "https://localhost:8080/"
        },
        "outputId": "6f2ffb7d-3539-4155-9ea6-9a4bd48d6f2c"
      },
      "source": [
        "print(\"Topics found via LDA:\")\n",
        "print_topics(lda, tfidf, 20) #Print Topic Result"
      ],
      "execution_count": null,
      "outputs": [
        {
          "output_type": "stream",
          "text": [
            "Topics found via LDA:\n",
            "\n",
            "Topic #0:\n",
            "saya tapi sudah bisa ada belum ini tidak bayar itu yg sekarang nya lalu log masuk ulas saldo ga ya\n",
            "\n",
            "Topic #1:\n",
            "dm sudah saya di tolong min cek ya nomor belum untuk transaksi dana bantu kirim mohon kembali tapi terimakasih terima\n",
            "\n",
            "Topic #2:\n",
            "saya ada susah ya potong ini min kok laku udah kan bgt di kenapa mau padahal voucher produk complain lewat\n",
            "\n",
            "Topic #3:\n",
            "akun tampil saya retas di kok ada ya ini shopee min telah nyaman yang tidak jadi bisa buka sama email\n",
            "\n",
            "Topic #4:\n",
            "saya nya bisa ga invoice shopee kok hp min gak jawab ya kak kirim lampir di ini app dan sama\n",
            "\n",
            "Topic #5:\n",
            "error shopee bisa ya lagi gak tanya mau barang saya kok kaga seller siang di kayak deh dong promo buka\n",
            "\n",
            "Topic #6:\n",
            "toko tipu saya bisa ada min ini korban gak tidak yang banyak produk kalian baik kenapa guna ya sistem yak\n"
          ],
          "name": "stdout"
        }
      ]
    },
    {
      "cell_type": "code",
      "metadata": {
        "id": "aQLEDr4JLiLn",
        "colab": {
          "base_uri": "https://localhost:8080/"
        },
        "outputId": "d5b9a2e9-bc19-4d76-e25f-cdb29dae0df5"
      },
      "source": [
        "import pyLDAvis\n",
        "from pyLDAvis import sklearn as sklearn_lda\n",
        "import pickle"
      ],
      "execution_count": null,
      "outputs": [
        {
          "output_type": "stream",
          "text": [
            "/usr/local/lib/python3.7/dist-packages/past/types/oldstr.py:5: DeprecationWarning: Using or importing the ABCs from 'collections' instead of from 'collections.abc' is deprecated since Python 3.3,and in 3.9 it will stop working\n",
            "  from collections import Iterable\n",
            "/usr/local/lib/python3.7/dist-packages/past/builtins/misc.py:4: DeprecationWarning: Using or importing the ABCs from 'collections' instead of from 'collections.abc' is deprecated since Python 3.3,and in 3.9 it will stop working\n",
            "  from collections import Mapping\n"
          ],
          "name": "stderr"
        }
      ]
    },
    {
      "cell_type": "code",
      "metadata": {
        "id": "GbGVE0aKL3--",
        "colab": {
          "base_uri": "https://localhost:8080/"
        },
        "outputId": "84f572b1-2acc-4858-baf7-f792ef0c4c11"
      },
      "source": [
        "#Get LDA Result\n",
        "dtm = np.matrix(x_over)\n",
        "LDAvis_visualized = sklearn_lda.prepare(lda, dtm, tfidf)"
      ],
      "execution_count": null,
      "outputs": [
        {
          "output_type": "stream",
          "text": [
            "/usr/local/lib/python3.7/dist-packages/pyLDAvis/_prepare.py:247: FutureWarning: In a future version of pandas all arguments of DataFrame.drop except for the argument 'labels' will be keyword-only\n",
            "  by='saliency', ascending=False).head(R).drop('saliency', 1)\n"
          ],
          "name": "stderr"
        }
      ]
    },
    {
      "cell_type": "code",
      "metadata": {
        "id": "4TPiEjjyPQQQ",
        "colab": {
          "base_uri": "https://localhost:8080/"
        },
        "outputId": "0aff42a4-b728-4f60-b3c9-951916621710"
      },
      "source": [
        "LDAvis_visualized"
      ],
      "execution_count": null,
      "outputs": [
        {
          "output_type": "execute_result",
          "data": {
            "text/plain": [
              "PreparedData(topic_coordinates=              x         y  topics  cluster       Freq\n",
              "topic                                                \n",
              "1      0.122784  0.012848       1        1  19.790810\n",
              "4      0.041889 -0.044201       2        1  15.939127\n",
              "5     -0.164563  0.001785       3        1  14.483008\n",
              "3     -0.021520 -0.147314       4        1  14.326697\n",
              "0      0.071442  0.016913       5        1  13.444500\n",
              "2     -0.018455  0.094550       6        1  11.320632\n",
              "6     -0.031578  0.065419       7        1  10.695227, topic_info=           Term       Freq       Total Category  logprob  loglift\n",
              "533       error  53.000000   53.000000  Default  30.0000  30.0000\n",
              "39         akun  93.000000   93.000000  Default  29.0000  29.0000\n",
              "486          dm  91.000000   91.000000  Default  28.0000  28.0000\n",
              "1941       toko  40.000000   40.000000  Default  27.0000  27.0000\n",
              "1842     tampil  31.000000   31.000000  Default  26.0000  26.0000\n",
              "...         ...        ...         ...      ...      ...      ...\n",
              "2081         ya   8.479542  118.549579   Topic7  -5.0780  -0.4023\n",
              "854      karena   6.840097   29.296784   Topic7  -5.2929   0.7807\n",
              "576          ga   7.097120   74.589142   Topic7  -5.2560  -0.1169\n",
              "260   bukalapak   6.805498   29.558292   Topic7  -5.2979   0.7667\n",
              "175        beli   6.597588   43.352792   Topic7  -5.3290   0.3527\n",
              "\n",
              "[497 rows x 6 columns], token_table=      Topic      Freq    Term\n",
              "term                         \n",
              "1         6  0.643642    abai\n",
              "6         2  0.913824  acount\n",
              "8         1  0.138934     ada\n",
              "8         2  0.120409     ada\n",
              "8         3  0.111147     ada\n",
              "...     ...       ...     ...\n",
              "2093      3  0.070763      yg\n",
              "2093      4  0.106145      yg\n",
              "2093      5  0.229981      yg\n",
              "2093      6  0.159217      yg\n",
              "2093      7  0.070763      yg\n",
              "\n",
              "[1066 rows x 3 columns], R=30, lambda_step=0.01, plot_opts={'xlab': 'PC1', 'ylab': 'PC2'}, topic_order=[2, 5, 6, 4, 1, 3, 7])"
            ]
          },
          "metadata": {
            "tags": []
          },
          "execution_count": 40
        }
      ]
    },
    {
      "cell_type": "code",
      "metadata": {
        "id": "ZObOumm9SnS7"
      },
      "source": [
        "pyLDAvis.save_html(LDAvis_visualized,'/content/drive/MyDrive/Project/Hasil_LDA.html') #Export LDA result"
      ],
      "execution_count": null,
      "outputs": []
    },
    {
      "cell_type": "markdown",
      "metadata": {
        "id": "XHQX9mCfT-tp"
      },
      "source": [
        "# **Evaluation Naive Bayes**"
      ]
    },
    {
      "cell_type": "code",
      "metadata": {
        "id": "ziyJ9H9uULun"
      },
      "source": [
        "from sklearn.model_selection import KFold\n",
        "from sklearn.model_selection import cross_val_score"
      ],
      "execution_count": null,
      "outputs": []
    },
    {
      "cell_type": "code",
      "metadata": {
        "id": "fpiFCQAHUESV"
      },
      "source": [
        "#K-fold Cross Validation\n",
        "cv = KFold(n_splits=10, random_state=1, shuffle=True)\n",
        "Score = cross_val_score(pipeline, x_over, y_over, cv=cv, scoring='accuracy')"
      ],
      "execution_count": null,
      "outputs": []
    },
    {
      "cell_type": "code",
      "metadata": {
        "id": "aWLUp92IUKgB",
        "colab": {
          "base_uri": "https://localhost:8080/"
        },
        "outputId": "44fcef38-357c-43a8-e2f2-d3cc66d98563"
      },
      "source": [
        "Score"
      ],
      "execution_count": null,
      "outputs": [
        {
          "output_type": "execute_result",
          "data": {
            "text/plain": [
              "array([0.87401575, 0.91052632, 0.88421053, 0.89210526, 0.91842105,\n",
              "       0.90789474, 0.91578947, 0.90263158, 0.91052632, 0.91842105])"
            ]
          },
          "metadata": {
            "tags": []
          },
          "execution_count": 44
        }
      ]
    },
    {
      "cell_type": "code",
      "metadata": {
        "id": "-PPdncQrUaLX",
        "colab": {
          "base_uri": "https://localhost:8080/"
        },
        "outputId": "fb19fdee-04ed-4040-e1f4-0f18cbe4cbfb"
      },
      "source": [
        "#Average K-n Score\n",
        "print(np.mean(Score))"
      ],
      "execution_count": null,
      "outputs": [
        {
          "output_type": "stream",
          "text": [
            "0.903454206382097\n"
          ],
          "name": "stdout"
        }
      ]
    },
    {
      "cell_type": "code",
      "metadata": {
        "id": "jwj37pehUcUt",
        "colab": {
          "base_uri": "https://localhost:8080/"
        },
        "outputId": "963aebcb-52f9-4f5a-acbb-1572dc2a684b"
      },
      "source": [
        "#Visualize K-fold Performance\n",
        "import matplotlib.pyplot as plt\n",
        "plt.plot(Score)\n",
        "font = {'family' : 'normal',\n",
        "        'weight' : 'bold',\n",
        "        'size'   : 8}\n",
        "\n",
        "plt.rc('font', **font)\n",
        "plt.title('Hasil K-fold Cross Validation')\n",
        "plt.ylabel('F1 - Score')\n",
        "plt.xlabel('Fold')\n",
        "plt.legend('K-n', loc='upper left')\n",
        "plt.savefig(\"/content/drive/MyDrive/k-fold.png\")\n",
        "plt.show()"
      ],
      "execution_count": null,
      "outputs": [
        {
          "output_type": "stream",
          "text": [
            "findfont: Font family ['normal'] not found. Falling back to DejaVu Sans.\n",
            "findfont: Font family ['normal'] not found. Falling back to DejaVu Sans.\n"
          ],
          "name": "stderr"
        },
        {
          "output_type": "display_data",
          "data": {
            "image/png": "[encoded data removed]",
            "text/plain": [
              "<Figure size 432x288 with 1 Axes>"
            ]
          },
          "metadata": {
            "tags": [],
            "needs_background": "light"
          }
        }
      ]
    },
    {
      "cell_type": "code",
      "metadata": {
        "id": "M5dhzyvUUfuU",
        "colab": {
          "base_uri": "https://localhost:8080/"
        },
        "outputId": "a9563f68-e8e6-4eb3-fd59-8f6f1ba3eaec"
      },
      "source": [
        "#Show Confusion Matrix, Precision, Recall and f1-score MNB\n",
        "from sklearn.metrics import confusion_matrix,classification_report\n",
        "print(confusion_matrix(ytest,predict))\n",
        "print(classification_report(ytest,predict))"
      ],
      "execution_count": null,
      "outputs": [
        {
          "output_type": "stream",
          "text": [
            "[[154   3   3   3   0   2   1]\n",
            " [  0 167   0   0   0   0   0]\n",
            " [  8   4 116   6   7  14   2]\n",
            " [  3   0   1 156   1   3   1]\n",
            " [  0   0   0   0 162   0   0]\n",
            " [  5   4  24   5   5 117   4]\n",
            " [  0   1   0   0   0   0 159]]\n",
            "              precision    recall  f1-score   support\n",
            "\n",
            "           0       0.91      0.93      0.92       166\n",
            "           1       0.93      1.00      0.97       167\n",
            "           2       0.81      0.74      0.77       157\n",
            "           3       0.92      0.95      0.93       165\n",
            "           4       0.93      1.00      0.96       162\n",
            "           5       0.86      0.71      0.78       164\n",
            "           6       0.95      0.99      0.97       160\n",
            "\n",
            "    accuracy                           0.90      1141\n",
            "   macro avg       0.90      0.90      0.90      1141\n",
            "weighted avg       0.90      0.90      0.90      1141\n",
            "\n"
          ],
          "name": "stdout"
        }
      ]
    },
    {
      "cell_type": "code",
      "metadata": {
        "colab": {
          "base_uri": "https://localhost:8080/"
        },
        "id": "eBSCoHP5mqYk",
        "outputId": "902cc95b-1be8-4ecd-e579-8e0c2fd8675c"
      },
      "source": [
        "#Show Confusion Matrix, Precision, Recall and f1-score SVC\n",
        "print(confusion_matrix(ytest,predict2))\n",
        "print(classification_report(ytest,predict2))"
      ],
      "execution_count": null,
      "outputs": [
        {
          "output_type": "stream",
          "text": [
            "[[159   0   4   0   0   3   0]\n",
            " [  0 167   0   0   0   0   0]\n",
            " [  2   0 137   1   0  17   0]\n",
            " [  2   0   2 158   0   3   0]\n",
            " [  0   0   0   0 162   0   0]\n",
            " [  0   0  31   0   0 133   0]\n",
            " [  0   0   0   0   0   0 160]]\n",
            "              precision    recall  f1-score   support\n",
            "\n",
            "           0       0.98      0.96      0.97       166\n",
            "           1       1.00      1.00      1.00       167\n",
            "           2       0.79      0.87      0.83       157\n",
            "           3       0.99      0.96      0.98       165\n",
            "           4       1.00      1.00      1.00       162\n",
            "           5       0.85      0.81      0.83       164\n",
            "           6       1.00      1.00      1.00       160\n",
            "\n",
            "    accuracy                           0.94      1141\n",
            "   macro avg       0.94      0.94      0.94      1141\n",
            "weighted avg       0.95      0.94      0.94      1141\n",
            "\n"
          ],
          "name": "stdout"
        }
      ]
    },
    {
      "cell_type": "code",
      "metadata": {
        "colab": {
          "base_uri": "https://localhost:8080/"
        },
        "id": "vphj9N6MmrqZ",
        "outputId": "016ea9c3-2607-43ec-8bba-50280b523c97"
      },
      "source": [
        "conduct = data_stemmed[data_stemmed['Problem']=='Conduct']\n",
        "sm = data_stemmed[data_stemmed['Problem']=='Sales Methods']\n",
        "\n",
        "from collections import Counter\n",
        "cnt = Counter()\n",
        "for text in conduct.text_stemmed.values:\n",
        "    for word in text.split():\n",
        "        cnt[word] += 1\n",
        "#Print Commmon Word on conduct        \n",
        "conduct_most = cnt.most_common(9)\n",
        "dconduct = pd.DataFrame(conduct_most)\n",
        "dconduct = dconduct.iloc[0:,:]\n",
        "dconduct.columns = ['Common_words','count']\n",
        "dconduct.style.background_gradient(cmap='Greens')"
      ],
      "execution_count": null,
      "outputs": [
        {
          "output_type": "execute_result",
          "data": {
            "text/html": [
              "<style type=\"text/css\">\n",
              "#T_fa7ec_row0_col1 {\n",
              "  background-color: #00441b;\n",
              "  color: #f1f1f1;\n",
              "}\n",
              "#T_fa7ec_row1_col1 {\n",
              "  background-color: #8ed08b;\n",
              "  color: #000000;\n",
              "}\n",
              "#T_fa7ec_row2_col1 {\n",
              "  background-color: #aadda4;\n",
              "  color: #000000;\n",
              "}\n",
              "#T_fa7ec_row3_col1 {\n",
              "  background-color: #c3e7bc;\n",
              "  color: #000000;\n",
              "}\n",
              "#T_fa7ec_row4_col1 {\n",
              "  background-color: #e7f6e2;\n",
              "  color: #000000;\n",
              "}\n",
              "#T_fa7ec_row5_col1 {\n",
              "  background-color: #ecf8e8;\n",
              "  color: #000000;\n",
              "}\n",
              "#T_fa7ec_row6_col1 {\n",
              "  background-color: #f2faf0;\n",
              "  color: #000000;\n",
              "}\n",
              "#T_fa7ec_row7_col1 {\n",
              "  background-color: #f5fbf2;\n",
              "  color: #000000;\n",
              "}\n",
              "#T_fa7ec_row8_col1 {\n",
              "  background-color: #f7fcf5;\n",
              "  color: #000000;\n",
              "}\n",
              "</style>\n",
              "<table id=\"T_fa7ec_\">\n",
              "  <thead>\n",
              "    <tr>\n",
              "      <th class=\"blank level0\" >&nbsp;</th>\n",
              "      <th class=\"col_heading level0 col0\" >Common_words</th>\n",
              "      <th class=\"col_heading level0 col1\" >count</th>\n",
              "    </tr>\n",
              "  </thead>\n",
              "  <tbody>\n",
              "    <tr>\n",
              "      <th id=\"T_fa7ec_level0_row0\" class=\"row_heading level0 row0\" >0</th>\n",
              "      <td id=\"T_fa7ec_row0_col0\" class=\"data row0 col0\" >saya</td>\n",
              "      <td id=\"T_fa7ec_row0_col1\" class=\"data row0 col1\" >88</td>\n",
              "    </tr>\n",
              "    <tr>\n",
              "      <th id=\"T_fa7ec_level0_row1\" class=\"row_heading level0 row1\" >1</th>\n",
              "      <td id=\"T_fa7ec_row1_col0\" class=\"data row1 col0\" >di</td>\n",
              "      <td id=\"T_fa7ec_row1_col1\" class=\"data row1 col1\" >53</td>\n",
              "    </tr>\n",
              "    <tr>\n",
              "      <th id=\"T_fa7ec_level0_row2\" class=\"row_heading level0 row2\" >2</th>\n",
              "      <td id=\"T_fa7ec_row2_col0\" class=\"data row2 col0\" >ada</td>\n",
              "      <td id=\"T_fa7ec_row2_col1\" class=\"data row2 col1\" >48</td>\n",
              "    </tr>\n",
              "    <tr>\n",
              "      <th id=\"T_fa7ec_level0_row3\" class=\"row_heading level0 row3\" >3</th>\n",
              "      <td id=\"T_fa7ec_row3_col0\" class=\"data row3 col0\" >tipu</td>\n",
              "      <td id=\"T_fa7ec_row3_col1\" class=\"data row3 col1\" >43</td>\n",
              "    </tr>\n",
              "    <tr>\n",
              "      <th id=\"T_fa7ec_level0_row4\" class=\"row_heading level0 row4\" >4</th>\n",
              "      <td id=\"T_fa7ec_row4_col0\" class=\"data row4 col0\" >ini</td>\n",
              "      <td id=\"T_fa7ec_row4_col1\" class=\"data row4 col1\" >34</td>\n",
              "    </tr>\n",
              "    <tr>\n",
              "      <th id=\"T_fa7ec_level0_row5\" class=\"row_heading level0 row5\" >5</th>\n",
              "      <td id=\"T_fa7ec_row5_col0\" class=\"data row5 col0\" >ga</td>\n",
              "      <td id=\"T_fa7ec_row5_col1\" class=\"data row5 col1\" >32</td>\n",
              "    </tr>\n",
              "    <tr>\n",
              "      <th id=\"T_fa7ec_level0_row6\" class=\"row_heading level0 row6\" >6</th>\n",
              "      <td id=\"T_fa7ec_row6_col0\" class=\"data row6 col0\" >ya</td>\n",
              "      <td id=\"T_fa7ec_row6_col1\" class=\"data row6 col1\" >29</td>\n",
              "    </tr>\n",
              "    <tr>\n",
              "      <th id=\"T_fa7ec_level0_row7\" class=\"row_heading level0 row7\" >7</th>\n",
              "      <td id=\"T_fa7ec_row7_col0\" class=\"data row7 col0\" >yg</td>\n",
              "      <td id=\"T_fa7ec_row7_col1\" class=\"data row7 col1\" >28</td>\n",
              "    </tr>\n",
              "    <tr>\n",
              "      <th id=\"T_fa7ec_level0_row8\" class=\"row_heading level0 row8\" >8</th>\n",
              "      <td id=\"T_fa7ec_row8_col0\" class=\"data row8 col0\" >sudah</td>\n",
              "      <td id=\"T_fa7ec_row8_col1\" class=\"data row8 col1\" >27</td>\n",
              "    </tr>\n",
              "  </tbody>\n",
              "</table>\n"
            ],
            "text/plain": [
              "<pandas.io.formats.style.Styler at 0x7f8e573ac850>"
            ]
          },
          "metadata": {
            "tags": []
          },
          "execution_count": 49
        }
      ]
    },
    {
      "cell_type": "code",
      "metadata": {
        "colab": {
          "base_uri": "https://localhost:8080/"
        },
        "id": "YEGsT3NSnn60",
        "outputId": "5c87b699-bd07-4d6b-bfe1-5fbb881d44b7"
      },
      "source": [
        "import collections\n",
        "import matplotlib.pyplot as plt\n",
        "import seaborn as sns\n",
        "#Visualize Most common word on Conduct Label\n",
        "dconduct.plot(kind ='barh')\n",
        "plt.yticks(range(0,9), dconduct['Common_words'])"
      ],
      "execution_count": null,
      "outputs": [
        {
          "output_type": "execute_result",
          "data": {
            "text/plain": [
              "([<matplotlib.axis.YTick at 0x7f8e574e8dd0>,\n",
              "  <matplotlib.axis.YTick at 0x7f8e574e8610>,\n",
              "  <matplotlib.axis.YTick at 0x7f8e57475410>,\n",
              "  <matplotlib.axis.YTick at 0x7f8e574a9a10>,\n",
              "  <matplotlib.axis.YTick at 0x7f8e574380d0>,\n",
              "  <matplotlib.axis.YTick at 0x7f8e574386d0>,\n",
              "  <matplotlib.axis.YTick at 0x7f8e57438c50>,\n",
              "  <matplotlib.axis.YTick at 0x7f8e5731a6d0>,\n",
              "  <matplotlib.axis.YTick at 0x7f8e5743fb90>],\n",
              " [Text(0, 0, 'saya'),\n",
              "  Text(0, 0, 'di'),\n",
              "  Text(0, 0, 'ada'),\n",
              "  Text(0, 0, 'tipu'),\n",
              "  Text(0, 0, 'ini'),\n",
              "  Text(0, 0, 'ga'),\n",
              "  Text(0, 0, 'ya'),\n",
              "  Text(0, 0, 'yg'),\n",
              "  Text(0, 0, 'sudah')])"
            ]
          },
          "metadata": {
            "tags": []
          },
          "execution_count": 50
        },
        {
          "output_type": "display_data",
          "data": {
            "image/png": "[encoded data removed]",
            "text/plain": [
              "<Figure size 432x288 with 1 Axes>"
            ]
          },
          "metadata": {
            "tags": [],
            "needs_background": "light"
          }
        }
      ]
    },
    {
      "cell_type": "code",
      "metadata": {
        "colab": {
          "base_uri": "https://localhost:8080/"
        },
        "id": "TDhgiFF5pehG",
        "outputId": "be52823d-fd76-4b8a-c528-6e86b289ad04"
      },
      "source": [
        "from collections import Counter\n",
        "cnt = Counter()\n",
        "for text in sm.text_stemmed.values:\n",
        "    for word in text.split():\n",
        "        cnt[word] += 1\n",
        "#Count most common word on Sales Method      \n",
        "sm_most = cnt.most_common(9)\n",
        "dsm = pd.DataFrame(sm_most)\n",
        "dsm = dsm.iloc[0:,:]\n",
        "dsm.columns = ['Common_words','count']\n",
        "dsm.style.background_gradient(cmap='Greens')"
      ],
      "execution_count": null,
      "outputs": [
        {
          "output_type": "execute_result",
          "data": {
            "text/html": [
              "<style type=\"text/css\">\n",
              "#T_a6613_row0_col1 {\n",
              "  background-color: #00441b;\n",
              "  color: #f1f1f1;\n",
              "}\n",
              "#T_a6613_row1_col1 {\n",
              "  background-color: #228a44;\n",
              "  color: #f1f1f1;\n",
              "}\n",
              "#T_a6613_row2_col1 {\n",
              "  background-color: #73c476;\n",
              "  color: #000000;\n",
              "}\n",
              "#T_a6613_row3_col1, #T_a6613_row4_col1 {\n",
              "  background-color: #c7e9c0;\n",
              "  color: #000000;\n",
              "}\n",
              "#T_a6613_row5_col1, #T_a6613_row6_col1, #T_a6613_row7_col1, #T_a6613_row8_col1 {\n",
              "  background-color: #f7fcf5;\n",
              "  color: #000000;\n",
              "}\n",
              "</style>\n",
              "<table id=\"T_a6613_\">\n",
              "  <thead>\n",
              "    <tr>\n",
              "      <th class=\"blank level0\" >&nbsp;</th>\n",
              "      <th class=\"col_heading level0 col0\" >Common_words</th>\n",
              "      <th class=\"col_heading level0 col1\" >count</th>\n",
              "    </tr>\n",
              "  </thead>\n",
              "  <tbody>\n",
              "    <tr>\n",
              "      <th id=\"T_a6613_level0_row0\" class=\"row_heading level0 row0\" >0</th>\n",
              "      <td id=\"T_a6613_row0_col0\" class=\"data row0 col0\" >ya</td>\n",
              "      <td id=\"T_a6613_row0_col1\" class=\"data row0 col1\" >9</td>\n",
              "    </tr>\n",
              "    <tr>\n",
              "      <th id=\"T_a6613_level0_row1\" class=\"row_heading level0 row1\" >1</th>\n",
              "      <td id=\"T_a6613_row1_col0\" class=\"data row1 col0\" >saya</td>\n",
              "      <td id=\"T_a6613_row1_col1\" class=\"data row1 col1\" >8</td>\n",
              "    </tr>\n",
              "    <tr>\n",
              "      <th id=\"T_a6613_level0_row2\" class=\"row_heading level0 row2\" >2</th>\n",
              "      <td id=\"T_a6613_row2_col0\" class=\"data row2 col0\" >error</td>\n",
              "      <td id=\"T_a6613_row2_col1\" class=\"data row2 col1\" >7</td>\n",
              "    </tr>\n",
              "    <tr>\n",
              "      <th id=\"T_a6613_level0_row3\" class=\"row_heading level0 row3\" >3</th>\n",
              "      <td id=\"T_a6613_row3_col0\" class=\"data row3 col0\" >gak</td>\n",
              "      <td id=\"T_a6613_row3_col1\" class=\"data row3 col1\" >6</td>\n",
              "    </tr>\n",
              "    <tr>\n",
              "      <th id=\"T_a6613_level0_row4\" class=\"row_heading level0 row4\" >4</th>\n",
              "      <td id=\"T_a6613_row4_col0\" class=\"data row4 col0\" >kok</td>\n",
              "      <td id=\"T_a6613_row4_col1\" class=\"data row4 col1\" >6</td>\n",
              "    </tr>\n",
              "    <tr>\n",
              "      <th id=\"T_a6613_level0_row5\" class=\"row_heading level0 row5\" >5</th>\n",
              "      <td id=\"T_a6613_row5_col0\" class=\"data row5 col0\" >di</td>\n",
              "      <td id=\"T_a6613_row5_col1\" class=\"data row5 col1\" >5</td>\n",
              "    </tr>\n",
              "    <tr>\n",
              "      <th id=\"T_a6613_level0_row6\" class=\"row_heading level0 row6\" >6</th>\n",
              "      <td id=\"T_a6613_row6_col0\" class=\"data row6 col0\" >ada</td>\n",
              "      <td id=\"T_a6613_row6_col1\" class=\"data row6 col1\" >5</td>\n",
              "    </tr>\n",
              "    <tr>\n",
              "      <th id=\"T_a6613_level0_row7\" class=\"row_heading level0 row7\" >7</th>\n",
              "      <td id=\"T_a6613_row7_col0\" class=\"data row7 col0\" >shopee</td>\n",
              "      <td id=\"T_a6613_row7_col1\" class=\"data row7 col1\" >5</td>\n",
              "    </tr>\n",
              "    <tr>\n",
              "      <th id=\"T_a6613_level0_row8\" class=\"row_heading level0 row8\" >8</th>\n",
              "      <td id=\"T_a6613_row8_col0\" class=\"data row8 col0\" >min</td>\n",
              "      <td id=\"T_a6613_row8_col1\" class=\"data row8 col1\" >5</td>\n",
              "    </tr>\n",
              "  </tbody>\n",
              "</table>\n"
            ],
            "text/plain": [
              "<pandas.io.formats.style.Styler at 0x7f8e573d3190>"
            ]
          },
          "metadata": {
            "tags": []
          },
          "execution_count": 51
        }
      ]
    },
    {
      "cell_type": "code",
      "metadata": {
        "colab": {
          "base_uri": "https://localhost:8080/"
        },
        "id": "i6Yg0IwOpxUa",
        "outputId": "8f594648-10ef-4a00-ea33-c94be6031658"
      },
      "source": [
        "#Visualize Most Common Word on Sales Method\n",
        "dsm.plot(kind ='barh') \n",
        "plt.yticks(range(0,9), dsm['Common_words'])\n",
        "# plt.savefig()"
      ],
      "execution_count": null,
      "outputs": [
        {
          "output_type": "execute_result",
          "data": {
            "text/plain": [
              "([<matplotlib.axis.YTick at 0x7f8e573fb8d0>,\n",
              "  <matplotlib.axis.YTick at 0x7f8e573fb110>,\n",
              "  <matplotlib.axis.YTick at 0x7f8e573ffc50>,\n",
              "  <matplotlib.axis.YTick at 0x7f8e5727d450>,\n",
              "  <matplotlib.axis.YTick at 0x7f8e5727db50>,\n",
              "  <matplotlib.axis.YTick at 0x7f8e5727dd90>,\n",
              "  <matplotlib.axis.YTick at 0x7f8e5727d750>,\n",
              "  <matplotlib.axis.YTick at 0x7f8e57471190>,\n",
              "  <matplotlib.axis.YTick at 0x7f8e57285690>],\n",
              " [Text(0, 0, 'ya'),\n",
              "  Text(0, 0, 'saya'),\n",
              "  Text(0, 0, 'error'),\n",
              "  Text(0, 0, 'gak'),\n",
              "  Text(0, 0, 'kok'),\n",
              "  Text(0, 0, 'di'),\n",
              "  Text(0, 0, 'ada'),\n",
              "  Text(0, 0, 'shopee'),\n",
              "  Text(0, 0, 'min')])"
            ]
          },
          "metadata": {
            "tags": []
          },
          "execution_count": 52
        },
        {
          "output_type": "display_data",
          "data": {
            "image/png": "[encoded data removed]",
            "text/plain": [
              "<Figure size 432x288 with 1 Axes>"
            ]
          },
          "metadata": {
            "tags": [],
            "needs_background": "light"
          }
        }
      ]
    },
    {
      "cell_type": "code",
      "metadata": {
        "id": "_zP_vLCZp64f"
      },
      "source": [
        ""
      ],
      "execution_count": null,
      "outputs": []
    }
  ]
}