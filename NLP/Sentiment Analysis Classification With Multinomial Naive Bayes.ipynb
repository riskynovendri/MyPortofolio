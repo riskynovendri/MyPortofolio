{
  "nbformat": 4,
  "nbformat_minor": 0,
  "metadata": {
    "colab": {
      "name": "JNT Sentiment Analyisis",
      "provenance": [],
      "collapsed_sections": [
        "B4oWEF6jAm1-"
      ]
    },
    "kernelspec": {
      "name": "python3",
      "display_name": "Python 3"
    },
    "language_info": {
      "name": "python"
    }
  },
  "cells": [
    {
      "cell_type": "markdown",
      "metadata": {
        "id": "Uk9bRGuO0MTG"
      },
      "source": [
        "##Convert to Pandas"
      ]
    },
    {
      "cell_type": "code",
      "metadata": {
        "id": "DWXE-j0k0LFC"
      },
      "source": [
        "import pandas as pd"
      ],
      "execution_count": null,
      "outputs": []
    },
    {
      "cell_type": "code",
      "metadata": {
        "id": "oE59CDNG1NCR"
      },
      "source": [
        "#Load data berdasarkan sheetname\n",
        "data1 = pd.read_excel('/content/drive/MyDrive/Tiwi/JNE dan JNT Dataset/FIXDataJNT.xlsx',sheet_name='Salah Alamat')\n",
        "data2 = pd.read_excel('/content/drive/MyDrive/Tiwi/JNE dan JNT Dataset/FIXDataJNT.xlsx',sheet_name='Estimasi Waktu')\n",
        "data3 = pd.read_excel('/content/drive/MyDrive/Tiwi/JNE dan JNT Dataset/FIXDataJNT.xlsx',sheet_name='Status Paket')"
      ],
      "execution_count": null,
      "outputs": []
    },
    {
      "cell_type": "code",
      "metadata": {
        "id": "YMIbkexCM1xr"
      },
      "source": [
        "data1['problem'] = 'Salah Alamat'\n",
        "data2['problem'] = 'Estimasi Waktu'\n",
        "data3['problem'] = 'Status Paket'"
      ],
      "execution_count": null,
      "outputs": []
    },
    {
      "cell_type": "code",
      "metadata": {
        "colab": {
          "base_uri": "https://localhost:8080/",
          "height": 408
        },
        "id": "sTEwftR0A8-a",
        "outputId": "37479bcf-3c6e-4c9f-ba0e-2960f1b70dc8"
      },
      "source": [
        "chart = pd.concat([data1,data2,data3], axis=0)\n",
        "chart = chart.reset_index(drop=True)\n",
        "chart"
      ],
      "execution_count": null,
      "outputs": [
        {
          "output_type": "execute_result",
          "data": {
            "text/html": [
              "<div>\n",
              "<style scoped>\n",
              "    .dataframe tbody tr th:only-of-type {\n",
              "        vertical-align: middle;\n",
              "    }\n",
              "\n",
              "    .dataframe tbody tr th {\n",
              "        vertical-align: top;\n",
              "    }\n",
              "\n",
              "    .dataframe thead th {\n",
              "        text-align: right;\n",
              "    }\n",
              "</style>\n",
              "<table border=\"1\" class=\"dataframe\">\n",
              "  <thead>\n",
              "    <tr style=\"text-align: right;\">\n",
              "      <th></th>\n",
              "      <th>name</th>\n",
              "      <th>tweet</th>\n",
              "      <th>sentimen</th>\n",
              "      <th>problem</th>\n",
              "    </tr>\n",
              "  </thead>\n",
              "  <tbody>\n",
              "    <tr>\n",
              "      <th>0</th>\n",
              "      <td>apditwt</td>\n",
              "      <td>paket gue kaga nyampe nih antara org yg salah ...</td>\n",
              "      <td>netral</td>\n",
              "      <td>Salah Alamat</td>\n",
              "    </tr>\n",
              "    <tr>\n",
              "      <th>1</th>\n",
              "      <td>seonghwababe</td>\n",
              "      <td>Beli dekat shopee alamat betul dah orang jnt @...</td>\n",
              "      <td>netral</td>\n",
              "      <td>Salah Alamat</td>\n",
              "    </tr>\n",
              "    <tr>\n",
              "      <th>2</th>\n",
              "      <td>psharuw</td>\n",
              "      <td>masa temen gua beli pc, terus pake anuan jnt k...</td>\n",
              "      <td>negatif</td>\n",
              "      <td>Salah Alamat</td>\n",
              "    </tr>\n",
              "    <tr>\n",
              "      <th>3</th>\n",
              "      <td>mengfuckyou</td>\n",
              "      <td>mana kurir jnt sering salah alamat rumah krn j...</td>\n",
              "      <td>netral</td>\n",
              "      <td>Salah Alamat</td>\n",
              "    </tr>\n",
              "    <tr>\n",
              "      <th>4</th>\n",
              "      <td>michiessoo</td>\n",
              "      <td>gw drtd masih kepikiran si mas jnt maaf banget...</td>\n",
              "      <td>netral</td>\n",
              "      <td>Salah Alamat</td>\n",
              "    </tr>\n",
              "    <tr>\n",
              "      <th>...</th>\n",
              "      <td>...</td>\n",
              "      <td>...</td>\n",
              "      <td>...</td>\n",
              "      <td>...</td>\n",
              "    </tr>\n",
              "    <tr>\n",
              "      <th>427</th>\n",
              "      <td>Bonolin88</td>\n",
              "      <td>kak, brg saya tolong di kirim donk.. Status pa...</td>\n",
              "      <td>netral</td>\n",
              "      <td>Status Paket</td>\n",
              "    </tr>\n",
              "    <tr>\n",
              "      <th>428</th>\n",
              "      <td>MukhArdiansyah</td>\n",
              "      <td>Selamat siang @jntexpressid, paket dg resi 100...</td>\n",
              "      <td>netral</td>\n",
              "      <td>Status Paket</td>\n",
              "    </tr>\n",
              "    <tr>\n",
              "      <th>429</th>\n",
              "      <td>Donikhsano</td>\n",
              "      <td>min, status paket saya mau sampai kapan di sur...</td>\n",
              "      <td>netral</td>\n",
              "      <td>Status Paket</td>\n",
              "    </tr>\n",
              "    <tr>\n",
              "      <th>430</th>\n",
              "      <td>setyorini_arie</td>\n",
              "      <td>Cek Resi lagi pagi ini status paket masih aja ...</td>\n",
              "      <td>netral</td>\n",
              "      <td>Status Paket</td>\n",
              "    </tr>\n",
              "    <tr>\n",
              "      <th>431</th>\n",
              "      <td>eccedentessias</td>\n",
              "      <td>halo @jntexpressid status paket paket nomor re...</td>\n",
              "      <td>netral</td>\n",
              "      <td>Status Paket</td>\n",
              "    </tr>\n",
              "  </tbody>\n",
              "</table>\n",
              "<p>432 rows × 4 columns</p>\n",
              "</div>"
            ],
            "text/plain": [
              "               name  ...       problem\n",
              "0           apditwt  ...  Salah Alamat\n",
              "1      seonghwababe  ...  Salah Alamat\n",
              "2           psharuw  ...  Salah Alamat\n",
              "3       mengfuckyou  ...  Salah Alamat\n",
              "4        michiessoo  ...  Salah Alamat\n",
              "..              ...  ...           ...\n",
              "427       Bonolin88  ...  Status Paket\n",
              "428  MukhArdiansyah  ...  Status Paket\n",
              "429      Donikhsano  ...  Status Paket\n",
              "430  setyorini_arie  ...  Status Paket\n",
              "431  eccedentessias  ...  Status Paket\n",
              "\n",
              "[432 rows x 4 columns]"
            ]
          },
          "metadata": {
            "tags": []
          },
          "execution_count": 75
        }
      ]
    },
    {
      "cell_type": "code",
      "metadata": {
        "id": "N6EurGHc-ilN"
      },
      "source": [
        "chart1 = chart[chart['sentimen'] == 'negatif'].sort_values(by=['problem'])\n",
        "chart2 = chart[chart['sentimen'] == 'netral'].sort_values(by=['problem'])\n",
        "chart3 = chart[chart['sentimen'] == 'positif'].sort_values(by=['problem'])"
      ],
      "execution_count": null,
      "outputs": []
    },
    {
      "cell_type": "code",
      "metadata": {
        "id": "S0rHm90KRZRG"
      },
      "source": [
        "Data1 = chart1['problem'].value_counts()\n",
        "Data2 = chart2['problem'].value_counts()\n",
        "Data3 = chart3['problem'].value_counts()"
      ],
      "execution_count": null,
      "outputs": []
    },
    {
      "cell_type": "code",
      "metadata": {
        "colab": {
          "base_uri": "https://localhost:8080/"
        },
        "id": "Lq1SCBSIB5W1",
        "outputId": "11dd2876-99c9-473c-e777-30018bdcbab8"
      },
      "source": [
        "Data1.sort_index()"
      ],
      "execution_count": null,
      "outputs": [
        {
          "output_type": "execute_result",
          "data": {
            "text/plain": [
              "Estimasi Waktu    65\n",
              "Salah Alamat       7\n",
              "Status Paket      56\n",
              "Name: problem, dtype: int64"
            ]
          },
          "metadata": {
            "tags": []
          },
          "execution_count": 92
        }
      ]
    },
    {
      "cell_type": "code",
      "metadata": {
        "colab": {
          "base_uri": "https://localhost:8080/"
        },
        "id": "JuGGLfL6B6Mc",
        "outputId": "1a3a36b0-a400-4af6-8543-a7bc066f6e7b"
      },
      "source": [
        "Data2.sort_index()"
      ],
      "execution_count": null,
      "outputs": [
        {
          "output_type": "execute_result",
          "data": {
            "text/plain": [
              "Estimasi Waktu     99\n",
              "Salah Alamat       23\n",
              "Status Paket      161\n",
              "Name: problem, dtype: int64"
            ]
          },
          "metadata": {
            "tags": []
          },
          "execution_count": 93
        }
      ]
    },
    {
      "cell_type": "code",
      "metadata": {
        "colab": {
          "base_uri": "https://localhost:8080/"
        },
        "id": "-3Dc2DrhW5oR",
        "outputId": "95980dcd-4c01-4dcf-c979-ac02d04a895c"
      },
      "source": [
        "Data3.sort_index()"
      ],
      "execution_count": null,
      "outputs": [
        {
          "output_type": "execute_result",
          "data": {
            "text/plain": [
              "Estimasi Waktu    15\n",
              "Salah Alamat       2\n",
              "Status Paket       1\n",
              "Name: problem, dtype: int64"
            ]
          },
          "metadata": {
            "tags": []
          },
          "execution_count": 94
        }
      ]
    },
    {
      "cell_type": "code",
      "metadata": {
        "colab": {
          "base_uri": "https://localhost:8080/",
          "height": 495
        },
        "id": "zdsstoix_oSk",
        "outputId": "dc0f249f-0b74-4033-9396-2430ab20cee9"
      },
      "source": [
        "#Visualisai Sentiment By Topic\n",
        "import matplotlib.pyplot as plt\n",
        "import numpy as np\n",
        "x = np.arange(3)\n",
        "width = 0.2\n",
        "plt.figure(figsize=(7,8))\n",
        "plt.bar(x-0.2, Data1.sort_index(), width, color='#ff0000')\n",
        "plt.bar(x, Data2.sort_index(), width, color='#00ff00')\n",
        "plt.bar(x+0.2, Data3.sort_index(), width, color='#0000ff')\n",
        "plt.xticks(x, ['Estimasi Waktu', 'Salah Alamat', 'Status Paket'])\n",
        "plt.xlabel(\"Kategori\")\n",
        "plt.ylabel(\"Jumlah\")\n",
        "plt.legend([\"Negatif\", \"Netral\", \"Positif\"])\n",
        "plt.savefig('/content/drive/MyDrive/Tiwi/JNE dan JNT Dataset/Perbandingan Kategori JNT.png')\n",
        "plt.show()"
      ],
      "execution_count": null,
      "outputs": [
        {
          "output_type": "display_data",
          "data": {
            "image/png": "[encoded data removed]",
            "text/plain": [
              "<Figure size 504x576 with 1 Axes>"
            ]
          },
          "metadata": {
            "tags": [],
            "needs_background": "light"
          }
        }
      ]
    },
    {
      "cell_type": "code",
      "metadata": {
        "colab": {
          "base_uri": "https://localhost:8080/",
          "height": 1000
        },
        "id": "HzpTtUu-0PXG",
        "outputId": "00ad709e-671b-44d6-eba4-b36242ec659f"
      },
      "source": [
        "data1"
      ],
      "execution_count": null,
      "outputs": [
        {
          "output_type": "execute_result",
          "data": {
            "text/html": [
              "<div>\n",
              "<style scoped>\n",
              "    .dataframe tbody tr th:only-of-type {\n",
              "        vertical-align: middle;\n",
              "    }\n",
              "\n",
              "    .dataframe tbody tr th {\n",
              "        vertical-align: top;\n",
              "    }\n",
              "\n",
              "    .dataframe thead th {\n",
              "        text-align: right;\n",
              "    }\n",
              "</style>\n",
              "<table border=\"1\" class=\"dataframe\">\n",
              "  <thead>\n",
              "    <tr style=\"text-align: right;\">\n",
              "      <th></th>\n",
              "      <th>name</th>\n",
              "      <th>tweet</th>\n",
              "      <th>sentimen</th>\n",
              "      <th>problem</th>\n",
              "    </tr>\n",
              "  </thead>\n",
              "  <tbody>\n",
              "    <tr>\n",
              "      <th>0</th>\n",
              "      <td>apditwt</td>\n",
              "      <td>paket gue kaga nyampe nih antara org yg salah ...</td>\n",
              "      <td>netral</td>\n",
              "      <td>Salah Alamat</td>\n",
              "    </tr>\n",
              "    <tr>\n",
              "      <th>1</th>\n",
              "      <td>seonghwababe</td>\n",
              "      <td>Beli dekat shopee alamat betul dah orang jnt @...</td>\n",
              "      <td>netral</td>\n",
              "      <td>Salah Alamat</td>\n",
              "    </tr>\n",
              "    <tr>\n",
              "      <th>2</th>\n",
              "      <td>psharuw</td>\n",
              "      <td>masa temen gua beli pc, terus pake anuan jnt k...</td>\n",
              "      <td>negatif</td>\n",
              "      <td>Salah Alamat</td>\n",
              "    </tr>\n",
              "    <tr>\n",
              "      <th>3</th>\n",
              "      <td>mengfuckyou</td>\n",
              "      <td>mana kurir jnt sering salah alamat rumah krn j...</td>\n",
              "      <td>netral</td>\n",
              "      <td>Salah Alamat</td>\n",
              "    </tr>\n",
              "    <tr>\n",
              "      <th>4</th>\n",
              "      <td>michiessoo</td>\n",
              "      <td>gw drtd masih kepikiran si mas jnt maaf banget...</td>\n",
              "      <td>netral</td>\n",
              "      <td>Salah Alamat</td>\n",
              "    </tr>\n",
              "    <tr>\n",
              "      <th>5</th>\n",
              "      <td>rafkarinaa</td>\n",
              "      <td>hello jnt express saya mau minta tolong cek st...</td>\n",
              "      <td>netral</td>\n",
              "      <td>Salah Alamat</td>\n",
              "    </tr>\n",
              "    <tr>\n",
              "      <th>6</th>\n",
              "      <td>onel_nio</td>\n",
              "      <td>Min @jntexpressid alamat paket ku salah input ...</td>\n",
              "      <td>negatif</td>\n",
              "      <td>Salah Alamat</td>\n",
              "    </tr>\n",
              "    <tr>\n",
              "      <th>7</th>\n",
              "      <td>ipisrama</td>\n",
              "      <td>@farahhfuad beli lagi sekali yang tersalah let...</td>\n",
              "      <td>netral</td>\n",
              "      <td>Salah Alamat</td>\n",
              "    </tr>\n",
              "    <tr>\n",
              "      <th>8</th>\n",
              "      <td>linkingblueming</td>\n",
              "      <td>hai kak, ini paketku kok salah isi nya? jadi d...</td>\n",
              "      <td>negatif</td>\n",
              "      <td>Salah Alamat</td>\n",
              "    </tr>\n",
              "    <tr>\n",
              "      <th>9</th>\n",
              "      <td>Fnfatinasuhaa</td>\n",
              "      <td>RT @afifpatato: kalau betul rezeki tak salah a...</td>\n",
              "      <td>netral</td>\n",
              "      <td>Salah Alamat</td>\n",
              "    </tr>\n",
              "    <tr>\n",
              "      <th>10</th>\n",
              "      <td>dianendaeyo</td>\n",
              "      <td>Pernah Kirim, salah alamat dr aku apa, dia nem...</td>\n",
              "      <td>netral</td>\n",
              "      <td>Salah Alamat</td>\n",
              "    </tr>\n",
              "    <tr>\n",
              "      <th>11</th>\n",
              "      <td>mulbeiry</td>\n",
              "      <td>Hmm.. jnt makin kesini makin aneh. Waktu itu a...</td>\n",
              "      <td>negatif</td>\n",
              "      <td>Salah Alamat</td>\n",
              "    </tr>\n",
              "    <tr>\n",
              "      <th>12</th>\n",
              "      <td>itsnicotinee</td>\n",
              "      <td>RT @afifpatato: kalau betul rezeki tak salah a...</td>\n",
              "      <td>netral</td>\n",
              "      <td>Salah Alamat</td>\n",
              "    </tr>\n",
              "    <tr>\n",
              "      <th>13</th>\n",
              "      <td>afifpatato</td>\n",
              "      <td>kalau betul rezeki tak salah alamat kenapa par...</td>\n",
              "      <td>netral</td>\n",
              "      <td>Salah Alamat</td>\n",
              "    </tr>\n",
              "    <tr>\n",
              "      <th>14</th>\n",
              "      <td>adiputr75855633</td>\n",
              "      <td>jnt kok kacau banget yah, salah kirim alamat, ...</td>\n",
              "      <td>negatif</td>\n",
              "      <td>Salah Alamat</td>\n",
              "    </tr>\n",
              "    <tr>\n",
              "      <th>15</th>\n",
              "      <td>junekuuu</td>\n",
              "      <td>Tolong follow up resi JP2699243127 diterima ol...</td>\n",
              "      <td>netral</td>\n",
              "      <td>Salah Alamat</td>\n",
              "    </tr>\n",
              "    <tr>\n",
              "      <th>16</th>\n",
              "      <td>T43GYU_</td>\n",
              "      <td>gimana min?? Masa iya paket saya hilang karena...</td>\n",
              "      <td>negatif</td>\n",
              "      <td>Salah Alamat</td>\n",
              "    </tr>\n",
              "    <tr>\n",
              "      <th>17</th>\n",
              "      <td>d1nosaurusS</td>\n",
              "      <td>halo min @jntexpressid , tolong bantu up ya. P...</td>\n",
              "      <td>negatif</td>\n",
              "      <td>Salah Alamat</td>\n",
              "    </tr>\n",
              "    <tr>\n",
              "      <th>18</th>\n",
              "      <td>Camszlt</td>\n",
              "      <td>Minta tolong, kenapa ya kurir jnt kalo minta p...</td>\n",
              "      <td>netral</td>\n",
              "      <td>Salah Alamat</td>\n",
              "    </tr>\n",
              "    <tr>\n",
              "      <th>19</th>\n",
              "      <td>ariantonugroho</td>\n",
              "      <td>kirim dokumen tgl 06/07, Kudus ke Sby. Tgl 07/...</td>\n",
              "      <td>netral</td>\n",
              "      <td>Salah Alamat</td>\n",
              "    </tr>\n",
              "    <tr>\n",
              "      <th>20</th>\n",
              "      <td>putrianimar_18</td>\n",
              "      <td>Halo kak mau nanya dong aku ngirim paket dari ...</td>\n",
              "      <td>netral</td>\n",
              "      <td>Salah Alamat</td>\n",
              "    </tr>\n",
              "    <tr>\n",
              "      <th>21</th>\n",
              "      <td>Joshua_P_HtBrt</td>\n",
              "      <td>gan ini paket saya salah alamatnya tidak lengk...</td>\n",
              "      <td>netral</td>\n",
              "      <td>Salah Alamat</td>\n",
              "    </tr>\n",
              "    <tr>\n",
              "      <th>22</th>\n",
              "      <td>iam_ghazy</td>\n",
              "      <td>Hallo kak, kalo paketnya salah alamat dan masi...</td>\n",
              "      <td>netral</td>\n",
              "      <td>Salah Alamat</td>\n",
              "    </tr>\n",
              "    <tr>\n",
              "      <th>23</th>\n",
              "      <td>jcosiahaan</td>\n",
              "      <td>030090903892 kenapa belum sampe juga ya!!! Sal...</td>\n",
              "      <td>netral</td>\n",
              "      <td>Salah Alamat</td>\n",
              "    </tr>\n",
              "    <tr>\n",
              "      <th>24</th>\n",
              "      <td>ajib2x</td>\n",
              "      <td>min resi 030088579360 salah alamatnya,, minta ...</td>\n",
              "      <td>netral</td>\n",
              "      <td>Salah Alamat</td>\n",
              "    </tr>\n",
              "    <tr>\n",
              "      <th>25</th>\n",
              "      <td>SammyRockz_</td>\n",
              "      <td>kiriman paket dgn no resi 180677398624 sdh smp...</td>\n",
              "      <td>netral</td>\n",
              "      <td>Salah Alamat</td>\n",
              "    </tr>\n",
              "    <tr>\n",
              "      <th>26</th>\n",
              "      <td>fitianingsih01</td>\n",
              "      <td>Suka banget sama pelayanan @jntexpressid kurir...</td>\n",
              "      <td>positif</td>\n",
              "      <td>Salah Alamat</td>\n",
              "    </tr>\n",
              "    <tr>\n",
              "      <th>27</th>\n",
              "      <td>rynriniiiiii</td>\n",
              "      <td>Min gimnaa ceritanya paketan aku bisa nyasar s...</td>\n",
              "      <td>netral</td>\n",
              "      <td>Salah Alamat</td>\n",
              "    </tr>\n",
              "    <tr>\n",
              "      <th>28</th>\n",
              "      <td>sahiruto_</td>\n",
              "      <td>Ka aku mau pick up barang kok blm ada kurir ya...</td>\n",
              "      <td>netral</td>\n",
              "      <td>Salah Alamat</td>\n",
              "    </tr>\n",
              "    <tr>\n",
              "      <th>29</th>\n",
              "      <td>W_Tandy</td>\n",
              "      <td>3 paket sy akan kena dampak ppkm darurat di ko...</td>\n",
              "      <td>netral</td>\n",
              "      <td>Salah Alamat</td>\n",
              "    </tr>\n",
              "    <tr>\n",
              "      <th>30</th>\n",
              "      <td>sevendemonio7</td>\n",
              "      <td>JP10001699850073 kalau mau ganti alamat bisa m...</td>\n",
              "      <td>netral</td>\n",
              "      <td>Salah Alamat</td>\n",
              "    </tr>\n",
              "    <tr>\n",
              "      <th>31</th>\n",
              "      <td>GebySantika</td>\n",
              "      <td>Jasa pengiriman yg gapernah salah alamat kerum...</td>\n",
              "      <td>positif</td>\n",
              "      <td>Salah Alamat</td>\n",
              "    </tr>\n",
              "  </tbody>\n",
              "</table>\n",
              "</div>"
            ],
            "text/plain": [
              "               name  ...       problem\n",
              "0           apditwt  ...  Salah Alamat\n",
              "1      seonghwababe  ...  Salah Alamat\n",
              "2           psharuw  ...  Salah Alamat\n",
              "3       mengfuckyou  ...  Salah Alamat\n",
              "4        michiessoo  ...  Salah Alamat\n",
              "5        rafkarinaa  ...  Salah Alamat\n",
              "6          onel_nio  ...  Salah Alamat\n",
              "7          ipisrama  ...  Salah Alamat\n",
              "8   linkingblueming  ...  Salah Alamat\n",
              "9     Fnfatinasuhaa  ...  Salah Alamat\n",
              "10      dianendaeyo  ...  Salah Alamat\n",
              "11         mulbeiry  ...  Salah Alamat\n",
              "12     itsnicotinee  ...  Salah Alamat\n",
              "13       afifpatato  ...  Salah Alamat\n",
              "14  adiputr75855633  ...  Salah Alamat\n",
              "15         junekuuu  ...  Salah Alamat\n",
              "16          T43GYU_  ...  Salah Alamat\n",
              "17      d1nosaurusS  ...  Salah Alamat\n",
              "18          Camszlt  ...  Salah Alamat\n",
              "19   ariantonugroho  ...  Salah Alamat\n",
              "20   putrianimar_18  ...  Salah Alamat\n",
              "21   Joshua_P_HtBrt  ...  Salah Alamat\n",
              "22        iam_ghazy  ...  Salah Alamat\n",
              "23       jcosiahaan  ...  Salah Alamat\n",
              "24           ajib2x  ...  Salah Alamat\n",
              "25      SammyRockz_  ...  Salah Alamat\n",
              "26   fitianingsih01  ...  Salah Alamat\n",
              "27     rynriniiiiii  ...  Salah Alamat\n",
              "28        sahiruto_  ...  Salah Alamat\n",
              "29          W_Tandy  ...  Salah Alamat\n",
              "30    sevendemonio7  ...  Salah Alamat\n",
              "31      GebySantika  ...  Salah Alamat\n",
              "\n",
              "[32 rows x 4 columns]"
            ]
          },
          "metadata": {
            "tags": []
          },
          "execution_count": 62
        }
      ]
    },
    {
      "cell_type": "code",
      "metadata": {
        "colab": {
          "base_uri": "https://localhost:8080/",
          "height": 424
        },
        "id": "JqqW6qJt0WMZ",
        "outputId": "5871107a-abc4-425d-a859-adafb2155140"
      },
      "source": [
        "data2"
      ],
      "execution_count": null,
      "outputs": [
        {
          "output_type": "execute_result",
          "data": {
            "text/html": [
              "<div>\n",
              "<style scoped>\n",
              "    .dataframe tbody tr th:only-of-type {\n",
              "        vertical-align: middle;\n",
              "    }\n",
              "\n",
              "    .dataframe tbody tr th {\n",
              "        vertical-align: top;\n",
              "    }\n",
              "\n",
              "    .dataframe thead th {\n",
              "        text-align: right;\n",
              "    }\n",
              "</style>\n",
              "<table border=\"1\" class=\"dataframe\">\n",
              "  <thead>\n",
              "    <tr style=\"text-align: right;\">\n",
              "      <th></th>\n",
              "      <th>name</th>\n",
              "      <th>tweet</th>\n",
              "      <th>sentimen</th>\n",
              "      <th>problem</th>\n",
              "    </tr>\n",
              "  </thead>\n",
              "  <tbody>\n",
              "    <tr>\n",
              "      <th>0</th>\n",
              "      <td>clxvdyheavens</td>\n",
              "      <td>JP4084603849 JP9163877255 JP8414136198 barangn...</td>\n",
              "      <td>netral</td>\n",
              "      <td>Estimasi Waktu</td>\n",
              "    </tr>\n",
              "    <tr>\n",
              "      <th>1</th>\n",
              "      <td>DennysErbabley</td>\n",
              "      <td>Paket saya yang dari tanggal 7 sekarang dimana...</td>\n",
              "      <td>netral</td>\n",
              "      <td>Estimasi Waktu</td>\n",
              "    </tr>\n",
              "    <tr>\n",
              "      <th>2</th>\n",
              "      <td>HalunyaAtp\\n</td>\n",
              "      <td>Halo paket saya JP8381955392 kok belum sampai ...</td>\n",
              "      <td>netral</td>\n",
              "      <td>Estimasi Waktu</td>\n",
              "    </tr>\n",
              "    <tr>\n",
              "      <th>3</th>\n",
              "      <td>monikrisilvani</td>\n",
              "      <td>sama ka.. saya juga mandeg di solo nih.. ga ta...</td>\n",
              "      <td>netral</td>\n",
              "      <td>Estimasi Waktu</td>\n",
              "    </tr>\n",
              "    <tr>\n",
              "      <th>4</th>\n",
              "      <td>chrysalizs</td>\n",
              "      <td>Minnn aduh kok paket saya ga nyampe2 dari tang...</td>\n",
              "      <td>negatif</td>\n",
              "      <td>Estimasi Waktu</td>\n",
              "    </tr>\n",
              "    <tr>\n",
              "      <th>...</th>\n",
              "      <td>...</td>\n",
              "      <td>...</td>\n",
              "      <td>...</td>\n",
              "      <td>...</td>\n",
              "    </tr>\n",
              "    <tr>\n",
              "      <th>174</th>\n",
              "      <td>winnoou</td>\n",
              "      <td>estimasi paket saya sampai kapan kak?@jntexpre...</td>\n",
              "      <td>netral</td>\n",
              "      <td>Estimasi Waktu</td>\n",
              "    </tr>\n",
              "    <tr>\n",
              "      <th>175</th>\n",
              "      <td>handayuyasa</td>\n",
              "      <td>belanja online tp bayarnya cod si goblok ga li...</td>\n",
              "      <td>netral</td>\n",
              "      <td>Estimasi Waktu</td>\n",
              "    </tr>\n",
              "    <tr>\n",
              "      <th>176</th>\n",
              "      <td>altrxzk</td>\n",
              "      <td>semoga beneran estimasi besok barang bisa nyampe</td>\n",
              "      <td>netral</td>\n",
              "      <td>Estimasi Waktu</td>\n",
              "    </tr>\n",
              "    <tr>\n",
              "      <th>177</th>\n",
              "      <td>onedayxraa</td>\n",
              "      <td>ini kenapa sih jnt lama bgt, estimasi harusnya...</td>\n",
              "      <td>negatif</td>\n",
              "      <td>Estimasi Waktu</td>\n",
              "    </tr>\n",
              "    <tr>\n",
              "      <th>178</th>\n",
              "      <td>lamoongan</td>\n",
              "      <td>jnt padahal menurut aku yg terbaik dari semua ...</td>\n",
              "      <td>positif</td>\n",
              "      <td>Estimasi Waktu</td>\n",
              "    </tr>\n",
              "  </tbody>\n",
              "</table>\n",
              "<p>179 rows × 4 columns</p>\n",
              "</div>"
            ],
            "text/plain": [
              "               name  ...         problem\n",
              "0     clxvdyheavens  ...  Estimasi Waktu\n",
              "1    DennysErbabley  ...  Estimasi Waktu\n",
              "2      HalunyaAtp\\n  ...  Estimasi Waktu\n",
              "3    monikrisilvani  ...  Estimasi Waktu\n",
              "4        chrysalizs  ...  Estimasi Waktu\n",
              "..              ...  ...             ...\n",
              "174         winnoou  ...  Estimasi Waktu\n",
              "175     handayuyasa  ...  Estimasi Waktu\n",
              "176         altrxzk  ...  Estimasi Waktu\n",
              "177      onedayxraa  ...  Estimasi Waktu\n",
              "178       lamoongan  ...  Estimasi Waktu\n",
              "\n",
              "[179 rows x 4 columns]"
            ]
          },
          "metadata": {
            "tags": []
          },
          "execution_count": 6
        }
      ]
    },
    {
      "cell_type": "code",
      "metadata": {
        "colab": {
          "base_uri": "https://localhost:8080/",
          "height": 424
        },
        "id": "gmUzP8HX0YoB",
        "outputId": "0af46444-923a-413d-a677-1d55418c5b8c"
      },
      "source": [
        "data3"
      ],
      "execution_count": null,
      "outputs": [
        {
          "output_type": "execute_result",
          "data": {
            "text/html": [
              "<div>\n",
              "<style scoped>\n",
              "    .dataframe tbody tr th:only-of-type {\n",
              "        vertical-align: middle;\n",
              "    }\n",
              "\n",
              "    .dataframe tbody tr th {\n",
              "        vertical-align: top;\n",
              "    }\n",
              "\n",
              "    .dataframe thead th {\n",
              "        text-align: right;\n",
              "    }\n",
              "</style>\n",
              "<table border=\"1\" class=\"dataframe\">\n",
              "  <thead>\n",
              "    <tr style=\"text-align: right;\">\n",
              "      <th></th>\n",
              "      <th>name</th>\n",
              "      <th>tweet</th>\n",
              "      <th>sentimen</th>\n",
              "      <th>problem</th>\n",
              "    </tr>\n",
              "  </thead>\n",
              "  <tbody>\n",
              "    <tr>\n",
              "      <th>0</th>\n",
              "      <td>valentinejae2</td>\n",
              "      <td>Contoh dekorasi pesta ulang tahun total semua ...</td>\n",
              "      <td>netral</td>\n",
              "      <td>Status Paket</td>\n",
              "    </tr>\n",
              "    <tr>\n",
              "      <th>1</th>\n",
              "      <td>yusufgunawan</td>\n",
              "      <td>RT @ayunnadilla: Yokk yang nyari cemilan buat ...</td>\n",
              "      <td>netral</td>\n",
              "      <td>Status Paket</td>\n",
              "    </tr>\n",
              "    <tr>\n",
              "      <th>2</th>\n",
              "      <td>dolandtour</td>\n",
              "      <td>RT @ayunnadilla: Yokk yang nyari cemilan buat ...</td>\n",
              "      <td>netral</td>\n",
              "      <td>Status Paket</td>\n",
              "    </tr>\n",
              "    <tr>\n",
              "      <th>3</th>\n",
              "      <td>NittayuriShop</td>\n",
              "      <td>RT @ayunnadilla: Yokk yang nyari cemilan buat ...</td>\n",
              "      <td>netral</td>\n",
              "      <td>Status Paket</td>\n",
              "    </tr>\n",
              "    <tr>\n",
              "      <th>4</th>\n",
              "      <td>infomalang</td>\n",
              "      <td>RT @ayunnadilla: Yokk yang nyari cemilan buat ...</td>\n",
              "      <td>netral</td>\n",
              "      <td>Status Paket</td>\n",
              "    </tr>\n",
              "    <tr>\n",
              "      <th>...</th>\n",
              "      <td>...</td>\n",
              "      <td>...</td>\n",
              "      <td>...</td>\n",
              "      <td>...</td>\n",
              "    </tr>\n",
              "    <tr>\n",
              "      <th>216</th>\n",
              "      <td>Bonolin88</td>\n",
              "      <td>kak, brg saya tolong di kirim donk.. Status pa...</td>\n",
              "      <td>netral</td>\n",
              "      <td>Status Paket</td>\n",
              "    </tr>\n",
              "    <tr>\n",
              "      <th>217</th>\n",
              "      <td>MukhArdiansyah</td>\n",
              "      <td>Selamat siang @jntexpressid, paket dg resi 100...</td>\n",
              "      <td>netral</td>\n",
              "      <td>Status Paket</td>\n",
              "    </tr>\n",
              "    <tr>\n",
              "      <th>218</th>\n",
              "      <td>Donikhsano</td>\n",
              "      <td>min, status paket saya mau sampai kapan di sur...</td>\n",
              "      <td>netral</td>\n",
              "      <td>Status Paket</td>\n",
              "    </tr>\n",
              "    <tr>\n",
              "      <th>219</th>\n",
              "      <td>setyorini_arie</td>\n",
              "      <td>Cek Resi lagi pagi ini status paket masih aja ...</td>\n",
              "      <td>netral</td>\n",
              "      <td>Status Paket</td>\n",
              "    </tr>\n",
              "    <tr>\n",
              "      <th>220</th>\n",
              "      <td>eccedentessias</td>\n",
              "      <td>halo @jntexpressid status paket paket nomor re...</td>\n",
              "      <td>netral</td>\n",
              "      <td>Status Paket</td>\n",
              "    </tr>\n",
              "  </tbody>\n",
              "</table>\n",
              "<p>221 rows × 4 columns</p>\n",
              "</div>"
            ],
            "text/plain": [
              "               name  ...       problem\n",
              "0     valentinejae2  ...  Status Paket\n",
              "1      yusufgunawan  ...  Status Paket\n",
              "2        dolandtour  ...  Status Paket\n",
              "3     NittayuriShop  ...  Status Paket\n",
              "4        infomalang  ...  Status Paket\n",
              "..              ...  ...           ...\n",
              "216       Bonolin88  ...  Status Paket\n",
              "217  MukhArdiansyah  ...  Status Paket\n",
              "218      Donikhsano  ...  Status Paket\n",
              "219  setyorini_arie  ...  Status Paket\n",
              "220  eccedentessias  ...  Status Paket\n",
              "\n",
              "[221 rows x 4 columns]"
            ]
          },
          "metadata": {
            "tags": []
          },
          "execution_count": 7
        }
      ]
    },
    {
      "cell_type": "code",
      "metadata": {
        "colab": {
          "base_uri": "https://localhost:8080/"
        },
        "id": "J_dajLMIBmkk",
        "outputId": "b5f082df-c882-4018-f567-1bbff8de6c2c"
      },
      "source": [
        "data1.info()"
      ],
      "execution_count": null,
      "outputs": [
        {
          "output_type": "stream",
          "text": [
            "<class 'pandas.core.frame.DataFrame'>\n",
            "RangeIndex: 32 entries, 0 to 31\n",
            "Data columns (total 4 columns):\n",
            " #   Column    Non-Null Count  Dtype \n",
            "---  ------    --------------  ----- \n",
            " 0   name      32 non-null     object\n",
            " 1   tweet     32 non-null     object\n",
            " 2   sentimen  32 non-null     object\n",
            " 3   problem   32 non-null     object\n",
            "dtypes: object(4)\n",
            "memory usage: 1.1+ KB\n"
          ],
          "name": "stdout"
        }
      ]
    },
    {
      "cell_type": "code",
      "metadata": {
        "id": "zi0a5Kbm0qFq"
      },
      "source": [
        "#Concate Dataframe\n",
        "jnt = pd.concat([data1,data2,data3], axis=0)"
      ],
      "execution_count": null,
      "outputs": []
    },
    {
      "cell_type": "code",
      "metadata": {
        "colab": {
          "base_uri": "https://localhost:8080/"
        },
        "id": "_rMh7uD_Wef8",
        "outputId": "5ed938d7-2acb-4a3c-d7cd-cc6a3322af93"
      },
      "source": [
        "jnt.isna().sum() #Calculate Nan Value"
      ],
      "execution_count": null,
      "outputs": [
        {
          "output_type": "execute_result",
          "data": {
            "text/plain": [
              "name        1\n",
              "tweet       0\n",
              "sentimen    3\n",
              "dtype: int64"
            ]
          },
          "metadata": {
            "tags": []
          },
          "execution_count": 18
        }
      ]
    },
    {
      "cell_type": "code",
      "metadata": {
        "id": "ycBw_FCXWiTZ"
      },
      "source": [
        "jnt.dropna(inplace=True) #Drop Nan"
      ],
      "execution_count": null,
      "outputs": []
    },
    {
      "cell_type": "code",
      "metadata": {
        "colab": {
          "base_uri": "https://localhost:8080/"
        },
        "id": "b_qerhMJ1TWi",
        "outputId": "2eb093a9-333d-4c3a-d622-9457fd046103"
      },
      "source": [
        "#Count Label\n",
        "jnt['sentimen'].value_counts()"
      ],
      "execution_count": null,
      "outputs": [
        {
          "output_type": "execute_result",
          "data": {
            "text/plain": [
              "netral     282\n",
              "negatif    128\n",
              "positif     18\n",
              "Name: sentimen, dtype: int64"
            ]
          },
          "metadata": {
            "tags": []
          },
          "execution_count": 20
        }
      ]
    },
    {
      "cell_type": "code",
      "metadata": {
        "colab": {
          "base_uri": "https://localhost:8080/"
        },
        "id": "y9KG8VqrWuJz",
        "outputId": "fbfa72bc-8afb-4af0-d26e-ee98428d7f37"
      },
      "source": [
        "jnt.isna().sum()"
      ],
      "execution_count": null,
      "outputs": [
        {
          "output_type": "execute_result",
          "data": {
            "text/plain": [
              "name        0\n",
              "tweet       0\n",
              "sentimen    0\n",
              "dtype: int64"
            ]
          },
          "metadata": {
            "tags": []
          },
          "execution_count": 21
        }
      ]
    },
    {
      "cell_type": "markdown",
      "metadata": {
        "id": "B4oWEF6jAm1-"
      },
      "source": [
        "## Pre-pocessing"
      ]
    },
    {
      "cell_type": "code",
      "metadata": {
        "id": "PH2yR3PvBADL"
      },
      "source": [
        "#Delete Emoji\n",
        "jnt = jnt.astype(str).apply(lambda x: x.str.encode('ascii', 'ignore').str.decode('ascii'))"
      ],
      "execution_count": null,
      "outputs": []
    },
    {
      "cell_type": "code",
      "metadata": {
        "id": "wx_xqMWqAupf",
        "colab": {
          "base_uri": "https://localhost:8080/",
          "height": 424
        },
        "outputId": "8d43fa23-3149-4697-bbdd-3eaecf932fe2"
      },
      "source": [
        "import re\n",
        "#Punctuation Removal\n",
        "def clean_text(df, text_field, new_text_field_name):\n",
        "  #LowerCase\n",
        "  df[new_text_field_name] = df[text_field].str.lower()\n",
        "  #Remove URL\n",
        "  df[new_text_field_name] = df[new_text_field_name].apply(lambda elem: re.sub(r\"(\\w+:\\/\\/\\S+)|^rt|http.+?\", \"\", elem))\n",
        "  # df[new_text_field_name] = df[new_text_field_name].apply(lambda elem: re.sub(r\"(@[A-Za-z0-9]+)|([^0-9A-Za-z \\t])|(\\w+:\\/\\/\\S+)|^rt|http.+?\", \"\", elem))  \n",
        "  #Remove Tag & Hastag\n",
        "  df[new_text_field_name] = df[new_text_field_name].apply(lambda elem: re.sub(r\"(@[A-Za-z0-9_]+)|(#[A-Za-z0-9_]+)\", \"\", elem))  \n",
        "  #Remove char\n",
        "  df[new_text_field_name] = df[new_text_field_name].apply(lambda elem: re.sub(r\"([^0-9A-Za-z \\t])\", \"\", elem))\n",
        "  # Remove Num\n",
        "  df[new_text_field_name] = df[new_text_field_name].apply(lambda elem: re.sub(r\"\\d+\", \"\", elem))\n",
        "\n",
        "  df[new_text_field_name] = df[new_text_field_name].apply(lambda elem: \"\".join(elem.rstrip()))\n",
        "  return df\n",
        "    \n",
        "data_clean = clean_text(jne, 'tweet', 'tweet_clean')\n",
        "data_clean"
      ],
      "execution_count": null,
      "outputs": [
        {
          "output_type": "execute_result",
          "data": {
            "text/html": [
              "<div>\n",
              "<style scoped>\n",
              "    .dataframe tbody tr th:only-of-type {\n",
              "        vertical-align: middle;\n",
              "    }\n",
              "\n",
              "    .dataframe tbody tr th {\n",
              "        vertical-align: top;\n",
              "    }\n",
              "\n",
              "    .dataframe thead th {\n",
              "        text-align: right;\n",
              "    }\n",
              "</style>\n",
              "<table border=\"1\" class=\"dataframe\">\n",
              "  <thead>\n",
              "    <tr style=\"text-align: right;\">\n",
              "      <th></th>\n",
              "      <th>name</th>\n",
              "      <th>tweet</th>\n",
              "      <th>sentimen</th>\n",
              "      <th>tweet_clean</th>\n",
              "    </tr>\n",
              "  </thead>\n",
              "  <tbody>\n",
              "    <tr>\n",
              "      <th>0</th>\n",
              "      <td>apditwt</td>\n",
              "      <td>paket gue kaga nyampe nih antara org yg salah ...</td>\n",
              "      <td>netral</td>\n",
              "      <td>paket gue kaga nyampe nih antara org yg salah ...</td>\n",
              "    </tr>\n",
              "    <tr>\n",
              "      <th>1</th>\n",
              "      <td>seonghwababe</td>\n",
              "      <td>Beli dekat shopee alamat betul dah orang jnt @...</td>\n",
              "      <td>netral</td>\n",
              "      <td>beli dekat shopee alamat betul dah orang jnt  ...</td>\n",
              "    </tr>\n",
              "    <tr>\n",
              "      <th>2</th>\n",
              "      <td>psharuw</td>\n",
              "      <td>masa temen gua beli pc, terus pake anuan jnt k...</td>\n",
              "      <td>negatif</td>\n",
              "      <td>masa temen gua beli pc terus pake anuan jnt ka...</td>\n",
              "    </tr>\n",
              "    <tr>\n",
              "      <th>3</th>\n",
              "      <td>mengfuckyou</td>\n",
              "      <td>mana kurir jnt sering salah alamat rumah krn j...</td>\n",
              "      <td>netral</td>\n",
              "      <td>mana kurir jnt sering salah alamat rumah krn j...</td>\n",
              "    </tr>\n",
              "    <tr>\n",
              "      <th>4</th>\n",
              "      <td>michiessoo</td>\n",
              "      <td>gw drtd masih kepikiran si mas jnt maaf banget...</td>\n",
              "      <td>netral</td>\n",
              "      <td>gw drtd masih kepikiran si mas jnt maaf banget...</td>\n",
              "    </tr>\n",
              "    <tr>\n",
              "      <th>...</th>\n",
              "      <td>...</td>\n",
              "      <td>...</td>\n",
              "      <td>...</td>\n",
              "      <td>...</td>\n",
              "    </tr>\n",
              "    <tr>\n",
              "      <th>216</th>\n",
              "      <td>Bonolin88</td>\n",
              "      <td>kak, brg saya tolong di kirim donk.. Status pa...</td>\n",
              "      <td>netral</td>\n",
              "      <td>kak brg saya tolong di kirim donk status paket...</td>\n",
              "    </tr>\n",
              "    <tr>\n",
              "      <th>217</th>\n",
              "      <td>MukhArdiansyah</td>\n",
              "      <td>Selamat siang @jntexpressid, paket dg resi 100...</td>\n",
              "      <td>netral</td>\n",
              "      <td>selamat siang  paket dg resi  apakah diantar k...</td>\n",
              "    </tr>\n",
              "    <tr>\n",
              "      <th>218</th>\n",
              "      <td>Donikhsano</td>\n",
              "      <td>min, status paket saya mau sampai kapan di sur...</td>\n",
              "      <td>netral</td>\n",
              "      <td>min status paket saya mau sampai kapan di sura...</td>\n",
              "    </tr>\n",
              "    <tr>\n",
              "      <th>219</th>\n",
              "      <td>setyorini_arie</td>\n",
              "      <td>Cek Resi lagi pagi ini status paket masih aja ...</td>\n",
              "      <td>netral</td>\n",
              "      <td>cek resi lagi pagi ini status paket masih aja ...</td>\n",
              "    </tr>\n",
              "    <tr>\n",
              "      <th>220</th>\n",
              "      <td>eccedentessias</td>\n",
              "      <td>halo @jntexpressid status paket paket nomor re...</td>\n",
              "      <td>netral</td>\n",
              "      <td>halo  status paket paket nomor resi jt sekaran...</td>\n",
              "    </tr>\n",
              "  </tbody>\n",
              "</table>\n",
              "<p>428 rows × 4 columns</p>\n",
              "</div>"
            ],
            "text/plain": [
              "               name  ...                                        tweet_clean\n",
              "0           apditwt  ...  paket gue kaga nyampe nih antara org yg salah ...\n",
              "1      seonghwababe  ...  beli dekat shopee alamat betul dah orang jnt  ...\n",
              "2           psharuw  ...  masa temen gua beli pc terus pake anuan jnt ka...\n",
              "3       mengfuckyou  ...  mana kurir jnt sering salah alamat rumah krn j...\n",
              "4        michiessoo  ...  gw drtd masih kepikiran si mas jnt maaf banget...\n",
              "..              ...  ...                                                ...\n",
              "216       Bonolin88  ...  kak brg saya tolong di kirim donk status paket...\n",
              "217  MukhArdiansyah  ...  selamat siang  paket dg resi  apakah diantar k...\n",
              "218      Donikhsano  ...  min status paket saya mau sampai kapan di sura...\n",
              "219  setyorini_arie  ...  cek resi lagi pagi ini status paket masih aja ...\n",
              "220  eccedentessias  ...  halo  status paket paket nomor resi jt sekaran...\n",
              "\n",
              "[428 rows x 4 columns]"
            ]
          },
          "metadata": {
            "tags": []
          },
          "execution_count": 23
        }
      ]
    },
    {
      "cell_type": "code",
      "metadata": {
        "id": "yYXx0_sjktUS"
      },
      "source": [
        "# def Punctuation(text) :\n",
        "#     #Proses Punctuation Removal - seluruh simbol diganti penjadi space\n",
        "#     text = text.str.replace(r'\\-t',' ', regex=True)\n",
        "#     text = text.str.replace(r'[, ]+',' ', regex=True)\n",
        "#     text = text.str.replace(r'[^a-zA-Z\\s]',' ', regex=True)\n",
        "#     text = text.str.replace(r'\\n',' ', regex=True)\n",
        "#     text = text.str.replace(r\"((http://)[^ ]*|(https://)[^ ]*|( www\\.)[^ ]*)\",' ', regex=True)\n",
        "#     return text"
      ],
      "execution_count": null,
      "outputs": []
    },
    {
      "cell_type": "code",
      "metadata": {
        "id": "XwScYPz3kvQy"
      },
      "source": [
        "# jne['tweet_clean'] = Punctuation(jne['tweet'])"
      ],
      "execution_count": null,
      "outputs": []
    },
    {
      "cell_type": "code",
      "metadata": {
        "colab": {
          "base_uri": "https://localhost:8080/",
          "height": 424
        },
        "id": "XpO8kfwbG1JE",
        "outputId": "575ac94f-8389-4bbf-b5bf-30fa9cd46212"
      },
      "source": [
        "#Tokenization\n",
        "def tekonization(text):\n",
        "  text = re.split('\\W+', text)\n",
        "  return text\n",
        "data_clean['Tokenization'] = data_clean['tweet_clean'].apply(lambda x: tekonization(x))\n",
        "data_clean"
      ],
      "execution_count": null,
      "outputs": [
        {
          "output_type": "execute_result",
          "data": {
            "text/html": [
              "<div>\n",
              "<style scoped>\n",
              "    .dataframe tbody tr th:only-of-type {\n",
              "        vertical-align: middle;\n",
              "    }\n",
              "\n",
              "    .dataframe tbody tr th {\n",
              "        vertical-align: top;\n",
              "    }\n",
              "\n",
              "    .dataframe thead th {\n",
              "        text-align: right;\n",
              "    }\n",
              "</style>\n",
              "<table border=\"1\" class=\"dataframe\">\n",
              "  <thead>\n",
              "    <tr style=\"text-align: right;\">\n",
              "      <th></th>\n",
              "      <th>name</th>\n",
              "      <th>tweet</th>\n",
              "      <th>sentimen</th>\n",
              "      <th>tweet_clean</th>\n",
              "      <th>Tokenization</th>\n",
              "    </tr>\n",
              "  </thead>\n",
              "  <tbody>\n",
              "    <tr>\n",
              "      <th>0</th>\n",
              "      <td>apditwt</td>\n",
              "      <td>paket gue kaga nyampe nih antara org yg salah ...</td>\n",
              "      <td>netral</td>\n",
              "      <td>paket gue kaga nyampe nih antara org yg salah ...</td>\n",
              "      <td>[paket, gue, kaga, nyampe, nih, antara, org, y...</td>\n",
              "    </tr>\n",
              "    <tr>\n",
              "      <th>1</th>\n",
              "      <td>seonghwababe</td>\n",
              "      <td>Beli dekat shopee alamat betul dah orang jnt @...</td>\n",
              "      <td>netral</td>\n",
              "      <td>beli dekat shopee alamat betul dah orang jnt  ...</td>\n",
              "      <td>[beli, dekat, shopee, alamat, betul, dah, oran...</td>\n",
              "    </tr>\n",
              "    <tr>\n",
              "      <th>2</th>\n",
              "      <td>psharuw</td>\n",
              "      <td>masa temen gua beli pc, terus pake anuan jnt k...</td>\n",
              "      <td>negatif</td>\n",
              "      <td>masa temen gua beli pc terus pake anuan jnt ka...</td>\n",
              "      <td>[masa, temen, gua, beli, pc, terus, pake, anua...</td>\n",
              "    </tr>\n",
              "    <tr>\n",
              "      <th>3</th>\n",
              "      <td>mengfuckyou</td>\n",
              "      <td>mana kurir jnt sering salah alamat rumah krn j...</td>\n",
              "      <td>netral</td>\n",
              "      <td>mana kurir jnt sering salah alamat rumah krn j...</td>\n",
              "      <td>[mana, kurir, jnt, sering, salah, alamat, ruma...</td>\n",
              "    </tr>\n",
              "    <tr>\n",
              "      <th>4</th>\n",
              "      <td>michiessoo</td>\n",
              "      <td>gw drtd masih kepikiran si mas jnt maaf banget...</td>\n",
              "      <td>netral</td>\n",
              "      <td>gw drtd masih kepikiran si mas jnt maaf banget...</td>\n",
              "      <td>[gw, drtd, masih, kepikiran, si, mas, jnt, maa...</td>\n",
              "    </tr>\n",
              "    <tr>\n",
              "      <th>...</th>\n",
              "      <td>...</td>\n",
              "      <td>...</td>\n",
              "      <td>...</td>\n",
              "      <td>...</td>\n",
              "      <td>...</td>\n",
              "    </tr>\n",
              "    <tr>\n",
              "      <th>216</th>\n",
              "      <td>Bonolin88</td>\n",
              "      <td>kak, brg saya tolong di kirim donk.. Status pa...</td>\n",
              "      <td>netral</td>\n",
              "      <td>kak brg saya tolong di kirim donk status paket...</td>\n",
              "      <td>[kak, brg, saya, tolong, di, kirim, donk, stat...</td>\n",
              "    </tr>\n",
              "    <tr>\n",
              "      <th>217</th>\n",
              "      <td>MukhArdiansyah</td>\n",
              "      <td>Selamat siang @jntexpressid, paket dg resi 100...</td>\n",
              "      <td>netral</td>\n",
              "      <td>selamat siang  paket dg resi  apakah diantar k...</td>\n",
              "      <td>[selamat, siang, paket, dg, resi, apakah, dian...</td>\n",
              "    </tr>\n",
              "    <tr>\n",
              "      <th>218</th>\n",
              "      <td>Donikhsano</td>\n",
              "      <td>min, status paket saya mau sampai kapan di sur...</td>\n",
              "      <td>netral</td>\n",
              "      <td>min status paket saya mau sampai kapan di sura...</td>\n",
              "      <td>[min, status, paket, saya, mau, sampai, kapan,...</td>\n",
              "    </tr>\n",
              "    <tr>\n",
              "      <th>219</th>\n",
              "      <td>setyorini_arie</td>\n",
              "      <td>Cek Resi lagi pagi ini status paket masih aja ...</td>\n",
              "      <td>netral</td>\n",
              "      <td>cek resi lagi pagi ini status paket masih aja ...</td>\n",
              "      <td>[cek, resi, lagi, pagi, ini, status, paket, ma...</td>\n",
              "    </tr>\n",
              "    <tr>\n",
              "      <th>220</th>\n",
              "      <td>eccedentessias</td>\n",
              "      <td>halo @jntexpressid status paket paket nomor re...</td>\n",
              "      <td>netral</td>\n",
              "      <td>halo  status paket paket nomor resi jt sekaran...</td>\n",
              "      <td>[halo, status, paket, paket, nomor, resi, jt, ...</td>\n",
              "    </tr>\n",
              "  </tbody>\n",
              "</table>\n",
              "<p>428 rows × 5 columns</p>\n",
              "</div>"
            ],
            "text/plain": [
              "               name  ...                                       Tokenization\n",
              "0           apditwt  ...  [paket, gue, kaga, nyampe, nih, antara, org, y...\n",
              "1      seonghwababe  ...  [beli, dekat, shopee, alamat, betul, dah, oran...\n",
              "2           psharuw  ...  [masa, temen, gua, beli, pc, terus, pake, anua...\n",
              "3       mengfuckyou  ...  [mana, kurir, jnt, sering, salah, alamat, ruma...\n",
              "4        michiessoo  ...  [gw, drtd, masih, kepikiran, si, mas, jnt, maa...\n",
              "..              ...  ...                                                ...\n",
              "216       Bonolin88  ...  [kak, brg, saya, tolong, di, kirim, donk, stat...\n",
              "217  MukhArdiansyah  ...  [selamat, siang, paket, dg, resi, apakah, dian...\n",
              "218      Donikhsano  ...  [min, status, paket, saya, mau, sampai, kapan,...\n",
              "219  setyorini_arie  ...  [cek, resi, lagi, pagi, ini, status, paket, ma...\n",
              "220  eccedentessias  ...  [halo, status, paket, paket, nomor, resi, jt, ...\n",
              "\n",
              "[428 rows x 5 columns]"
            ]
          },
          "metadata": {
            "tags": []
          },
          "execution_count": 26
        }
      ]
    },
    {
      "cell_type": "code",
      "metadata": {
        "colab": {
          "base_uri": "https://localhost:8080/",
          "height": 635
        },
        "id": "-72A1taLRNiN",
        "outputId": "b6049f8b-ae04-4e64-d805-07348129c72f"
      },
      "source": [
        "#Stopword Removal\n",
        "import nltk\n",
        "from nltk.corpus import stopwords\n",
        "nltk.download('stopwords')\n",
        "\n",
        "stopword = stopwords.words('indonesian')\n",
        "\n",
        "def remove_stopwords(text):\n",
        "  text = [word for word in text if word not in stopword]\n",
        "  return text\n",
        "\n",
        "data_clean['stop_removal'] = data_clean['Tokenization'].apply(lambda x: remove_stopwords(x))\n",
        "data_clean"
      ],
      "execution_count": null,
      "outputs": [
        {
          "output_type": "stream",
          "text": [
            "[nltk_data] Downloading package stopwords to /root/nltk_data...\n",
            "[nltk_data]   Unzipping corpora/stopwords.zip.\n"
          ],
          "name": "stdout"
        },
        {
          "output_type": "execute_result",
          "data": {
            "text/html": [
              "<div>\n",
              "<style scoped>\n",
              "    .dataframe tbody tr th:only-of-type {\n",
              "        vertical-align: middle;\n",
              "    }\n",
              "\n",
              "    .dataframe tbody tr th {\n",
              "        vertical-align: top;\n",
              "    }\n",
              "\n",
              "    .dataframe thead th {\n",
              "        text-align: right;\n",
              "    }\n",
              "</style>\n",
              "<table border=\"1\" class=\"dataframe\">\n",
              "  <thead>\n",
              "    <tr style=\"text-align: right;\">\n",
              "      <th></th>\n",
              "      <th>name</th>\n",
              "      <th>tweet</th>\n",
              "      <th>sentimen</th>\n",
              "      <th>tweet_clean</th>\n",
              "      <th>Tokenization</th>\n",
              "      <th>stop_removal</th>\n",
              "    </tr>\n",
              "  </thead>\n",
              "  <tbody>\n",
              "    <tr>\n",
              "      <th>0</th>\n",
              "      <td>apditwt</td>\n",
              "      <td>paket gue kaga nyampe nih antara org yg salah ...</td>\n",
              "      <td>netral</td>\n",
              "      <td>paket gue kaga nyampe nih antara org yg salah ...</td>\n",
              "      <td>[paket, gue, kaga, nyampe, nih, antara, org, y...</td>\n",
              "      <td>[paket, gue, kaga, nyampe, nih, org, yg, salah...</td>\n",
              "    </tr>\n",
              "    <tr>\n",
              "      <th>1</th>\n",
              "      <td>seonghwababe</td>\n",
              "      <td>Beli dekat shopee alamat betul dah orang jnt @...</td>\n",
              "      <td>netral</td>\n",
              "      <td>beli dekat shopee alamat betul dah orang jnt  ...</td>\n",
              "      <td>[beli, dekat, shopee, alamat, betul, dah, oran...</td>\n",
              "      <td>[beli, shopee, alamat, dah, orang, jnt, tu, sa...</td>\n",
              "    </tr>\n",
              "    <tr>\n",
              "      <th>2</th>\n",
              "      <td>psharuw</td>\n",
              "      <td>masa temen gua beli pc, terus pake anuan jnt k...</td>\n",
              "      <td>negatif</td>\n",
              "      <td>masa temen gua beli pc terus pake anuan jnt ka...</td>\n",
              "      <td>[masa, temen, gua, beli, pc, terus, pake, anua...</td>\n",
              "      <td>[temen, gua, beli, pc, pake, anuan, jnt, shope...</td>\n",
              "    </tr>\n",
              "    <tr>\n",
              "      <th>3</th>\n",
              "      <td>mengfuckyou</td>\n",
              "      <td>mana kurir jnt sering salah alamat rumah krn j...</td>\n",
              "      <td>netral</td>\n",
              "      <td>mana kurir jnt sering salah alamat rumah krn j...</td>\n",
              "      <td>[mana, kurir, jnt, sering, salah, alamat, ruma...</td>\n",
              "      <td>[kurir, jnt, salah, alamat, rumah, krn, jalan,...</td>\n",
              "    </tr>\n",
              "    <tr>\n",
              "      <th>4</th>\n",
              "      <td>michiessoo</td>\n",
              "      <td>gw drtd masih kepikiran si mas jnt maaf banget...</td>\n",
              "      <td>netral</td>\n",
              "      <td>gw drtd masih kepikiran si mas jnt maaf banget...</td>\n",
              "      <td>[gw, drtd, masih, kepikiran, si, mas, jnt, maa...</td>\n",
              "      <td>[gw, drtd, kepikiran, si, mas, jnt, maaf, bang...</td>\n",
              "    </tr>\n",
              "    <tr>\n",
              "      <th>...</th>\n",
              "      <td>...</td>\n",
              "      <td>...</td>\n",
              "      <td>...</td>\n",
              "      <td>...</td>\n",
              "      <td>...</td>\n",
              "      <td>...</td>\n",
              "    </tr>\n",
              "    <tr>\n",
              "      <th>216</th>\n",
              "      <td>Bonolin88</td>\n",
              "      <td>kak, brg saya tolong di kirim donk.. Status pa...</td>\n",
              "      <td>netral</td>\n",
              "      <td>kak brg saya tolong di kirim donk status paket...</td>\n",
              "      <td>[kak, brg, saya, tolong, di, kirim, donk, stat...</td>\n",
              "      <td>[kak, brg, tolong, kirim, donk, status, paket,...</td>\n",
              "    </tr>\n",
              "    <tr>\n",
              "      <th>217</th>\n",
              "      <td>MukhArdiansyah</td>\n",
              "      <td>Selamat siang @jntexpressid, paket dg resi 100...</td>\n",
              "      <td>netral</td>\n",
              "      <td>selamat siang  paket dg resi  apakah diantar k...</td>\n",
              "      <td>[selamat, siang, paket, dg, resi, apakah, dian...</td>\n",
              "      <td>[selamat, siang, paket, dg, resi, diantar, rum...</td>\n",
              "    </tr>\n",
              "    <tr>\n",
              "      <th>218</th>\n",
              "      <td>Donikhsano</td>\n",
              "      <td>min, status paket saya mau sampai kapan di sur...</td>\n",
              "      <td>netral</td>\n",
              "      <td>min status paket saya mau sampai kapan di sura...</td>\n",
              "      <td>[min, status, paket, saya, mau, sampai, kapan,...</td>\n",
              "      <td>[min, status, paket, suradita, ambil, aja, ngg...</td>\n",
              "    </tr>\n",
              "    <tr>\n",
              "      <th>219</th>\n",
              "      <td>setyorini_arie</td>\n",
              "      <td>Cek Resi lagi pagi ini status paket masih aja ...</td>\n",
              "      <td>netral</td>\n",
              "      <td>cek resi lagi pagi ini status paket masih aja ...</td>\n",
              "      <td>[cek, resi, lagi, pagi, ini, status, paket, ma...</td>\n",
              "      <td>[cek, resi, pagi, status, paket, aja, posisi, ...</td>\n",
              "    </tr>\n",
              "    <tr>\n",
              "      <th>220</th>\n",
              "      <td>eccedentessias</td>\n",
              "      <td>halo @jntexpressid status paket paket nomor re...</td>\n",
              "      <td>netral</td>\n",
              "      <td>halo  status paket paket nomor resi jt sekaran...</td>\n",
              "      <td>[halo, status, paket, paket, nomor, resi, jt, ...</td>\n",
              "      <td>[halo, status, paket, paket, nomor, resi, jt, ...</td>\n",
              "    </tr>\n",
              "  </tbody>\n",
              "</table>\n",
              "<p>428 rows × 6 columns</p>\n",
              "</div>"
            ],
            "text/plain": [
              "               name  ...                                       stop_removal\n",
              "0           apditwt  ...  [paket, gue, kaga, nyampe, nih, org, yg, salah...\n",
              "1      seonghwababe  ...  [beli, shopee, alamat, dah, orang, jnt, tu, sa...\n",
              "2           psharuw  ...  [temen, gua, beli, pc, pake, anuan, jnt, shope...\n",
              "3       mengfuckyou  ...  [kurir, jnt, salah, alamat, rumah, krn, jalan,...\n",
              "4        michiessoo  ...  [gw, drtd, kepikiran, si, mas, jnt, maaf, bang...\n",
              "..              ...  ...                                                ...\n",
              "216       Bonolin88  ...  [kak, brg, tolong, kirim, donk, status, paket,...\n",
              "217  MukhArdiansyah  ...  [selamat, siang, paket, dg, resi, diantar, rum...\n",
              "218      Donikhsano  ...  [min, status, paket, suradita, ambil, aja, ngg...\n",
              "219  setyorini_arie  ...  [cek, resi, pagi, status, paket, aja, posisi, ...\n",
              "220  eccedentessias  ...  [halo, status, paket, paket, nomor, resi, jt, ...\n",
              "\n",
              "[428 rows x 6 columns]"
            ]
          },
          "metadata": {
            "tags": []
          },
          "execution_count": 27
        }
      ]
    },
    {
      "cell_type": "code",
      "metadata": {
        "colab": {
          "base_uri": "https://localhost:8080/",
          "height": 406
        },
        "id": "26993sppW2cH",
        "outputId": "ab980b43-1bfa-4b00-dfe4-a0794096882f"
      },
      "source": [
        "!pip install sastrawi\n",
        "import re\n",
        "\n",
        "#Stemming\n",
        "from Sastrawi.Stemmer.StemmerFactory import StemmerFactory\n",
        "from nltk.tokenize import sent_tokenize, word_tokenize\n",
        "\n",
        "def word_stemmer(text):\n",
        "    stem_text = [StemmerFactory().create_stemmer().stem(i) for i in text]\n",
        "    return stem_text\n",
        "    \n",
        "data_clean['stemming'] = data_clean['stop_removal'].apply(lambda x: word_stemmer(x))\n",
        "data_clean.head()"
      ],
      "execution_count": null,
      "outputs": [
        {
          "output_type": "stream",
          "text": [
            "Collecting sastrawi\n",
            "\u001b[?25l  Downloading https://files.pythonhosted.org/packages/6f/4b/bab676953da3103003730b8fcdfadbdd20f333d4add10af949dd5c51e6ed/Sastrawi-1.0.1-py2.py3-none-any.whl (209kB)\n",
            "\r\u001b[K     |█▋                              | 10kB 17.0MB/s eta 0:00:01\r\u001b[K     |███▏                            | 20kB 7.7MB/s eta 0:00:01\r\u001b[K     |████▊                           | 30kB 5.5MB/s eta 0:00:01\r\u001b[K     |██████▎                         | 40kB 5.3MB/s eta 0:00:01\r\u001b[K     |███████▉                        | 51kB 2.7MB/s eta 0:00:01\r\u001b[K     |█████████▍                      | 61kB 3.0MB/s eta 0:00:01\r\u001b[K     |███████████                     | 71kB 3.2MB/s eta 0:00:01\r\u001b[K     |████████████▌                   | 81kB 3.5MB/s eta 0:00:01\r\u001b[K     |██████████████                  | 92kB 3.7MB/s eta 0:00:01\r\u001b[K     |███████████████▋                | 102kB 3.9MB/s eta 0:00:01\r\u001b[K     |█████████████████▏              | 112kB 3.9MB/s eta 0:00:01\r\u001b[K     |██████████████████▊             | 122kB 3.9MB/s eta 0:00:01\r\u001b[K     |████████████████████▎           | 133kB 3.9MB/s eta 0:00:01\r\u001b[K     |█████████████████████▉          | 143kB 3.9MB/s eta 0:00:01\r\u001b[K     |███████████████████████▍        | 153kB 3.9MB/s eta 0:00:01\r\u001b[K     |█████████████████████████       | 163kB 3.9MB/s eta 0:00:01\r\u001b[K     |██████████████████████████▋     | 174kB 3.9MB/s eta 0:00:01\r\u001b[K     |████████████████████████████▏   | 184kB 3.9MB/s eta 0:00:01\r\u001b[K     |█████████████████████████████▊  | 194kB 3.9MB/s eta 0:00:01\r\u001b[K     |███████████████████████████████▎| 204kB 3.9MB/s eta 0:00:01\r\u001b[K     |████████████████████████████████| 215kB 3.9MB/s \n",
            "\u001b[?25hInstalling collected packages: sastrawi\n",
            "Successfully installed sastrawi-1.0.1\n"
          ],
          "name": "stdout"
        },
        {
          "output_type": "execute_result",
          "data": {
            "text/html": [
              "<div>\n",
              "<style scoped>\n",
              "    .dataframe tbody tr th:only-of-type {\n",
              "        vertical-align: middle;\n",
              "    }\n",
              "\n",
              "    .dataframe tbody tr th {\n",
              "        vertical-align: top;\n",
              "    }\n",
              "\n",
              "    .dataframe thead th {\n",
              "        text-align: right;\n",
              "    }\n",
              "</style>\n",
              "<table border=\"1\" class=\"dataframe\">\n",
              "  <thead>\n",
              "    <tr style=\"text-align: right;\">\n",
              "      <th></th>\n",
              "      <th>name</th>\n",
              "      <th>tweet</th>\n",
              "      <th>sentimen</th>\n",
              "      <th>tweet_clean</th>\n",
              "      <th>Tokenization</th>\n",
              "      <th>stop_removal</th>\n",
              "      <th>stemming</th>\n",
              "    </tr>\n",
              "  </thead>\n",
              "  <tbody>\n",
              "    <tr>\n",
              "      <th>0</th>\n",
              "      <td>apditwt</td>\n",
              "      <td>paket gue kaga nyampe nih antara org yg salah ...</td>\n",
              "      <td>netral</td>\n",
              "      <td>paket gue kaga nyampe nih antara org yg salah ...</td>\n",
              "      <td>[paket, gue, kaga, nyampe, nih, antara, org, y...</td>\n",
              "      <td>[paket, gue, kaga, nyampe, nih, org, yg, salah...</td>\n",
              "      <td>[paket, gue, kaga, nyampe, nih, org, yg, salah...</td>\n",
              "    </tr>\n",
              "    <tr>\n",
              "      <th>1</th>\n",
              "      <td>seonghwababe</td>\n",
              "      <td>Beli dekat shopee alamat betul dah orang jnt @...</td>\n",
              "      <td>netral</td>\n",
              "      <td>beli dekat shopee alamat betul dah orang jnt  ...</td>\n",
              "      <td>[beli, dekat, shopee, alamat, betul, dah, oran...</td>\n",
              "      <td>[beli, shopee, alamat, dah, orang, jnt, tu, sa...</td>\n",
              "      <td>[beli, shopee, alamat, dah, orang, jnt, tu, sa...</td>\n",
              "    </tr>\n",
              "    <tr>\n",
              "      <th>2</th>\n",
              "      <td>psharuw</td>\n",
              "      <td>masa temen gua beli pc, terus pake anuan jnt k...</td>\n",
              "      <td>negatif</td>\n",
              "      <td>masa temen gua beli pc terus pake anuan jnt ka...</td>\n",
              "      <td>[masa, temen, gua, beli, pc, terus, pake, anua...</td>\n",
              "      <td>[temen, gua, beli, pc, pake, anuan, jnt, shope...</td>\n",
              "      <td>[temen, gua, beli, pc, pake, anu, jnt, shopeen...</td>\n",
              "    </tr>\n",
              "    <tr>\n",
              "      <th>3</th>\n",
              "      <td>mengfuckyou</td>\n",
              "      <td>mana kurir jnt sering salah alamat rumah krn j...</td>\n",
              "      <td>netral</td>\n",
              "      <td>mana kurir jnt sering salah alamat rumah krn j...</td>\n",
              "      <td>[mana, kurir, jnt, sering, salah, alamat, ruma...</td>\n",
              "      <td>[kurir, jnt, salah, alamat, rumah, krn, jalan,...</td>\n",
              "      <td>[kurir, jnt, salah, alamat, rumah, krn, jalan,...</td>\n",
              "    </tr>\n",
              "    <tr>\n",
              "      <th>4</th>\n",
              "      <td>michiessoo</td>\n",
              "      <td>gw drtd masih kepikiran si mas jnt maaf banget...</td>\n",
              "      <td>netral</td>\n",
              "      <td>gw drtd masih kepikiran si mas jnt maaf banget...</td>\n",
              "      <td>[gw, drtd, masih, kepikiran, si, mas, jnt, maa...</td>\n",
              "      <td>[gw, drtd, kepikiran, si, mas, jnt, maaf, bang...</td>\n",
              "      <td>[gw, drtd, pikir, si, mas, jnt, maaf, banget, ...</td>\n",
              "    </tr>\n",
              "  </tbody>\n",
              "</table>\n",
              "</div>"
            ],
            "text/plain": [
              "           name  ...                                           stemming\n",
              "0       apditwt  ...  [paket, gue, kaga, nyampe, nih, org, yg, salah...\n",
              "1  seonghwababe  ...  [beli, shopee, alamat, dah, orang, jnt, tu, sa...\n",
              "2       psharuw  ...  [temen, gua, beli, pc, pake, anu, jnt, shopeen...\n",
              "3   mengfuckyou  ...  [kurir, jnt, salah, alamat, rumah, krn, jalan,...\n",
              "4    michiessoo  ...  [gw, drtd, pikir, si, mas, jnt, maaf, banget, ...\n",
              "\n",
              "[5 rows x 7 columns]"
            ]
          },
          "metadata": {
            "tags": []
          },
          "execution_count": 28
        }
      ]
    },
    {
      "cell_type": "code",
      "metadata": {
        "id": "rzgynT1qGk9Y"
      },
      "source": [
        "data_clean.to_excel('/content/drive/MyDrive/JNE dan JNT Dataset/data__jnt.xlsx')"
      ],
      "execution_count": null,
      "outputs": []
    },
    {
      "cell_type": "code",
      "metadata": {
        "colab": {
          "base_uri": "https://localhost:8080/",
          "height": 424
        },
        "id": "LmGk8B43tyaQ",
        "outputId": "6b83d956-3f69-4a04-b659-17f742240182"
      },
      "source": [
        "data_new = data_clean[['stemming','sentimen']] #Data Selection\n",
        "data_new"
      ],
      "execution_count": null,
      "outputs": [
        {
          "output_type": "execute_result",
          "data": {
            "text/html": [
              "<div>\n",
              "<style scoped>\n",
              "    .dataframe tbody tr th:only-of-type {\n",
              "        vertical-align: middle;\n",
              "    }\n",
              "\n",
              "    .dataframe tbody tr th {\n",
              "        vertical-align: top;\n",
              "    }\n",
              "\n",
              "    .dataframe thead th {\n",
              "        text-align: right;\n",
              "    }\n",
              "</style>\n",
              "<table border=\"1\" class=\"dataframe\">\n",
              "  <thead>\n",
              "    <tr style=\"text-align: right;\">\n",
              "      <th></th>\n",
              "      <th>stemming</th>\n",
              "      <th>sentimen</th>\n",
              "    </tr>\n",
              "  </thead>\n",
              "  <tbody>\n",
              "    <tr>\n",
              "      <th>0</th>\n",
              "      <td>[paket, gue, kaga, nyampe, nih, org, yg, salah...</td>\n",
              "      <td>netral</td>\n",
              "    </tr>\n",
              "    <tr>\n",
              "      <th>1</th>\n",
              "      <td>[beli, shopee, alamat, dah, orang, jnt, tu, sa...</td>\n",
              "      <td>netral</td>\n",
              "    </tr>\n",
              "    <tr>\n",
              "      <th>2</th>\n",
              "      <td>[temen, gua, beli, pc, pake, anu, jnt, shopeen...</td>\n",
              "      <td>negatif</td>\n",
              "    </tr>\n",
              "    <tr>\n",
              "      <th>3</th>\n",
              "      <td>[kurir, jnt, salah, alamat, rumah, krn, jalan,...</td>\n",
              "      <td>netral</td>\n",
              "    </tr>\n",
              "    <tr>\n",
              "      <th>4</th>\n",
              "      <td>[gw, drtd, pikir, si, mas, jnt, maaf, banget, ...</td>\n",
              "      <td>netral</td>\n",
              "    </tr>\n",
              "    <tr>\n",
              "      <th>...</th>\n",
              "      <td>...</td>\n",
              "      <td>...</td>\n",
              "    </tr>\n",
              "    <tr>\n",
              "      <th>216</th>\n",
              "      <td>[kak, brg, tolong, kirim, donk, status, paket,...</td>\n",
              "      <td>netral</td>\n",
              "    </tr>\n",
              "    <tr>\n",
              "      <th>217</th>\n",
              "      <td>[selamat, siang, paket, dg, resi, antar, rumah...</td>\n",
              "      <td>netral</td>\n",
              "    </tr>\n",
              "    <tr>\n",
              "      <th>218</th>\n",
              "      <td>[min, status, paket, suradita, ambil, aja, ngg...</td>\n",
              "      <td>netral</td>\n",
              "    </tr>\n",
              "    <tr>\n",
              "      <th>219</th>\n",
              "      <td>[cek, resi, pagi, status, paket, aja, posisi, ...</td>\n",
              "      <td>netral</td>\n",
              "    </tr>\n",
              "    <tr>\n",
              "      <th>220</th>\n",
              "      <td>[halo, status, paket, paket, nomor, resi, jt, ...</td>\n",
              "      <td>netral</td>\n",
              "    </tr>\n",
              "  </tbody>\n",
              "</table>\n",
              "<p>428 rows × 2 columns</p>\n",
              "</div>"
            ],
            "text/plain": [
              "                                              stemming sentimen\n",
              "0    [paket, gue, kaga, nyampe, nih, org, yg, salah...   netral\n",
              "1    [beli, shopee, alamat, dah, orang, jnt, tu, sa...   netral\n",
              "2    [temen, gua, beli, pc, pake, anu, jnt, shopeen...  negatif\n",
              "3    [kurir, jnt, salah, alamat, rumah, krn, jalan,...   netral\n",
              "4    [gw, drtd, pikir, si, mas, jnt, maaf, banget, ...   netral\n",
              "..                                                 ...      ...\n",
              "216  [kak, brg, tolong, kirim, donk, status, paket,...   netral\n",
              "217  [selamat, siang, paket, dg, resi, antar, rumah...   netral\n",
              "218  [min, status, paket, suradita, ambil, aja, ngg...   netral\n",
              "219  [cek, resi, pagi, status, paket, aja, posisi, ...   netral\n",
              "220  [halo, status, paket, paket, nomor, resi, jt, ...   netral\n",
              "\n",
              "[428 rows x 2 columns]"
            ]
          },
          "metadata": {
            "tags": []
          },
          "execution_count": 30
        }
      ]
    },
    {
      "cell_type": "code",
      "metadata": {
        "colab": {
          "base_uri": "https://localhost:8080/"
        },
        "id": "EgqsTO_cvLxY",
        "outputId": "af4667eb-5600-4162-dceb-be5ca10a0194"
      },
      "source": [
        "data_new.info()"
      ],
      "execution_count": null,
      "outputs": [
        {
          "output_type": "stream",
          "text": [
            "<class 'pandas.core.frame.DataFrame'>\n",
            "Int64Index: 428 entries, 0 to 220\n",
            "Data columns (total 2 columns):\n",
            " #   Column    Non-Null Count  Dtype \n",
            "---  ------    --------------  ----- \n",
            " 0   stemming  428 non-null    object\n",
            " 1   sentimen  428 non-null    object\n",
            "dtypes: object(2)\n",
            "memory usage: 10.0+ KB\n"
          ],
          "name": "stdout"
        }
      ]
    },
    {
      "cell_type": "code",
      "metadata": {
        "id": "CsM7LNqzJQY8"
      },
      "source": [
        "data_new.to_excel('/content/drive/MyDrive/JNE dan JNT Dataset/data_stemmed_jnt.xlsx') #Export text Preprocessing Result"
      ],
      "execution_count": null,
      "outputs": []
    },
    {
      "cell_type": "markdown",
      "metadata": {
        "id": "INoAPqygCNgO"
      },
      "source": [
        "# Implementation"
      ]
    },
    {
      "cell_type": "code",
      "metadata": {
        "id": "8qoRNdrmCV8m"
      },
      "source": [
        "import pandas as pd\n",
        "import numpy as np\n",
        "from sklearn.feature_extraction.text import TfidfVectorizer\n",
        "from sklearn.feature_extraction.text import TfidfTransformer\n",
        "from sklearn.metrics import accuracy_score\n",
        "from sklearn.model_selection import train_test_split\n",
        "from sklearn.model_selection import KFold\n",
        "from sklearn.pipeline import Pipeline\n",
        "from sklearn.model_selection import cross_val_score"
      ],
      "execution_count": null,
      "outputs": []
    },
    {
      "cell_type": "code",
      "metadata": {
        "colab": {
          "base_uri": "https://localhost:8080/"
        },
        "id": "cQ7XspLdUmHb",
        "outputId": "f4e016ea-a633-4b38-931f-22aac47cab3a"
      },
      "source": [
        "from google.colab import drive\n",
        "drive.mount('/content/drive')"
      ],
      "execution_count": null,
      "outputs": [
        {
          "output_type": "stream",
          "text": [
            "Drive already mounted at /content/drive; to attempt to forcibly remount, call drive.mount(\"/content/drive\", force_remount=True).\n"
          ],
          "name": "stdout"
        }
      ]
    },
    {
      "cell_type": "code",
      "metadata": {
        "id": "FzdMAt4PDIm2"
      },
      "source": [
        "data = pd.read_excel('/content/drive/MyDrive/JNE dan JNT Dataset/data_stemmed_jnt.xlsx')"
      ],
      "execution_count": null,
      "outputs": []
    },
    {
      "cell_type": "code",
      "metadata": {
        "colab": {
          "base_uri": "https://localhost:8080/",
          "height": 424
        },
        "id": "XYWpX-Q2GLsI",
        "outputId": "817f3590-6810-4d0e-8cee-0f4c1540c5b8"
      },
      "source": [
        "data"
      ],
      "execution_count": null,
      "outputs": [
        {
          "output_type": "execute_result",
          "data": {
            "text/html": [
              "<div>\n",
              "<style scoped>\n",
              "    .dataframe tbody tr th:only-of-type {\n",
              "        vertical-align: middle;\n",
              "    }\n",
              "\n",
              "    .dataframe tbody tr th {\n",
              "        vertical-align: top;\n",
              "    }\n",
              "\n",
              "    .dataframe thead th {\n",
              "        text-align: right;\n",
              "    }\n",
              "</style>\n",
              "<table border=\"1\" class=\"dataframe\">\n",
              "  <thead>\n",
              "    <tr style=\"text-align: right;\">\n",
              "      <th></th>\n",
              "      <th>Unnamed: 0</th>\n",
              "      <th>stemming</th>\n",
              "      <th>sentimen</th>\n",
              "    </tr>\n",
              "  </thead>\n",
              "  <tbody>\n",
              "    <tr>\n",
              "      <th>0</th>\n",
              "      <td>0</td>\n",
              "      <td>['paket', 'gue', 'kaga', 'nyampe', 'nih', 'org...</td>\n",
              "      <td>netral</td>\n",
              "    </tr>\n",
              "    <tr>\n",
              "      <th>1</th>\n",
              "      <td>1</td>\n",
              "      <td>['beli', 'shopee', 'alamat', 'dah', 'orang', '...</td>\n",
              "      <td>netral</td>\n",
              "    </tr>\n",
              "    <tr>\n",
              "      <th>2</th>\n",
              "      <td>2</td>\n",
              "      <td>['temen', 'gua', 'beli', 'pc', 'pake', 'anu', ...</td>\n",
              "      <td>negatif</td>\n",
              "    </tr>\n",
              "    <tr>\n",
              "      <th>3</th>\n",
              "      <td>3</td>\n",
              "      <td>['kurir', 'jnt', 'salah', 'alamat', 'rumah', '...</td>\n",
              "      <td>netral</td>\n",
              "    </tr>\n",
              "    <tr>\n",
              "      <th>4</th>\n",
              "      <td>4</td>\n",
              "      <td>['gw', 'drtd', 'pikir', 'si', 'mas', 'jnt', 'm...</td>\n",
              "      <td>netral</td>\n",
              "    </tr>\n",
              "    <tr>\n",
              "      <th>...</th>\n",
              "      <td>...</td>\n",
              "      <td>...</td>\n",
              "      <td>...</td>\n",
              "    </tr>\n",
              "    <tr>\n",
              "      <th>423</th>\n",
              "      <td>216</td>\n",
              "      <td>['kak', 'brg', 'tolong', 'kirim', 'donk', 'sta...</td>\n",
              "      <td>netral</td>\n",
              "    </tr>\n",
              "    <tr>\n",
              "      <th>424</th>\n",
              "      <td>217</td>\n",
              "      <td>['selamat', 'siang', 'paket', 'dg', 'resi', 'a...</td>\n",
              "      <td>netral</td>\n",
              "    </tr>\n",
              "    <tr>\n",
              "      <th>425</th>\n",
              "      <td>218</td>\n",
              "      <td>['min', 'status', 'paket', 'suradita', 'ambil'...</td>\n",
              "      <td>netral</td>\n",
              "    </tr>\n",
              "    <tr>\n",
              "      <th>426</th>\n",
              "      <td>219</td>\n",
              "      <td>['cek', 'resi', 'pagi', 'status', 'paket', 'aj...</td>\n",
              "      <td>netral</td>\n",
              "    </tr>\n",
              "    <tr>\n",
              "      <th>427</th>\n",
              "      <td>220</td>\n",
              "      <td>['halo', 'status', 'paket', 'paket', 'nomor', ...</td>\n",
              "      <td>netral</td>\n",
              "    </tr>\n",
              "  </tbody>\n",
              "</table>\n",
              "<p>428 rows × 3 columns</p>\n",
              "</div>"
            ],
            "text/plain": [
              "     Unnamed: 0                                           stemming sentimen\n",
              "0             0  ['paket', 'gue', 'kaga', 'nyampe', 'nih', 'org...   netral\n",
              "1             1  ['beli', 'shopee', 'alamat', 'dah', 'orang', '...   netral\n",
              "2             2  ['temen', 'gua', 'beli', 'pc', 'pake', 'anu', ...  negatif\n",
              "3             3  ['kurir', 'jnt', 'salah', 'alamat', 'rumah', '...   netral\n",
              "4             4  ['gw', 'drtd', 'pikir', 'si', 'mas', 'jnt', 'm...   netral\n",
              "..          ...                                                ...      ...\n",
              "423         216  ['kak', 'brg', 'tolong', 'kirim', 'donk', 'sta...   netral\n",
              "424         217  ['selamat', 'siang', 'paket', 'dg', 'resi', 'a...   netral\n",
              "425         218  ['min', 'status', 'paket', 'suradita', 'ambil'...   netral\n",
              "426         219  ['cek', 'resi', 'pagi', 'status', 'paket', 'aj...   netral\n",
              "427         220  ['halo', 'status', 'paket', 'paket', 'nomor', ...   netral\n",
              "\n",
              "[428 rows x 3 columns]"
            ]
          },
          "metadata": {},
          "execution_count": 6
        }
      ]
    },
    {
      "cell_type": "code",
      "metadata": {
        "colab": {
          "base_uri": "https://localhost:8080/"
        },
        "id": "snx6CCm8DSqP",
        "outputId": "0e61d531-c110-490c-89de-b88424d86207"
      },
      "source": [
        "data.info()"
      ],
      "execution_count": null,
      "outputs": [
        {
          "output_type": "stream",
          "text": [
            "<class 'pandas.core.frame.DataFrame'>\n",
            "RangeIndex: 428 entries, 0 to 427\n",
            "Data columns (total 3 columns):\n",
            " #   Column      Non-Null Count  Dtype \n",
            "---  ------      --------------  ----- \n",
            " 0   Unnamed: 0  428 non-null    int64 \n",
            " 1   stemming    428 non-null    object\n",
            " 2   sentimen    428 non-null    object\n",
            "dtypes: int64(1), object(2)\n",
            "memory usage: 10.2+ KB\n"
          ],
          "name": "stdout"
        }
      ]
    },
    {
      "cell_type": "code",
      "metadata": {
        "id": "FinCf5e2DbuI"
      },
      "source": [
        "#Return data Type\n",
        "jnt = data.convert_dtypes(infer_objects= False)"
      ],
      "execution_count": null,
      "outputs": []
    },
    {
      "cell_type": "markdown",
      "source": [
        "Dataset Visualization "
      ],
      "metadata": {
        "id": "SSGAU37TgNwH"
      }
    },
    {
      "cell_type": "code",
      "metadata": {
        "id": "MTEogq5xsJz4",
        "colab": {
          "base_uri": "https://localhost:8080/",
          "height": 233
        },
        "outputId": "512d406e-3112-44dc-fe10-dfe15d63a59b"
      },
      "source": [
        "negatif = jnt[jnt['sentimen']=='negatif']\n",
        "positif = jnt[jnt['sentimen']=='positif']\n",
        "netral = jnt[jnt['sentimen']=='netral']\n",
        "\n",
        "from collections import Counter\n",
        "cnt = Counter()\n",
        "for text in negatif.stemming.values:\n",
        "    for word in text.split():\n",
        "        cnt[word] += 1\n",
        " #Negative Label       \n",
        "negatiff = cnt.most_common(9)\n",
        "dnegatif = pd.DataFrame(negatiff)\n",
        "dnegatif = dnegatif.iloc[0:,:]\n",
        "dnegatif.columns = ['Common_words','count']\n",
        "dnegatif.style.background_gradient(cmap='Blues')"
      ],
      "execution_count": null,
      "outputs": [
        {
          "output_type": "execute_result",
          "data": {
            "text/html": [
              "<style  type=\"text/css\" >\n",
              "#T_d19a45b0_0163_11ec_adb0_0242ac1c0002row0_col1{\n",
              "            background-color:  #08306b;\n",
              "            color:  #f1f1f1;\n",
              "        }#T_d19a45b0_0163_11ec_adb0_0242ac1c0002row1_col1{\n",
              "            background-color:  #c4daee;\n",
              "            color:  #000000;\n",
              "        }#T_d19a45b0_0163_11ec_adb0_0242ac1c0002row2_col1{\n",
              "            background-color:  #cde0f1;\n",
              "            color:  #000000;\n",
              "        }#T_d19a45b0_0163_11ec_adb0_0242ac1c0002row3_col1{\n",
              "            background-color:  #d9e7f5;\n",
              "            color:  #000000;\n",
              "        }#T_d19a45b0_0163_11ec_adb0_0242ac1c0002row4_col1{\n",
              "            background-color:  #dfebf7;\n",
              "            color:  #000000;\n",
              "        }#T_d19a45b0_0163_11ec_adb0_0242ac1c0002row5_col1{\n",
              "            background-color:  #e8f1fa;\n",
              "            color:  #000000;\n",
              "        }#T_d19a45b0_0163_11ec_adb0_0242ac1c0002row6_col1{\n",
              "            background-color:  #f1f7fd;\n",
              "            color:  #000000;\n",
              "        }#T_d19a45b0_0163_11ec_adb0_0242ac1c0002row7_col1{\n",
              "            background-color:  #f5fafe;\n",
              "            color:  #000000;\n",
              "        }#T_d19a45b0_0163_11ec_adb0_0242ac1c0002row8_col1{\n",
              "            background-color:  #f7fbff;\n",
              "            color:  #000000;\n",
              "        }</style><table id=\"T_d19a45b0_0163_11ec_adb0_0242ac1c0002\" ><thead>    <tr>        <th class=\"blank level0\" ></th>        <th class=\"col_heading level0 col0\" >Common_words</th>        <th class=\"col_heading level0 col1\" >count</th>    </tr></thead><tbody>\n",
              "                <tr>\n",
              "                        <th id=\"T_d19a45b0_0163_11ec_adb0_0242ac1c0002level0_row0\" class=\"row_heading level0 row0\" >0</th>\n",
              "                        <td id=\"T_d19a45b0_0163_11ec_adb0_0242ac1c0002row0_col0\" class=\"data row0 col0\" >'paket',</td>\n",
              "                        <td id=\"T_d19a45b0_0163_11ec_adb0_0242ac1c0002row0_col1\" class=\"data row0 col1\" >127</td>\n",
              "            </tr>\n",
              "            <tr>\n",
              "                        <th id=\"T_d19a45b0_0163_11ec_adb0_0242ac1c0002level0_row1\" class=\"row_heading level0 row1\" >1</th>\n",
              "                        <td id=\"T_d19a45b0_0163_11ec_adb0_0242ac1c0002row1_col0\" class=\"data row1 col0\" >'estimasi',</td>\n",
              "                        <td id=\"T_d19a45b0_0163_11ec_adb0_0242ac1c0002row1_col1\" class=\"data row1 col1\" >60</td>\n",
              "            </tr>\n",
              "            <tr>\n",
              "                        <th id=\"T_d19a45b0_0163_11ec_adb0_0242ac1c0002level0_row2\" class=\"row_heading level0 row2\" >2</th>\n",
              "                        <td id=\"T_d19a45b0_0163_11ec_adb0_0242ac1c0002row2_col0\" class=\"data row2 col0\" >'status',</td>\n",
              "                        <td id=\"T_d19a45b0_0163_11ec_adb0_0242ac1c0002row2_col1\" class=\"data row2 col1\" >56</td>\n",
              "            </tr>\n",
              "            <tr>\n",
              "                        <th id=\"T_d19a45b0_0163_11ec_adb0_0242ac1c0002level0_row3\" class=\"row_heading level0 row3\" >3</th>\n",
              "                        <td id=\"T_d19a45b0_0163_11ec_adb0_0242ac1c0002row3_col0\" class=\"data row3 col0\" >'ga',</td>\n",
              "                        <td id=\"T_d19a45b0_0163_11ec_adb0_0242ac1c0002row3_col1\" class=\"data row3 col1\" >51</td>\n",
              "            </tr>\n",
              "            <tr>\n",
              "                        <th id=\"T_d19a45b0_0163_11ec_adb0_0242ac1c0002level0_row4\" class=\"row_heading level0 row4\" >4</th>\n",
              "                        <td id=\"T_d19a45b0_0163_11ec_adb0_0242ac1c0002row4_col0\" class=\"data row4 col0\" >'min',</td>\n",
              "                        <td id=\"T_d19a45b0_0163_11ec_adb0_0242ac1c0002row4_col1\" class=\"data row4 col1\" >48</td>\n",
              "            </tr>\n",
              "            <tr>\n",
              "                        <th id=\"T_d19a45b0_0163_11ec_adb0_0242ac1c0002level0_row5\" class=\"row_heading level0 row5\" >5</th>\n",
              "                        <td id=\"T_d19a45b0_0163_11ec_adb0_0242ac1c0002row5_col0\" class=\"data row5 col0\" >'sampe',</td>\n",
              "                        <td id=\"T_d19a45b0_0163_11ec_adb0_0242ac1c0002row5_col1\" class=\"data row5 col1\" >44</td>\n",
              "            </tr>\n",
              "            <tr>\n",
              "                        <th id=\"T_d19a45b0_0163_11ec_adb0_0242ac1c0002level0_row6\" class=\"row_heading level0 row6\" >6</th>\n",
              "                        <td id=\"T_d19a45b0_0163_11ec_adb0_0242ac1c0002row6_col0\" class=\"data row6 col0\" >'ya',</td>\n",
              "                        <td id=\"T_d19a45b0_0163_11ec_adb0_0242ac1c0002row6_col1\" class=\"data row6 col1\" >40</td>\n",
              "            </tr>\n",
              "            <tr>\n",
              "                        <th id=\"T_d19a45b0_0163_11ec_adb0_0242ac1c0002level0_row7\" class=\"row_heading level0 row7\" >7</th>\n",
              "                        <td id=\"T_d19a45b0_0163_11ec_adb0_0242ac1c0002row7_col0\" class=\"data row7 col0\" >'gak',</td>\n",
              "                        <td id=\"T_d19a45b0_0163_11ec_adb0_0242ac1c0002row7_col1\" class=\"data row7 col1\" >38</td>\n",
              "            </tr>\n",
              "            <tr>\n",
              "                        <th id=\"T_d19a45b0_0163_11ec_adb0_0242ac1c0002level0_row8\" class=\"row_heading level0 row8\" >8</th>\n",
              "                        <td id=\"T_d19a45b0_0163_11ec_adb0_0242ac1c0002row8_col0\" class=\"data row8 col0\" >'tolong',</td>\n",
              "                        <td id=\"T_d19a45b0_0163_11ec_adb0_0242ac1c0002row8_col1\" class=\"data row8 col1\" >37</td>\n",
              "            </tr>\n",
              "    </tbody></table>"
            ],
            "text/plain": [
              "<pandas.io.formats.style.Styler at 0x7f2860426150>"
            ]
          },
          "metadata": {},
          "execution_count": 9
        }
      ]
    },
    {
      "cell_type": "code",
      "metadata": {
        "colab": {
          "base_uri": "https://localhost:8080/",
          "height": 601
        },
        "id": "nqN-cRxjQiG2",
        "outputId": "91bfbedc-021e-47f9-9460-ab70ae64f006"
      },
      "source": [
        "import collections\n",
        "import matplotlib.pyplot as plt\n",
        "import seaborn as sns\n",
        "dnegatif.plot(kind ='barh')\n",
        "plt.yticks(range(0,9), ['Paket','Estimasi','status','ga','min','sampe','ya','gak','tolong','udah'])"
      ],
      "execution_count": null,
      "outputs": [
        {
          "output_type": "execute_result",
          "data": {
            "text/plain": [
              "([<matplotlib.axis.YTick at 0x7f2860008dd0>,\n",
              "  <matplotlib.axis.YTick at 0x7f285f51c290>,\n",
              "  <matplotlib.axis.YTick at 0x7f285fd58950>,\n",
              "  <matplotlib.axis.YTick at 0x7f285f4fd790>,\n",
              "  <matplotlib.axis.YTick at 0x7f285f4fde10>,\n",
              "  <matplotlib.axis.YTick at 0x7f285f492390>,\n",
              "  <matplotlib.axis.YTick at 0x7f285f492910>,\n",
              "  <matplotlib.axis.YTick at 0x7f285fd58310>,\n",
              "  <matplotlib.axis.YTick at 0x7f285f4fd650>],\n",
              " [Text(0, 0, 'Paket'),\n",
              "  Text(0, 0, 'Estimasi'),\n",
              "  Text(0, 0, 'status'),\n",
              "  Text(0, 0, 'ga'),\n",
              "  Text(0, 0, 'min'),\n",
              "  Text(0, 0, 'sampe'),\n",
              "  Text(0, 0, 'ya'),\n",
              "  Text(0, 0, 'gak'),\n",
              "  Text(0, 0, 'tolong')])"
            ]
          },
          "metadata": {},
          "execution_count": 10
        },
        {
          "output_type": "display_data",
          "data": {
            "image/png": "[encoded data removed]",
            "text/plain": [
              "<Figure size 432x288 with 1 Axes>"
            ]
          },
          "metadata": {
            "needs_background": "light"
          }
        }
      ]
    },
    {
      "cell_type": "code",
      "metadata": {
        "colab": {
          "base_uri": "https://localhost:8080/",
          "height": 233
        },
        "id": "pgBFU8U4ZHgp",
        "outputId": "dee267c2-30ae-4bfc-fd07-eb9a49ddbe83"
      },
      "source": [
        "#Positive Label\n",
        "cnt = Counter()\n",
        "for text in positif.stemming.values:\n",
        "    for word in text.split():\n",
        "        cnt[word] += 1\n",
        "        \n",
        "positiff = cnt.most_common(9)\n",
        "dpositif = pd.DataFrame(positiff)\n",
        "dpositif = dpositif.iloc[0:,:]\n",
        "dpositif.columns = ['Common_words','count']\n",
        "dpositif.style.background_gradient(cmap='Blues')"
      ],
      "execution_count": null,
      "outputs": [
        {
          "output_type": "execute_result",
          "data": {
            "text/html": [
              "<style  type=\"text/css\" >\n",
              "#T_d1d65bc2_0163_11ec_adb0_0242ac1c0002row0_col1{\n",
              "            background-color:  #08306b;\n",
              "            color:  #f1f1f1;\n",
              "        }#T_d1d65bc2_0163_11ec_adb0_0242ac1c0002row1_col1{\n",
              "            background-color:  #2070b4;\n",
              "            color:  #f1f1f1;\n",
              "        }#T_d1d65bc2_0163_11ec_adb0_0242ac1c0002row2_col1{\n",
              "            background-color:  #6aaed6;\n",
              "            color:  #000000;\n",
              "        }#T_d1d65bc2_0163_11ec_adb0_0242ac1c0002row3_col1{\n",
              "            background-color:  #9dcae1;\n",
              "            color:  #000000;\n",
              "        }#T_d1d65bc2_0163_11ec_adb0_0242ac1c0002row4_col1{\n",
              "            background-color:  #c6dbef;\n",
              "            color:  #000000;\n",
              "        }#T_d1d65bc2_0163_11ec_adb0_0242ac1c0002row5_col1{\n",
              "            background-color:  #deebf7;\n",
              "            color:  #000000;\n",
              "        }#T_d1d65bc2_0163_11ec_adb0_0242ac1c0002row6_col1,#T_d1d65bc2_0163_11ec_adb0_0242ac1c0002row7_col1,#T_d1d65bc2_0163_11ec_adb0_0242ac1c0002row8_col1{\n",
              "            background-color:  #f7fbff;\n",
              "            color:  #000000;\n",
              "        }</style><table id=\"T_d1d65bc2_0163_11ec_adb0_0242ac1c0002\" ><thead>    <tr>        <th class=\"blank level0\" ></th>        <th class=\"col_heading level0 col0\" >Common_words</th>        <th class=\"col_heading level0 col1\" >count</th>    </tr></thead><tbody>\n",
              "                <tr>\n",
              "                        <th id=\"T_d1d65bc2_0163_11ec_adb0_0242ac1c0002level0_row0\" class=\"row_heading level0 row0\" >0</th>\n",
              "                        <td id=\"T_d1d65bc2_0163_11ec_adb0_0242ac1c0002row0_col0\" class=\"data row0 col0\" >'estimasi',</td>\n",
              "                        <td id=\"T_d1d65bc2_0163_11ec_adb0_0242ac1c0002row0_col1\" class=\"data row0 col1\" >15</td>\n",
              "            </tr>\n",
              "            <tr>\n",
              "                        <th id=\"T_d1d65bc2_0163_11ec_adb0_0242ac1c0002level0_row1\" class=\"row_heading level0 row1\" >1</th>\n",
              "                        <td id=\"T_d1d65bc2_0163_11ec_adb0_0242ac1c0002row1_col0\" class=\"data row1 col0\" >'kurir',</td>\n",
              "                        <td id=\"T_d1d65bc2_0163_11ec_adb0_0242ac1c0002row1_col1\" class=\"data row1 col1\" >13</td>\n",
              "            </tr>\n",
              "            <tr>\n",
              "                        <th id=\"T_d1d65bc2_0163_11ec_adb0_0242ac1c0002level0_row2\" class=\"row_heading level0 row2\" >2</th>\n",
              "                        <td id=\"T_d1d65bc2_0163_11ec_adb0_0242ac1c0002row2_col0\" class=\"data row2 col0\" >'cepat',</td>\n",
              "                        <td id=\"T_d1d65bc2_0163_11ec_adb0_0242ac1c0002row2_col1\" class=\"data row2 col1\" >11</td>\n",
              "            </tr>\n",
              "            <tr>\n",
              "                        <th id=\"T_d1d65bc2_0163_11ec_adb0_0242ac1c0002level0_row3\" class=\"row_heading level0 row3\" >3</th>\n",
              "                        <td id=\"T_d1d65bc2_0163_11ec_adb0_0242ac1c0002row3_col0\" class=\"data row3 col0\" >'suka',</td>\n",
              "                        <td id=\"T_d1d65bc2_0163_11ec_adb0_0242ac1c0002row3_col1\" class=\"data row3 col1\" >10</td>\n",
              "            </tr>\n",
              "            <tr>\n",
              "                        <th id=\"T_d1d65bc2_0163_11ec_adb0_0242ac1c0002level0_row4\" class=\"row_heading level0 row4\" >4</th>\n",
              "                        <td id=\"T_d1d65bc2_0163_11ec_adb0_0242ac1c0002row4_col0\" class=\"data row4 col0\" >'kirim',</td>\n",
              "                        <td id=\"T_d1d65bc2_0163_11ec_adb0_0242ac1c0002row4_col1\" class=\"data row4 col1\" >9</td>\n",
              "            </tr>\n",
              "            <tr>\n",
              "                        <th id=\"T_d1d65bc2_0163_11ec_adb0_0242ac1c0002level0_row5\" class=\"row_heading level0 row5\" >5</th>\n",
              "                        <td id=\"T_d1d65bc2_0163_11ec_adb0_0242ac1c0002row5_col0\" class=\"data row5 col0\" >'pake',</td>\n",
              "                        <td id=\"T_d1d65bc2_0163_11ec_adb0_0242ac1c0002row5_col1\" class=\"data row5 col1\" >8</td>\n",
              "            </tr>\n",
              "            <tr>\n",
              "                        <th id=\"T_d1d65bc2_0163_11ec_adb0_0242ac1c0002level0_row6\" class=\"row_heading level0 row6\" >6</th>\n",
              "                        <td id=\"T_d1d65bc2_0163_11ec_adb0_0242ac1c0002row6_col0\" class=\"data row6 col0\" >'banget',</td>\n",
              "                        <td id=\"T_d1d65bc2_0163_11ec_adb0_0242ac1c0002row6_col1\" class=\"data row6 col1\" >7</td>\n",
              "            </tr>\n",
              "            <tr>\n",
              "                        <th id=\"T_d1d65bc2_0163_11ec_adb0_0242ac1c0002level0_row7\" class=\"row_heading level0 row7\" >7</th>\n",
              "                        <td id=\"T_d1d65bc2_0163_11ec_adb0_0242ac1c0002row7_col0\" class=\"data row7 col0\" >'paket',</td>\n",
              "                        <td id=\"T_d1d65bc2_0163_11ec_adb0_0242ac1c0002row7_col1\" class=\"data row7 col1\" >7</td>\n",
              "            </tr>\n",
              "            <tr>\n",
              "                        <th id=\"T_d1d65bc2_0163_11ec_adb0_0242ac1c0002level0_row8\" class=\"row_heading level0 row8\" >8</th>\n",
              "                        <td id=\"T_d1d65bc2_0163_11ec_adb0_0242ac1c0002row8_col0\" class=\"data row8 col0\" >'ga',</td>\n",
              "                        <td id=\"T_d1d65bc2_0163_11ec_adb0_0242ac1c0002row8_col1\" class=\"data row8 col1\" >7</td>\n",
              "            </tr>\n",
              "    </tbody></table>"
            ],
            "text/plain": [
              "<pandas.io.formats.style.Styler at 0x7f286042b950>"
            ]
          },
          "metadata": {},
          "execution_count": 11
        }
      ]
    },
    {
      "cell_type": "code",
      "metadata": {
        "colab": {
          "base_uri": "https://localhost:8080/",
          "height": 601
        },
        "id": "zT_k5-0YZT73",
        "outputId": "3c22f3de-f95f-4aca-ebd8-fbe9c56e5d80"
      },
      "source": [
        "dpositif.plot(kind ='barh')\n",
        "plt.yticks(range(0,9),['estimasi','Kurir','cepat','suka','kirim','pake','banget','paket','ga'])"
      ],
      "execution_count": null,
      "outputs": [
        {
          "output_type": "execute_result",
          "data": {
            "text/plain": [
              "([<matplotlib.axis.YTick at 0x7f2860441e10>,\n",
              "  <matplotlib.axis.YTick at 0x7f28604415d0>,\n",
              "  <matplotlib.axis.YTick at 0x7f285f546ad0>,\n",
              "  <matplotlib.axis.YTick at 0x7f285f484550>,\n",
              "  <matplotlib.axis.YTick at 0x7f285f484c50>,\n",
              "  <matplotlib.axis.YTick at 0x7f285ef90210>,\n",
              "  <matplotlib.axis.YTick at 0x7f285ef90750>,\n",
              "  <matplotlib.axis.YTick at 0x7f2860438d10>,\n",
              "  <matplotlib.axis.YTick at 0x7f285ef96690>],\n",
              " [Text(0, 0, 'estimasi'),\n",
              "  Text(0, 0, 'Kurir'),\n",
              "  Text(0, 0, 'cepat'),\n",
              "  Text(0, 0, 'suka'),\n",
              "  Text(0, 0, 'kirim'),\n",
              "  Text(0, 0, 'pake'),\n",
              "  Text(0, 0, 'banget'),\n",
              "  Text(0, 0, 'paket'),\n",
              "  Text(0, 0, 'ga')])"
            ]
          },
          "metadata": {},
          "execution_count": 12
        },
        {
          "output_type": "display_data",
          "data": {
            "image/png": "[encoded data removed]",
            "text/plain": [
              "<Figure size 432x288 with 1 Axes>"
            ]
          },
          "metadata": {
            "needs_background": "light"
          }
        }
      ]
    },
    {
      "cell_type": "code",
      "metadata": {
        "colab": {
          "base_uri": "https://localhost:8080/",
          "height": 233
        },
        "id": "rtDMQrv1Zdvn",
        "outputId": "03e8ec39-703a-4a20-d676-ea32c3be3af6"
      },
      "source": [
        "#Netral Visualization\n",
        "pnt = Counter()\n",
        "for text in netral.stemming.values:\n",
        "    for word in text.split():\n",
        "        pnt[word] += 1\n",
        "        \n",
        "netrall = pnt.most_common(9)\n",
        "dnetral = pd.DataFrame(netrall)\n",
        "dnetral = dnetral.iloc[0:,:]\n",
        "dnetral.columns = ['Common_words','count']\n",
        "dnetral.style.background_gradient(cmap='Blues')"
      ],
      "execution_count": null,
      "outputs": [
        {
          "output_type": "execute_result",
          "data": {
            "text/html": [
              "<style  type=\"text/css\" >\n",
              "#T_d200904a_0163_11ec_adb0_0242ac1c0002row0_col1{\n",
              "            background-color:  #08306b;\n",
              "            color:  #f1f1f1;\n",
              "        }#T_d200904a_0163_11ec_adb0_0242ac1c0002row1_col1{\n",
              "            background-color:  #72b2d8;\n",
              "            color:  #000000;\n",
              "        }#T_d200904a_0163_11ec_adb0_0242ac1c0002row2_col1{\n",
              "            background-color:  #dbe9f6;\n",
              "            color:  #000000;\n",
              "        }#T_d200904a_0163_11ec_adb0_0242ac1c0002row3_col1{\n",
              "            background-color:  #e4eff9;\n",
              "            color:  #000000;\n",
              "        }#T_d200904a_0163_11ec_adb0_0242ac1c0002row4_col1{\n",
              "            background-color:  #e5eff9;\n",
              "            color:  #000000;\n",
              "        }#T_d200904a_0163_11ec_adb0_0242ac1c0002row5_col1{\n",
              "            background-color:  #ecf4fb;\n",
              "            color:  #000000;\n",
              "        }#T_d200904a_0163_11ec_adb0_0242ac1c0002row6_col1{\n",
              "            background-color:  #f2f8fd;\n",
              "            color:  #000000;\n",
              "        }#T_d200904a_0163_11ec_adb0_0242ac1c0002row7_col1{\n",
              "            background-color:  #f3f8fe;\n",
              "            color:  #000000;\n",
              "        }#T_d200904a_0163_11ec_adb0_0242ac1c0002row8_col1{\n",
              "            background-color:  #f7fbff;\n",
              "            color:  #000000;\n",
              "        }</style><table id=\"T_d200904a_0163_11ec_adb0_0242ac1c0002\" ><thead>    <tr>        <th class=\"blank level0\" ></th>        <th class=\"col_heading level0 col0\" >Common_words</th>        <th class=\"col_heading level0 col1\" >count</th>    </tr></thead><tbody>\n",
              "                <tr>\n",
              "                        <th id=\"T_d200904a_0163_11ec_adb0_0242ac1c0002level0_row0\" class=\"row_heading level0 row0\" >0</th>\n",
              "                        <td id=\"T_d200904a_0163_11ec_adb0_0242ac1c0002row0_col0\" class=\"data row0 col0\" >'paket',</td>\n",
              "                        <td id=\"T_d200904a_0163_11ec_adb0_0242ac1c0002row0_col1\" class=\"data row0 col1\" >270</td>\n",
              "            </tr>\n",
              "            <tr>\n",
              "                        <th id=\"T_d200904a_0163_11ec_adb0_0242ac1c0002level0_row1\" class=\"row_heading level0 row1\" >1</th>\n",
              "                        <td id=\"T_d200904a_0163_11ec_adb0_0242ac1c0002row1_col0\" class=\"data row1 col0\" >'status',</td>\n",
              "                        <td id=\"T_d200904a_0163_11ec_adb0_0242ac1c0002row1_col1\" class=\"data row1 col1\" >155</td>\n",
              "            </tr>\n",
              "            <tr>\n",
              "                        <th id=\"T_d200904a_0163_11ec_adb0_0242ac1c0002level0_row2\" class=\"row_heading level0 row2\" >2</th>\n",
              "                        <td id=\"T_d200904a_0163_11ec_adb0_0242ac1c0002row2_col0\" class=\"data row2 col0\" >'estimasi',</td>\n",
              "                        <td id=\"T_d200904a_0163_11ec_adb0_0242ac1c0002row2_col1\" class=\"data row2 col1\" >80</td>\n",
              "            </tr>\n",
              "            <tr>\n",
              "                        <th id=\"T_d200904a_0163_11ec_adb0_0242ac1c0002level0_row3\" class=\"row_heading level0 row3\" >3</th>\n",
              "                        <td id=\"T_d200904a_0163_11ec_adb0_0242ac1c0002row3_col0\" class=\"data row3 col0\" >'tolong',</td>\n",
              "                        <td id=\"T_d200904a_0163_11ec_adb0_0242ac1c0002row3_col1\" class=\"data row3 col1\" >69</td>\n",
              "            </tr>\n",
              "            <tr>\n",
              "                        <th id=\"T_d200904a_0163_11ec_adb0_0242ac1c0002level0_row4\" class=\"row_heading level0 row4\" >4</th>\n",
              "                        <td id=\"T_d200904a_0163_11ec_adb0_0242ac1c0002row4_col0\" class=\"data row4 col0\" >'resi',</td>\n",
              "                        <td id=\"T_d200904a_0163_11ec_adb0_0242ac1c0002row4_col1\" class=\"data row4 col1\" >68</td>\n",
              "            </tr>\n",
              "            <tr>\n",
              "                        <th id=\"T_d200904a_0163_11ec_adb0_0242ac1c0002level0_row5\" class=\"row_heading level0 row5\" >5</th>\n",
              "                        <td id=\"T_d200904a_0163_11ec_adb0_0242ac1c0002row5_col0\" class=\"data row5 col0\" >'min',</td>\n",
              "                        <td id=\"T_d200904a_0163_11ec_adb0_0242ac1c0002row5_col1\" class=\"data row5 col1\" >61</td>\n",
              "            </tr>\n",
              "            <tr>\n",
              "                        <th id=\"T_d200904a_0163_11ec_adb0_0242ac1c0002level0_row6\" class=\"row_heading level0 row6\" >6</th>\n",
              "                        <td id=\"T_d200904a_0163_11ec_adb0_0242ac1c0002row6_col0\" class=\"data row6 col0\" >'jp',</td>\n",
              "                        <td id=\"T_d200904a_0163_11ec_adb0_0242ac1c0002row6_col1\" class=\"data row6 col1\" >54</td>\n",
              "            </tr>\n",
              "            <tr>\n",
              "                        <th id=\"T_d200904a_0163_11ec_adb0_0242ac1c0002level0_row7\" class=\"row_heading level0 row7\" >7</th>\n",
              "                        <td id=\"T_d200904a_0163_11ec_adb0_0242ac1c0002row7_col0\" class=\"data row7 col0\" >'ya',</td>\n",
              "                        <td id=\"T_d200904a_0163_11ec_adb0_0242ac1c0002row7_col1\" class=\"data row7 col1\" >53</td>\n",
              "            </tr>\n",
              "            <tr>\n",
              "                        <th id=\"T_d200904a_0163_11ec_adb0_0242ac1c0002level0_row8\" class=\"row_heading level0 row8\" >8</th>\n",
              "                        <td id=\"T_d200904a_0163_11ec_adb0_0242ac1c0002row8_col0\" class=\"data row8 col0\" >'ga',</td>\n",
              "                        <td id=\"T_d200904a_0163_11ec_adb0_0242ac1c0002row8_col1\" class=\"data row8 col1\" >48</td>\n",
              "            </tr>\n",
              "    </tbody></table>"
            ],
            "text/plain": [
              "<pandas.io.formats.style.Styler at 0x7f285ef683d0>"
            ]
          },
          "metadata": {},
          "execution_count": 13
        }
      ]
    },
    {
      "cell_type": "code",
      "metadata": {
        "colab": {
          "base_uri": "https://localhost:8080/",
          "height": 601
        },
        "id": "lnCSvam9Zs7u",
        "outputId": "3e6258cc-0ded-4f58-f2f6-bb7be9b35f69"
      },
      "source": [
        "dnetral.plot(kind ='barh')\n",
        "plt.yticks(range(0,9), ['paket','status','estimasi','tolong','resi','min','jp','ya','ga'])"
      ],
      "execution_count": null,
      "outputs": [
        {
          "output_type": "execute_result",
          "data": {
            "text/plain": [
              "([<matplotlib.axis.YTick at 0x7f285f453d90>,\n",
              "  <matplotlib.axis.YTick at 0x7f285efaa910>,\n",
              "  <matplotlib.axis.YTick at 0x7f285f46c350>,\n",
              "  <matplotlib.axis.YTick at 0x7f286042e690>,\n",
              "  <matplotlib.axis.YTick at 0x7f28604329d0>,\n",
              "  <matplotlib.axis.YTick at 0x7f2860432450>,\n",
              "  <matplotlib.axis.YTick at 0x7f2860435c10>,\n",
              "  <matplotlib.axis.YTick at 0x7f285f4c1450>,\n",
              "  <matplotlib.axis.YTick at 0x7f2860438550>],\n",
              " [Text(0, 0, 'paket'),\n",
              "  Text(0, 0, 'status'),\n",
              "  Text(0, 0, 'estimasi'),\n",
              "  Text(0, 0, 'tolong'),\n",
              "  Text(0, 0, 'resi'),\n",
              "  Text(0, 0, 'min'),\n",
              "  Text(0, 0, 'jp'),\n",
              "  Text(0, 0, 'ya'),\n",
              "  Text(0, 0, 'ga')])"
            ]
          },
          "metadata": {},
          "execution_count": 14
        },
        {
          "output_type": "display_data",
          "data": {
            "image/png": "[encoded data removed]",
            "text/plain": [
              "<Figure size 432x288 with 1 Axes>"
            ]
          },
          "metadata": {
            "needs_background": "light"
          }
        }
      ]
    },
    {
      "cell_type": "code",
      "metadata": {
        "colab": {
          "base_uri": "https://localhost:8080/"
        },
        "id": "OeAIE9QeDpVE",
        "outputId": "7b6aa115-5544-442e-aa1a-ad3396c987bd"
      },
      "source": [
        "jnt.info()"
      ],
      "execution_count": null,
      "outputs": [
        {
          "output_type": "stream",
          "text": [
            "<class 'pandas.core.frame.DataFrame'>\n",
            "RangeIndex: 428 entries, 0 to 427\n",
            "Data columns (total 3 columns):\n",
            " #   Column      Non-Null Count  Dtype \n",
            "---  ------      --------------  ----- \n",
            " 0   Unnamed: 0  428 non-null    Int64 \n",
            " 1   stemming    428 non-null    string\n",
            " 2   sentimen    428 non-null    string\n",
            "dtypes: Int64(1), string(2)\n",
            "memory usage: 10.6 KB\n"
          ],
          "name": "stdout"
        }
      ]
    },
    {
      "cell_type": "code",
      "metadata": {
        "id": "z7anDXVYD-pm"
      },
      "source": [
        "#Drop Column\n",
        "jnt.drop(columns=['Unnamed: 0'] , inplace=True)"
      ],
      "execution_count": null,
      "outputs": []
    },
    {
      "cell_type": "code",
      "metadata": {
        "colab": {
          "base_uri": "https://localhost:8080/",
          "height": 424
        },
        "id": "2vXjQAdBEP81",
        "outputId": "71a1511b-9f4b-47be-ac69-6729c44bcb3b"
      },
      "source": [
        "jnt"
      ],
      "execution_count": null,
      "outputs": [
        {
          "output_type": "execute_result",
          "data": {
            "text/html": [
              "<div>\n",
              "<style scoped>\n",
              "    .dataframe tbody tr th:only-of-type {\n",
              "        vertical-align: middle;\n",
              "    }\n",
              "\n",
              "    .dataframe tbody tr th {\n",
              "        vertical-align: top;\n",
              "    }\n",
              "\n",
              "    .dataframe thead th {\n",
              "        text-align: right;\n",
              "    }\n",
              "</style>\n",
              "<table border=\"1\" class=\"dataframe\">\n",
              "  <thead>\n",
              "    <tr style=\"text-align: right;\">\n",
              "      <th></th>\n",
              "      <th>stemming</th>\n",
              "      <th>sentimen</th>\n",
              "    </tr>\n",
              "  </thead>\n",
              "  <tbody>\n",
              "    <tr>\n",
              "      <th>0</th>\n",
              "      <td>['paket', 'gue', 'kaga', 'nyampe', 'nih', 'org...</td>\n",
              "      <td>netral</td>\n",
              "    </tr>\n",
              "    <tr>\n",
              "      <th>1</th>\n",
              "      <td>['beli', 'shopee', 'alamat', 'dah', 'orang', '...</td>\n",
              "      <td>netral</td>\n",
              "    </tr>\n",
              "    <tr>\n",
              "      <th>2</th>\n",
              "      <td>['temen', 'gua', 'beli', 'pc', 'pake', 'anu', ...</td>\n",
              "      <td>negatif</td>\n",
              "    </tr>\n",
              "    <tr>\n",
              "      <th>3</th>\n",
              "      <td>['kurir', 'jnt', 'salah', 'alamat', 'rumah', '...</td>\n",
              "      <td>netral</td>\n",
              "    </tr>\n",
              "    <tr>\n",
              "      <th>4</th>\n",
              "      <td>['gw', 'drtd', 'pikir', 'si', 'mas', 'jnt', 'm...</td>\n",
              "      <td>netral</td>\n",
              "    </tr>\n",
              "    <tr>\n",
              "      <th>...</th>\n",
              "      <td>...</td>\n",
              "      <td>...</td>\n",
              "    </tr>\n",
              "    <tr>\n",
              "      <th>423</th>\n",
              "      <td>['kak', 'brg', 'tolong', 'kirim', 'donk', 'sta...</td>\n",
              "      <td>netral</td>\n",
              "    </tr>\n",
              "    <tr>\n",
              "      <th>424</th>\n",
              "      <td>['selamat', 'siang', 'paket', 'dg', 'resi', 'a...</td>\n",
              "      <td>netral</td>\n",
              "    </tr>\n",
              "    <tr>\n",
              "      <th>425</th>\n",
              "      <td>['min', 'status', 'paket', 'suradita', 'ambil'...</td>\n",
              "      <td>netral</td>\n",
              "    </tr>\n",
              "    <tr>\n",
              "      <th>426</th>\n",
              "      <td>['cek', 'resi', 'pagi', 'status', 'paket', 'aj...</td>\n",
              "      <td>netral</td>\n",
              "    </tr>\n",
              "    <tr>\n",
              "      <th>427</th>\n",
              "      <td>['halo', 'status', 'paket', 'paket', 'nomor', ...</td>\n",
              "      <td>netral</td>\n",
              "    </tr>\n",
              "  </tbody>\n",
              "</table>\n",
              "<p>428 rows × 2 columns</p>\n",
              "</div>"
            ],
            "text/plain": [
              "                                              stemming sentimen\n",
              "0    ['paket', 'gue', 'kaga', 'nyampe', 'nih', 'org...   netral\n",
              "1    ['beli', 'shopee', 'alamat', 'dah', 'orang', '...   netral\n",
              "2    ['temen', 'gua', 'beli', 'pc', 'pake', 'anu', ...  negatif\n",
              "3    ['kurir', 'jnt', 'salah', 'alamat', 'rumah', '...   netral\n",
              "4    ['gw', 'drtd', 'pikir', 'si', 'mas', 'jnt', 'm...   netral\n",
              "..                                                 ...      ...\n",
              "423  ['kak', 'brg', 'tolong', 'kirim', 'donk', 'sta...   netral\n",
              "424  ['selamat', 'siang', 'paket', 'dg', 'resi', 'a...   netral\n",
              "425  ['min', 'status', 'paket', 'suradita', 'ambil'...   netral\n",
              "426  ['cek', 'resi', 'pagi', 'status', 'paket', 'aj...   netral\n",
              "427  ['halo', 'status', 'paket', 'paket', 'nomor', ...   netral\n",
              "\n",
              "[428 rows x 2 columns]"
            ]
          },
          "metadata": {},
          "execution_count": 17
        }
      ]
    },
    {
      "cell_type": "code",
      "metadata": {
        "id": "mPh6gwI6ERzV",
        "colab": {
          "base_uri": "https://localhost:8080/"
        },
        "outputId": "185f1e85-7c01-4061-bd61-dace2e2bc772"
      },
      "source": [
        "import imblearn\n",
        "from imblearn.over_sampling import SMOTE\n",
        "from collections import Counter\n",
        "from sklearn.feature_extraction.text import TfidfVectorizer\n",
        "from sklearn.preprocessing import LabelEncoder"
      ],
      "execution_count": null,
      "outputs": [
        {
          "output_type": "stream",
          "text": [
            "/usr/local/lib/python3.7/dist-packages/sklearn/externals/six.py:31: FutureWarning: The module is deprecated in version 0.21 and will be removed in version 0.23 since we've dropped support for Python 2.7. Please rely on the official version of six (https://pypi.org/project/six/).\n",
            "  \"(https://pypi.org/project/six/).\", FutureWarning)\n",
            "/usr/local/lib/python3.7/dist-packages/sklearn/utils/deprecation.py:144: FutureWarning: The sklearn.neighbors.base module is  deprecated in version 0.22 and will be removed in version 0.24. The corresponding classes / functions should instead be imported from sklearn.neighbors. Anything that cannot be imported from sklearn.neighbors is now part of the private API.\n",
            "  warnings.warn(message, FutureWarning)\n"
          ],
          "name": "stderr"
        }
      ]
    },
    {
      "cell_type": "code",
      "metadata": {
        "id": "LJ-e94TSEnbO"
      },
      "source": [
        "#Initialize Atributte(x) And Target(y)\n",
        "x = jnt['stemming'].values\n",
        "y = jnt['sentimen'].values"
      ],
      "execution_count": null,
      "outputs": []
    },
    {
      "cell_type": "code",
      "metadata": {
        "colab": {
          "base_uri": "https://localhost:8080/"
        },
        "id": "y38liyv43RDD",
        "outputId": "e6c1d537-f338-4b3e-b56f-fe750805dc88"
      },
      "source": [
        "print(x)"
      ],
      "execution_count": null,
      "outputs": [
        {
          "output_type": "stream",
          "text": [
            "<StringArray>\n",
            "[                                                                                                                                                                      \"['paket', 'gue', 'kaga', 'nyampe', 'nih', 'org', 'yg', 'salah', 'alamat', 'kurir', 'jnt', 'nya', 'yg', 'ga', 'amanah']\",\n",
            "                                                                                                                                                                                                                 \"['beli', 'shopee', 'alamat', 'dah', 'orang', 'jnt', 'tu', 'salah', 'hantar']\",\n",
            "                                                                                                                                            \"['temen', 'gua', 'beli', 'pc', 'pake', 'anu', 'jnt', 'shopeenya', 'status', 'pesan', 'udah', 'terima', 'tuh', 'salah', 'alamat', 'blm', 'terima']\",\n",
            "                                                                                                                                                      \"['kurir', 'jnt', 'salah', 'alamat', 'rumah', 'krn', 'jalan', 'deret', 'rumah', 'gw', 'tuh', 'nomer', 'dr', 'arah', 'yg', 'deket', 'po']\",\n",
            "                                                                                                                                                                         \"['gw', 'drtd', 'pikir', 'si', 'mas', 'jnt', 'maaf', 'banget', 'ya', 'mas', 'salah', 'kasih', 'alamat', 'mas', 'bgt']\",\n",
            "                                                                                                                                                                                   \"['hello', 'jnt', 'express', 'tolong', 'cek', 'status', 'paket', 'kirim', 'setiabudi', 'dgn', 'resi', 'jp']\",\n",
            "                                                                                                                                                                     \"['min', 'alamat', 'paket', 'ku', 'salah', 'input', 'dr', 'jnt', 'nya', 'hrusnya', 'karang', 'tangerang', 'ny', 'karang']\",\n",
            "                                                                                                                                                                                                      \"['', 'beli', 'salah', 'letak', 'alamat', 'tu', 'ni', 'jnt', 'pulak', 'salah', 'hantar']\",\n",
            "                                                                                                                                                                         \"['hai', 'kak', 'paket', 'salah', 'isi', 'nya', 'plastik', 'jnt', 'nya', 'bener', 'alamat', 'tapiiii', 'isi', 'slah']\",\n",
            "                                                                                                                                                                                                                  \"['', 'rezeki', 'salah', 'alamat', 'parcel', 'jnt', 'kat', 'rumah', 'jiran']\",\n",
            " ...\n",
            "                                                                                                                                                                                      \"['alamat', 'no', 'tlp', 'aktif', 'min', 'wa', 'nya', 'jg', 'jd', 'status', 'paket', 'sy', 'gmna', 'ya']\",\n",
            "                                                                                                                                                                                                                             \"['mana', 'paket', 'status', 'paket', 'nya', 'nggak', 'updatejp']\",\n",
            "                                                                                                                                                 \"['kak', 'tolong', 'la', 'cek', 'status', 'paket', 'gak', 'jalan', 'tahan', 'hub', 'udah', 'minggu', 'lo', 'gadak', 'kabar', 'nomer', 'resi']\",\n",
            " \"['asli', 'sih', 'ekspedisi', 'jt', 'sicepot', 'tuh', 'beda', 'parah', 'bangetorder', 'barang', 'toko', 'yg', 'hari', 'jam', 'yg', 'paling', 'beda', 'bbrp', 'menit', 'doang', 'klatenbekasi', 'sicepot', 'sampe', 'jt', 'status', 'paket', 'udah', 'klaten', 'blm', 'tanda', 'otw', 'bekas']\",\n",
            "                                                                                                                                                                                                                    \"['status', 'paket', 'bom', 'kembang', 'yaa', 'kak', 'cepet', 'soalnyaaa']\",\n",
            "                                                                             \"['kak', 'brg', 'tolong', 'kirim', 'donk', 'status', 'paket', 'hub', 'sby', 'tgl', 'tp', 'skrg', 'gk', 'proses', 'tidur', 'barang', 'sana', 'tolong', 'donk', 'sy', 'bth', 'barang', 'nih', 'kak', 'resi', 'thx']\",\n",
            "                                                                                                                                                                      \"['selamat', 'siang', 'paket', 'dg', 'resi', 'antar', 'rumah', 'lihat', 'malam', 'status', 'paket', 'dicancel', 'antar']\",\n",
            "                                                                                                                                                                             \"['min', 'status', 'paket', 'suradita', 'ambil', 'aja', 'nggak', 'deket', 'rumah', 'gak', 'sampe', 'menit', 'jp']\",\n",
            "                                                                                                 \"['cek', 'resi', 'pagi', 'status', 'paket', 'aja', 'posisi', 'nya', 'ga', 'ubah', 'paket', 'diapain', 'min', 'enggak', 'ubah', 'posisi', 'progres', 'mah', 'stuck', 'aja', 'surabaya', 'hub']\",\n",
            "                                                                                                        \"['halo', 'status', 'paket', 'paket', 'nomor', 'resi', 'jt', 'lanjut', 'gimana', 'ya', 'udah', 'sampe', 'paket', 'udah', 'minggu', 'paket', 'kirim', 'tolong', 'banget', 'urus', 'ya']\"]\n",
            "Length: 428, dtype: string\n"
          ],
          "name": "stdout"
        }
      ]
    },
    {
      "cell_type": "code",
      "metadata": {
        "colab": {
          "base_uri": "https://localhost:8080/"
        },
        "id": "2uAAISo63T2v",
        "outputId": "25651c9a-6015-47a8-99c3-f46e2d082951"
      },
      "source": [
        "print(y)"
      ],
      "execution_count": null,
      "outputs": [
        {
          "output_type": "stream",
          "text": [
            "<StringArray>\n",
            "[ 'netral',  'netral', 'negatif',  'netral',  'netral',  'netral', 'negatif',\n",
            "  'netral', 'negatif',  'netral',\n",
            " ...\n",
            "  'netral',  'netral',  'netral', 'negatif', 'negatif',  'netral',  'netral',\n",
            "  'netral',  'netral',  'netral']\n",
            "Length: 428, dtype: string\n"
          ],
          "name": "stdout"
        }
      ]
    },
    {
      "cell_type": "code",
      "metadata": {
        "id": "qYCYESCDE0OL"
      },
      "source": [
        "#Transform Label\n",
        "Lab_En = LabelEncoder()\n",
        "y_transform = Lab_En.fit_transform(y)"
      ],
      "execution_count": null,
      "outputs": []
    },
    {
      "cell_type": "code",
      "metadata": {
        "colab": {
          "base_uri": "https://localhost:8080/"
        },
        "id": "E446Sn8v3XR_",
        "outputId": "39cf4d7e-6fed-4d5a-8a1e-8096b1e858a6"
      },
      "source": [
        "print(y_transform)"
      ],
      "execution_count": null,
      "outputs": [
        {
          "output_type": "stream",
          "text": [
            "[1 1 0 1 1 1 0 1 0 1 1 0 1 1 0 1 0 0 1 1 1 1 1 1 1 1 2 1 1 1 1 2 1 1 1 1 0\n",
            " 0 0 0 1 1 1 0 1 0 1 1 1 0 0 0 0 0 0 0 0 1 0 1 1 1 2 0 1 0 0 1 1 0 1 1 1 2\n",
            " 0 1 1 1 1 0 1 1 1 0 0 0 0 0 1 0 1 1 0 1 1 1 1 0 1 0 1 0 2 0 0 1 1 1 0 0 0\n",
            " 1 0 1 0 1 0 0 1 1 1 1 0 1 0 1 0 1 0 1 1 0 0 1 1 2 1 1 1 1 1 1 0 0 1 0 1 1\n",
            " 0 1 1 0 0 0 2 1 2 2 2 2 1 1 2 2 1 1 0 1 1 2 1 1 2 2 1 1 1 1 1 1 1 1 1 0 1\n",
            " 1 1 0 0 0 1 1 0 1 1 1 1 0 1 0 0 0 1 0 1 1 1 1 0 2 1 1 1 1 1 1 1 1 1 0 1 1\n",
            " 0 1 1 1 1 1 1 1 1 0 0 0 0 1 0 1 1 0 1 1 1 1 1 1 1 0 1 0 1 1 1 1 0 1 1 1 1\n",
            " 1 0 1 1 1 0 1 1 1 1 1 1 1 1 1 1 1 1 1 0 0 0 1 1 1 0 1 1 1 1 1 1 1 1 0 1 1\n",
            " 1 1 1 0 1 1 0 1 1 1 1 1 1 0 1 0 0 0 1 1 0 0 1 0 0 1 1 1 0 1 0 0 1 1 0 1 0\n",
            " 1 1 1 1 1 1 1 1 1 1 0 1 1 1 1 1 1 0 1 1 1 1 0 1 0 1 1 1 1 1 1 1 1 1 0 0 0\n",
            " 1 0 1 1 1 1 2 1 0 1 1 1 1 1 0 1 0 0 0 0 1 0 1 1 1 0 1 1 1 1 0 1 1 0 1 0 1\n",
            " 1 1 1 1 1 1 1 0 0 1 1 1 1 1 0 0 1 1 1 1 1]\n"
          ],
          "name": "stdout"
        }
      ]
    },
    {
      "cell_type": "code",
      "metadata": {
        "id": "FIRa3sw0E_gF",
        "colab": {
          "base_uri": "https://localhost:8080/"
        },
        "outputId": "853cb9e9-760d-427e-b355-e4458c2d5de1"
      },
      "source": [
        "#Feature Extraction or TFidf Implementation\n",
        "tf_vect = TfidfVectorizer()\n",
        "x_transform = tf_vect.fit_transform(x)\n",
        "tf_vect.vocabulary_"
      ],
      "execution_count": null,
      "outputs": [
        {
          "output_type": "execute_result",
          "data": {
            "text/plain": [
              "{'paket': 811,\n",
              " 'gue': 369,\n",
              " 'kaga': 502,\n",
              " 'nyampe': 766,\n",
              " 'nih': 747,\n",
              " 'org': 800,\n",
              " 'yg': 1172,\n",
              " 'salah': 917,\n",
              " 'alamat': 20,\n",
              " 'kurir': 586,\n",
              " 'jnt': 463,\n",
              " 'nya': 763,\n",
              " 'ga': 313,\n",
              " 'amanah': 27,\n",
              " 'beli': 89,\n",
              " 'shopee': 970,\n",
              " 'dah': 200,\n",
              " 'orang': 797,\n",
              " 'tu': 1110,\n",
              " 'hantar': 384,\n",
              " 'temen': 1053,\n",
              " 'gua': 366,\n",
              " 'pc': 833,\n",
              " 'pake': 808,\n",
              " 'anu': 39,\n",
              " 'shopeenya': 972,\n",
              " 'status': 1008,\n",
              " 'pesan': 849,\n",
              " 'udah': 1126,\n",
              " 'terima': 1063,\n",
              " 'tuh': 1112,\n",
              " 'blm': 114,\n",
              " 'rumah': 907,\n",
              " 'krn': 578,\n",
              " 'jalan': 437,\n",
              " 'deret': 221,\n",
              " 'gw': 371,\n",
              " 'nomer': 752,\n",
              " 'dr': 266,\n",
              " 'arah': 44,\n",
              " 'deket': 215,\n",
              " 'po': 862,\n",
              " 'drtd': 271,\n",
              " 'pikir': 855,\n",
              " 'si': 973,\n",
              " 'mas': 669,\n",
              " 'maaf': 644,\n",
              " 'banget': 66,\n",
              " 'ya': 1161,\n",
              " 'kasih': 519,\n",
              " 'bgt': 106,\n",
              " 'hello': 392,\n",
              " 'express': 296,\n",
              " 'tolong': 1097,\n",
              " 'cek': 161,\n",
              " 'kirim': 547,\n",
              " 'setiabudi': 968,\n",
              " 'dgn': 226,\n",
              " 'resi': 896,\n",
              " 'jp': 469,\n",
              " 'min': 690,\n",
              " 'ku': 580,\n",
              " 'input': 421,\n",
              " 'hrusnya': 401,\n",
              " 'karang': 514,\n",
              " 'tangerang': 1029,\n",
              " 'ny': 762,\n",
              " 'letak': 611,\n",
              " 'ni': 746,\n",
              " 'pulak': 882,\n",
              " 'hai': 375,\n",
              " 'kak': 504,\n",
              " 'isi': 425,\n",
              " 'plastik': 858,\n",
              " 'bener': 92,\n",
              " 'tapiiii': 1036,\n",
              " 'slah': 989,\n",
              " 'rezeki': 903,\n",
              " 'parcel': 826,\n",
              " 'kat': 521,\n",
              " 'jiran': 455,\n",
              " 'nempelnya': 726,\n",
              " 'telusur': 1052,\n",
              " 'sampe': 924,\n",
              " 'hmm': 397,\n",
              " 'kesini': 542,\n",
              " 'aneh': 32,\n",
              " 'aja': 11,\n",
              " 'pob': 863,\n",
              " 'random': 888,\n",
              " 'skz': 987,\n",
              " 'skzoo': 988,\n",
              " 'lumayan': 640,\n",
              " 'kacau': 501,\n",
              " 'yah': 1164,\n",
              " 'tuju': 1113,\n",
              " 'pasuruan': 830,\n",
              " 'cikarang': 176,\n",
              " 'follow': 308,\n",
              " 'up': 1132,\n",
              " 'tsb': 1108,\n",
              " 'gimana': 346,\n",
              " 'iya': 427,\n",
              " 'hilang': 395,\n",
              " 'loh': 625,\n",
              " 'halo': 377,\n",
              " 'bantu': 69,\n",
              " 'masuk': 672,\n",
              " 'dalem': 202,\n",
              " 'pos': 867,\n",
              " 'satpam': 934,\n",
              " 'dngn': 258,\n",
              " 'terang': 1061,\n",
              " 'tp': 1099,\n",
              " 'knp': 561,\n",
              " 'nerima': 728,\n",
              " 'apa': 40,\n",
              " 'gd': 337,\n",
              " 'kalo': 509,\n",
              " 'pickup': 854,\n",
              " 'gapernah': 331,\n",
              " 'dateng': 210,\n",
              " 'udh': 1127,\n",
              " 'kali': 507,\n",
              " 'dokumen': 260,\n",
              " 'tgl': 1074,\n",
              " 'kudus': 582,\n",
              " 'sby': 937,\n",
              " 'note': 756,\n",
              " 'gagal': 322,\n",
              " 'tdk': 1041,\n",
              " 'pdhl': 837,\n",
              " 'cctv': 160,\n",
              " 'ktrgn': 579,\n",
              " 'tlp': 1091,\n",
              " 'tik': 1084,\n",
              " 'delivery': 217,\n",
              " 'tulis': 1114,\n",
              " 'kantor': 512,\n",
              " 'nanya': 721,\n",
              " 'ngirim': 743,\n",
              " 'pamulang': 820,\n",
              " 'tangsel': 1033,\n",
              " 'cipondoh': 180,\n",
              " 'yaa': 1162,\n",
              " 'no': 750,\n",
              " 'gan': 326,\n",
              " 'lengkap': 610,\n",
              " 'hallo': 376,\n",
              " 'ganti': 328,\n",
              " 'baik': 59,\n",
              " 'deden': 212,\n",
              " 'ferdian': 304,\n",
              " 'pt': 880,\n",
              " 'mitra': 700,\n",
              " 'media': 678,\n",
              " 'selaras': 949,\n",
              " 'jl': 459,\n",
              " 'asem': 48,\n",
              " 'noa': 751,\n",
              " 'rt': 906,\n",
              " 'rw': 910,\n",
              " 'cipete': 179,\n",
              " 'selatan': 951,\n",
              " 'dki': 253,\n",
              " 'jakarta': 433,\n",
              " 'kota': 576,\n",
              " 'cilandak': 178,\n",
              " 'sdh': 939,\n",
              " 'smpe': 997,\n",
              " 'banjar': 68,\n",
              " 'jgn': 453,\n",
              " 'suka': 1013,\n",
              " 'layan': 604,\n",
              " 'cepat': 164,\n",
              " 'estimasi': 287,\n",
              " 'gimnaa': 348,\n",
              " 'cerita': 170,\n",
              " 'nyasar': 774,\n",
              " 'sendawar': 959,\n",
              " 'ka': 494,\n",
              " 'pick': 853,\n",
              " 'barang': 74,\n",
              " 'yasalah': 1168,\n",
              " 'gak': 323,\n",
              " 'sy': 1021,\n",
              " 'kena': 534,\n",
              " 'dampak': 203,\n",
              " 'ppkm': 869,\n",
              " 'darurat': 207,\n",
              " 'pontianak': 866,\n",
              " 'toko': 1094,\n",
              " 'buka': 141,\n",
              " 'brg': 132,\n",
              " 'solusi': 1000,\n",
              " 'ubah': 1123,\n",
              " 'pakai': 807,\n",
              " 'minsaya': 696,\n",
              " 'kos': 575,\n",
              " 'jasa': 443,\n",
              " 'mantab': 663,\n",
              " 'pokok': 865,\n",
              " 'tanggal': 1030,\n",
              " 'mana': 659,\n",
              " 'ampun': 30,\n",
              " 'deh': 213,\n",
              " 'gin': 349,\n",
              " 'mandeg': 661,\n",
              " 'solo': 999,\n",
              " 'taw': 1039,\n",
              " 'manaestimasi': 660,\n",
              " 'kmren': 557,\n",
              " 'minnn': 694,\n",
              " 'aduh': 7,\n",
              " 'sesuai': 967,\n",
              " 'pulau': 883,\n",
              " 'bogor': 121,\n",
              " 'payah': 832,\n",
              " 'etimasi': 289,\n",
              " 'msih': 711,\n",
              " 'stuck': 1010,\n",
              " 'pati': 831,\n",
              " 'juli': 484,\n",
              " 'tpi': 1100,\n",
              " 'ditindaklanjuti': 251,\n",
              " 'terimakasih': 1064,\n",
              " 'biar': 108,\n",
              " 'antar': 35,\n",
              " 'butuh': 146,\n",
              " 'minggu': 692,\n",
              " 'situ': 981,\n",
              " 'nunggu': 760,\n",
              " 'mintolong': 697,\n",
              " 'stuckini': 1011,\n",
              " 'jpestimasi': 471,\n",
              " 'tiba': 1079,\n",
              " 'tg': 1073,\n",
              " 'cuman': 194,\n",
              " 'jam': 439,\n",
              " 'skarang': 983,\n",
              " 'nyaoh': 772,\n",
              " 'pengaruh': 840,\n",
              " 'apaperasaan': 42,\n",
              " 'ekspedisi': 279,\n",
              " 'laen': 591,\n",
              " 'beginipake': 85,\n",
              " 'jt': 480,\n",
              " 'maren': 667,\n",
              " 'aman': 26,\n",
              " 'napa': 723,\n",
              " 'bginiada': 104,\n",
              " 'pdahal': 836,\n",
              " 'begiturada': 86,\n",
              " 'nyesel': 778,\n",
              " 'pilih': 856,\n",
              " 'tau': 1038,\n",
              " 'klu': 555,\n",
              " 'bkl': 113,\n",
              " 'bgini': 103,\n",
              " 'bikin': 110,\n",
              " 'sampai': 921,\n",
              " 'muter': 718,\n",
              " 'jual': 481,\n",
              " 'lohhh': 626,\n",
              " 'bom': 124,\n",
              " 'telat': 1048,\n",
              " 'drop': 269,\n",
              " 'point': 864,\n",
              " 'beda': 83,\n",
              " 'ngambil': 729,\n",
              " 'lempar': 609,\n",
              " 'tanggung': 1031,\n",
              " 'nihil': 748,\n",
              " 'nggak': 742,\n",
              " 'tegur': 1046,\n",
              " 'cab': 150,\n",
              " 'jayapuranya': 447,\n",
              " 'sadar': 914,\n",
              " 'wkt': 1154,\n",
              " 'gerak': 341,\n",
              " 'diterimaconfused': 250,\n",
              " 'face': 299,\n",
              " 'brng': 133,\n",
              " 'pes': 848,\n",
              " 'hari': 386,\n",
              " 'diri': 244,\n",
              " 'dri': 268,\n",
              " 'jkt': 456,\n",
              " 'ko': 563,\n",
              " 'nge': 733,\n",
              " 'sih': 978,\n",
              " 'gaada': 315,\n",
              " 'jelas': 450,\n",
              " 'pusat': 885,\n",
              " 'barat': 75,\n",
              " 'kendala': 536,\n",
              " 'yallah': 1166,\n",
              " 'cape': 156,\n",
              " 'admiin': 5,\n",
              " 'ayo': 56,\n",
              " 'followup': 309,\n",
              " 'akuuuuuu': 18,\n",
              " 'ish': 424,\n",
              " 'ngestuck': 739,\n",
              " 'mohon': 704,\n",
              " 'pencerahannyaa': 839,\n",
              " 'haloo': 378,\n",
              " 'kemaren': 529,\n",
              " 'admin': 6,\n",
              " 'gera': 339,\n",
              " 'capekkkk': 158,\n",
              " 'allah': 25,\n",
              " 'kesel': 541,\n",
              " 'lot': 632,\n",
              " 'pengirimanya': 843,\n",
              " 'suruh': 1019,\n",
              " 'buset': 145,\n",
              " 'skrg': 985,\n",
              " 'blom': 116,\n",
              " 'agustus': 10,\n",
              " 'nder': 724,\n",
              " 'doraemon': 264,\n",
              " 'misi': 699,\n",
              " 'lacak': 590,\n",
              " 'kemarin': 530,\n",
              " 'siang': 974,\n",
              " 'sehat': 944,\n",
              " 'abang': 0,\n",
              " 'yuhuuu': 1176,\n",
              " 'maklum': 654,\n",
              " 'ditelfon': 249,\n",
              " 'claim': 183,\n",
              " 'langsung': 598,\n",
              " 'urus': 1140,\n",
              " 'phpin': 852,\n",
              " 'besok': 99,\n",
              " 'besokin': 100,\n",
              " 'hasil': 387,\n",
              " 'ambil': 28,\n",
              " 'oren': 799,\n",
              " 'asli': 50,\n",
              " 'berat': 96,\n",
              " 'etalase': 288,\n",
              " 'gerakgerak': 343,\n",
              " 'gitu': 351,\n",
              " 'doang': 259,\n",
              " 'reguler': 893,\n",
              " 'informasi': 416,\n",
              " 'mei': 679,\n",
              " 'lebih': 607,\n",
              " 'enak': 284,\n",
              " 'diapain': 230,\n",
              " 'gmn': 357,\n",
              " 'dtg': 273,\n",
              " 'kunjung': 584,\n",
              " 'rabu': 886,\n",
              " 'sd': 938,\n",
              " 'skrng': 986,\n",
              " 'keren': 538,\n",
              " 'lambat': 595,\n",
              " 'bolak': 123,\n",
              " 'proses': 876,\n",
              " 'hub': 403,\n",
              " 'bantul': 71,\n",
              " 'stagging': 1006,\n",
              " 'chat': 173,\n",
              " 'wa': 1145,\n",
              " 'direspon': 242,\n",
              " 'kecewa': 525,\n",
              " 'hshshsgga': 402,\n",
              " 'sgini': 969,\n",
              " 'tanda': 1028,\n",
              " 'lewat': 613,\n",
              " 'sabtu': 913,\n",
              " 'semarang': 954,\n",
              " 'trs': 1107,\n",
              " 'berubahrubah': 98,\n",
              " 'dibales': 231,\n",
              " 'kudussemarang': 583,\n",
              " 'bales': 62,\n",
              " 'sebel': 940,\n",
              " 'nyampenya': 768,\n",
              " 'weekend': 1150,\n",
              " 'ngirimnya': 744,\n",
              " 'max': 675,\n",
              " 'juni': 490,\n",
              " 'posisi': 868,\n",
              " 'dm': 256,\n",
              " 'utk': 1142,\n",
              " 'nomor': 753,\n",
              " 'banda': 64,\n",
              " 'aceh': 1,\n",
              " 'emng': 283,\n",
              " 'telatkmarin': 1049,\n",
              " 'nympe': 779,\n",
              " 'jugaa': 482,\n",
              " 'tutup': 1119,\n",
              " 'emang': 281,\n",
              " 'gabisa': 317,\n",
              " 'terus': 1067,\n",
              " 'ngetwit': 740,\n",
              " 'bohong': 122,\n",
              " 'woii': 1159,\n",
              " 'makan': 650,\n",
              " 'keburu': 524,\n",
              " 'basi': 77,\n",
              " 'jg': 451,\n",
              " 'salahhh': 918,\n",
              " 'plis': 860,\n",
              " 'la': 588,\n",
              " 'pagi': 806,\n",
              " 'palembang': 817,\n",
              " 'timur': 1086,\n",
              " 'kabar': 496,\n",
              " 'update': 1133,\n",
              " 'labu': 589,\n",
              " 'batu': 80,\n",
              " 'medan': 677,\n",
              " 'btw': 140,\n",
              " 'sayang': 936,\n",
              " 'mahal': 647,\n",
              " 'pasti': 829,\n",
              " 'janji': 441,\n",
              " 'sanggup': 930,\n",
              " 'tepatin': 1058,\n",
              " 'mnding': 702,\n",
              " 'ngecewain': 735,\n",
              " 'langgan': 597,\n",
              " 'ati': 52,\n",
              " 'berkah': 97,\n",
              " 'moga': 703,\n",
              " 'bisnis': 112,\n",
              " 'lancar': 596,\n",
              " 'untung': 1131,\n",
              " 'urgent': 1139,\n",
              " 'jawab': 445,\n",
              " 'gk': 355,\n",
              " 'pk': 857,\n",
              " 'karna': 517,\n",
              " 'senen': 960,\n",
              " 'selasa': 950,\n",
              " 'boro': 125,\n",
              " 'keteranganya': 543,\n",
              " 'failed': 301,\n",
              " 'luar': 636,\n",
              " 'ngelus': 736,\n",
              " 'dada': 198,\n",
              " 'mesti': 684,\n",
              " 'smp': 995,\n",
              " 'komplain': 567,\n",
              " 'hancur': 380,\n",
              " 'koq': 574,\n",
              " 'handling': 381,\n",
              " 'kaca': 500,\n",
              " 'dilemparpecah': 238,\n",
              " 'detik': 223,\n",
              " 'parah': 824,\n",
              " 'bayar': 81,\n",
              " 'papua': 823,\n",
              " 'hubungin': 405,\n",
              " 'sangkut': 931,\n",
              " 'rute': 909,\n",
              " 'grab': 364,\n",
              " 'jiente': 454,\n",
              " 'bobrok': 120,\n",
              " 'kaya': 522,\n",
              " 'kargo': 516,\n",
              " 'bantuanya': 70,\n",
              " 'knapa': 560,\n",
              " 'onproces': 794,\n",
              " 'ad': 2,\n",
              " 'notifnya': 758,\n",
              " 'nyampek': 767,\n",
              " 'sampek': 925,\n",
              " 'info': 415,\n",
              " 'juliini': 485,\n",
              " 'don': 261,\n",
              " 'minbarang': 691,\n",
              " 'junibahkan': 491,\n",
              " 'halooo': 379,\n",
              " 'progress': 875,\n",
              " 'surabaya': 1017,\n",
              " 'tanam': 1027,\n",
              " 'mati': 673,\n",
              " 'tahan': 1023,\n",
              " 'kayak': 523,\n",
              " 'emg': 282,\n",
              " 'klo': 554,\n",
              " 'libur': 619,\n",
              " 'kasi': 518,\n",
              " 'bgr': 105,\n",
              " 'jumat': 488,\n",
              " 'blng': 115,\n",
              " 'huh': 407,\n",
              " 'jabar': 430,\n",
              " 'dh': 227,\n",
              " 'bandung': 65,\n",
              " 'sampenya': 926,\n",
              " 'mending': 680,\n",
              " 'tegal': 1045,\n",
              " 'ciputat': 181,\n",
              " 'telpon': 1051,\n",
              " 'ganyampe': 329,\n",
              " 'kontak': 573,\n",
              " 'selesai': 952,\n",
              " 'bos': 126,\n",
              " 'giveaway': 353,\n",
              " 'mulu': 713,\n",
              " 'hi': 394,\n",
              " 'jd': 449,\n",
              " 'makasih': 652,\n",
              " 'ngga': 741,\n",
              " 'expres': 295,\n",
              " 'malam': 657,\n",
              " 'gudang': 368,\n",
              " 'depok': 220,\n",
              " 'sengaja': 961,\n",
              " 'cepet': 166,\n",
              " 'tugas': 1111,\n",
              " 'deadlinenya': 211,\n",
              " 'miminnnn': 689,\n",
              " 'kenapaa': 535,\n",
              " 'alas': 21,\n",
              " 'bahaya': 58,\n",
              " 'marah': 666,\n",
              " 'wktu': 1155,\n",
              " 'order': 798,\n",
              " 'dapet': 205,\n",
              " 'yano': 1167,\n",
              " 'jpdari': 470,\n",
              " 'takut': 1026,\n",
              " 'kakk': 505,\n",
              " 'transit': 1104,\n",
              " 'loudly': 633,\n",
              " 'crying': 192,\n",
              " 'tkut': 1089,\n",
              " 'album': 23,\n",
              " 'make': 653,\n",
              " 'mikir': 687,\n",
              " 'ilang': 413,\n",
              " 'saking': 915,\n",
              " 'gelisah': 338,\n",
              " 'slightly': 992,\n",
              " 'smiling': 994,\n",
              " 'cmn': 184,\n",
              " 'jktdpk': 457,\n",
              " 'olshop': 786,\n",
              " 'biasa': 109,\n",
              " 'kek': 528,\n",
              " 'srek': 1004,\n",
              " 'hati': 388,\n",
              " 'ramah': 887,\n",
              " 'temenku': 1054,\n",
              " 'with': 1153,\n",
              " 'tears': 1043,\n",
              " 'of': 784,\n",
              " 'joybismillah': 468,\n",
              " 'iphone': 423,\n",
              " 'ip': 422,\n",
              " 'gpp': 363,\n",
              " 'jga': 452,\n",
              " 'sore': 1002,\n",
              " 'bekas': 87,\n",
              " 'daerah': 199,\n",
              " 'tera': 1060,\n",
              " 'foto': 311,\n",
              " 'magelang': 645,\n",
              " 'jogja': 464,\n",
              " 'teruss': 1069,\n",
              " 'berangkat': 95,\n",
              " 'psti': 879,\n",
              " 'brngnya': 134,\n",
              " 'reviewnya': 902,\n",
              " 'open': 795,\n",
              " 'mouth': 707,\n",
              " 'and': 31,\n",
              " 'tightlyclosed': 1083,\n",
              " 'eyesfolded': 298,\n",
              " 'hands': 382,\n",
              " 'gatau': 335,\n",
              " 'joy': 467,\n",
              " 'ditanyain': 248,\n",
              " 'cs': 193,\n",
              " 'maksimal': 655,\n",
              " 'uhuyyyy': 1128,\n",
              " 'tulunggg': 1115,\n",
              " 'mbak': 676,\n",
              " 'ada': 3,\n",
              " 'balas': 61,\n",
              " 'protes': 877,\n",
              " 'lhoo': 617,\n",
              " 'refund': 892,\n",
              " 'slow': 993,\n",
              " 'bosss': 129,\n",
              " 'padal': 804,\n",
              " 'jktmlg': 458,\n",
              " 'astagaaaa': 51,\n",
              " 'miinnn': 686,\n",
              " 'paketkuu': 813,\n",
              " 'gerakk': 344,\n",
              " 'geraaakkkk': 340,\n",
              " 'masii': 670,\n",
              " 'jakartaaaaa': 434,\n",
              " 'ibukuu': 408,\n",
              " 'tanyak': 1035,\n",
              " 'teruuusssss': 1071,\n",
              " 'loo': 628,\n",
              " 'pengirimannyaaaaa': 841,\n",
              " 'kudu': 581,\n",
              " 'semingguuuu': 956,\n",
              " 'wkwkwkwk': 1158,\n",
              " 'lawak': 603,\n",
              " 'lo': 624,\n",
              " 'anjir': 34,\n",
              " 'lebaran': 606,\n",
              " 'monyet': 705,\n",
              " 'ekpedisi': 278,\n",
              " 'pd': 835,\n",
              " 'via': 1143,\n",
              " 'tokped': 1096,\n",
              " 'selamat': 948,\n",
              " 'punya': 884,\n",
              " 'lingkup': 623,\n",
              " 'kabupaten': 499,\n",
              " 'camat': 154,\n",
              " 'kirakira': 546,\n",
              " 'sampesampe': 928,\n",
              " 'batas': 79,\n",
              " 'july': 487,\n",
              " 'lewast': 612,\n",
              " 'capek': 157,\n",
              " 'wahhh': 1146,\n",
              " 'operasional': 796,\n",
              " 'maksud': 656,\n",
              " 'provinsi': 878,\n",
              " 'super': 1016,\n",
              " 'luf': 639,\n",
              " 'expect': 292,\n",
              " 'secepet': 941,\n",
              " 'hahaha': 374,\n",
              " 'belanja': 88,\n",
              " 'ecommerce': 276,\n",
              " 'prnah': 870,\n",
              " 'nyobain': 782,\n",
              " 'brbagai': 130,\n",
              " 'upsidedown': 1136,\n",
              " 'nyasarin': 775,\n",
              " 'eyes': 297,\n",
              " 'wkwk': 1156,\n",
              " 'yak': 1165,\n",
              " 'thanks': 1076,\n",
              " 'anterin': 38,\n",
              " 'luv': 643,\n",
              " 'datang': 209,\n",
              " 'kilat': 545,\n",
              " 'boskuu': 128,\n",
              " 'mudah': 712,\n",
              " 'bosen': 127,\n",
              " 'iniired': 419,\n",
              " 'heartred': 390,\n",
              " 'heartstay': 391,\n",
              " 'healthy': 389,\n",
              " 'neng': 727,\n",
              " 'mantap': 664,\n",
              " 'nyampenyaestimasi': 769,\n",
              " 'gaperlu': 330,\n",
              " 'ribet': 904,\n",
              " 'puas': 881,\n",
              " 'senang': 958,\n",
              " 'exprees': 294,\n",
              " 'drama': 267,\n",
              " 'lopyu': 630,\n",
              " 'omelanomelannya': 788,\n",
              " 'takjub': 1025,\n",
              " 'cpet': 191,\n",
              " 'gilakmakasi': 345,\n",
              " 'parahhh': 825,\n",
              " 'affordable': 9,\n",
              " 'bgttt': 107,\n",
              " 'kantong': 511,\n",
              " 'teriak': 1062,\n",
              " 'fakirr': 302,\n",
              " 'dtng': 274,\n",
              " 'cepett': 167,\n",
              " 'jln': 460,\n",
              " 'by': 149,\n",
              " 'email': 280,\n",
              " 'tlpn': 1092,\n",
              " 'perubahanstagnan': 847,\n",
              " 'jatim': 444,\n",
              " 'nympenya': 780,\n",
              " 'akhirny': 16,\n",
              " 'krim': 577,\n",
              " 'main': 648,\n",
              " 'keponakan': 537,\n",
              " 'sumatramhn': 1014,\n",
              " 'cept': 168,\n",
              " 'murah': 717,\n",
              " 'harga': 385,\n",
              " 'terjangkaupastilah': 1065,\n",
              " 'dooong': 263,\n",
              " 'onlinekan': 792,\n",
              " 'gasabar': 334,\n",
              " 'online': 791,\n",
              " 'marketplace': 668,\n",
              " 'josss': 466,\n",
              " 'suara': 1012,\n",
              " 'pakeett': 810,\n",
              " 'nyangka': 770,\n",
              " 'mood': 706,\n",
              " 'chart': 172,\n",
              " 'upwards': 1138,\n",
              " 'trendchart': 1106,\n",
              " 'trend': 1105,\n",
              " 'nyoba': 781,\n",
              " 'expedisi': 293,\n",
              " 'tanggungjawab': 1032,\n",
              " 'situasi': 982,\n",
              " 'paketpaket': 814,\n",
              " 'apaapa': 41,\n",
              " 'lho': 616,\n",
              " 'tuman': 1116,\n",
              " 'kalik': 508,\n",
              " 'bapakbapak': 73,\n",
              " 'lindung': 622,\n",
              " 'love': 634,\n",
              " 'pleading': 859,\n",
              " 'masingmasing': 671,\n",
              " 'coba': 186,\n",
              " 'jne': 462,\n",
              " 'anteraja': 37,\n",
              " 'bentuk': 94,\n",
              " 'respons': 899,\n",
              " 'buruk': 144,\n",
              " 'alhamdulillah': 24,\n",
              " 'sampaisampai': 923,\n",
              " 'cikarangudah': 177,\n",
              " 'noresi': 754,\n",
              " 'shopeeku': 971,\n",
              " 'sitired': 980,\n",
              " 'negeri': 725,\n",
              " 'ide': 410,\n",
              " 'idl': 411,\n",
              " 'konl': 572,\n",
              " 'uda': 1125,\n",
              " 'lapor': 601,\n",
              " 'ngebacot': 734,\n",
              " 'akal': 15,\n",
              " 'sontoloyo': 1001,\n",
              " 'juta': 492,\n",
              " 'ongkirnya': 790,\n",
              " 'sana': 929,\n",
              " 'bsk': 137,\n",
              " 'msh': 710,\n",
              " 'cht': 175,\n",
              " 'gubris': 367,\n",
              " 'mention': 682,\n",
              " 'twitter': 1120,\n",
              " 'ditanggepinthumbs': 247,\n",
              " 'down': 265,\n",
              " 'jun': 489,\n",
              " 'blum': 117,\n",
              " 'web': 1147,\n",
              " 'dikirimkirim': 236,\n",
              " 'lalujpjp': 594,\n",
              " 'satu': 935,\n",
              " 'sampaijp': 922,\n",
              " 'jpkatanya': 475,\n",
              " 'jpjppaket': 473,\n",
              " 'disurabaya': 245,\n",
              " 'terusssssstolongggggg': 1070,\n",
              " 'iniii': 418,\n",
              " 'ukur': 1129,\n",
              " 'golong': 361,\n",
              " 'stag': 1005,\n",
              " 'tindak': 1087,\n",
              " 'gustiii': 370,\n",
              " 'ini': 417,\n",
              " 'garut': 333,\n",
              " 'saran': 933,\n",
              " 'mah': 646,\n",
              " 'tar': 1037,\n",
              " 'ngurus': 745,\n",
              " 'give': 352,\n",
              " 'away': 55,\n",
              " 'on': 789,\n",
              " 'time': 1085,\n",
              " 'pewat': 851,\n",
              " 'nye': 777,\n",
              " 'siape': 975,\n",
              " 'sen': 957,\n",
              " 'brengski': 131,\n",
              " 'thank': 1075,\n",
              " 'you': 1175,\n",
              " 'for': 310,\n",
              " 'response': 900,\n",
              " 'jadi': 431,\n",
              " 'template': 1056,\n",
              " 'kah': 503,\n",
              " 'lgi': 615,\n",
              " 'overload': 802,\n",
              " 'obat': 783,\n",
              " 'avoskin': 54,\n",
              " 'pas': 828,\n",
              " 'yogya': 1173,\n",
              " 'nyangkut': 771,\n",
              " 'seninlamanya': 963,\n",
              " 'kok': 565,\n",
              " 'gabergerakbergerak': 316,\n",
              " 'cerah': 169,\n",
              " 'cod': 187,\n",
              " 'goblok': 360,\n",
              " 'liat': 618,\n",
              " 'dlu': 255,\n",
              " 'beneran': 93,\n",
              " 'konfirmasi': 570,\n",
              " 'teh': 1047,\n",
              " 'dihandle': 234,\n",
              " 'pelosok': 838,\n",
              " 'contoh': 189,\n",
              " 'dekorasi': 216,\n",
              " 'pesta': 850,\n",
              " 'ulang': 1130,\n",
              " 'total': 1098,\n",
              " 'rb': 889,\n",
              " 'gambar': 324,\n",
              " 'mesan': 683,\n",
              " 'yokk': 1174,\n",
              " 'nyari': 773,\n",
              " 'cemilan': 162,\n",
              " 'wfh': 1151,\n",
              " 'sekolahkuliah': 945,\n",
              " 'daring': 206,\n",
              " 'ato': 53,\n",
              " 'karantina': 515,\n",
              " 'nyamik': 764,\n",
              " 'gipewey': 350,\n",
              " 'ak': 14,\n",
              " 'balikpapan': 63,\n",
              " 'jakartanya': 436,\n",
              " 'kapal': 513,\n",
              " 'laut': 602,\n",
              " 'dipake': 240,\n",
              " 'aduuuhhhh': 8,\n",
              " 'sidoarjosurabaya': 977,\n",
              " 'dilacakmohon': 237,\n",
              " 'sortir': 1003,\n",
              " 'diam': 228,\n",
              " 'sabar': 912,\n",
              " 'gaess': 321,\n",
              " 'bs': 136,\n",
              " 'hr': 400,\n",
              " 'parkir': 827,\n",
              " 'wkwkwkkwkkwkwkwkkw': 1157,\n",
              " 'denger': 218,\n",
              " 'buyung': 148,\n",
              " 'center': 163,\n",
              " 'skrang': 984,\n",
              " 'call': 153,\n",
              " 'dekat': 214,\n",
              " 'jb': 448,\n",
              " 'nganterin': 730,\n",
              " 'woy': 1160,\n",
              " 'gerakbukan': 342,\n",
              " 'lanjutin': 600,\n",
              " 'hubung': 404,\n",
              " 'dighosting': 233,\n",
              " 'respon': 897,\n",
              " 'whatsapp': 1152,\n",
              " 'drpd': 270,\n",
              " 'check': 174,\n",
              " 'tibatiba': 1081,\n",
              " 'direturterima': 243,\n",
              " 'eskalasi': 286,\n",
              " 'jayapura': 446,\n",
              " 'kerja': 539,\n",
              " 'professional': 873,\n",
              " 'anggap': 33,\n",
              " 'hold': 398,\n",
              " 'buyer': 147,\n",
              " 'nyampai': 765,\n",
              " 'tempat': 1055,\n",
              " 'fulu': 312,\n",
              " 'jalanjalan': 438,\n",
              " 'dstu': 272,\n",
              " 'kejelasannyaa': 527,\n",
              " 'kalah': 506,\n",
              " 'fokus': 306,\n",
              " 'departed': 219,\n",
              " 'arrived': 45,\n",
              " 'minn': 693,\n",
              " 'maju': 649,\n",
              " 'rusa': 908,\n",
              " 'cirebonnya': 182,\n",
              " 'fine': 305,\n",
              " 'exited': 291,\n",
              " 'eh': 277,\n",
              " 'tt': 1109,\n",
              " 'ape': 43,\n",
              " 'begimane': 84,\n",
              " 'dilupain': 239,\n",
              " 'asa': 46,\n",
              " 'giveawaynya': 354,\n",
              " 'td': 1040,\n",
              " 'inistatus': 420,\n",
              " 'tunda': 1117,\n",
              " 'jx': 493,\n",
              " 'cust': 195,\n",
              " 'klik': 553,\n",
              " 'grup': 365,\n",
              " 'duo': 275,\n",
              " 'periksa': 845,\n",
              " 'kabarin': 497,\n",
              " 'ajakalo': 12,\n",
              " 'staging': 1007,\n",
              " 'kabbogorbojong': 498,\n",
              " 'dlm': 254,\n",
              " 'malem': 658,\n",
              " 'komplaint': 568,\n",
              " 'gimna': 347,\n",
              " 'ditangerang': 246,\n",
              " 'msaih': 708,\n",
              " 'lucu': 637,\n",
              " 'lucuuu': 638,\n",
              " 'bulan': 143,\n",
              " 'telfon': 1050,\n",
              " 'looh': 629,\n",
              " 'slamat': 990,\n",
              " 'dasar': 208,\n",
              " 'nyata': 776,\n",
              " 'mintrima': 698,\n",
              " 'kode': 564,\n",
              " 'cantum': 155,\n",
              " 'palsu': 819,\n",
              " 'servisnyapadahal': 966,\n",
              " 'nama': 720,\n",
              " 'lanjut': 599,\n",
              " 'cabang': 151,\n",
              " 'adil': 4,\n",
              " 'sakit': 916,\n",
              " 'company': 188,\n",
              " 'rencana': 895,\n",
              " 'cadang': 152,\n",
              " 'tunggu': 1118,\n",
              " 'item': 426,\n",
              " 'konfirmasitelpon': 571,\n",
              " 'pakettau': 815,\n",
              " 'temu': 1057,\n",
              " 'lainselalu': 593,\n",
              " 'smpai': 996,\n",
              " 'cepattanpa': 165,\n",
              " 'msalah': 709,\n",
              " 'kampung': 510,\n",
              " 'desa': 222,\n",
              " 'inbox': 414,\n",
              " 'servicenya': 965,\n",
              " 'kl': 549,\n",
              " 'ready': 890,\n",
              " 'sya': 1022,\n",
              " 'kmrn': 559,\n",
              " 'updatenya': 1135,\n",
              " 'kk': 548,\n",
              " 'da': 197,\n",
              " 'tlg': 1090,\n",
              " 'dex': 224,\n",
              " 'jadwal': 432,\n",
              " 'penjelaaan': 844,\n",
              " 'reai': 891,\n",
              " 'mundur': 716,\n",
              " 'loncat': 627,\n",
              " 'oknum': 785,\n",
              " 'stlh': 1009,\n",
              " 'bro': 135,\n",
              " 'dianterin': 229,\n",
              " 'om': 787,\n",
              " 'tahap': 1024,\n",
              " 'yastatus': 1170,\n",
              " 'track': 1101,\n",
              " 'asap': 47,\n",
              " 'tracking': 1102,\n",
              " 'webnya': 1148,\n",
              " 'muncul': 715,\n",
              " 'noresinya': 755,\n",
              " 'yasaya': 1169,\n",
              " 'website': 1149,\n",
              " 'susah': 1020,\n",
              " 'feb': 303,\n",
              " 'history': 396,\n",
              " 'cc': 159,\n",
              " 'dmn': 257,\n",
              " 'nmr': 749,\n",
              " 'jpudh': 479,\n",
              " 'trackingy': 1103,\n",
              " 'gmna': 358,\n",
              " 'jls': 461,\n",
              " 'urusin': 1141,\n",
              " 'jujur': 483,\n",
              " 'rem': 894,\n",
              " 'bbrp': 82,\n",
              " 'alam': 19,\n",
              " ...}"
            ]
          },
          "metadata": {},
          "execution_count": 24
        }
      ]
    },
    {
      "cell_type": "code",
      "metadata": {
        "colab": {
          "base_uri": "https://localhost:8080/"
        },
        "id": "E6Ma4dqb3knI",
        "outputId": "5620fb36-e42f-4fcc-abba-65ab054d9e4c"
      },
      "source": [
        "print(x_transform)"
      ],
      "execution_count": null,
      "outputs": [
        {
          "output_type": "stream",
          "text": [
            "  (0, 27)\t0.3502418362555459\n",
            "  (0, 313)\t0.15878124799554547\n",
            "  (0, 763)\t0.21130368858854334\n",
            "  (0, 463)\t0.19951274229081234\n",
            "  (0, 586)\t0.22001033387096353\n",
            "  (0, 20)\t0.2081381303457799\n",
            "  (0, 917)\t0.2181679625688714\n",
            "  (0, 1172)\t0.3990254845816247\n",
            "  (0, 800)\t0.3502418362555459\n",
            "  (0, 747)\t0.2301502729124403\n",
            "  (0, 766)\t0.2279846171867871\n",
            "  (0, 502)\t0.33647056426733746\n",
            "  (0, 369)\t0.3502418362555459\n",
            "  (0, 811)\t0.07498466897788622\n",
            "  (1, 384)\t0.44264449965885866\n",
            "  (1, 1110)\t0.40472398241154517\n",
            "  (1, 797)\t0.34619381175949276\n",
            "  (1, 200)\t0.33379275550080023\n",
            "  (1, 970)\t0.323169838879321\n",
            "  (1, 89)\t0.3397346282958236\n",
            "  (1, 463)\t0.23998411800929229\n",
            "  (1, 20)\t0.2503591753669927\n",
            "  (1, 917)\t0.26242356991243637\n",
            "  (2, 114)\t0.20416328426018776\n",
            "  (2, 1112)\t0.23799602905441597\n",
            "  :\t:\n",
            "  (426, 1123)\t0.38478302344084525\n",
            "  (426, 11)\t0.317813724679191\n",
            "  (426, 690)\t0.08642055003841026\n",
            "  (426, 896)\t0.10811173618283627\n",
            "  (426, 161)\t0.15370163853356683\n",
            "  (426, 1008)\t0.07350649954507703\n",
            "  (426, 313)\t0.11370149102272983\n",
            "  (426, 763)\t0.15131222832934269\n",
            "  (426, 811)\t0.10739137995527895\n",
            "  (427, 599)\t0.3583500118571694\n",
            "  (427, 753)\t0.2792460883938874\n",
            "  (427, 1140)\t0.3442599318912166\n",
            "  (427, 480)\t0.23326251125673092\n",
            "  (427, 692)\t0.2507061350792911\n",
            "  (427, 377)\t0.19761608537127273\n",
            "  (427, 346)\t0.22138822242316622\n",
            "  (427, 924)\t0.17762043641839784\n",
            "  (427, 896)\t0.1544704085151341\n",
            "  (427, 547)\t0.1631705630697544\n",
            "  (427, 1097)\t0.14627364021920183\n",
            "  (427, 1161)\t0.3101974158123806\n",
            "  (427, 66)\t0.21960941274287726\n",
            "  (427, 1126)\t0.34157488919529405\n",
            "  (427, 1008)\t0.10502633122127411\n",
            "  (427, 811)\t0.3068823222788933\n"
          ],
          "name": "stdout"
        }
      ]
    },
    {
      "cell_type": "code",
      "metadata": {
        "colab": {
          "base_uri": "https://localhost:8080/"
        },
        "id": "XnVT9aniFFMJ",
        "outputId": "af032a8c-e00c-4ba4-a756-13636d71006a"
      },
      "source": [
        "#Oversampling Technique\n",
        "#Print Before Oversample\n",
        "print(Counter(y))\n",
        "# initialize SMOTE\n",
        "oversample = SMOTE()\n",
        "# fit and apply oversampling\n",
        "x_over, y_over = oversample.fit_resample(x_transform, y_transform)\n",
        "# Print After Oversampling\n",
        "print(Counter(y_over))"
      ],
      "execution_count": null,
      "outputs": [
        {
          "output_type": "stream",
          "text": [
            "Counter({'netral': 282, 'negatif': 128, 'positif': 18})\n"
          ],
          "name": "stdout"
        },
        {
          "output_type": "stream",
          "text": [
            "/usr/local/lib/python3.7/dist-packages/sklearn/utils/deprecation.py:87: FutureWarning: Function safe_indexing is deprecated; safe_indexing is deprecated in version 0.22 and will be removed in version 0.24.\n",
            "  warnings.warn(msg, category=FutureWarning)\n"
          ],
          "name": "stderr"
        },
        {
          "output_type": "stream",
          "text": [
            "Counter({1: 282, 0: 282, 2: 282})\n"
          ],
          "name": "stdout"
        }
      ]
    },
    {
      "cell_type": "code",
      "metadata": {
        "colab": {
          "base_uri": "https://localhost:8080/",
          "height": 501
        },
        "id": "QffcHghCFfGG",
        "outputId": "66b33455-fba5-40f1-b21a-a5e27356c2e8"
      },
      "source": [
        "#Visualize Before Oversampling\n",
        "import collections\n",
        "import matplotlib.pyplot as plt\n",
        "import seaborn as sns\n",
        "font = {'family' : 'normal',\n",
        "        'weight' : 'bold',\n",
        "        'size'   : 8}\n",
        "\n",
        "plt.rc('font', **font)\n",
        "w = collections.Counter(y)\n",
        "plt.figure(figsize=(5,8))\n",
        "plt.bar(w.keys(), w.values())\n",
        "plt.show()"
      ],
      "execution_count": null,
      "outputs": [
        {
          "output_type": "stream",
          "text": [
            "findfont: Font family ['normal'] not found. Falling back to DejaVu Sans.\n"
          ],
          "name": "stderr"
        },
        {
          "output_type": "display_data",
          "data": {
            "image/png": "[encoded data removed]",
            "text/plain": [
              "<Figure size 360x576 with 1 Axes>"
            ]
          },
          "metadata": {
            "needs_background": "light"
          }
        }
      ]
    },
    {
      "cell_type": "code",
      "metadata": {
        "colab": {
          "base_uri": "https://localhost:8080/",
          "height": 482
        },
        "id": "vpOz1Pp3FvXz",
        "outputId": "4a1af7be-cc9e-428a-d177-515127ef9bcd"
      },
      "source": [
        "#Visualize after Oversample\n",
        "font = {'family' : 'normal',\n",
        "        'weight' : 'bold',\n",
        "        'size'   : 8}\n",
        "\n",
        "plt.rc('font', **font)\n",
        "w = collections.Counter(y_over)\n",
        "plt.figure(figsize=(5,8))\n",
        "plt.bar(w.keys(), w.values())\n",
        "plt.xticks([1, 0, 2], ['Netral', 'Negatif', 'Positif'])\n",
        "plt.savefig(\"/content/drive/MyDrive/jntsesudah.png\")\n",
        "plt.show()"
      ],
      "execution_count": null,
      "outputs": [
        {
          "output_type": "display_data",
          "data": {
            "image/png": "[encoded data removed]",
            "text/plain": [
              "<Figure size 360x576 with 1 Axes>"
            ]
          },
          "metadata": {
            "needs_background": "light"
          }
        }
      ]
    },
    {
      "cell_type": "code",
      "metadata": {
        "id": "QSksYQxkGCbg"
      },
      "source": [
        "#Split Data Train dan Data Testing\n",
        "xtrain,xtest,ytrain,ytest = train_test_split(x_over,y_over, test_size = 0.2)"
      ],
      "execution_count": null,
      "outputs": []
    },
    {
      "cell_type": "code",
      "metadata": {
        "id": "QddWa2iYX3UZ"
      },
      "source": [
        "xtrain1,xtest1,ytrain1,ytest1 = train_test_split(x_over,y_over, test_size = 0.25)"
      ],
      "execution_count": null,
      "outputs": []
    },
    {
      "cell_type": "code",
      "metadata": {
        "id": "ZrJfe-W9X7zK"
      },
      "source": [
        "xtrain2,xtest2,ytrain2,ytest2 = train_test_split(x_over,y_over, test_size = 0.3)"
      ],
      "execution_count": null,
      "outputs": []
    },
    {
      "cell_type": "code",
      "metadata": {
        "id": "QW5JzLzyY0BZ"
      },
      "source": [
        "# Tanpa Smote\n",
        "# xtrain,xtest,ytrain,ytest = train_test_split(x_transform,y_transform, test_size = 0.2)"
      ],
      "execution_count": null,
      "outputs": []
    },
    {
      "cell_type": "code",
      "metadata": {
        "id": "4zfm3eIOY0Ba"
      },
      "source": [
        "# xtrain1,xtest1,ytrain1,ytest1 = train_test_split(x_transform,y_transform, test_size = 0.25)"
      ],
      "execution_count": null,
      "outputs": []
    },
    {
      "cell_type": "code",
      "metadata": {
        "id": "xGw-HM8VY0Bb"
      },
      "source": [
        "# xtrain2,xtest2,ytrain2,ytest2 = train_test_split(x_transform,y_transform, test_size = 0.3)"
      ],
      "execution_count": null,
      "outputs": []
    },
    {
      "cell_type": "code",
      "metadata": {
        "colab": {
          "base_uri": "https://localhost:8080/",
          "height": 482
        },
        "id": "856wNeUNFRL0",
        "outputId": "b23c4c67-b7b9-45f4-ea94-483611f97260"
      },
      "source": [
        "font = {'family' : 'normal',\n",
        "        'weight' : 'bold',\n",
        "        'size'   : 8}\n",
        "#Compare Data Label\n",
        "plt.rc('font', **font)\n",
        "w = collections.Counter(ytrain1)\n",
        "z = collections.Counter(ytest1)\n",
        "plt.figure(figsize=(5,8))\n",
        "plt.bar(w.keys(), w.values())\n",
        "plt.bar(z.keys(), z.values())\n",
        "plt.xticks([1, 0, 2], ['Netral', 'Negatif', 'Positif'])\n",
        "# plt.savefig(\"/content/drive/MyDrive/Tiwi/JNE dan JNT Dataset/grafik_training_test_jnt.png\")\n",
        "plt.show()"
      ],
      "execution_count": null,
      "outputs": [
        {
          "output_type": "display_data",
          "data": {
            "image/png": "[encoded data removed]",
            "text/plain": [
              "<Figure size 360x576 with 1 Axes>"
            ]
          },
          "metadata": {
            "needs_background": "light"
          }
        }
      ]
    },
    {
      "cell_type": "code",
      "metadata": {
        "colab": {
          "base_uri": "https://localhost:8080/"
        },
        "id": "eLjonmsIHGoX",
        "outputId": "c660c77e-2670-473b-87bc-a3fe77088f34"
      },
      "source": [
        "print(w)\n",
        "print(z)"
      ],
      "execution_count": null,
      "outputs": [
        {
          "output_type": "stream",
          "text": [
            "Counter({2: 220, 0: 212, 1: 202})\n",
            "Counter({1: 80, 0: 70, 2: 62})\n"
          ],
          "name": "stdout"
        }
      ]
    },
    {
      "cell_type": "code",
      "metadata": {
        "colab": {
          "base_uri": "https://localhost:8080/"
        },
        "id": "YmlibUweGFKA",
        "outputId": "3054debf-f91a-4766-ec0d-11108ca8fb11"
      },
      "source": [
        "#Lihat Shape Data yang sudah dibagi\n",
        "xtrain.shape,xtest.shape,ytrain.shape,ytest.shape"
      ],
      "execution_count": null,
      "outputs": [
        {
          "output_type": "execute_result",
          "data": {
            "text/plain": [
              "((676, 1177), (170, 1177), (676,), (170,))"
            ]
          },
          "metadata": {},
          "execution_count": 38
        }
      ]
    },
    {
      "cell_type": "code",
      "metadata": {
        "colab": {
          "base_uri": "https://localhost:8080/"
        },
        "id": "A_89Uj68FnV2",
        "outputId": "b932f40f-45d2-40ef-bf8e-ce26646df6a2"
      },
      "source": [
        "xtrain1.shape,xtest1.shape,ytrain1.shape,ytest1.shape"
      ],
      "execution_count": null,
      "outputs": [
        {
          "output_type": "execute_result",
          "data": {
            "text/plain": [
              "((634, 1177), (212, 1177), (634,), (212,))"
            ]
          },
          "metadata": {},
          "execution_count": 39
        }
      ]
    },
    {
      "cell_type": "code",
      "metadata": {
        "colab": {
          "base_uri": "https://localhost:8080/"
        },
        "id": "tZtsXL6SFs4W",
        "outputId": "70fe1ab0-5e5e-4774-f879-68c8ce81371f"
      },
      "source": [
        "xtrain2.shape,xtest2.shape,ytrain2.shape,ytest2.shape"
      ],
      "execution_count": null,
      "outputs": [
        {
          "output_type": "execute_result",
          "data": {
            "text/plain": [
              "((592, 1177), (254, 1177), (592,), (254,))"
            ]
          },
          "metadata": {},
          "execution_count": 40
        }
      ]
    },
    {
      "cell_type": "code",
      "metadata": {
        "id": "IFPHzxIZGIh-"
      },
      "source": [
        "#Create Pipeline tfidf transformer and Algorithm\n",
        "from sklearn.naive_bayes import MultinomialNB\n",
        "pipeline = Pipeline([\n",
        "                     ('tfidf', TfidfTransformer()),\n",
        "                     ('classifier', MultinomialNB()),\n",
        "                     ])"
      ],
      "execution_count": null,
      "outputs": []
    },
    {
      "cell_type": "code",
      "metadata": {
        "id": "pU_zugk8YCmi"
      },
      "source": [
        "pipeline1 = Pipeline([\n",
        "                     ('tfidf', TfidfTransformer()),\n",
        "                     ('classifier', MultinomialNB()),\n",
        "                     ])"
      ],
      "execution_count": null,
      "outputs": []
    },
    {
      "cell_type": "code",
      "metadata": {
        "id": "q63siSonYEjm"
      },
      "source": [
        "pipeline2 = Pipeline([\n",
        "                     ('tfidf', TfidfTransformer()),\n",
        "                     ('classifier', MultinomialNB()),\n",
        "                     ])"
      ],
      "execution_count": null,
      "outputs": []
    },
    {
      "cell_type": "code",
      "metadata": {
        "colab": {
          "base_uri": "https://localhost:8080/"
        },
        "id": "W5BUydBlGcjQ",
        "outputId": "fc43546f-68a8-4464-cf21-ef94627a014d"
      },
      "source": [
        "#Train Model\n",
        "pipeline.fit(xtrain,ytrain)"
      ],
      "execution_count": null,
      "outputs": [
        {
          "output_type": "execute_result",
          "data": {
            "text/plain": [
              "Pipeline(memory=None,\n",
              "         steps=[('tfidf',\n",
              "                 TfidfTransformer(norm='l2', smooth_idf=True,\n",
              "                                  sublinear_tf=False, use_idf=True)),\n",
              "                ('classifier',\n",
              "                 MultinomialNB(alpha=1.0, class_prior=None, fit_prior=True))],\n",
              "         verbose=False)"
            ]
          },
          "metadata": {},
          "execution_count": 44
        }
      ]
    },
    {
      "cell_type": "code",
      "metadata": {
        "colab": {
          "base_uri": "https://localhost:8080/"
        },
        "id": "Q2NgKbNcYIXU",
        "outputId": "ead4d0b8-c36c-4402-f140-e2afda56756a"
      },
      "source": [
        "pipeline1.fit(xtrain1,ytrain1)"
      ],
      "execution_count": null,
      "outputs": [
        {
          "output_type": "execute_result",
          "data": {
            "text/plain": [
              "Pipeline(memory=None,\n",
              "         steps=[('tfidf',\n",
              "                 TfidfTransformer(norm='l2', smooth_idf=True,\n",
              "                                  sublinear_tf=False, use_idf=True)),\n",
              "                ('classifier',\n",
              "                 MultinomialNB(alpha=1.0, class_prior=None, fit_prior=True))],\n",
              "         verbose=False)"
            ]
          },
          "metadata": {},
          "execution_count": 45
        }
      ]
    },
    {
      "cell_type": "code",
      "metadata": {
        "colab": {
          "base_uri": "https://localhost:8080/"
        },
        "id": "Qp3aMatIYLV6",
        "outputId": "83cdfba9-6f5e-4f66-93b3-8933dd598513"
      },
      "source": [
        "pipeline2.fit(xtrain2,ytrain2)"
      ],
      "execution_count": null,
      "outputs": [
        {
          "output_type": "execute_result",
          "data": {
            "text/plain": [
              "Pipeline(memory=None,\n",
              "         steps=[('tfidf',\n",
              "                 TfidfTransformer(norm='l2', smooth_idf=True,\n",
              "                                  sublinear_tf=False, use_idf=True)),\n",
              "                ('classifier',\n",
              "                 MultinomialNB(alpha=1.0, class_prior=None, fit_prior=True))],\n",
              "         verbose=False)"
            ]
          },
          "metadata": {},
          "execution_count": 46
        }
      ]
    },
    {
      "cell_type": "code",
      "metadata": {
        "id": "89tF3tgKGlKz"
      },
      "source": [
        "#Test Model\n",
        "prediksi = pipeline.predict(xtest)"
      ],
      "execution_count": null,
      "outputs": []
    },
    {
      "cell_type": "code",
      "metadata": {
        "id": "aS87BPnZYO4S"
      },
      "source": [
        "prediksi1 = pipeline1.predict(xtest1)"
      ],
      "execution_count": null,
      "outputs": []
    },
    {
      "cell_type": "code",
      "metadata": {
        "id": "sBFwFH9IYTGN"
      },
      "source": [
        "prediksi2 = pipeline1.predict(xtest2)"
      ],
      "execution_count": null,
      "outputs": []
    },
    {
      "cell_type": "code",
      "metadata": {
        "colab": {
          "base_uri": "https://localhost:8080/"
        },
        "id": "QzxXVGsWGnmL",
        "outputId": "0d8c537b-3f52-4b0a-af5f-b68bd42fe164"
      },
      "source": [
        "#Accuracy Calculation\n",
        "from sklearn.metrics import accuracy_score\n",
        "print('Model accuracy score: {0:0.4f}'. format(accuracy_score(ytest, prediksi)))"
      ],
      "execution_count": null,
      "outputs": [
        {
          "output_type": "stream",
          "text": [
            "Model accuracy score: 0.8059\n"
          ],
          "name": "stdout"
        }
      ]
    },
    {
      "cell_type": "code",
      "metadata": {
        "colab": {
          "base_uri": "https://localhost:8080/"
        },
        "id": "W7JmZiSyYXkB",
        "outputId": "e00416f9-2eb0-46bd-e2c5-41a21509a0f2"
      },
      "source": [
        "print('Model accuracy score: {0:0.4f}'. format(accuracy_score(ytest1, prediksi1)))"
      ],
      "execution_count": null,
      "outputs": [
        {
          "output_type": "stream",
          "text": [
            "Model accuracy score: 0.8160\n"
          ],
          "name": "stdout"
        }
      ]
    },
    {
      "cell_type": "code",
      "metadata": {
        "colab": {
          "base_uri": "https://localhost:8080/"
        },
        "id": "I3PrIcPQYapm",
        "outputId": "c4535194-78c6-474a-ab13-8519ba789680"
      },
      "source": [
        "print('Model accuracy score: {0:0.4f}'. format(accuracy_score(ytest2, prediksi2)))"
      ],
      "execution_count": null,
      "outputs": [
        {
          "output_type": "stream",
          "text": [
            "Model accuracy score: 0.9291\n"
          ],
          "name": "stdout"
        }
      ]
    },
    {
      "cell_type": "code",
      "metadata": {
        "id": "AqyNAbh3d_v2"
      },
      "source": [
        "#Test Model\n",
        "prediksiTrain = pipeline.predict(xtrain)"
      ],
      "execution_count": null,
      "outputs": []
    },
    {
      "cell_type": "code",
      "metadata": {
        "id": "K8CuTpAwd_wA"
      },
      "source": [
        "prediksiTrain1 = pipeline1.predict(xtrain1)"
      ],
      "execution_count": null,
      "outputs": []
    },
    {
      "cell_type": "code",
      "metadata": {
        "id": "N4LZF4Rtd_wB"
      },
      "source": [
        "prediksiTrain2 = pipeline1.predict(xtrain2)"
      ],
      "execution_count": null,
      "outputs": []
    },
    {
      "cell_type": "code",
      "metadata": {
        "colab": {
          "base_uri": "https://localhost:8080/"
        },
        "id": "yOnuDVF2d_wB",
        "outputId": "09861923-b205-4905-bcaa-56a4ed0178ca"
      },
      "source": [
        "#Train Accuracy\n",
        "from sklearn.metrics import accuracy_score\n",
        "print('Model accuracy score: {0:0.4f}'. format(accuracy_score(ytrain, prediksiTrain)))"
      ],
      "execution_count": null,
      "outputs": [
        {
          "output_type": "stream",
          "text": [
            "Model accuracy score: 0.9527\n"
          ],
          "name": "stdout"
        }
      ]
    },
    {
      "cell_type": "code",
      "metadata": {
        "colab": {
          "base_uri": "https://localhost:8080/"
        },
        "id": "JaWUoGQtd_wC",
        "outputId": "bce1bc75-d76d-40c2-e169-ee08dbd3ed90"
      },
      "source": [
        "print('Model accuracy score: {0:0.4f}'. format(accuracy_score(ytrain1, prediksiTrain1)))"
      ],
      "execution_count": null,
      "outputs": [
        {
          "output_type": "stream",
          "text": [
            "Model accuracy score: 0.9543\n"
          ],
          "name": "stdout"
        }
      ]
    },
    {
      "cell_type": "code",
      "metadata": {
        "colab": {
          "base_uri": "https://localhost:8080/"
        },
        "id": "N6eBBHfVd_wD",
        "outputId": "90c36b33-eaa1-4e23-8eef-b077658ae510"
      },
      "source": [
        "print('Model accuracy score: {0:0.4f}'. format(accuracy_score(ytrain2, prediksiTrain2)))"
      ],
      "execution_count": null,
      "outputs": [
        {
          "output_type": "stream",
          "text": [
            "Model accuracy score: 0.9155\n"
          ],
          "name": "stdout"
        }
      ]
    },
    {
      "cell_type": "markdown",
      "metadata": {
        "id": "a4Cej4DqLU_P"
      },
      "source": [
        "# Evaluate"
      ]
    },
    {
      "cell_type": "code",
      "metadata": {
        "colab": {
          "base_uri": "https://localhost:8080/"
        },
        "id": "ARj7Zz7OLsDZ",
        "outputId": "9a077211-31b9-4084-8e06-ca86fdbd2c41"
      },
      "source": [
        "#Model Evaluation Using Confusion Matrix, recall, precision dan F1-Score\n",
        "from sklearn.metrics import confusion_matrix,classification_report\n",
        "print(confusion_matrix(ytest1,prediksi1))\n",
        "print(classification_report(ytest1,prediksi1))"
      ],
      "execution_count": null,
      "outputs": [
        {
          "output_type": "stream",
          "text": [
            "[[60 10  0]\n",
            " [26 51  3]\n",
            " [ 0  0 62]]\n",
            "              precision    recall  f1-score   support\n",
            "\n",
            "           0       0.70      0.86      0.77        70\n",
            "           1       0.84      0.64      0.72        80\n",
            "           2       0.95      1.00      0.98        62\n",
            "\n",
            "    accuracy                           0.82       212\n",
            "   macro avg       0.83      0.83      0.82       212\n",
            "weighted avg       0.82      0.82      0.81       212\n",
            "\n"
          ],
          "name": "stdout"
        }
      ]
    },
    {
      "cell_type": "code",
      "metadata": {
        "id": "pS6bH5wNLdNr"
      },
      "source": [
        "#Evaluate Model With K-Fold Cross Validation\n",
        "from sklearn.model_selection import cross_val_score\n",
        "cv = KFold(n_splits=10, random_state=1, shuffle=True)\n",
        "Score = cross_val_score(pipeline1, x_over, y_over, cv=cv, scoring='accuracy',n_jobs=-1)"
      ],
      "execution_count": null,
      "outputs": []
    },
    {
      "cell_type": "code",
      "metadata": {
        "colab": {
          "base_uri": "https://localhost:8080/"
        },
        "id": "aewHY9UALgXp",
        "outputId": "95b95b75-18da-45ab-d090-be88a81944be"
      },
      "source": [
        "#K-n Score\n",
        "Score"
      ],
      "execution_count": null,
      "outputs": [
        {
          "output_type": "execute_result",
          "data": {
            "text/plain": [
              "array([0.82352941, 0.89411765, 0.83529412, 0.82352941, 0.88235294,\n",
              "       0.83529412, 0.82142857, 0.9047619 , 0.83333333, 0.85714286])"
            ]
          },
          "metadata": {},
          "execution_count": 61
        }
      ]
    },
    {
      "cell_type": "code",
      "metadata": {
        "colab": {
          "base_uri": "https://localhost:8080/"
        },
        "id": "RAAjB8jZLinF",
        "outputId": "6047d729-4ce6-4268-bd3a-f12aca567ccc"
      },
      "source": [
        "#Average Score\n",
        "print(np.mean(Score))"
      ],
      "execution_count": null,
      "outputs": [
        {
          "output_type": "stream",
          "text": [
            "0.8510784313725489\n"
          ],
          "name": "stdout"
        }
      ]
    },
    {
      "cell_type": "code",
      "metadata": {
        "colab": {
          "base_uri": "https://localhost:8080/",
          "height": 291
        },
        "id": "G00pEvfHLlmJ",
        "outputId": "aa1c30f8-8aec-423d-a769-211085a59eaa"
      },
      "source": [
        "#Visualize K-fold Score\n",
        "import matplotlib.pyplot as plt\n",
        "plt.plot(Score)\n",
        "font = {'family' : 'normal',\n",
        "        'weight' : 'bold',\n",
        "        'size'   : 8}\n",
        "\n",
        "plt.rc('font', **font)\n",
        "plt.title('Hasil K-fold Cross Validation')\n",
        "plt.ylabel('F1 - Score')\n",
        "plt.xlabel('Fold')\n",
        "plt.legend('K-n', loc='upper left')\n",
        "# plt.savefig(\"/content/drive/MyDrive/Tiwi/JNE dan JNT Dataset/k-fold.png\")\n",
        "plt.show()"
      ],
      "execution_count": null,
      "outputs": [
        {
          "output_type": "display_data",
          "data": {
            "image/png": "[encoded data removed]",
            "text/plain": [
              "<Figure size 432x288 with 1 Axes>"
            ]
          },
          "metadata": {
            "needs_background": "light"
          }
        }
      ]
    },
    {
      "cell_type": "code",
      "metadata": {
        "id": "E0drZy9TBvtl"
      },
      "source": [
        "positifword = \"\";\n",
        "negatifword = \"\";\n",
        "neutralword = \"\";\n",
        "\n",
        "for c in range(len(jnt)):\n",
        "    if jnt.sentimen[c] == 'positif':\n",
        "        positifword = positifword + jnt.stemming[c]\n",
        "    elif jnt.sentimen[c] == 'negatif':     \n",
        "        negatifword = negatifword + jnt.stemming[c]\n",
        "    else:    \n",
        "        neutralword = neutralword + jnt.stemming[c]"
      ],
      "execution_count": null,
      "outputs": []
    },
    {
      "cell_type": "code",
      "metadata": {
        "id": "o_6QQccbChFw"
      },
      "source": [
        "from PIL import Image\n",
        "from wordcloud import WordCloud, STOPWORDS, ImageColorGenerator\n",
        "import matplotlib.pyplot as plt"
      ],
      "execution_count": null,
      "outputs": []
    },
    {
      "cell_type": "code",
      "metadata": {
        "colab": {
          "base_uri": "https://localhost:8080/",
          "height": 54
        },
        "id": "-tZ5_bueCbYt",
        "outputId": "fd3fbd4c-dd3b-49d5-9817-a5d7478f2a63"
      },
      "source": [
        "# Create and generate a word cloud image:\n",
        "wordcloudpositif = WordCloud().generate(positifword)\n",
        "wordcloudnegatif = WordCloud().generate(negatifword)\n",
        "wordcloudneutral = WordCloud().generate(neutralword)\n",
        "\n",
        "#show wordcloud\n",
        "wordcloudpositif = WordCloud(background_color=\"white\").generate(positifword)\n",
        "wordcloudnegatif = WordCloud(background_color=\"white\").generate(negatifword)\n",
        "wordcloudneutral = WordCloud(background_color=\"white\").generate(neutralword)\n",
        "plt.figure()"
      ],
      "execution_count": null,
      "outputs": [
        {
          "output_type": "execute_result",
          "data": {
            "text/plain": [
              "<Figure size 432x288 with 0 Axes>"
            ]
          },
          "metadata": {},
          "execution_count": 67
        },
        {
          "output_type": "display_data",
          "data": {
            "text/plain": [
              "<Figure size 432x288 with 0 Axes>"
            ]
          },
          "metadata": {}
        }
      ]
    },
    {
      "cell_type": "code",
      "metadata": {
        "colab": {
          "base_uri": "https://localhost:8080/",
          "height": 217
        },
        "id": "VcRWqpfHCjxi",
        "outputId": "47d93d2e-58de-45f8-eee0-3d95c0a50a77"
      },
      "source": [
        "#Positif \n",
        "plt.imshow(wordcloudpositif, interpolation=\"bilinear\")\n",
        "plt.axis(\"off\")"
      ],
      "execution_count": null,
      "outputs": [
        {
          "output_type": "execute_result",
          "data": {
            "text/plain": [
              "(-0.5, 399.5, 199.5, -0.5)"
            ]
          },
          "metadata": {},
          "execution_count": 68
        },
        {
          "output_type": "display_data",
          "data": {
            "image/png": "[encoded data removed]",
            "text/plain": [
              "<Figure size 432x288 with 1 Axes>"
            ]
          },
          "metadata": {
            "needs_background": "light"
          }
        }
      ]
    },
    {
      "cell_type": "code",
      "metadata": {
        "colab": {
          "base_uri": "https://localhost:8080/",
          "height": 198
        },
        "id": "lk4NTZ7NCnPB",
        "outputId": "3e3898a2-ae64-4d6d-b28d-0f9d7781b91a"
      },
      "source": [
        "#Negatif\n",
        "plt.imshow(wordcloudnegatif, interpolation=\"bilinear\")\n",
        "plt.axis(\"off\")\n",
        "plt.show()"
      ],
      "execution_count": null,
      "outputs": [
        {
          "output_type": "display_data",
          "data": {
            "image/png": "[encoded data removed]",
            "text/plain": [
              "<Figure size 432x288 with 1 Axes>"
            ]
          },
          "metadata": {
            "needs_background": "light"
          }
        }
      ]
    },
    {
      "cell_type": "code",
      "metadata": {
        "colab": {
          "base_uri": "https://localhost:8080/",
          "height": 198
        },
        "id": "u5zG8EgHCqOr",
        "outputId": "d99a532e-f98d-4804-c7dc-258388bdad69"
      },
      "source": [
        "#Netral \n",
        "plt.imshow(wordcloudneutral, interpolation=\"bilinear\")\n",
        "plt.axis(\"off\")\n",
        "plt.show()"
      ],
      "execution_count": null,
      "outputs": [
        {
          "output_type": "display_data",
          "data": {
            "image/png": "[encoded data removed]",
            "text/plain": [
              "<Figure size 432x288 with 1 Axes>"
            ]
          },
          "metadata": {
            "needs_background": "light"
          }
        }
      ]
    },
    {
      "cell_type": "code",
      "metadata": {
        "id": "1UnQ1eY3QsnD"
      },
      "source": [
        ""
      ],
      "execution_count": null,
      "outputs": []
    }
  ]
}