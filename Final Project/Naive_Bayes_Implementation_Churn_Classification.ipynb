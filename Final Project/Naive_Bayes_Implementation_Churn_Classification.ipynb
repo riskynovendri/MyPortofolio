{
  "nbformat": 4,
  "nbformat_minor": 0,
  "metadata": {
    "colab": {
      "name": "Naive Bayes Implementation Churn Classification",
      "provenance": [],
      "collapsed_sections": []
    },
    "kernelspec": {
      "name": "python3",
      "display_name": "Python 3"
    }
  },
  "cells": [
    {
      "cell_type": "code",
      "metadata": {
        "id": "P9dQZ-k2rCGz"
      },
      "source": [
        "import pandas as pd\n",
        "import numpy as np\n",
        "import os\n",
        "import sys"
      ],
      "execution_count": null,
      "outputs": []
    },
    {
      "cell_type": "code",
      "metadata": {
        "id": "7VYyqGRorDkk"
      },
      "source": [
        "df_reader = pd.read_csv('/content/drive/MyDrive/TA/Labeled2_Dataset.csv',\n",
        "                        header=0, iterator=True\n",
        "                        )"
      ],
      "execution_count": null,
      "outputs": []
    },
    {
      "cell_type": "code",
      "metadata": {
        "colab": {
          "base_uri": "https://localhost:8080/"
        },
        "id": "SFP6qaGjrXpH",
        "outputId": "2f4e85f1-dcbc-4534-fd0b-c05dde9ab7ea"
      },
      "source": [
        "df_reader"
      ],
      "execution_count": null,
      "outputs": [
        {
          "output_type": "execute_result",
          "data": {
            "text/plain": [
              "<pandas.io.parsers.TextFileReader at 0x7fd972ede080>"
            ]
          },
          "metadata": {
            "tags": []
          },
          "execution_count": 3
        }
      ]
    },
    {
      "cell_type": "code",
      "metadata": {
        "colab": {
          "base_uri": "https://localhost:8080/",
          "height": 243
        },
        "id": "HBHDdaXHrbMo",
        "outputId": "521d072b-ce8a-4d35-bcda-87b52d071afd"
      },
      "source": [
        "for df in df_reader:\n",
        "  display(df.head())\n",
        "  break"
      ],
      "execution_count": null,
      "outputs": [
        {
          "output_type": "display_data",
          "data": {
            "text/html": [
              "<div>\n",
              "<style scoped>\n",
              "    .dataframe tbody tr th:only-of-type {\n",
              "        vertical-align: middle;\n",
              "    }\n",
              "\n",
              "    .dataframe tbody tr th {\n",
              "        vertical-align: top;\n",
              "    }\n",
              "\n",
              "    .dataframe thead th {\n",
              "        text-align: right;\n",
              "    }\n",
              "</style>\n",
              "<table border=\"1\" class=\"dataframe\">\n",
              "  <thead>\n",
              "    <tr style=\"text-align: right;\">\n",
              "      <th></th>\n",
              "      <th>Unnamed: 0</th>\n",
              "      <th>Unnamed: 0.1</th>\n",
              "      <th>msisdn</th>\n",
              "      <th>imsi</th>\n",
              "      <th>tc_day1</th>\n",
              "      <th>tc_day2</th>\n",
              "      <th>tc_day3</th>\n",
              "      <th>tc_day4</th>\n",
              "      <th>tc_day5</th>\n",
              "      <th>tc_day6</th>\n",
              "      <th>tc_day7</th>\n",
              "      <th>tc_day8</th>\n",
              "      <th>tc_day9</th>\n",
              "      <th>tc_day10</th>\n",
              "      <th>tc_day11</th>\n",
              "      <th>tc_day12</th>\n",
              "      <th>tc_day13</th>\n",
              "      <th>tc_day14</th>\n",
              "      <th>tc_day15</th>\n",
              "      <th>tc_day16</th>\n",
              "      <th>tc_day17</th>\n",
              "      <th>tc_day18</th>\n",
              "      <th>tc_day19</th>\n",
              "      <th>tc_day20</th>\n",
              "      <th>tc_day21</th>\n",
              "      <th>tc_day22</th>\n",
              "      <th>tc_day23</th>\n",
              "      <th>tc_day24</th>\n",
              "      <th>tc_day25</th>\n",
              "      <th>tc_day26</th>\n",
              "      <th>tc_day27</th>\n",
              "      <th>tc_day28</th>\n",
              "      <th>tc_day29</th>\n",
              "      <th>tc_day30</th>\n",
              "      <th>tc_day31</th>\n",
              "      <th>R</th>\n",
              "      <th>F</th>\n",
              "      <th>M</th>\n",
              "      <th>r_bin</th>\n",
              "      <th>f_bin</th>\n",
              "      <th>m_bin</th>\n",
              "      <th>Score</th>\n",
              "      <th>Label</th>\n",
              "    </tr>\n",
              "  </thead>\n",
              "  <tbody>\n",
              "    <tr>\n",
              "      <th>0</th>\n",
              "      <td>0</td>\n",
              "      <td>0</td>\n",
              "      <td>6281318059XXX</td>\n",
              "      <td>510101832059XXX</td>\n",
              "      <td>202.0</td>\n",
              "      <td>2164303.0</td>\n",
              "      <td>655416009.0</td>\n",
              "      <td>87372757.0</td>\n",
              "      <td>3693817.0</td>\n",
              "      <td>549175.0</td>\n",
              "      <td>4569040.0</td>\n",
              "      <td>0.0</td>\n",
              "      <td>100205.0</td>\n",
              "      <td>20237932.0</td>\n",
              "      <td>671054826.0</td>\n",
              "      <td>190170885.0</td>\n",
              "      <td>337209319.0</td>\n",
              "      <td>41022.0</td>\n",
              "      <td>0.0</td>\n",
              "      <td>0.0</td>\n",
              "      <td>1933817.0</td>\n",
              "      <td>2126286.0</td>\n",
              "      <td>692363.0</td>\n",
              "      <td>0.0</td>\n",
              "      <td>0.0</td>\n",
              "      <td>47646.0</td>\n",
              "      <td>195248.0</td>\n",
              "      <td>0.0</td>\n",
              "      <td>617189193.0</td>\n",
              "      <td>617709644.0</td>\n",
              "      <td>0.0</td>\n",
              "      <td>110365.0</td>\n",
              "      <td>2162111.0</td>\n",
              "      <td>4558875.0</td>\n",
              "      <td>1075032.0</td>\n",
              "      <td>31</td>\n",
              "      <td>21</td>\n",
              "      <td>402547.509000</td>\n",
              "      <td>10.0</td>\n",
              "      <td>7.0</td>\n",
              "      <td>4.0</td>\n",
              "      <td>21.0</td>\n",
              "      <td>Loyal</td>\n",
              "    </tr>\n",
              "    <tr>\n",
              "      <th>1</th>\n",
              "      <td>1</td>\n",
              "      <td>1</td>\n",
              "      <td>X2812X10X80XX</td>\n",
              "      <td>51010X1250X80XX</td>\n",
              "      <td>137416.0</td>\n",
              "      <td>22077904.0</td>\n",
              "      <td>20629901.0</td>\n",
              "      <td>311107687.0</td>\n",
              "      <td>663527.0</td>\n",
              "      <td>54661.0</td>\n",
              "      <td>182843.0</td>\n",
              "      <td>232930328.0</td>\n",
              "      <td>176509439.0</td>\n",
              "      <td>2889908.0</td>\n",
              "      <td>20629901.0</td>\n",
              "      <td>4867743.0</td>\n",
              "      <td>6858907.0</td>\n",
              "      <td>3668256.0</td>\n",
              "      <td>0.0</td>\n",
              "      <td>232930328.0</td>\n",
              "      <td>11198.0</td>\n",
              "      <td>129300.0</td>\n",
              "      <td>3045.0</td>\n",
              "      <td>0.0</td>\n",
              "      <td>0.0</td>\n",
              "      <td>0.0</td>\n",
              "      <td>133315.0</td>\n",
              "      <td>1080571.0</td>\n",
              "      <td>72321658.0</td>\n",
              "      <td>72321658.0</td>\n",
              "      <td>42271.0</td>\n",
              "      <td>85361567.0</td>\n",
              "      <td>129305.0</td>\n",
              "      <td>33728.0</td>\n",
              "      <td>3906377.0</td>\n",
              "      <td>31</td>\n",
              "      <td>22</td>\n",
              "      <td>158951.592750</td>\n",
              "      <td>10.0</td>\n",
              "      <td>7.0</td>\n",
              "      <td>2.0</td>\n",
              "      <td>19.0</td>\n",
              "      <td>Loyal</td>\n",
              "    </tr>\n",
              "    <tr>\n",
              "      <th>2</th>\n",
              "      <td>2</td>\n",
              "      <td>2</td>\n",
              "      <td>628119229XX</td>\n",
              "      <td>X1010921321X0XX</td>\n",
              "      <td>2940787.0</td>\n",
              "      <td>3890527.0</td>\n",
              "      <td>433555.0</td>\n",
              "      <td>357325243.0</td>\n",
              "      <td>274591.0</td>\n",
              "      <td>386265.0</td>\n",
              "      <td>147004.0</td>\n",
              "      <td>0.0</td>\n",
              "      <td>652680.0</td>\n",
              "      <td>153596098.0</td>\n",
              "      <td>438491.0</td>\n",
              "      <td>2138986.0</td>\n",
              "      <td>577042.0</td>\n",
              "      <td>82424.0</td>\n",
              "      <td>18985.0</td>\n",
              "      <td>3386563.0</td>\n",
              "      <td>275070776.0</td>\n",
              "      <td>58.0</td>\n",
              "      <td>57216.0</td>\n",
              "      <td>18985.0</td>\n",
              "      <td>16729.0</td>\n",
              "      <td>0.0</td>\n",
              "      <td>0.0</td>\n",
              "      <td>6965.0</td>\n",
              "      <td>726771.0</td>\n",
              "      <td>726951.0</td>\n",
              "      <td>106008.0</td>\n",
              "      <td>1818075.0</td>\n",
              "      <td>3177.0</td>\n",
              "      <td>5399892.0</td>\n",
              "      <td>0.0</td>\n",
              "      <td>30</td>\n",
              "      <td>20</td>\n",
              "      <td>101280.105500</td>\n",
              "      <td>10.0</td>\n",
              "      <td>6.0</td>\n",
              "      <td>1.0</td>\n",
              "      <td>17.0</td>\n",
              "      <td>Loyal</td>\n",
              "    </tr>\n",
              "    <tr>\n",
              "      <th>3</th>\n",
              "      <td>3</td>\n",
              "      <td>3</td>\n",
              "      <td>628XX8XX678XX</td>\n",
              "      <td>5X0X08XX2X678XX</td>\n",
              "      <td>388641.0</td>\n",
              "      <td>51652.0</td>\n",
              "      <td>1178503.0</td>\n",
              "      <td>336427.0</td>\n",
              "      <td>24565.0</td>\n",
              "      <td>0.0</td>\n",
              "      <td>0.0</td>\n",
              "      <td>13529086.0</td>\n",
              "      <td>33765303.0</td>\n",
              "      <td>280829.0</td>\n",
              "      <td>1213122.0</td>\n",
              "      <td>17624076.0</td>\n",
              "      <td>0.0</td>\n",
              "      <td>67244203.0</td>\n",
              "      <td>11430200.0</td>\n",
              "      <td>13537135.0</td>\n",
              "      <td>0.0</td>\n",
              "      <td>0.0</td>\n",
              "      <td>0.0</td>\n",
              "      <td>21909917.0</td>\n",
              "      <td>2401422.0</td>\n",
              "      <td>1.0</td>\n",
              "      <td>0.0</td>\n",
              "      <td>194736.0</td>\n",
              "      <td>0.0</td>\n",
              "      <td>0.0</td>\n",
              "      <td>1702791.0</td>\n",
              "      <td>0.0</td>\n",
              "      <td>4725.0</td>\n",
              "      <td>92442672.0</td>\n",
              "      <td>31973.0</td>\n",
              "      <td>30</td>\n",
              "      <td>16</td>\n",
              "      <td>34911.497375</td>\n",
              "      <td>10.0</td>\n",
              "      <td>5.0</td>\n",
              "      <td>1.0</td>\n",
              "      <td>16.0</td>\n",
              "      <td>Loyal</td>\n",
              "    </tr>\n",
              "    <tr>\n",
              "      <th>4</th>\n",
              "      <td>4</td>\n",
              "      <td>4</td>\n",
              "      <td>6XXX1X35737XX</td>\n",
              "      <td>51010X36X5737XX</td>\n",
              "      <td>18034090.0</td>\n",
              "      <td>2024309.0</td>\n",
              "      <td>4552376.0</td>\n",
              "      <td>0.0</td>\n",
              "      <td>1297278.0</td>\n",
              "      <td>66825.0</td>\n",
              "      <td>291498.0</td>\n",
              "      <td>2826158.0</td>\n",
              "      <td>41451173.0</td>\n",
              "      <td>74941.0</td>\n",
              "      <td>4552377.0</td>\n",
              "      <td>9987.0</td>\n",
              "      <td>345527751.0</td>\n",
              "      <td>2567036.0</td>\n",
              "      <td>3519.0</td>\n",
              "      <td>943354.0</td>\n",
              "      <td>28757603.0</td>\n",
              "      <td>0.0</td>\n",
              "      <td>0.0</td>\n",
              "      <td>3519.0</td>\n",
              "      <td>451766.0</td>\n",
              "      <td>1947912.0</td>\n",
              "      <td>3398.0</td>\n",
              "      <td>0.0</td>\n",
              "      <td>134282.0</td>\n",
              "      <td>134583.0</td>\n",
              "      <td>0.0</td>\n",
              "      <td>380243.0</td>\n",
              "      <td>0.0</td>\n",
              "      <td>620128.0</td>\n",
              "      <td>2836020.0</td>\n",
              "      <td>31</td>\n",
              "      <td>19</td>\n",
              "      <td>57436.515750</td>\n",
              "      <td>10.0</td>\n",
              "      <td>6.0</td>\n",
              "      <td>1.0</td>\n",
              "      <td>17.0</td>\n",
              "      <td>Loyal</td>\n",
              "    </tr>\n",
              "  </tbody>\n",
              "</table>\n",
              "</div>"
            ],
            "text/plain": [
              "   Unnamed: 0  Unnamed: 0.1         msisdn  ... m_bin  Score  Label\n",
              "0           0             0  6281318059XXX  ...   4.0   21.0  Loyal\n",
              "1           1             1  X2812X10X80XX  ...   2.0   19.0  Loyal\n",
              "2           2             2    628119229XX  ...   1.0   17.0  Loyal\n",
              "3           3             3  628XX8XX678XX  ...   1.0   16.0  Loyal\n",
              "4           4             4  6XXX1X35737XX  ...   1.0   17.0  Loyal\n",
              "\n",
              "[5 rows x 43 columns]"
            ]
          },
          "metadata": {
            "tags": []
          }
        }
      ]
    },
    {
      "cell_type": "code",
      "metadata": {
        "id": "E05LdlfXrd__",
        "colab": {
          "base_uri": "https://localhost:8080/"
        },
        "outputId": "e62caa0b-477f-4053-8333-4bdfc7272817"
      },
      "source": [
        "for col in df.columns: #Count NaN Value Per Columns\n",
        "  print(\"kolom : {} memiliki NaN value sebanyak \\\n",
        "  {} dari {} row\".format(col, \n",
        "                         str(df[col].isna().sum()), \n",
        "                         str(len(df.index))))"
      ],
      "execution_count": null,
      "outputs": [
        {
          "output_type": "stream",
          "text": [
            "kolom : Unnamed: 0 memiliki NaN value sebanyak   0 dari 963688 row\n",
            "kolom : Unnamed: 0.1 memiliki NaN value sebanyak   0 dari 963688 row\n",
            "kolom : msisdn memiliki NaN value sebanyak   0 dari 963688 row\n",
            "kolom : imsi memiliki NaN value sebanyak   0 dari 963688 row\n",
            "kolom : tc_day1 memiliki NaN value sebanyak   0 dari 963688 row\n",
            "kolom : tc_day2 memiliki NaN value sebanyak   0 dari 963688 row\n",
            "kolom : tc_day3 memiliki NaN value sebanyak   0 dari 963688 row\n",
            "kolom : tc_day4 memiliki NaN value sebanyak   0 dari 963688 row\n",
            "kolom : tc_day5 memiliki NaN value sebanyak   0 dari 963688 row\n",
            "kolom : tc_day6 memiliki NaN value sebanyak   0 dari 963688 row\n",
            "kolom : tc_day7 memiliki NaN value sebanyak   0 dari 963688 row\n",
            "kolom : tc_day8 memiliki NaN value sebanyak   0 dari 963688 row\n",
            "kolom : tc_day9 memiliki NaN value sebanyak   0 dari 963688 row\n",
            "kolom : tc_day10 memiliki NaN value sebanyak   0 dari 963688 row\n",
            "kolom : tc_day11 memiliki NaN value sebanyak   0 dari 963688 row\n",
            "kolom : tc_day12 memiliki NaN value sebanyak   0 dari 963688 row\n",
            "kolom : tc_day13 memiliki NaN value sebanyak   0 dari 963688 row\n",
            "kolom : tc_day14 memiliki NaN value sebanyak   0 dari 963688 row\n",
            "kolom : tc_day15 memiliki NaN value sebanyak   0 dari 963688 row\n",
            "kolom : tc_day16 memiliki NaN value sebanyak   0 dari 963688 row\n",
            "kolom : tc_day17 memiliki NaN value sebanyak   0 dari 963688 row\n",
            "kolom : tc_day18 memiliki NaN value sebanyak   0 dari 963688 row\n",
            "kolom : tc_day19 memiliki NaN value sebanyak   0 dari 963688 row\n",
            "kolom : tc_day20 memiliki NaN value sebanyak   0 dari 963688 row\n",
            "kolom : tc_day21 memiliki NaN value sebanyak   0 dari 963688 row\n",
            "kolom : tc_day22 memiliki NaN value sebanyak   0 dari 963688 row\n",
            "kolom : tc_day23 memiliki NaN value sebanyak   0 dari 963688 row\n",
            "kolom : tc_day24 memiliki NaN value sebanyak   0 dari 963688 row\n",
            "kolom : tc_day25 memiliki NaN value sebanyak   0 dari 963688 row\n",
            "kolom : tc_day26 memiliki NaN value sebanyak   0 dari 963688 row\n",
            "kolom : tc_day27 memiliki NaN value sebanyak   0 dari 963688 row\n",
            "kolom : tc_day28 memiliki NaN value sebanyak   0 dari 963688 row\n",
            "kolom : tc_day29 memiliki NaN value sebanyak   0 dari 963688 row\n",
            "kolom : tc_day30 memiliki NaN value sebanyak   0 dari 963688 row\n",
            "kolom : tc_day31 memiliki NaN value sebanyak   0 dari 963688 row\n",
            "kolom : R memiliki NaN value sebanyak   0 dari 963688 row\n",
            "kolom : F memiliki NaN value sebanyak   0 dari 963688 row\n",
            "kolom : M memiliki NaN value sebanyak   0 dari 963688 row\n",
            "kolom : r_bin memiliki NaN value sebanyak   6 dari 963688 row\n",
            "kolom : f_bin memiliki NaN value sebanyak   1 dari 963688 row\n",
            "kolom : m_bin memiliki NaN value sebanyak   1 dari 963688 row\n",
            "kolom : Score memiliki NaN value sebanyak   0 dari 963688 row\n",
            "kolom : Label memiliki NaN value sebanyak   0 dari 963688 row\n"
          ],
          "name": "stdout"
        }
      ]
    },
    {
      "cell_type": "code",
      "metadata": {
        "id": "pycByThz6QWr"
      },
      "source": [
        "data = df.dropna() # Drop Nan Value"
      ],
      "execution_count": null,
      "outputs": []
    },
    {
      "cell_type": "code",
      "metadata": {
        "colab": {
          "base_uri": "https://localhost:8080/"
        },
        "id": "gWv82ba79sLJ",
        "outputId": "5b7db1a2-bd40-4677-f472-87495da5017b"
      },
      "source": [
        "for col in data.columns:\n",
        "  print(\"kolom : {} memiliki NaN value sebanyak \\\n",
        "  {} dari {} row\".format(col, \n",
        "                         str(data[col].isna().sum()), \n",
        "                         str(len(data.index))))"
      ],
      "execution_count": null,
      "outputs": [
        {
          "output_type": "stream",
          "text": [
            "kolom : Unnamed: 0 memiliki NaN value sebanyak   0 dari 963680 row\n",
            "kolom : Unnamed: 0.1 memiliki NaN value sebanyak   0 dari 963680 row\n",
            "kolom : msisdn memiliki NaN value sebanyak   0 dari 963680 row\n",
            "kolom : imsi memiliki NaN value sebanyak   0 dari 963680 row\n",
            "kolom : tc_day1 memiliki NaN value sebanyak   0 dari 963680 row\n",
            "kolom : tc_day2 memiliki NaN value sebanyak   0 dari 963680 row\n",
            "kolom : tc_day3 memiliki NaN value sebanyak   0 dari 963680 row\n",
            "kolom : tc_day4 memiliki NaN value sebanyak   0 dari 963680 row\n",
            "kolom : tc_day5 memiliki NaN value sebanyak   0 dari 963680 row\n",
            "kolom : tc_day6 memiliki NaN value sebanyak   0 dari 963680 row\n",
            "kolom : tc_day7 memiliki NaN value sebanyak   0 dari 963680 row\n",
            "kolom : tc_day8 memiliki NaN value sebanyak   0 dari 963680 row\n",
            "kolom : tc_day9 memiliki NaN value sebanyak   0 dari 963680 row\n",
            "kolom : tc_day10 memiliki NaN value sebanyak   0 dari 963680 row\n",
            "kolom : tc_day11 memiliki NaN value sebanyak   0 dari 963680 row\n",
            "kolom : tc_day12 memiliki NaN value sebanyak   0 dari 963680 row\n",
            "kolom : tc_day13 memiliki NaN value sebanyak   0 dari 963680 row\n",
            "kolom : tc_day14 memiliki NaN value sebanyak   0 dari 963680 row\n",
            "kolom : tc_day15 memiliki NaN value sebanyak   0 dari 963680 row\n",
            "kolom : tc_day16 memiliki NaN value sebanyak   0 dari 963680 row\n",
            "kolom : tc_day17 memiliki NaN value sebanyak   0 dari 963680 row\n",
            "kolom : tc_day18 memiliki NaN value sebanyak   0 dari 963680 row\n",
            "kolom : tc_day19 memiliki NaN value sebanyak   0 dari 963680 row\n",
            "kolom : tc_day20 memiliki NaN value sebanyak   0 dari 963680 row\n",
            "kolom : tc_day21 memiliki NaN value sebanyak   0 dari 963680 row\n",
            "kolom : tc_day22 memiliki NaN value sebanyak   0 dari 963680 row\n",
            "kolom : tc_day23 memiliki NaN value sebanyak   0 dari 963680 row\n",
            "kolom : tc_day24 memiliki NaN value sebanyak   0 dari 963680 row\n",
            "kolom : tc_day25 memiliki NaN value sebanyak   0 dari 963680 row\n",
            "kolom : tc_day26 memiliki NaN value sebanyak   0 dari 963680 row\n",
            "kolom : tc_day27 memiliki NaN value sebanyak   0 dari 963680 row\n",
            "kolom : tc_day28 memiliki NaN value sebanyak   0 dari 963680 row\n",
            "kolom : tc_day29 memiliki NaN value sebanyak   0 dari 963680 row\n",
            "kolom : tc_day30 memiliki NaN value sebanyak   0 dari 963680 row\n",
            "kolom : tc_day31 memiliki NaN value sebanyak   0 dari 963680 row\n",
            "kolom : R memiliki NaN value sebanyak   0 dari 963680 row\n",
            "kolom : F memiliki NaN value sebanyak   0 dari 963680 row\n",
            "kolom : M memiliki NaN value sebanyak   0 dari 963680 row\n",
            "kolom : r_bin memiliki NaN value sebanyak   0 dari 963680 row\n",
            "kolom : f_bin memiliki NaN value sebanyak   0 dari 963680 row\n",
            "kolom : m_bin memiliki NaN value sebanyak   0 dari 963680 row\n",
            "kolom : Score memiliki NaN value sebanyak   0 dari 963680 row\n",
            "kolom : Label memiliki NaN value sebanyak   0 dari 963680 row\n"
          ],
          "name": "stdout"
        }
      ]
    },
    {
      "cell_type": "code",
      "metadata": {
        "colab": {
          "base_uri": "https://localhost:8080/",
          "height": 461
        },
        "id": "cP90x0EV9xDX",
        "outputId": "b0ce9d09-a2cb-43e9-a88d-44b45c608dec"
      },
      "source": [
        "data"
      ],
      "execution_count": null,
      "outputs": [
        {
          "output_type": "execute_result",
          "data": {
            "text/html": [
              "<div>\n",
              "<style scoped>\n",
              "    .dataframe tbody tr th:only-of-type {\n",
              "        vertical-align: middle;\n",
              "    }\n",
              "\n",
              "    .dataframe tbody tr th {\n",
              "        vertical-align: top;\n",
              "    }\n",
              "\n",
              "    .dataframe thead th {\n",
              "        text-align: right;\n",
              "    }\n",
              "</style>\n",
              "<table border=\"1\" class=\"dataframe\">\n",
              "  <thead>\n",
              "    <tr style=\"text-align: right;\">\n",
              "      <th></th>\n",
              "      <th>Unnamed: 0</th>\n",
              "      <th>Unnamed: 0.1</th>\n",
              "      <th>msisdn</th>\n",
              "      <th>imsi</th>\n",
              "      <th>tc_day1</th>\n",
              "      <th>tc_day2</th>\n",
              "      <th>tc_day3</th>\n",
              "      <th>tc_day4</th>\n",
              "      <th>tc_day5</th>\n",
              "      <th>tc_day6</th>\n",
              "      <th>tc_day7</th>\n",
              "      <th>tc_day8</th>\n",
              "      <th>tc_day9</th>\n",
              "      <th>tc_day10</th>\n",
              "      <th>tc_day11</th>\n",
              "      <th>tc_day12</th>\n",
              "      <th>tc_day13</th>\n",
              "      <th>tc_day14</th>\n",
              "      <th>tc_day15</th>\n",
              "      <th>tc_day16</th>\n",
              "      <th>tc_day17</th>\n",
              "      <th>tc_day18</th>\n",
              "      <th>tc_day19</th>\n",
              "      <th>tc_day20</th>\n",
              "      <th>tc_day21</th>\n",
              "      <th>tc_day22</th>\n",
              "      <th>tc_day23</th>\n",
              "      <th>tc_day24</th>\n",
              "      <th>tc_day25</th>\n",
              "      <th>tc_day26</th>\n",
              "      <th>tc_day27</th>\n",
              "      <th>tc_day28</th>\n",
              "      <th>tc_day29</th>\n",
              "      <th>tc_day30</th>\n",
              "      <th>tc_day31</th>\n",
              "      <th>R</th>\n",
              "      <th>F</th>\n",
              "      <th>M</th>\n",
              "      <th>r_bin</th>\n",
              "      <th>f_bin</th>\n",
              "      <th>m_bin</th>\n",
              "      <th>Score</th>\n",
              "      <th>Label</th>\n",
              "    </tr>\n",
              "  </thead>\n",
              "  <tbody>\n",
              "    <tr>\n",
              "      <th>0</th>\n",
              "      <td>0</td>\n",
              "      <td>0</td>\n",
              "      <td>6281318059XXX</td>\n",
              "      <td>510101832059XXX</td>\n",
              "      <td>202.0</td>\n",
              "      <td>2164303.0</td>\n",
              "      <td>655416009.0</td>\n",
              "      <td>87372757.0</td>\n",
              "      <td>3693817.0</td>\n",
              "      <td>549175.0</td>\n",
              "      <td>4569040.0</td>\n",
              "      <td>0.0</td>\n",
              "      <td>100205.0</td>\n",
              "      <td>20237932.0</td>\n",
              "      <td>671054826.0</td>\n",
              "      <td>190170885.0</td>\n",
              "      <td>337209319.0</td>\n",
              "      <td>41022.0</td>\n",
              "      <td>0.0</td>\n",
              "      <td>0.0</td>\n",
              "      <td>1933817.0</td>\n",
              "      <td>2126286.0</td>\n",
              "      <td>692363.0</td>\n",
              "      <td>0.0</td>\n",
              "      <td>0.0</td>\n",
              "      <td>47646.0</td>\n",
              "      <td>1.952480e+05</td>\n",
              "      <td>0.0</td>\n",
              "      <td>617189193.0</td>\n",
              "      <td>617709644.0</td>\n",
              "      <td>0.0</td>\n",
              "      <td>110365.0</td>\n",
              "      <td>2162111.0</td>\n",
              "      <td>4558875.0</td>\n",
              "      <td>1075032.0</td>\n",
              "      <td>31</td>\n",
              "      <td>21</td>\n",
              "      <td>402547.509000</td>\n",
              "      <td>10.0</td>\n",
              "      <td>7.0</td>\n",
              "      <td>4.0</td>\n",
              "      <td>21.0</td>\n",
              "      <td>Loyal</td>\n",
              "    </tr>\n",
              "    <tr>\n",
              "      <th>1</th>\n",
              "      <td>1</td>\n",
              "      <td>1</td>\n",
              "      <td>X2812X10X80XX</td>\n",
              "      <td>51010X1250X80XX</td>\n",
              "      <td>137416.0</td>\n",
              "      <td>22077904.0</td>\n",
              "      <td>20629901.0</td>\n",
              "      <td>311107687.0</td>\n",
              "      <td>663527.0</td>\n",
              "      <td>54661.0</td>\n",
              "      <td>182843.0</td>\n",
              "      <td>232930328.0</td>\n",
              "      <td>176509439.0</td>\n",
              "      <td>2889908.0</td>\n",
              "      <td>20629901.0</td>\n",
              "      <td>4867743.0</td>\n",
              "      <td>6858907.0</td>\n",
              "      <td>3668256.0</td>\n",
              "      <td>0.0</td>\n",
              "      <td>232930328.0</td>\n",
              "      <td>11198.0</td>\n",
              "      <td>129300.0</td>\n",
              "      <td>3045.0</td>\n",
              "      <td>0.0</td>\n",
              "      <td>0.0</td>\n",
              "      <td>0.0</td>\n",
              "      <td>1.333150e+05</td>\n",
              "      <td>1080571.0</td>\n",
              "      <td>72321658.0</td>\n",
              "      <td>72321658.0</td>\n",
              "      <td>42271.0</td>\n",
              "      <td>85361567.0</td>\n",
              "      <td>129305.0</td>\n",
              "      <td>33728.0</td>\n",
              "      <td>3906377.0</td>\n",
              "      <td>31</td>\n",
              "      <td>22</td>\n",
              "      <td>158951.592750</td>\n",
              "      <td>10.0</td>\n",
              "      <td>7.0</td>\n",
              "      <td>2.0</td>\n",
              "      <td>19.0</td>\n",
              "      <td>Loyal</td>\n",
              "    </tr>\n",
              "    <tr>\n",
              "      <th>2</th>\n",
              "      <td>2</td>\n",
              "      <td>2</td>\n",
              "      <td>628119229XX</td>\n",
              "      <td>X1010921321X0XX</td>\n",
              "      <td>2940787.0</td>\n",
              "      <td>3890527.0</td>\n",
              "      <td>433555.0</td>\n",
              "      <td>357325243.0</td>\n",
              "      <td>274591.0</td>\n",
              "      <td>386265.0</td>\n",
              "      <td>147004.0</td>\n",
              "      <td>0.0</td>\n",
              "      <td>652680.0</td>\n",
              "      <td>153596098.0</td>\n",
              "      <td>438491.0</td>\n",
              "      <td>2138986.0</td>\n",
              "      <td>577042.0</td>\n",
              "      <td>82424.0</td>\n",
              "      <td>18985.0</td>\n",
              "      <td>3386563.0</td>\n",
              "      <td>275070776.0</td>\n",
              "      <td>58.0</td>\n",
              "      <td>57216.0</td>\n",
              "      <td>18985.0</td>\n",
              "      <td>16729.0</td>\n",
              "      <td>0.0</td>\n",
              "      <td>0.000000e+00</td>\n",
              "      <td>6965.0</td>\n",
              "      <td>726771.0</td>\n",
              "      <td>726951.0</td>\n",
              "      <td>106008.0</td>\n",
              "      <td>1818075.0</td>\n",
              "      <td>3177.0</td>\n",
              "      <td>5399892.0</td>\n",
              "      <td>0.0</td>\n",
              "      <td>30</td>\n",
              "      <td>20</td>\n",
              "      <td>101280.105500</td>\n",
              "      <td>10.0</td>\n",
              "      <td>6.0</td>\n",
              "      <td>1.0</td>\n",
              "      <td>17.0</td>\n",
              "      <td>Loyal</td>\n",
              "    </tr>\n",
              "    <tr>\n",
              "      <th>3</th>\n",
              "      <td>3</td>\n",
              "      <td>3</td>\n",
              "      <td>628XX8XX678XX</td>\n",
              "      <td>5X0X08XX2X678XX</td>\n",
              "      <td>388641.0</td>\n",
              "      <td>51652.0</td>\n",
              "      <td>1178503.0</td>\n",
              "      <td>336427.0</td>\n",
              "      <td>24565.0</td>\n",
              "      <td>0.0</td>\n",
              "      <td>0.0</td>\n",
              "      <td>13529086.0</td>\n",
              "      <td>33765303.0</td>\n",
              "      <td>280829.0</td>\n",
              "      <td>1213122.0</td>\n",
              "      <td>17624076.0</td>\n",
              "      <td>0.0</td>\n",
              "      <td>67244203.0</td>\n",
              "      <td>11430200.0</td>\n",
              "      <td>13537135.0</td>\n",
              "      <td>0.0</td>\n",
              "      <td>0.0</td>\n",
              "      <td>0.0</td>\n",
              "      <td>21909917.0</td>\n",
              "      <td>2401422.0</td>\n",
              "      <td>1.0</td>\n",
              "      <td>0.000000e+00</td>\n",
              "      <td>194736.0</td>\n",
              "      <td>0.0</td>\n",
              "      <td>0.0</td>\n",
              "      <td>1702791.0</td>\n",
              "      <td>0.0</td>\n",
              "      <td>4725.0</td>\n",
              "      <td>92442672.0</td>\n",
              "      <td>31973.0</td>\n",
              "      <td>30</td>\n",
              "      <td>16</td>\n",
              "      <td>34911.497375</td>\n",
              "      <td>10.0</td>\n",
              "      <td>5.0</td>\n",
              "      <td>1.0</td>\n",
              "      <td>16.0</td>\n",
              "      <td>Loyal</td>\n",
              "    </tr>\n",
              "    <tr>\n",
              "      <th>4</th>\n",
              "      <td>4</td>\n",
              "      <td>4</td>\n",
              "      <td>6XXX1X35737XX</td>\n",
              "      <td>51010X36X5737XX</td>\n",
              "      <td>18034090.0</td>\n",
              "      <td>2024309.0</td>\n",
              "      <td>4552376.0</td>\n",
              "      <td>0.0</td>\n",
              "      <td>1297278.0</td>\n",
              "      <td>66825.0</td>\n",
              "      <td>291498.0</td>\n",
              "      <td>2826158.0</td>\n",
              "      <td>41451173.0</td>\n",
              "      <td>74941.0</td>\n",
              "      <td>4552377.0</td>\n",
              "      <td>9987.0</td>\n",
              "      <td>345527751.0</td>\n",
              "      <td>2567036.0</td>\n",
              "      <td>3519.0</td>\n",
              "      <td>943354.0</td>\n",
              "      <td>28757603.0</td>\n",
              "      <td>0.0</td>\n",
              "      <td>0.0</td>\n",
              "      <td>3519.0</td>\n",
              "      <td>451766.0</td>\n",
              "      <td>1947912.0</td>\n",
              "      <td>3.398000e+03</td>\n",
              "      <td>0.0</td>\n",
              "      <td>134282.0</td>\n",
              "      <td>134583.0</td>\n",
              "      <td>0.0</td>\n",
              "      <td>380243.0</td>\n",
              "      <td>0.0</td>\n",
              "      <td>620128.0</td>\n",
              "      <td>2836020.0</td>\n",
              "      <td>31</td>\n",
              "      <td>19</td>\n",
              "      <td>57436.515750</td>\n",
              "      <td>10.0</td>\n",
              "      <td>6.0</td>\n",
              "      <td>1.0</td>\n",
              "      <td>17.0</td>\n",
              "      <td>Loyal</td>\n",
              "    </tr>\n",
              "    <tr>\n",
              "      <th>...</th>\n",
              "      <td>...</td>\n",
              "      <td>...</td>\n",
              "      <td>...</td>\n",
              "      <td>...</td>\n",
              "      <td>...</td>\n",
              "      <td>...</td>\n",
              "      <td>...</td>\n",
              "      <td>...</td>\n",
              "      <td>...</td>\n",
              "      <td>...</td>\n",
              "      <td>...</td>\n",
              "      <td>...</td>\n",
              "      <td>...</td>\n",
              "      <td>...</td>\n",
              "      <td>...</td>\n",
              "      <td>...</td>\n",
              "      <td>...</td>\n",
              "      <td>...</td>\n",
              "      <td>...</td>\n",
              "      <td>...</td>\n",
              "      <td>...</td>\n",
              "      <td>...</td>\n",
              "      <td>...</td>\n",
              "      <td>...</td>\n",
              "      <td>...</td>\n",
              "      <td>...</td>\n",
              "      <td>...</td>\n",
              "      <td>...</td>\n",
              "      <td>...</td>\n",
              "      <td>...</td>\n",
              "      <td>...</td>\n",
              "      <td>...</td>\n",
              "      <td>...</td>\n",
              "      <td>...</td>\n",
              "      <td>...</td>\n",
              "      <td>...</td>\n",
              "      <td>...</td>\n",
              "      <td>...</td>\n",
              "      <td>...</td>\n",
              "      <td>...</td>\n",
              "      <td>...</td>\n",
              "      <td>...</td>\n",
              "      <td>...</td>\n",
              "    </tr>\n",
              "    <tr>\n",
              "      <th>963683</th>\n",
              "      <td>963683</td>\n",
              "      <td>999995</td>\n",
              "      <td>6281288X929XX</td>\n",
              "      <td>510108825X929XX</td>\n",
              "      <td>46246.0</td>\n",
              "      <td>464988.0</td>\n",
              "      <td>0.0</td>\n",
              "      <td>484957.0</td>\n",
              "      <td>23435.0</td>\n",
              "      <td>36289.0</td>\n",
              "      <td>5044967.0</td>\n",
              "      <td>18426303.0</td>\n",
              "      <td>2368963.0</td>\n",
              "      <td>0.0</td>\n",
              "      <td>0.0</td>\n",
              "      <td>9283.0</td>\n",
              "      <td>721.0</td>\n",
              "      <td>11966533.0</td>\n",
              "      <td>18692163.0</td>\n",
              "      <td>52501.0</td>\n",
              "      <td>3107.0</td>\n",
              "      <td>3597566.0</td>\n",
              "      <td>4711.0</td>\n",
              "      <td>347.0</td>\n",
              "      <td>9579.0</td>\n",
              "      <td>295351.0</td>\n",
              "      <td>5.389800e+04</td>\n",
              "      <td>183537348.0</td>\n",
              "      <td>153145.0</td>\n",
              "      <td>1992.0</td>\n",
              "      <td>5003034.0</td>\n",
              "      <td>1623.0</td>\n",
              "      <td>3209153.0</td>\n",
              "      <td>0.0</td>\n",
              "      <td>74945.0</td>\n",
              "      <td>29</td>\n",
              "      <td>13</td>\n",
              "      <td>31695.393500</td>\n",
              "      <td>9.0</td>\n",
              "      <td>4.0</td>\n",
              "      <td>1.0</td>\n",
              "      <td>14.0</td>\n",
              "      <td>Churn</td>\n",
              "    </tr>\n",
              "    <tr>\n",
              "      <th>963684</th>\n",
              "      <td>963684</td>\n",
              "      <td>999996</td>\n",
              "      <td>62822992252XX</td>\n",
              "      <td>5101099722252XX</td>\n",
              "      <td>3666382.0</td>\n",
              "      <td>7585.0</td>\n",
              "      <td>964029.0</td>\n",
              "      <td>371379.0</td>\n",
              "      <td>905718.0</td>\n",
              "      <td>0.0</td>\n",
              "      <td>165478.0</td>\n",
              "      <td>111.0</td>\n",
              "      <td>41974348.0</td>\n",
              "      <td>21906.0</td>\n",
              "      <td>9147.0</td>\n",
              "      <td>0.0</td>\n",
              "      <td>0.0</td>\n",
              "      <td>15900.0</td>\n",
              "      <td>378635516.0</td>\n",
              "      <td>1961761.0</td>\n",
              "      <td>2749.0</td>\n",
              "      <td>99441.0</td>\n",
              "      <td>15693718.0</td>\n",
              "      <td>0.0</td>\n",
              "      <td>35.0</td>\n",
              "      <td>1015396.0</td>\n",
              "      <td>1.198675e+08</td>\n",
              "      <td>309739.0</td>\n",
              "      <td>1.0</td>\n",
              "      <td>1963423.0</td>\n",
              "      <td>125671518.0</td>\n",
              "      <td>75061407.0</td>\n",
              "      <td>48.0</td>\n",
              "      <td>13531106.0</td>\n",
              "      <td>221670.0</td>\n",
              "      <td>31</td>\n",
              "      <td>18</td>\n",
              "      <td>97767.122250</td>\n",
              "      <td>10.0</td>\n",
              "      <td>6.0</td>\n",
              "      <td>1.0</td>\n",
              "      <td>17.0</td>\n",
              "      <td>Loyal</td>\n",
              "    </tr>\n",
              "    <tr>\n",
              "      <th>963685</th>\n",
              "      <td>963685</td>\n",
              "      <td>999997</td>\n",
              "      <td>62X131955X2XX</td>\n",
              "      <td>51010193255X2XX</td>\n",
              "      <td>32683054.0</td>\n",
              "      <td>7398718.0</td>\n",
              "      <td>626609.0</td>\n",
              "      <td>346902737.0</td>\n",
              "      <td>1060456.0</td>\n",
              "      <td>6373294.0</td>\n",
              "      <td>15941.0</td>\n",
              "      <td>80895.0</td>\n",
              "      <td>0.0</td>\n",
              "      <td>535191.0</td>\n",
              "      <td>136416.0</td>\n",
              "      <td>1086895.0</td>\n",
              "      <td>181963.0</td>\n",
              "      <td>221705674.0</td>\n",
              "      <td>0.0</td>\n",
              "      <td>333570.0</td>\n",
              "      <td>52723.0</td>\n",
              "      <td>30163699.0</td>\n",
              "      <td>84347889.0</td>\n",
              "      <td>396769.0</td>\n",
              "      <td>1690761.0</td>\n",
              "      <td>503046.0</td>\n",
              "      <td>9.886290e+08</td>\n",
              "      <td>0.0</td>\n",
              "      <td>264450.0</td>\n",
              "      <td>112512839.0</td>\n",
              "      <td>872242.0</td>\n",
              "      <td>1389233.0</td>\n",
              "      <td>0.0</td>\n",
              "      <td>11254.0</td>\n",
              "      <td>235106356.0</td>\n",
              "      <td>31</td>\n",
              "      <td>24</td>\n",
              "      <td>259382.703125</td>\n",
              "      <td>10.0</td>\n",
              "      <td>8.0</td>\n",
              "      <td>3.0</td>\n",
              "      <td>21.0</td>\n",
              "      <td>Loyal</td>\n",
              "    </tr>\n",
              "    <tr>\n",
              "      <th>963686</th>\n",
              "      <td>963686</td>\n",
              "      <td>999998</td>\n",
              "      <td>X281282330XXX</td>\n",
              "      <td>510108225330XXX</td>\n",
              "      <td>0.0</td>\n",
              "      <td>4042264.0</td>\n",
              "      <td>701172.0</td>\n",
              "      <td>4050269.0</td>\n",
              "      <td>0.0</td>\n",
              "      <td>0.0</td>\n",
              "      <td>0.0</td>\n",
              "      <td>1119231.0</td>\n",
              "      <td>366005149.0</td>\n",
              "      <td>4426.0</td>\n",
              "      <td>5148013.0</td>\n",
              "      <td>682388971.0</td>\n",
              "      <td>810976.0</td>\n",
              "      <td>512.0</td>\n",
              "      <td>1925533.0</td>\n",
              "      <td>3501325.0</td>\n",
              "      <td>2183870.0</td>\n",
              "      <td>0.0</td>\n",
              "      <td>913954.0</td>\n",
              "      <td>22260.0</td>\n",
              "      <td>1660708.0</td>\n",
              "      <td>115096538.0</td>\n",
              "      <td>1.284326e+09</td>\n",
              "      <td>6974435.0</td>\n",
              "      <td>33.0</td>\n",
              "      <td>164600.0</td>\n",
              "      <td>49924.0</td>\n",
              "      <td>0.0</td>\n",
              "      <td>80320563.0</td>\n",
              "      <td>0.0</td>\n",
              "      <td>6021441.0</td>\n",
              "      <td>31</td>\n",
              "      <td>19</td>\n",
              "      <td>320929.063625</td>\n",
              "      <td>10.0</td>\n",
              "      <td>6.0</td>\n",
              "      <td>3.0</td>\n",
              "      <td>19.0</td>\n",
              "      <td>Loyal</td>\n",
              "    </tr>\n",
              "    <tr>\n",
              "      <th>963687</th>\n",
              "      <td>963687</td>\n",
              "      <td>999999</td>\n",
              "      <td>628121XX628XX</td>\n",
              "      <td>51X1X1X25X628XX</td>\n",
              "      <td>850497.0</td>\n",
              "      <td>6276931.0</td>\n",
              "      <td>0.0</td>\n",
              "      <td>335869.0</td>\n",
              "      <td>1459983.0</td>\n",
              "      <td>1631957.0</td>\n",
              "      <td>26108.0</td>\n",
              "      <td>95926841.0</td>\n",
              "      <td>111955886.0</td>\n",
              "      <td>0.0</td>\n",
              "      <td>1470891.0</td>\n",
              "      <td>202525.0</td>\n",
              "      <td>319928.0</td>\n",
              "      <td>0.0</td>\n",
              "      <td>404337.0</td>\n",
              "      <td>0.0</td>\n",
              "      <td>0.0</td>\n",
              "      <td>2084023.0</td>\n",
              "      <td>3039133.0</td>\n",
              "      <td>0.0</td>\n",
              "      <td>1157457.0</td>\n",
              "      <td>140355.0</td>\n",
              "      <td>0.000000e+00</td>\n",
              "      <td>657866.0</td>\n",
              "      <td>0.0</td>\n",
              "      <td>98843.0</td>\n",
              "      <td>64527.0</td>\n",
              "      <td>25585581.0</td>\n",
              "      <td>469729180.0</td>\n",
              "      <td>0.0</td>\n",
              "      <td>498743.0</td>\n",
              "      <td>31</td>\n",
              "      <td>20</td>\n",
              "      <td>90489.682625</td>\n",
              "      <td>10.0</td>\n",
              "      <td>6.0</td>\n",
              "      <td>1.0</td>\n",
              "      <td>17.0</td>\n",
              "      <td>Loyal</td>\n",
              "    </tr>\n",
              "  </tbody>\n",
              "</table>\n",
              "<p>963680 rows × 43 columns</p>\n",
              "</div>"
            ],
            "text/plain": [
              "        Unnamed: 0  Unnamed: 0.1         msisdn  ... m_bin  Score  Label\n",
              "0                0             0  6281318059XXX  ...   4.0   21.0  Loyal\n",
              "1                1             1  X2812X10X80XX  ...   2.0   19.0  Loyal\n",
              "2                2             2    628119229XX  ...   1.0   17.0  Loyal\n",
              "3                3             3  628XX8XX678XX  ...   1.0   16.0  Loyal\n",
              "4                4             4  6XXX1X35737XX  ...   1.0   17.0  Loyal\n",
              "...            ...           ...            ...  ...   ...    ...    ...\n",
              "963683      963683        999995  6281288X929XX  ...   1.0   14.0  Churn\n",
              "963684      963684        999996  62822992252XX  ...   1.0   17.0  Loyal\n",
              "963685      963685        999997  62X131955X2XX  ...   3.0   21.0  Loyal\n",
              "963686      963686        999998  X281282330XXX  ...   3.0   19.0  Loyal\n",
              "963687      963687        999999  628121XX628XX  ...   1.0   17.0  Loyal\n",
              "\n",
              "[963680 rows x 43 columns]"
            ]
          },
          "metadata": {
            "tags": []
          },
          "execution_count": 8
        }
      ]
    },
    {
      "cell_type": "code",
      "metadata": {
        "id": "aTVlsWiCf5l7"
      },
      "source": [
        "value = data['Label'].value_counts() "
      ],
      "execution_count": null,
      "outputs": []
    },
    {
      "cell_type": "code",
      "metadata": {
        "id": "A6rDAsonkGCL"
      },
      "source": [
        "xx = data['msisdn'].count()"
      ],
      "execution_count": null,
      "outputs": []
    },
    {
      "cell_type": "code",
      "metadata": {
        "colab": {
          "base_uri": "https://localhost:8080/"
        },
        "id": "C_Gfrh0YkODy",
        "outputId": "29e20365-5d1b-45f5-c371-52e1d2d58d01"
      },
      "source": [
        "print(xx)"
      ],
      "execution_count": null,
      "outputs": [
        {
          "output_type": "stream",
          "text": [
            "963680\n"
          ],
          "name": "stdout"
        }
      ]
    },
    {
      "cell_type": "code",
      "metadata": {
        "colab": {
          "base_uri": "https://localhost:8080/"
        },
        "id": "ClLM3Dkgkv9c",
        "outputId": "f23c947b-5429-45ff-ab1a-554f4c8c2327"
      },
      "source": [
        "print(value)"
      ],
      "execution_count": null,
      "outputs": [
        {
          "output_type": "stream",
          "text": [
            "Loyal    802540\n",
            "Churn    161140\n",
            "Name: Label, dtype: int64\n"
          ],
          "name": "stdout"
        }
      ]
    },
    {
      "cell_type": "markdown",
      "source": [
        "Handling Imbalance Dataset"
      ],
      "metadata": {
        "id": "faHclnVxV0-A"
      }
    },
    {
      "cell_type": "code",
      "metadata": {
        "id": "HZlYb3sH_C2W"
      },
      "source": [
        "#Initialize Data Major dan Minor\n",
        "df_minority1 = data[data['Label']=='Churn']\n",
        "df_majority1 = data[data['Label']=='Loyal']"
      ],
      "execution_count": null,
      "outputs": []
    },
    {
      "cell_type": "code",
      "metadata": {
        "colab": {
          "base_uri": "https://localhost:8080/",
          "height": 281
        },
        "id": "R-BLOxp6fyhk",
        "outputId": "a52f74f0-974a-4a6e-cde8-5ccf38e3fcfa"
      },
      "source": [
        "import matplotlib.pyplot as plt\n",
        "import seaborn as sns\n",
        "objects = ('Non-Churn', 'Churn')\n",
        "y_pos = np.arange(len(objects))\n",
        "performance = data['Label'].value_counts()\n",
        "#Label Comparing\n",
        "plt.bar(y_pos, performance, align='center', alpha=0.5)\n",
        "plt.xticks(y_pos, objects)\n",
        "plt.ylabel('Jumlah')\n",
        "plt.title('Perbandingan Label')\n",
        "plt.savefig(\"/content/drive/MyDrive/hasil.png\")\n",
        "plt.show()"
      ],
      "execution_count": null,
      "outputs": [
        {
          "output_type": "display_data",
          "data": {
            "image/png": "[encoded data removed]",
            "text/plain": [
              "<Figure size 432x288 with 1 Axes>"
            ]
          },
          "metadata": {
            "tags": [],
            "needs_background": "light"
          }
        }
      ]
    },
    {
      "cell_type": "code",
      "metadata": {
        "id": "hR0mdl02-xRj"
      },
      "source": [
        "from sklearn.utils import resample\n",
        "#Implement UnderSampling \n",
        "maj_class1 = resample(df_majority1,\n",
        "                      replace=True,\n",
        "                      n_samples=160000,\n",
        "                      random_state=1)\n",
        "mn_class1 = resample(df_minority1,\n",
        "                      replace=True,\n",
        "                      n_samples=160000,\n",
        "                      random_state=1)"
      ],
      "execution_count": null,
      "outputs": []
    },
    {
      "cell_type": "code",
      "metadata": {
        "id": "D4pm6QOa_u5S"
      },
      "source": [
        "data= pd.concat([maj_class1,mn_class1])"
      ],
      "execution_count": null,
      "outputs": []
    },
    {
      "cell_type": "code",
      "metadata": {
        "id": "mW76ePZg-I-4",
        "colab": {
          "base_uri": "https://localhost:8080/"
        },
        "outputId": "d7d91bfd-8552-4978-e410-6eaa4db18708"
      },
      "source": [
        "data['Label'].value_counts()"
      ],
      "execution_count": null,
      "outputs": [
        {
          "output_type": "execute_result",
          "data": {
            "text/plain": [
              "Churn    160000\n",
              "Loyal    160000\n",
              "Name: Label, dtype: int64"
            ]
          },
          "metadata": {
            "tags": []
          },
          "execution_count": 17
        }
      ]
    },
    {
      "cell_type": "code",
      "metadata": {
        "colab": {
          "base_uri": "https://localhost:8080/",
          "height": 281
        },
        "id": "sX1kLuwRqH7U",
        "outputId": "f4c2366f-d0fe-4027-fdf8-e39e0dee10af"
      },
      "source": [
        "import matplotlib.pyplot as plt\n",
        "import seaborn as sns\n",
        "objects = ('Non-Churn', 'Churn')\n",
        "y_pos = np.arange(len(objects))\n",
        "performance = data['Label'].value_counts()\n",
        "#Visualize after Undersampling\n",
        "plt.bar(y_pos, performance, align='center', alpha=0.5)\n",
        "plt.xticks(y_pos, objects)\n",
        "plt.ylabel('Jumlah')\n",
        "plt.title('Perbandingan Label')\n",
        "plt.savefig(\"/content/drive/MyDrive/hasill.png\")\n",
        "plt.show()"
      ],
      "execution_count": null,
      "outputs": [
        {
          "output_type": "display_data",
          "data": {
            "image/png": "[encoded data removed]",
            "text/plain": [
              "<Figure size 432x288 with 1 Axes>"
            ]
          },
          "metadata": {
            "tags": [],
            "needs_background": "light"
          }
        }
      ]
    },
    {
      "cell_type": "code",
      "metadata": {
        "colab": {
          "base_uri": "https://localhost:8080/",
          "height": 461
        },
        "id": "rvLNwvnB_5nG",
        "outputId": "1aed12a6-5765-4c11-af8e-09b80c5372a7"
      },
      "source": [
        "data"
      ],
      "execution_count": null,
      "outputs": [
        {
          "output_type": "execute_result",
          "data": {
            "text/html": [
              "<div>\n",
              "<style scoped>\n",
              "    .dataframe tbody tr th:only-of-type {\n",
              "        vertical-align: middle;\n",
              "    }\n",
              "\n",
              "    .dataframe tbody tr th {\n",
              "        vertical-align: top;\n",
              "    }\n",
              "\n",
              "    .dataframe thead th {\n",
              "        text-align: right;\n",
              "    }\n",
              "</style>\n",
              "<table border=\"1\" class=\"dataframe\">\n",
              "  <thead>\n",
              "    <tr style=\"text-align: right;\">\n",
              "      <th></th>\n",
              "      <th>Unnamed: 0</th>\n",
              "      <th>Unnamed: 0.1</th>\n",
              "      <th>msisdn</th>\n",
              "      <th>imsi</th>\n",
              "      <th>tc_day1</th>\n",
              "      <th>tc_day2</th>\n",
              "      <th>tc_day3</th>\n",
              "      <th>tc_day4</th>\n",
              "      <th>tc_day5</th>\n",
              "      <th>tc_day6</th>\n",
              "      <th>tc_day7</th>\n",
              "      <th>tc_day8</th>\n",
              "      <th>tc_day9</th>\n",
              "      <th>tc_day10</th>\n",
              "      <th>tc_day11</th>\n",
              "      <th>tc_day12</th>\n",
              "      <th>tc_day13</th>\n",
              "      <th>tc_day14</th>\n",
              "      <th>tc_day15</th>\n",
              "      <th>tc_day16</th>\n",
              "      <th>tc_day17</th>\n",
              "      <th>tc_day18</th>\n",
              "      <th>tc_day19</th>\n",
              "      <th>tc_day20</th>\n",
              "      <th>tc_day21</th>\n",
              "      <th>tc_day22</th>\n",
              "      <th>tc_day23</th>\n",
              "      <th>tc_day24</th>\n",
              "      <th>tc_day25</th>\n",
              "      <th>tc_day26</th>\n",
              "      <th>tc_day27</th>\n",
              "      <th>tc_day28</th>\n",
              "      <th>tc_day29</th>\n",
              "      <th>tc_day30</th>\n",
              "      <th>tc_day31</th>\n",
              "      <th>R</th>\n",
              "      <th>F</th>\n",
              "      <th>M</th>\n",
              "      <th>r_bin</th>\n",
              "      <th>f_bin</th>\n",
              "      <th>m_bin</th>\n",
              "      <th>Score</th>\n",
              "      <th>Label</th>\n",
              "    </tr>\n",
              "  </thead>\n",
              "  <tbody>\n",
              "    <tr>\n",
              "      <th>153871</th>\n",
              "      <td>153871</td>\n",
              "      <td>154808</td>\n",
              "      <td>6281X15X0X0XX</td>\n",
              "      <td>5101015397851XX</td>\n",
              "      <td>143316.0</td>\n",
              "      <td>13133799.0</td>\n",
              "      <td>0.0</td>\n",
              "      <td>31653734.0</td>\n",
              "      <td>167282.0</td>\n",
              "      <td>573392.0</td>\n",
              "      <td>20945.0</td>\n",
              "      <td>5.814294e+07</td>\n",
              "      <td>295728.0</td>\n",
              "      <td>0.0</td>\n",
              "      <td>4813166.0</td>\n",
              "      <td>2241069.0</td>\n",
              "      <td>166585.0</td>\n",
              "      <td>7.0</td>\n",
              "      <td>12764111.0</td>\n",
              "      <td>97145085.0</td>\n",
              "      <td>0.0</td>\n",
              "      <td>91602.0</td>\n",
              "      <td>1043644.0</td>\n",
              "      <td>1079954.0</td>\n",
              "      <td>3900.0</td>\n",
              "      <td>596936.0</td>\n",
              "      <td>734175.0</td>\n",
              "      <td>57883.0</td>\n",
              "      <td>177321.0</td>\n",
              "      <td>6633967.0</td>\n",
              "      <td>1930.0</td>\n",
              "      <td>16907.0</td>\n",
              "      <td>6302010.0</td>\n",
              "      <td>583180040.0</td>\n",
              "      <td>106383.0</td>\n",
              "      <td>31</td>\n",
              "      <td>22</td>\n",
              "      <td>102660.976125</td>\n",
              "      <td>10.0</td>\n",
              "      <td>7.0</td>\n",
              "      <td>1.0</td>\n",
              "      <td>18.0</td>\n",
              "      <td>Loyal</td>\n",
              "    </tr>\n",
              "    <tr>\n",
              "      <th>590938</th>\n",
              "      <td>590938</td>\n",
              "      <td>605072</td>\n",
              "      <td>62812196081XX</td>\n",
              "      <td>X1010192X6081XX</td>\n",
              "      <td>1820138.0</td>\n",
              "      <td>48733.0</td>\n",
              "      <td>0.0</td>\n",
              "      <td>18047.0</td>\n",
              "      <td>646299.0</td>\n",
              "      <td>0.0</td>\n",
              "      <td>12370975.0</td>\n",
              "      <td>1.016869e+06</td>\n",
              "      <td>135393.0</td>\n",
              "      <td>705459.0</td>\n",
              "      <td>1.0</td>\n",
              "      <td>604001.0</td>\n",
              "      <td>143964.0</td>\n",
              "      <td>7309633.0</td>\n",
              "      <td>0.0</td>\n",
              "      <td>772209.0</td>\n",
              "      <td>546055.0</td>\n",
              "      <td>0.0</td>\n",
              "      <td>22236.0</td>\n",
              "      <td>4104234.0</td>\n",
              "      <td>112.0</td>\n",
              "      <td>23618.0</td>\n",
              "      <td>342516.0</td>\n",
              "      <td>13108698.0</td>\n",
              "      <td>568216293.0</td>\n",
              "      <td>0.0</td>\n",
              "      <td>741569.0</td>\n",
              "      <td>12938710.0</td>\n",
              "      <td>1081568.0</td>\n",
              "      <td>9049.0</td>\n",
              "      <td>43885.0</td>\n",
              "      <td>29</td>\n",
              "      <td>18</td>\n",
              "      <td>78346.283000</td>\n",
              "      <td>9.0</td>\n",
              "      <td>6.0</td>\n",
              "      <td>1.0</td>\n",
              "      <td>16.0</td>\n",
              "      <td>Loyal</td>\n",
              "    </tr>\n",
              "    <tr>\n",
              "      <th>566231</th>\n",
              "      <td>566231</td>\n",
              "      <td>579140</td>\n",
              "      <td>6X81X88X63XXX</td>\n",
              "      <td>5101088X5X63XXX</td>\n",
              "      <td>26470.0</td>\n",
              "      <td>2176842.0</td>\n",
              "      <td>7035.0</td>\n",
              "      <td>31769.0</td>\n",
              "      <td>5015532.0</td>\n",
              "      <td>130940.0</td>\n",
              "      <td>0.0</td>\n",
              "      <td>1.197123e+09</td>\n",
              "      <td>501217.0</td>\n",
              "      <td>2480037.0</td>\n",
              "      <td>28404.0</td>\n",
              "      <td>9274200.0</td>\n",
              "      <td>0.0</td>\n",
              "      <td>442.0</td>\n",
              "      <td>337487.0</td>\n",
              "      <td>0.0</td>\n",
              "      <td>16700341.0</td>\n",
              "      <td>130945.0</td>\n",
              "      <td>1201.0</td>\n",
              "      <td>3554459.0</td>\n",
              "      <td>2371680.0</td>\n",
              "      <td>426419.0</td>\n",
              "      <td>244419021.0</td>\n",
              "      <td>6370.0</td>\n",
              "      <td>6254.0</td>\n",
              "      <td>1353766.0</td>\n",
              "      <td>0.0</td>\n",
              "      <td>404301.0</td>\n",
              "      <td>149.0</td>\n",
              "      <td>1678937.0</td>\n",
              "      <td>5624191.0</td>\n",
              "      <td>31</td>\n",
              "      <td>18</td>\n",
              "      <td>186726.401000</td>\n",
              "      <td>10.0</td>\n",
              "      <td>6.0</td>\n",
              "      <td>2.0</td>\n",
              "      <td>18.0</td>\n",
              "      <td>Loyal</td>\n",
              "    </tr>\n",
              "    <tr>\n",
              "      <th>950691</th>\n",
              "      <td>950691</td>\n",
              "      <td>985972</td>\n",
              "      <td>XX813944X59XX</td>\n",
              "      <td>5101094X94X1XXX</td>\n",
              "      <td>69097.0</td>\n",
              "      <td>68987206.0</td>\n",
              "      <td>27193.0</td>\n",
              "      <td>290214684.0</td>\n",
              "      <td>81239.0</td>\n",
              "      <td>732.0</td>\n",
              "      <td>4183252.0</td>\n",
              "      <td>6.919640e+05</td>\n",
              "      <td>542836.0</td>\n",
              "      <td>1346705.0</td>\n",
              "      <td>110193.0</td>\n",
              "      <td>399273.0</td>\n",
              "      <td>0.0</td>\n",
              "      <td>2161001.0</td>\n",
              "      <td>0.0</td>\n",
              "      <td>284921.0</td>\n",
              "      <td>1216465.0</td>\n",
              "      <td>1087465.0</td>\n",
              "      <td>0.0</td>\n",
              "      <td>8915826.0</td>\n",
              "      <td>0.0</td>\n",
              "      <td>551470.0</td>\n",
              "      <td>77.0</td>\n",
              "      <td>46655414.0</td>\n",
              "      <td>0.0</td>\n",
              "      <td>2788.0</td>\n",
              "      <td>0.0</td>\n",
              "      <td>32.0</td>\n",
              "      <td>0.0</td>\n",
              "      <td>110326.0</td>\n",
              "      <td>11641213.0</td>\n",
              "      <td>31</td>\n",
              "      <td>18</td>\n",
              "      <td>54910.171500</td>\n",
              "      <td>10.0</td>\n",
              "      <td>6.0</td>\n",
              "      <td>1.0</td>\n",
              "      <td>17.0</td>\n",
              "      <td>Loyal</td>\n",
              "    </tr>\n",
              "    <tr>\n",
              "      <th>590338</th>\n",
              "      <td>590338</td>\n",
              "      <td>604448</td>\n",
              "      <td>X282111X195XX</td>\n",
              "      <td>5101011X2X195XX</td>\n",
              "      <td>62438.0</td>\n",
              "      <td>525884.0</td>\n",
              "      <td>0.0</td>\n",
              "      <td>7768249.0</td>\n",
              "      <td>6702967.0</td>\n",
              "      <td>11697943.0</td>\n",
              "      <td>315240207.0</td>\n",
              "      <td>1.985951e+08</td>\n",
              "      <td>313116780.0</td>\n",
              "      <td>8557.0</td>\n",
              "      <td>5004.0</td>\n",
              "      <td>57612.0</td>\n",
              "      <td>72193835.0</td>\n",
              "      <td>167613077.0</td>\n",
              "      <td>137948.0</td>\n",
              "      <td>0.0</td>\n",
              "      <td>23301411.0</td>\n",
              "      <td>101.0</td>\n",
              "      <td>2788579.0</td>\n",
              "      <td>0.0</td>\n",
              "      <td>20704383.0</td>\n",
              "      <td>41717.0</td>\n",
              "      <td>7196533.0</td>\n",
              "      <td>445607286.0</td>\n",
              "      <td>1897953.0</td>\n",
              "      <td>12527.0</td>\n",
              "      <td>2020016.0</td>\n",
              "      <td>1891416.0</td>\n",
              "      <td>9664.0</td>\n",
              "      <td>26368.0</td>\n",
              "      <td>1388169.0</td>\n",
              "      <td>31</td>\n",
              "      <td>19</td>\n",
              "      <td>200076.461000</td>\n",
              "      <td>10.0</td>\n",
              "      <td>6.0</td>\n",
              "      <td>2.0</td>\n",
              "      <td>18.0</td>\n",
              "      <td>Loyal</td>\n",
              "    </tr>\n",
              "    <tr>\n",
              "      <th>...</th>\n",
              "      <td>...</td>\n",
              "      <td>...</td>\n",
              "      <td>...</td>\n",
              "      <td>...</td>\n",
              "      <td>...</td>\n",
              "      <td>...</td>\n",
              "      <td>...</td>\n",
              "      <td>...</td>\n",
              "      <td>...</td>\n",
              "      <td>...</td>\n",
              "      <td>...</td>\n",
              "      <td>...</td>\n",
              "      <td>...</td>\n",
              "      <td>...</td>\n",
              "      <td>...</td>\n",
              "      <td>...</td>\n",
              "      <td>...</td>\n",
              "      <td>...</td>\n",
              "      <td>...</td>\n",
              "      <td>...</td>\n",
              "      <td>...</td>\n",
              "      <td>...</td>\n",
              "      <td>...</td>\n",
              "      <td>...</td>\n",
              "      <td>...</td>\n",
              "      <td>...</td>\n",
              "      <td>...</td>\n",
              "      <td>...</td>\n",
              "      <td>...</td>\n",
              "      <td>...</td>\n",
              "      <td>...</td>\n",
              "      <td>...</td>\n",
              "      <td>...</td>\n",
              "      <td>...</td>\n",
              "      <td>...</td>\n",
              "      <td>...</td>\n",
              "      <td>...</td>\n",
              "      <td>...</td>\n",
              "      <td>...</td>\n",
              "      <td>...</td>\n",
              "      <td>...</td>\n",
              "      <td>...</td>\n",
              "      <td>...</td>\n",
              "    </tr>\n",
              "    <tr>\n",
              "      <th>702598</th>\n",
              "      <td>702598</td>\n",
              "      <td>722242</td>\n",
              "      <td>628131529X3XX</td>\n",
              "      <td>51010153229X3XX</td>\n",
              "      <td>36265839.0</td>\n",
              "      <td>145833.0</td>\n",
              "      <td>49511.0</td>\n",
              "      <td>0.0</td>\n",
              "      <td>0.0</td>\n",
              "      <td>852385.0</td>\n",
              "      <td>2530970.0</td>\n",
              "      <td>0.000000e+00</td>\n",
              "      <td>667.0</td>\n",
              "      <td>0.0</td>\n",
              "      <td>14687098.0</td>\n",
              "      <td>59479.0</td>\n",
              "      <td>493981.0</td>\n",
              "      <td>1744753.0</td>\n",
              "      <td>770774.0</td>\n",
              "      <td>0.0</td>\n",
              "      <td>12645417.0</td>\n",
              "      <td>0.0</td>\n",
              "      <td>3204.0</td>\n",
              "      <td>232191.0</td>\n",
              "      <td>5294.0</td>\n",
              "      <td>88542.0</td>\n",
              "      <td>597352.0</td>\n",
              "      <td>77340.0</td>\n",
              "      <td>174717.0</td>\n",
              "      <td>9.0</td>\n",
              "      <td>0.0</td>\n",
              "      <td>32837.0</td>\n",
              "      <td>47360.0</td>\n",
              "      <td>448069574.0</td>\n",
              "      <td>9403010.0</td>\n",
              "      <td>31</td>\n",
              "      <td>15</td>\n",
              "      <td>66122.267125</td>\n",
              "      <td>10.0</td>\n",
              "      <td>4.0</td>\n",
              "      <td>1.0</td>\n",
              "      <td>15.0</td>\n",
              "      <td>Churn</td>\n",
              "    </tr>\n",
              "    <tr>\n",
              "      <th>946006</th>\n",
              "      <td>946006</td>\n",
              "      <td>980984</td>\n",
              "      <td>628X285000XX</td>\n",
              "      <td>5X0X085220000XX</td>\n",
              "      <td>50939.0</td>\n",
              "      <td>0.0</td>\n",
              "      <td>0.0</td>\n",
              "      <td>64357230.0</td>\n",
              "      <td>68.0</td>\n",
              "      <td>71775.0</td>\n",
              "      <td>0.0</td>\n",
              "      <td>6.770194e+07</td>\n",
              "      <td>53067.0</td>\n",
              "      <td>54.0</td>\n",
              "      <td>0.0</td>\n",
              "      <td>1034836.0</td>\n",
              "      <td>0.0</td>\n",
              "      <td>1991033.0</td>\n",
              "      <td>1082.0</td>\n",
              "      <td>20532323.0</td>\n",
              "      <td>36852447.0</td>\n",
              "      <td>0.0</td>\n",
              "      <td>2156145.0</td>\n",
              "      <td>37.0</td>\n",
              "      <td>82914883.0</td>\n",
              "      <td>10816.0</td>\n",
              "      <td>377300.0</td>\n",
              "      <td>3038208.0</td>\n",
              "      <td>43890.0</td>\n",
              "      <td>11217264.0</td>\n",
              "      <td>254481942.0</td>\n",
              "      <td>328529844.0</td>\n",
              "      <td>2851.0</td>\n",
              "      <td>941695.0</td>\n",
              "      <td>139794.0</td>\n",
              "      <td>31</td>\n",
              "      <td>15</td>\n",
              "      <td>109562.682625</td>\n",
              "      <td>10.0</td>\n",
              "      <td>4.0</td>\n",
              "      <td>1.0</td>\n",
              "      <td>15.0</td>\n",
              "      <td>Churn</td>\n",
              "    </tr>\n",
              "    <tr>\n",
              "      <th>300544</th>\n",
              "      <td>300544</td>\n",
              "      <td>304216</td>\n",
              "      <td>X28129737X3XX</td>\n",
              "      <td>51X1X972537X3XX</td>\n",
              "      <td>154657.0</td>\n",
              "      <td>77404.0</td>\n",
              "      <td>0.0</td>\n",
              "      <td>3718471.0</td>\n",
              "      <td>0.0</td>\n",
              "      <td>34563.0</td>\n",
              "      <td>314699.0</td>\n",
              "      <td>3.163400e+04</td>\n",
              "      <td>78081.0</td>\n",
              "      <td>1222114.0</td>\n",
              "      <td>0.0</td>\n",
              "      <td>1846468.0</td>\n",
              "      <td>136569.0</td>\n",
              "      <td>324573.0</td>\n",
              "      <td>172194.0</td>\n",
              "      <td>1089722.0</td>\n",
              "      <td>0.0</td>\n",
              "      <td>0.0</td>\n",
              "      <td>0.0</td>\n",
              "      <td>35914.0</td>\n",
              "      <td>12808.0</td>\n",
              "      <td>1474.0</td>\n",
              "      <td>174262.0</td>\n",
              "      <td>0.0</td>\n",
              "      <td>394.0</td>\n",
              "      <td>25956.0</td>\n",
              "      <td>0.0</td>\n",
              "      <td>648266.0</td>\n",
              "      <td>102900.0</td>\n",
              "      <td>3952.0</td>\n",
              "      <td>119584.0</td>\n",
              "      <td>31</td>\n",
              "      <td>13</td>\n",
              "      <td>1290.832375</td>\n",
              "      <td>10.0</td>\n",
              "      <td>4.0</td>\n",
              "      <td>1.0</td>\n",
              "      <td>15.0</td>\n",
              "      <td>Churn</td>\n",
              "    </tr>\n",
              "    <tr>\n",
              "      <th>564424</th>\n",
              "      <td>564424</td>\n",
              "      <td>577255</td>\n",
              "      <td>6X8X1144X43XX</td>\n",
              "      <td>X1010146X4X43XX</td>\n",
              "      <td>47191423.0</td>\n",
              "      <td>809246.0</td>\n",
              "      <td>2223877.0</td>\n",
              "      <td>14488654.0</td>\n",
              "      <td>0.0</td>\n",
              "      <td>0.0</td>\n",
              "      <td>0.0</td>\n",
              "      <td>5.360800e+04</td>\n",
              "      <td>0.0</td>\n",
              "      <td>201995813.0</td>\n",
              "      <td>0.0</td>\n",
              "      <td>239301.0</td>\n",
              "      <td>871.0</td>\n",
              "      <td>4258.0</td>\n",
              "      <td>0.0</td>\n",
              "      <td>555896.0</td>\n",
              "      <td>27117.0</td>\n",
              "      <td>5662.0</td>\n",
              "      <td>1168892.0</td>\n",
              "      <td>4390992.0</td>\n",
              "      <td>0.0</td>\n",
              "      <td>40.0</td>\n",
              "      <td>431271.0</td>\n",
              "      <td>2940928.0</td>\n",
              "      <td>3242586.0</td>\n",
              "      <td>0.0</td>\n",
              "      <td>247921132.0</td>\n",
              "      <td>49911.0</td>\n",
              "      <td>36817708.0</td>\n",
              "      <td>753557.0</td>\n",
              "      <td>12467.0</td>\n",
              "      <td>30</td>\n",
              "      <td>15</td>\n",
              "      <td>70665.651250</td>\n",
              "      <td>10.0</td>\n",
              "      <td>4.0</td>\n",
              "      <td>1.0</td>\n",
              "      <td>15.0</td>\n",
              "      <td>Churn</td>\n",
              "    </tr>\n",
              "    <tr>\n",
              "      <th>347879</th>\n",
              "      <td>347879</td>\n",
              "      <td>352806</td>\n",
              "      <td>6XX1111677XX</td>\n",
              "      <td>51010111X6042XX</td>\n",
              "      <td>72924666.0</td>\n",
              "      <td>3438786.0</td>\n",
              "      <td>23837931.0</td>\n",
              "      <td>2568494.0</td>\n",
              "      <td>142930.0</td>\n",
              "      <td>467042.0</td>\n",
              "      <td>0.0</td>\n",
              "      <td>1.253000e+04</td>\n",
              "      <td>131727.0</td>\n",
              "      <td>0.0</td>\n",
              "      <td>0.0</td>\n",
              "      <td>4803891.0</td>\n",
              "      <td>6157.0</td>\n",
              "      <td>7279657.0</td>\n",
              "      <td>0.0</td>\n",
              "      <td>133.0</td>\n",
              "      <td>113598.0</td>\n",
              "      <td>112072776.0</td>\n",
              "      <td>210.0</td>\n",
              "      <td>0.0</td>\n",
              "      <td>0.0</td>\n",
              "      <td>0.0</td>\n",
              "      <td>0.0</td>\n",
              "      <td>0.0</td>\n",
              "      <td>137550.0</td>\n",
              "      <td>7075.0</td>\n",
              "      <td>0.0</td>\n",
              "      <td>58103272.0</td>\n",
              "      <td>23378.0</td>\n",
              "      <td>456281.0</td>\n",
              "      <td>3171578.0</td>\n",
              "      <td>31</td>\n",
              "      <td>15</td>\n",
              "      <td>36212.457750</td>\n",
              "      <td>10.0</td>\n",
              "      <td>4.0</td>\n",
              "      <td>1.0</td>\n",
              "      <td>15.0</td>\n",
              "      <td>Churn</td>\n",
              "    </tr>\n",
              "  </tbody>\n",
              "</table>\n",
              "<p>320000 rows × 43 columns</p>\n",
              "</div>"
            ],
            "text/plain": [
              "        Unnamed: 0  Unnamed: 0.1         msisdn  ... m_bin  Score  Label\n",
              "153871      153871        154808  6281X15X0X0XX  ...   1.0   18.0  Loyal\n",
              "590938      590938        605072  62812196081XX  ...   1.0   16.0  Loyal\n",
              "566231      566231        579140  6X81X88X63XXX  ...   2.0   18.0  Loyal\n",
              "950691      950691        985972  XX813944X59XX  ...   1.0   17.0  Loyal\n",
              "590338      590338        604448  X282111X195XX  ...   2.0   18.0  Loyal\n",
              "...            ...           ...            ...  ...   ...    ...    ...\n",
              "702598      702598        722242  628131529X3XX  ...   1.0   15.0  Churn\n",
              "946006      946006        980984   628X285000XX  ...   1.0   15.0  Churn\n",
              "300544      300544        304216  X28129737X3XX  ...   1.0   15.0  Churn\n",
              "564424      564424        577255  6X8X1144X43XX  ...   1.0   15.0  Churn\n",
              "347879      347879        352806   6XX1111677XX  ...   1.0   15.0  Churn\n",
              "\n",
              "[320000 rows x 43 columns]"
            ]
          },
          "metadata": {
            "tags": []
          },
          "execution_count": 19
        }
      ]
    },
    {
      "cell_type": "code",
      "metadata": {
        "id": "Daccj5L5L_Bh"
      },
      "source": [
        "Dataset = data.drop(columns=['Unnamed: 0','Unnamed: 0.1','msisdn','imsi','R','F','M','r_bin','f_bin','m_bin','Score']) #Data Selection"
      ],
      "execution_count": null,
      "outputs": []
    },
    {
      "cell_type": "code",
      "metadata": {
        "colab": {
          "base_uri": "https://localhost:8080/",
          "height": 443
        },
        "id": "Hd0Sjoy_1b8_",
        "outputId": "bf0405d5-a431-4c1f-b80a-3b0e0fd5b9a9"
      },
      "source": [
        "Dataset"
      ],
      "execution_count": null,
      "outputs": [
        {
          "output_type": "execute_result",
          "data": {
            "text/html": [
              "<div>\n",
              "<style scoped>\n",
              "    .dataframe tbody tr th:only-of-type {\n",
              "        vertical-align: middle;\n",
              "    }\n",
              "\n",
              "    .dataframe tbody tr th {\n",
              "        vertical-align: top;\n",
              "    }\n",
              "\n",
              "    .dataframe thead th {\n",
              "        text-align: right;\n",
              "    }\n",
              "</style>\n",
              "<table border=\"1\" class=\"dataframe\">\n",
              "  <thead>\n",
              "    <tr style=\"text-align: right;\">\n",
              "      <th></th>\n",
              "      <th>tc_day1</th>\n",
              "      <th>tc_day2</th>\n",
              "      <th>tc_day3</th>\n",
              "      <th>tc_day4</th>\n",
              "      <th>tc_day5</th>\n",
              "      <th>tc_day6</th>\n",
              "      <th>tc_day7</th>\n",
              "      <th>tc_day8</th>\n",
              "      <th>tc_day9</th>\n",
              "      <th>tc_day10</th>\n",
              "      <th>tc_day11</th>\n",
              "      <th>tc_day12</th>\n",
              "      <th>tc_day13</th>\n",
              "      <th>tc_day14</th>\n",
              "      <th>tc_day15</th>\n",
              "      <th>tc_day16</th>\n",
              "      <th>tc_day17</th>\n",
              "      <th>tc_day18</th>\n",
              "      <th>tc_day19</th>\n",
              "      <th>tc_day20</th>\n",
              "      <th>tc_day21</th>\n",
              "      <th>tc_day22</th>\n",
              "      <th>tc_day23</th>\n",
              "      <th>tc_day24</th>\n",
              "      <th>tc_day25</th>\n",
              "      <th>tc_day26</th>\n",
              "      <th>tc_day27</th>\n",
              "      <th>tc_day28</th>\n",
              "      <th>tc_day29</th>\n",
              "      <th>tc_day30</th>\n",
              "      <th>tc_day31</th>\n",
              "      <th>Label</th>\n",
              "    </tr>\n",
              "  </thead>\n",
              "  <tbody>\n",
              "    <tr>\n",
              "      <th>153871</th>\n",
              "      <td>143316.0</td>\n",
              "      <td>13133799.0</td>\n",
              "      <td>0.0</td>\n",
              "      <td>31653734.0</td>\n",
              "      <td>167282.0</td>\n",
              "      <td>573392.0</td>\n",
              "      <td>20945.0</td>\n",
              "      <td>5.814294e+07</td>\n",
              "      <td>295728.0</td>\n",
              "      <td>0.0</td>\n",
              "      <td>4813166.0</td>\n",
              "      <td>2241069.0</td>\n",
              "      <td>166585.0</td>\n",
              "      <td>7.0</td>\n",
              "      <td>12764111.0</td>\n",
              "      <td>97145085.0</td>\n",
              "      <td>0.0</td>\n",
              "      <td>91602.0</td>\n",
              "      <td>1043644.0</td>\n",
              "      <td>1079954.0</td>\n",
              "      <td>3900.0</td>\n",
              "      <td>596936.0</td>\n",
              "      <td>734175.0</td>\n",
              "      <td>57883.0</td>\n",
              "      <td>177321.0</td>\n",
              "      <td>6633967.0</td>\n",
              "      <td>1930.0</td>\n",
              "      <td>16907.0</td>\n",
              "      <td>6302010.0</td>\n",
              "      <td>583180040.0</td>\n",
              "      <td>106383.0</td>\n",
              "      <td>Loyal</td>\n",
              "    </tr>\n",
              "    <tr>\n",
              "      <th>590938</th>\n",
              "      <td>1820138.0</td>\n",
              "      <td>48733.0</td>\n",
              "      <td>0.0</td>\n",
              "      <td>18047.0</td>\n",
              "      <td>646299.0</td>\n",
              "      <td>0.0</td>\n",
              "      <td>12370975.0</td>\n",
              "      <td>1.016869e+06</td>\n",
              "      <td>135393.0</td>\n",
              "      <td>705459.0</td>\n",
              "      <td>1.0</td>\n",
              "      <td>604001.0</td>\n",
              "      <td>143964.0</td>\n",
              "      <td>7309633.0</td>\n",
              "      <td>0.0</td>\n",
              "      <td>772209.0</td>\n",
              "      <td>546055.0</td>\n",
              "      <td>0.0</td>\n",
              "      <td>22236.0</td>\n",
              "      <td>4104234.0</td>\n",
              "      <td>112.0</td>\n",
              "      <td>23618.0</td>\n",
              "      <td>342516.0</td>\n",
              "      <td>13108698.0</td>\n",
              "      <td>568216293.0</td>\n",
              "      <td>0.0</td>\n",
              "      <td>741569.0</td>\n",
              "      <td>12938710.0</td>\n",
              "      <td>1081568.0</td>\n",
              "      <td>9049.0</td>\n",
              "      <td>43885.0</td>\n",
              "      <td>Loyal</td>\n",
              "    </tr>\n",
              "    <tr>\n",
              "      <th>566231</th>\n",
              "      <td>26470.0</td>\n",
              "      <td>2176842.0</td>\n",
              "      <td>7035.0</td>\n",
              "      <td>31769.0</td>\n",
              "      <td>5015532.0</td>\n",
              "      <td>130940.0</td>\n",
              "      <td>0.0</td>\n",
              "      <td>1.197123e+09</td>\n",
              "      <td>501217.0</td>\n",
              "      <td>2480037.0</td>\n",
              "      <td>28404.0</td>\n",
              "      <td>9274200.0</td>\n",
              "      <td>0.0</td>\n",
              "      <td>442.0</td>\n",
              "      <td>337487.0</td>\n",
              "      <td>0.0</td>\n",
              "      <td>16700341.0</td>\n",
              "      <td>130945.0</td>\n",
              "      <td>1201.0</td>\n",
              "      <td>3554459.0</td>\n",
              "      <td>2371680.0</td>\n",
              "      <td>426419.0</td>\n",
              "      <td>244419021.0</td>\n",
              "      <td>6370.0</td>\n",
              "      <td>6254.0</td>\n",
              "      <td>1353766.0</td>\n",
              "      <td>0.0</td>\n",
              "      <td>404301.0</td>\n",
              "      <td>149.0</td>\n",
              "      <td>1678937.0</td>\n",
              "      <td>5624191.0</td>\n",
              "      <td>Loyal</td>\n",
              "    </tr>\n",
              "    <tr>\n",
              "      <th>950691</th>\n",
              "      <td>69097.0</td>\n",
              "      <td>68987206.0</td>\n",
              "      <td>27193.0</td>\n",
              "      <td>290214684.0</td>\n",
              "      <td>81239.0</td>\n",
              "      <td>732.0</td>\n",
              "      <td>4183252.0</td>\n",
              "      <td>6.919640e+05</td>\n",
              "      <td>542836.0</td>\n",
              "      <td>1346705.0</td>\n",
              "      <td>110193.0</td>\n",
              "      <td>399273.0</td>\n",
              "      <td>0.0</td>\n",
              "      <td>2161001.0</td>\n",
              "      <td>0.0</td>\n",
              "      <td>284921.0</td>\n",
              "      <td>1216465.0</td>\n",
              "      <td>1087465.0</td>\n",
              "      <td>0.0</td>\n",
              "      <td>8915826.0</td>\n",
              "      <td>0.0</td>\n",
              "      <td>551470.0</td>\n",
              "      <td>77.0</td>\n",
              "      <td>46655414.0</td>\n",
              "      <td>0.0</td>\n",
              "      <td>2788.0</td>\n",
              "      <td>0.0</td>\n",
              "      <td>32.0</td>\n",
              "      <td>0.0</td>\n",
              "      <td>110326.0</td>\n",
              "      <td>11641213.0</td>\n",
              "      <td>Loyal</td>\n",
              "    </tr>\n",
              "    <tr>\n",
              "      <th>590338</th>\n",
              "      <td>62438.0</td>\n",
              "      <td>525884.0</td>\n",
              "      <td>0.0</td>\n",
              "      <td>7768249.0</td>\n",
              "      <td>6702967.0</td>\n",
              "      <td>11697943.0</td>\n",
              "      <td>315240207.0</td>\n",
              "      <td>1.985951e+08</td>\n",
              "      <td>313116780.0</td>\n",
              "      <td>8557.0</td>\n",
              "      <td>5004.0</td>\n",
              "      <td>57612.0</td>\n",
              "      <td>72193835.0</td>\n",
              "      <td>167613077.0</td>\n",
              "      <td>137948.0</td>\n",
              "      <td>0.0</td>\n",
              "      <td>23301411.0</td>\n",
              "      <td>101.0</td>\n",
              "      <td>2788579.0</td>\n",
              "      <td>0.0</td>\n",
              "      <td>20704383.0</td>\n",
              "      <td>41717.0</td>\n",
              "      <td>7196533.0</td>\n",
              "      <td>445607286.0</td>\n",
              "      <td>1897953.0</td>\n",
              "      <td>12527.0</td>\n",
              "      <td>2020016.0</td>\n",
              "      <td>1891416.0</td>\n",
              "      <td>9664.0</td>\n",
              "      <td>26368.0</td>\n",
              "      <td>1388169.0</td>\n",
              "      <td>Loyal</td>\n",
              "    </tr>\n",
              "    <tr>\n",
              "      <th>...</th>\n",
              "      <td>...</td>\n",
              "      <td>...</td>\n",
              "      <td>...</td>\n",
              "      <td>...</td>\n",
              "      <td>...</td>\n",
              "      <td>...</td>\n",
              "      <td>...</td>\n",
              "      <td>...</td>\n",
              "      <td>...</td>\n",
              "      <td>...</td>\n",
              "      <td>...</td>\n",
              "      <td>...</td>\n",
              "      <td>...</td>\n",
              "      <td>...</td>\n",
              "      <td>...</td>\n",
              "      <td>...</td>\n",
              "      <td>...</td>\n",
              "      <td>...</td>\n",
              "      <td>...</td>\n",
              "      <td>...</td>\n",
              "      <td>...</td>\n",
              "      <td>...</td>\n",
              "      <td>...</td>\n",
              "      <td>...</td>\n",
              "      <td>...</td>\n",
              "      <td>...</td>\n",
              "      <td>...</td>\n",
              "      <td>...</td>\n",
              "      <td>...</td>\n",
              "      <td>...</td>\n",
              "      <td>...</td>\n",
              "      <td>...</td>\n",
              "    </tr>\n",
              "    <tr>\n",
              "      <th>702598</th>\n",
              "      <td>36265839.0</td>\n",
              "      <td>145833.0</td>\n",
              "      <td>49511.0</td>\n",
              "      <td>0.0</td>\n",
              "      <td>0.0</td>\n",
              "      <td>852385.0</td>\n",
              "      <td>2530970.0</td>\n",
              "      <td>0.000000e+00</td>\n",
              "      <td>667.0</td>\n",
              "      <td>0.0</td>\n",
              "      <td>14687098.0</td>\n",
              "      <td>59479.0</td>\n",
              "      <td>493981.0</td>\n",
              "      <td>1744753.0</td>\n",
              "      <td>770774.0</td>\n",
              "      <td>0.0</td>\n",
              "      <td>12645417.0</td>\n",
              "      <td>0.0</td>\n",
              "      <td>3204.0</td>\n",
              "      <td>232191.0</td>\n",
              "      <td>5294.0</td>\n",
              "      <td>88542.0</td>\n",
              "      <td>597352.0</td>\n",
              "      <td>77340.0</td>\n",
              "      <td>174717.0</td>\n",
              "      <td>9.0</td>\n",
              "      <td>0.0</td>\n",
              "      <td>32837.0</td>\n",
              "      <td>47360.0</td>\n",
              "      <td>448069574.0</td>\n",
              "      <td>9403010.0</td>\n",
              "      <td>Churn</td>\n",
              "    </tr>\n",
              "    <tr>\n",
              "      <th>946006</th>\n",
              "      <td>50939.0</td>\n",
              "      <td>0.0</td>\n",
              "      <td>0.0</td>\n",
              "      <td>64357230.0</td>\n",
              "      <td>68.0</td>\n",
              "      <td>71775.0</td>\n",
              "      <td>0.0</td>\n",
              "      <td>6.770194e+07</td>\n",
              "      <td>53067.0</td>\n",
              "      <td>54.0</td>\n",
              "      <td>0.0</td>\n",
              "      <td>1034836.0</td>\n",
              "      <td>0.0</td>\n",
              "      <td>1991033.0</td>\n",
              "      <td>1082.0</td>\n",
              "      <td>20532323.0</td>\n",
              "      <td>36852447.0</td>\n",
              "      <td>0.0</td>\n",
              "      <td>2156145.0</td>\n",
              "      <td>37.0</td>\n",
              "      <td>82914883.0</td>\n",
              "      <td>10816.0</td>\n",
              "      <td>377300.0</td>\n",
              "      <td>3038208.0</td>\n",
              "      <td>43890.0</td>\n",
              "      <td>11217264.0</td>\n",
              "      <td>254481942.0</td>\n",
              "      <td>328529844.0</td>\n",
              "      <td>2851.0</td>\n",
              "      <td>941695.0</td>\n",
              "      <td>139794.0</td>\n",
              "      <td>Churn</td>\n",
              "    </tr>\n",
              "    <tr>\n",
              "      <th>300544</th>\n",
              "      <td>154657.0</td>\n",
              "      <td>77404.0</td>\n",
              "      <td>0.0</td>\n",
              "      <td>3718471.0</td>\n",
              "      <td>0.0</td>\n",
              "      <td>34563.0</td>\n",
              "      <td>314699.0</td>\n",
              "      <td>3.163400e+04</td>\n",
              "      <td>78081.0</td>\n",
              "      <td>1222114.0</td>\n",
              "      <td>0.0</td>\n",
              "      <td>1846468.0</td>\n",
              "      <td>136569.0</td>\n",
              "      <td>324573.0</td>\n",
              "      <td>172194.0</td>\n",
              "      <td>1089722.0</td>\n",
              "      <td>0.0</td>\n",
              "      <td>0.0</td>\n",
              "      <td>0.0</td>\n",
              "      <td>35914.0</td>\n",
              "      <td>12808.0</td>\n",
              "      <td>1474.0</td>\n",
              "      <td>174262.0</td>\n",
              "      <td>0.0</td>\n",
              "      <td>394.0</td>\n",
              "      <td>25956.0</td>\n",
              "      <td>0.0</td>\n",
              "      <td>648266.0</td>\n",
              "      <td>102900.0</td>\n",
              "      <td>3952.0</td>\n",
              "      <td>119584.0</td>\n",
              "      <td>Churn</td>\n",
              "    </tr>\n",
              "    <tr>\n",
              "      <th>564424</th>\n",
              "      <td>47191423.0</td>\n",
              "      <td>809246.0</td>\n",
              "      <td>2223877.0</td>\n",
              "      <td>14488654.0</td>\n",
              "      <td>0.0</td>\n",
              "      <td>0.0</td>\n",
              "      <td>0.0</td>\n",
              "      <td>5.360800e+04</td>\n",
              "      <td>0.0</td>\n",
              "      <td>201995813.0</td>\n",
              "      <td>0.0</td>\n",
              "      <td>239301.0</td>\n",
              "      <td>871.0</td>\n",
              "      <td>4258.0</td>\n",
              "      <td>0.0</td>\n",
              "      <td>555896.0</td>\n",
              "      <td>27117.0</td>\n",
              "      <td>5662.0</td>\n",
              "      <td>1168892.0</td>\n",
              "      <td>4390992.0</td>\n",
              "      <td>0.0</td>\n",
              "      <td>40.0</td>\n",
              "      <td>431271.0</td>\n",
              "      <td>2940928.0</td>\n",
              "      <td>3242586.0</td>\n",
              "      <td>0.0</td>\n",
              "      <td>247921132.0</td>\n",
              "      <td>49911.0</td>\n",
              "      <td>36817708.0</td>\n",
              "      <td>753557.0</td>\n",
              "      <td>12467.0</td>\n",
              "      <td>Churn</td>\n",
              "    </tr>\n",
              "    <tr>\n",
              "      <th>347879</th>\n",
              "      <td>72924666.0</td>\n",
              "      <td>3438786.0</td>\n",
              "      <td>23837931.0</td>\n",
              "      <td>2568494.0</td>\n",
              "      <td>142930.0</td>\n",
              "      <td>467042.0</td>\n",
              "      <td>0.0</td>\n",
              "      <td>1.253000e+04</td>\n",
              "      <td>131727.0</td>\n",
              "      <td>0.0</td>\n",
              "      <td>0.0</td>\n",
              "      <td>4803891.0</td>\n",
              "      <td>6157.0</td>\n",
              "      <td>7279657.0</td>\n",
              "      <td>0.0</td>\n",
              "      <td>133.0</td>\n",
              "      <td>113598.0</td>\n",
              "      <td>112072776.0</td>\n",
              "      <td>210.0</td>\n",
              "      <td>0.0</td>\n",
              "      <td>0.0</td>\n",
              "      <td>0.0</td>\n",
              "      <td>0.0</td>\n",
              "      <td>0.0</td>\n",
              "      <td>137550.0</td>\n",
              "      <td>7075.0</td>\n",
              "      <td>0.0</td>\n",
              "      <td>58103272.0</td>\n",
              "      <td>23378.0</td>\n",
              "      <td>456281.0</td>\n",
              "      <td>3171578.0</td>\n",
              "      <td>Churn</td>\n",
              "    </tr>\n",
              "  </tbody>\n",
              "</table>\n",
              "<p>320000 rows × 32 columns</p>\n",
              "</div>"
            ],
            "text/plain": [
              "           tc_day1     tc_day2     tc_day3  ...     tc_day30    tc_day31  Label\n",
              "153871    143316.0  13133799.0         0.0  ...  583180040.0    106383.0  Loyal\n",
              "590938   1820138.0     48733.0         0.0  ...       9049.0     43885.0  Loyal\n",
              "566231     26470.0   2176842.0      7035.0  ...    1678937.0   5624191.0  Loyal\n",
              "950691     69097.0  68987206.0     27193.0  ...     110326.0  11641213.0  Loyal\n",
              "590338     62438.0    525884.0         0.0  ...      26368.0   1388169.0  Loyal\n",
              "...            ...         ...         ...  ...          ...         ...    ...\n",
              "702598  36265839.0    145833.0     49511.0  ...  448069574.0   9403010.0  Churn\n",
              "946006     50939.0         0.0         0.0  ...     941695.0    139794.0  Churn\n",
              "300544    154657.0     77404.0         0.0  ...       3952.0    119584.0  Churn\n",
              "564424  47191423.0    809246.0   2223877.0  ...     753557.0     12467.0  Churn\n",
              "347879  72924666.0   3438786.0  23837931.0  ...     456281.0   3171578.0  Churn\n",
              "\n",
              "[320000 rows x 32 columns]"
            ]
          },
          "metadata": {
            "tags": []
          },
          "execution_count": 21
        }
      ]
    },
    {
      "cell_type": "code",
      "metadata": {
        "id": "tIN_UfhTPHbO"
      },
      "source": [
        "Dataset['Label']=(Dataset['Label']== 'Loyal').astype(int) #Encode Label to Boolean"
      ],
      "execution_count": null,
      "outputs": []
    },
    {
      "cell_type": "code",
      "metadata": {
        "colab": {
          "base_uri": "https://localhost:8080/",
          "height": 1000
        },
        "id": "ZO8ie-60HSUN",
        "outputId": "58e15bac-12b4-4033-d51b-6e585586b3b9"
      },
      "source": [
        "%matplotlib inline\n",
        "sns.set(rc={'figure.figsize':(30,30)})\n",
        "correlation_matrix = Dataset.corr().round(3)\n",
        "sns.heatmap(data=correlation_matrix, annot=True, )\n",
        "plt.show() #Correlation Matrix Vizualization"
      ],
      "execution_count": null,
      "outputs": [
        {
          "output_type": "display_data",
          "data": {
            "image/png": "[encoded data removed]",
            "text/plain": [
              "<Figure size 2160x2160 with 2 Axes>"
            ]
          },
          "metadata": {
            "tags": []
          }
        }
      ]
    },
    {
      "cell_type": "code",
      "metadata": {
        "colab": {
          "base_uri": "https://localhost:8080/",
          "height": 443
        },
        "id": "Yy1lIaGtPTLx",
        "outputId": "0e79ac55-46b4-4a49-a55e-10adac4f1161"
      },
      "source": [
        "Dataset"
      ],
      "execution_count": null,
      "outputs": [
        {
          "output_type": "execute_result",
          "data": {
            "text/html": [
              "<div>\n",
              "<style scoped>\n",
              "    .dataframe tbody tr th:only-of-type {\n",
              "        vertical-align: middle;\n",
              "    }\n",
              "\n",
              "    .dataframe tbody tr th {\n",
              "        vertical-align: top;\n",
              "    }\n",
              "\n",
              "    .dataframe thead th {\n",
              "        text-align: right;\n",
              "    }\n",
              "</style>\n",
              "<table border=\"1\" class=\"dataframe\">\n",
              "  <thead>\n",
              "    <tr style=\"text-align: right;\">\n",
              "      <th></th>\n",
              "      <th>tc_day1</th>\n",
              "      <th>tc_day2</th>\n",
              "      <th>tc_day3</th>\n",
              "      <th>tc_day4</th>\n",
              "      <th>tc_day5</th>\n",
              "      <th>tc_day6</th>\n",
              "      <th>tc_day7</th>\n",
              "      <th>tc_day8</th>\n",
              "      <th>tc_day9</th>\n",
              "      <th>tc_day10</th>\n",
              "      <th>tc_day11</th>\n",
              "      <th>tc_day12</th>\n",
              "      <th>tc_day13</th>\n",
              "      <th>tc_day14</th>\n",
              "      <th>tc_day15</th>\n",
              "      <th>tc_day16</th>\n",
              "      <th>tc_day17</th>\n",
              "      <th>tc_day18</th>\n",
              "      <th>tc_day19</th>\n",
              "      <th>tc_day20</th>\n",
              "      <th>tc_day21</th>\n",
              "      <th>tc_day22</th>\n",
              "      <th>tc_day23</th>\n",
              "      <th>tc_day24</th>\n",
              "      <th>tc_day25</th>\n",
              "      <th>tc_day26</th>\n",
              "      <th>tc_day27</th>\n",
              "      <th>tc_day28</th>\n",
              "      <th>tc_day29</th>\n",
              "      <th>tc_day30</th>\n",
              "      <th>tc_day31</th>\n",
              "      <th>Label</th>\n",
              "    </tr>\n",
              "  </thead>\n",
              "  <tbody>\n",
              "    <tr>\n",
              "      <th>153871</th>\n",
              "      <td>143316.0</td>\n",
              "      <td>13133799.0</td>\n",
              "      <td>0.0</td>\n",
              "      <td>31653734.0</td>\n",
              "      <td>167282.0</td>\n",
              "      <td>573392.0</td>\n",
              "      <td>20945.0</td>\n",
              "      <td>5.814294e+07</td>\n",
              "      <td>295728.0</td>\n",
              "      <td>0.0</td>\n",
              "      <td>4813166.0</td>\n",
              "      <td>2241069.0</td>\n",
              "      <td>166585.0</td>\n",
              "      <td>7.0</td>\n",
              "      <td>12764111.0</td>\n",
              "      <td>97145085.0</td>\n",
              "      <td>0.0</td>\n",
              "      <td>91602.0</td>\n",
              "      <td>1043644.0</td>\n",
              "      <td>1079954.0</td>\n",
              "      <td>3900.0</td>\n",
              "      <td>596936.0</td>\n",
              "      <td>734175.0</td>\n",
              "      <td>57883.0</td>\n",
              "      <td>177321.0</td>\n",
              "      <td>6633967.0</td>\n",
              "      <td>1930.0</td>\n",
              "      <td>16907.0</td>\n",
              "      <td>6302010.0</td>\n",
              "      <td>583180040.0</td>\n",
              "      <td>106383.0</td>\n",
              "      <td>1</td>\n",
              "    </tr>\n",
              "    <tr>\n",
              "      <th>590938</th>\n",
              "      <td>1820138.0</td>\n",
              "      <td>48733.0</td>\n",
              "      <td>0.0</td>\n",
              "      <td>18047.0</td>\n",
              "      <td>646299.0</td>\n",
              "      <td>0.0</td>\n",
              "      <td>12370975.0</td>\n",
              "      <td>1.016869e+06</td>\n",
              "      <td>135393.0</td>\n",
              "      <td>705459.0</td>\n",
              "      <td>1.0</td>\n",
              "      <td>604001.0</td>\n",
              "      <td>143964.0</td>\n",
              "      <td>7309633.0</td>\n",
              "      <td>0.0</td>\n",
              "      <td>772209.0</td>\n",
              "      <td>546055.0</td>\n",
              "      <td>0.0</td>\n",
              "      <td>22236.0</td>\n",
              "      <td>4104234.0</td>\n",
              "      <td>112.0</td>\n",
              "      <td>23618.0</td>\n",
              "      <td>342516.0</td>\n",
              "      <td>13108698.0</td>\n",
              "      <td>568216293.0</td>\n",
              "      <td>0.0</td>\n",
              "      <td>741569.0</td>\n",
              "      <td>12938710.0</td>\n",
              "      <td>1081568.0</td>\n",
              "      <td>9049.0</td>\n",
              "      <td>43885.0</td>\n",
              "      <td>1</td>\n",
              "    </tr>\n",
              "    <tr>\n",
              "      <th>566231</th>\n",
              "      <td>26470.0</td>\n",
              "      <td>2176842.0</td>\n",
              "      <td>7035.0</td>\n",
              "      <td>31769.0</td>\n",
              "      <td>5015532.0</td>\n",
              "      <td>130940.0</td>\n",
              "      <td>0.0</td>\n",
              "      <td>1.197123e+09</td>\n",
              "      <td>501217.0</td>\n",
              "      <td>2480037.0</td>\n",
              "      <td>28404.0</td>\n",
              "      <td>9274200.0</td>\n",
              "      <td>0.0</td>\n",
              "      <td>442.0</td>\n",
              "      <td>337487.0</td>\n",
              "      <td>0.0</td>\n",
              "      <td>16700341.0</td>\n",
              "      <td>130945.0</td>\n",
              "      <td>1201.0</td>\n",
              "      <td>3554459.0</td>\n",
              "      <td>2371680.0</td>\n",
              "      <td>426419.0</td>\n",
              "      <td>244419021.0</td>\n",
              "      <td>6370.0</td>\n",
              "      <td>6254.0</td>\n",
              "      <td>1353766.0</td>\n",
              "      <td>0.0</td>\n",
              "      <td>404301.0</td>\n",
              "      <td>149.0</td>\n",
              "      <td>1678937.0</td>\n",
              "      <td>5624191.0</td>\n",
              "      <td>1</td>\n",
              "    </tr>\n",
              "    <tr>\n",
              "      <th>950691</th>\n",
              "      <td>69097.0</td>\n",
              "      <td>68987206.0</td>\n",
              "      <td>27193.0</td>\n",
              "      <td>290214684.0</td>\n",
              "      <td>81239.0</td>\n",
              "      <td>732.0</td>\n",
              "      <td>4183252.0</td>\n",
              "      <td>6.919640e+05</td>\n",
              "      <td>542836.0</td>\n",
              "      <td>1346705.0</td>\n",
              "      <td>110193.0</td>\n",
              "      <td>399273.0</td>\n",
              "      <td>0.0</td>\n",
              "      <td>2161001.0</td>\n",
              "      <td>0.0</td>\n",
              "      <td>284921.0</td>\n",
              "      <td>1216465.0</td>\n",
              "      <td>1087465.0</td>\n",
              "      <td>0.0</td>\n",
              "      <td>8915826.0</td>\n",
              "      <td>0.0</td>\n",
              "      <td>551470.0</td>\n",
              "      <td>77.0</td>\n",
              "      <td>46655414.0</td>\n",
              "      <td>0.0</td>\n",
              "      <td>2788.0</td>\n",
              "      <td>0.0</td>\n",
              "      <td>32.0</td>\n",
              "      <td>0.0</td>\n",
              "      <td>110326.0</td>\n",
              "      <td>11641213.0</td>\n",
              "      <td>1</td>\n",
              "    </tr>\n",
              "    <tr>\n",
              "      <th>590338</th>\n",
              "      <td>62438.0</td>\n",
              "      <td>525884.0</td>\n",
              "      <td>0.0</td>\n",
              "      <td>7768249.0</td>\n",
              "      <td>6702967.0</td>\n",
              "      <td>11697943.0</td>\n",
              "      <td>315240207.0</td>\n",
              "      <td>1.985951e+08</td>\n",
              "      <td>313116780.0</td>\n",
              "      <td>8557.0</td>\n",
              "      <td>5004.0</td>\n",
              "      <td>57612.0</td>\n",
              "      <td>72193835.0</td>\n",
              "      <td>167613077.0</td>\n",
              "      <td>137948.0</td>\n",
              "      <td>0.0</td>\n",
              "      <td>23301411.0</td>\n",
              "      <td>101.0</td>\n",
              "      <td>2788579.0</td>\n",
              "      <td>0.0</td>\n",
              "      <td>20704383.0</td>\n",
              "      <td>41717.0</td>\n",
              "      <td>7196533.0</td>\n",
              "      <td>445607286.0</td>\n",
              "      <td>1897953.0</td>\n",
              "      <td>12527.0</td>\n",
              "      <td>2020016.0</td>\n",
              "      <td>1891416.0</td>\n",
              "      <td>9664.0</td>\n",
              "      <td>26368.0</td>\n",
              "      <td>1388169.0</td>\n",
              "      <td>1</td>\n",
              "    </tr>\n",
              "    <tr>\n",
              "      <th>...</th>\n",
              "      <td>...</td>\n",
              "      <td>...</td>\n",
              "      <td>...</td>\n",
              "      <td>...</td>\n",
              "      <td>...</td>\n",
              "      <td>...</td>\n",
              "      <td>...</td>\n",
              "      <td>...</td>\n",
              "      <td>...</td>\n",
              "      <td>...</td>\n",
              "      <td>...</td>\n",
              "      <td>...</td>\n",
              "      <td>...</td>\n",
              "      <td>...</td>\n",
              "      <td>...</td>\n",
              "      <td>...</td>\n",
              "      <td>...</td>\n",
              "      <td>...</td>\n",
              "      <td>...</td>\n",
              "      <td>...</td>\n",
              "      <td>...</td>\n",
              "      <td>...</td>\n",
              "      <td>...</td>\n",
              "      <td>...</td>\n",
              "      <td>...</td>\n",
              "      <td>...</td>\n",
              "      <td>...</td>\n",
              "      <td>...</td>\n",
              "      <td>...</td>\n",
              "      <td>...</td>\n",
              "      <td>...</td>\n",
              "      <td>...</td>\n",
              "    </tr>\n",
              "    <tr>\n",
              "      <th>702598</th>\n",
              "      <td>36265839.0</td>\n",
              "      <td>145833.0</td>\n",
              "      <td>49511.0</td>\n",
              "      <td>0.0</td>\n",
              "      <td>0.0</td>\n",
              "      <td>852385.0</td>\n",
              "      <td>2530970.0</td>\n",
              "      <td>0.000000e+00</td>\n",
              "      <td>667.0</td>\n",
              "      <td>0.0</td>\n",
              "      <td>14687098.0</td>\n",
              "      <td>59479.0</td>\n",
              "      <td>493981.0</td>\n",
              "      <td>1744753.0</td>\n",
              "      <td>770774.0</td>\n",
              "      <td>0.0</td>\n",
              "      <td>12645417.0</td>\n",
              "      <td>0.0</td>\n",
              "      <td>3204.0</td>\n",
              "      <td>232191.0</td>\n",
              "      <td>5294.0</td>\n",
              "      <td>88542.0</td>\n",
              "      <td>597352.0</td>\n",
              "      <td>77340.0</td>\n",
              "      <td>174717.0</td>\n",
              "      <td>9.0</td>\n",
              "      <td>0.0</td>\n",
              "      <td>32837.0</td>\n",
              "      <td>47360.0</td>\n",
              "      <td>448069574.0</td>\n",
              "      <td>9403010.0</td>\n",
              "      <td>0</td>\n",
              "    </tr>\n",
              "    <tr>\n",
              "      <th>946006</th>\n",
              "      <td>50939.0</td>\n",
              "      <td>0.0</td>\n",
              "      <td>0.0</td>\n",
              "      <td>64357230.0</td>\n",
              "      <td>68.0</td>\n",
              "      <td>71775.0</td>\n",
              "      <td>0.0</td>\n",
              "      <td>6.770194e+07</td>\n",
              "      <td>53067.0</td>\n",
              "      <td>54.0</td>\n",
              "      <td>0.0</td>\n",
              "      <td>1034836.0</td>\n",
              "      <td>0.0</td>\n",
              "      <td>1991033.0</td>\n",
              "      <td>1082.0</td>\n",
              "      <td>20532323.0</td>\n",
              "      <td>36852447.0</td>\n",
              "      <td>0.0</td>\n",
              "      <td>2156145.0</td>\n",
              "      <td>37.0</td>\n",
              "      <td>82914883.0</td>\n",
              "      <td>10816.0</td>\n",
              "      <td>377300.0</td>\n",
              "      <td>3038208.0</td>\n",
              "      <td>43890.0</td>\n",
              "      <td>11217264.0</td>\n",
              "      <td>254481942.0</td>\n",
              "      <td>328529844.0</td>\n",
              "      <td>2851.0</td>\n",
              "      <td>941695.0</td>\n",
              "      <td>139794.0</td>\n",
              "      <td>0</td>\n",
              "    </tr>\n",
              "    <tr>\n",
              "      <th>300544</th>\n",
              "      <td>154657.0</td>\n",
              "      <td>77404.0</td>\n",
              "      <td>0.0</td>\n",
              "      <td>3718471.0</td>\n",
              "      <td>0.0</td>\n",
              "      <td>34563.0</td>\n",
              "      <td>314699.0</td>\n",
              "      <td>3.163400e+04</td>\n",
              "      <td>78081.0</td>\n",
              "      <td>1222114.0</td>\n",
              "      <td>0.0</td>\n",
              "      <td>1846468.0</td>\n",
              "      <td>136569.0</td>\n",
              "      <td>324573.0</td>\n",
              "      <td>172194.0</td>\n",
              "      <td>1089722.0</td>\n",
              "      <td>0.0</td>\n",
              "      <td>0.0</td>\n",
              "      <td>0.0</td>\n",
              "      <td>35914.0</td>\n",
              "      <td>12808.0</td>\n",
              "      <td>1474.0</td>\n",
              "      <td>174262.0</td>\n",
              "      <td>0.0</td>\n",
              "      <td>394.0</td>\n",
              "      <td>25956.0</td>\n",
              "      <td>0.0</td>\n",
              "      <td>648266.0</td>\n",
              "      <td>102900.0</td>\n",
              "      <td>3952.0</td>\n",
              "      <td>119584.0</td>\n",
              "      <td>0</td>\n",
              "    </tr>\n",
              "    <tr>\n",
              "      <th>564424</th>\n",
              "      <td>47191423.0</td>\n",
              "      <td>809246.0</td>\n",
              "      <td>2223877.0</td>\n",
              "      <td>14488654.0</td>\n",
              "      <td>0.0</td>\n",
              "      <td>0.0</td>\n",
              "      <td>0.0</td>\n",
              "      <td>5.360800e+04</td>\n",
              "      <td>0.0</td>\n",
              "      <td>201995813.0</td>\n",
              "      <td>0.0</td>\n",
              "      <td>239301.0</td>\n",
              "      <td>871.0</td>\n",
              "      <td>4258.0</td>\n",
              "      <td>0.0</td>\n",
              "      <td>555896.0</td>\n",
              "      <td>27117.0</td>\n",
              "      <td>5662.0</td>\n",
              "      <td>1168892.0</td>\n",
              "      <td>4390992.0</td>\n",
              "      <td>0.0</td>\n",
              "      <td>40.0</td>\n",
              "      <td>431271.0</td>\n",
              "      <td>2940928.0</td>\n",
              "      <td>3242586.0</td>\n",
              "      <td>0.0</td>\n",
              "      <td>247921132.0</td>\n",
              "      <td>49911.0</td>\n",
              "      <td>36817708.0</td>\n",
              "      <td>753557.0</td>\n",
              "      <td>12467.0</td>\n",
              "      <td>0</td>\n",
              "    </tr>\n",
              "    <tr>\n",
              "      <th>347879</th>\n",
              "      <td>72924666.0</td>\n",
              "      <td>3438786.0</td>\n",
              "      <td>23837931.0</td>\n",
              "      <td>2568494.0</td>\n",
              "      <td>142930.0</td>\n",
              "      <td>467042.0</td>\n",
              "      <td>0.0</td>\n",
              "      <td>1.253000e+04</td>\n",
              "      <td>131727.0</td>\n",
              "      <td>0.0</td>\n",
              "      <td>0.0</td>\n",
              "      <td>4803891.0</td>\n",
              "      <td>6157.0</td>\n",
              "      <td>7279657.0</td>\n",
              "      <td>0.0</td>\n",
              "      <td>133.0</td>\n",
              "      <td>113598.0</td>\n",
              "      <td>112072776.0</td>\n",
              "      <td>210.0</td>\n",
              "      <td>0.0</td>\n",
              "      <td>0.0</td>\n",
              "      <td>0.0</td>\n",
              "      <td>0.0</td>\n",
              "      <td>0.0</td>\n",
              "      <td>137550.0</td>\n",
              "      <td>7075.0</td>\n",
              "      <td>0.0</td>\n",
              "      <td>58103272.0</td>\n",
              "      <td>23378.0</td>\n",
              "      <td>456281.0</td>\n",
              "      <td>3171578.0</td>\n",
              "      <td>0</td>\n",
              "    </tr>\n",
              "  </tbody>\n",
              "</table>\n",
              "<p>320000 rows × 32 columns</p>\n",
              "</div>"
            ],
            "text/plain": [
              "           tc_day1     tc_day2     tc_day3  ...     tc_day30    tc_day31  Label\n",
              "153871    143316.0  13133799.0         0.0  ...  583180040.0    106383.0      1\n",
              "590938   1820138.0     48733.0         0.0  ...       9049.0     43885.0      1\n",
              "566231     26470.0   2176842.0      7035.0  ...    1678937.0   5624191.0      1\n",
              "950691     69097.0  68987206.0     27193.0  ...     110326.0  11641213.0      1\n",
              "590338     62438.0    525884.0         0.0  ...      26368.0   1388169.0      1\n",
              "...            ...         ...         ...  ...          ...         ...    ...\n",
              "702598  36265839.0    145833.0     49511.0  ...  448069574.0   9403010.0      0\n",
              "946006     50939.0         0.0         0.0  ...     941695.0    139794.0      0\n",
              "300544    154657.0     77404.0         0.0  ...       3952.0    119584.0      0\n",
              "564424  47191423.0    809246.0   2223877.0  ...     753557.0     12467.0      0\n",
              "347879  72924666.0   3438786.0  23837931.0  ...     456281.0   3171578.0      0\n",
              "\n",
              "[320000 rows x 32 columns]"
            ]
          },
          "metadata": {
            "tags": []
          },
          "execution_count": 24
        }
      ]
    },
    {
      "cell_type": "code",
      "metadata": {
        "colab": {
          "base_uri": "https://localhost:8080/"
        },
        "id": "M-d80-dUR3q0",
        "outputId": "94d6566c-bdd9-4fbe-96cd-87d380ebc555"
      },
      "source": [
        "Dataset['Label'].value_counts()"
      ],
      "execution_count": null,
      "outputs": [
        {
          "output_type": "execute_result",
          "data": {
            "text/plain": [
              "1    160000\n",
              "0    160000\n",
              "Name: Label, dtype: int64"
            ]
          },
          "metadata": {
            "tags": []
          },
          "execution_count": 25
        }
      ]
    },
    {
      "cell_type": "code",
      "metadata": {
        "colab": {
          "base_uri": "https://localhost:8080/"
        },
        "id": "vgDFzp71STkp",
        "outputId": "7f5b2729-766f-4a03-ec1f-7b619d00b3a1"
      },
      "source": [
        "Dataset.info()"
      ],
      "execution_count": null,
      "outputs": [
        {
          "output_type": "stream",
          "text": [
            "<class 'pandas.core.frame.DataFrame'>\n",
            "Int64Index: 320000 entries, 153871 to 347879\n",
            "Data columns (total 32 columns):\n",
            " #   Column    Non-Null Count   Dtype  \n",
            "---  ------    --------------   -----  \n",
            " 0   tc_day1   320000 non-null  float64\n",
            " 1   tc_day2   320000 non-null  float64\n",
            " 2   tc_day3   320000 non-null  float64\n",
            " 3   tc_day4   320000 non-null  float64\n",
            " 4   tc_day5   320000 non-null  float64\n",
            " 5   tc_day6   320000 non-null  float64\n",
            " 6   tc_day7   320000 non-null  float64\n",
            " 7   tc_day8   320000 non-null  float64\n",
            " 8   tc_day9   320000 non-null  float64\n",
            " 9   tc_day10  320000 non-null  float64\n",
            " 10  tc_day11  320000 non-null  float64\n",
            " 11  tc_day12  320000 non-null  float64\n",
            " 12  tc_day13  320000 non-null  float64\n",
            " 13  tc_day14  320000 non-null  float64\n",
            " 14  tc_day15  320000 non-null  float64\n",
            " 15  tc_day16  320000 non-null  float64\n",
            " 16  tc_day17  320000 non-null  float64\n",
            " 17  tc_day18  320000 non-null  float64\n",
            " 18  tc_day19  320000 non-null  float64\n",
            " 19  tc_day20  320000 non-null  float64\n",
            " 20  tc_day21  320000 non-null  float64\n",
            " 21  tc_day22  320000 non-null  float64\n",
            " 22  tc_day23  320000 non-null  float64\n",
            " 23  tc_day24  320000 non-null  float64\n",
            " 24  tc_day25  320000 non-null  float64\n",
            " 25  tc_day26  320000 non-null  float64\n",
            " 26  tc_day27  320000 non-null  float64\n",
            " 27  tc_day28  320000 non-null  float64\n",
            " 28  tc_day29  320000 non-null  float64\n",
            " 29  tc_day30  320000 non-null  float64\n",
            " 30  tc_day31  320000 non-null  float64\n",
            " 31  Label     320000 non-null  int64  \n",
            "dtypes: float64(31), int64(1)\n",
            "memory usage: 80.6 MB\n"
          ],
          "name": "stdout"
        }
      ]
    },
    {
      "cell_type": "code",
      "metadata": {
        "id": "xaVP3r7TR9S9"
      },
      "source": [
        "#Set Data Attrubute and Target\n",
        "x = Dataset.iloc[:,:31].values\n",
        "y = Dataset['Label'].values"
      ],
      "execution_count": null,
      "outputs": []
    },
    {
      "cell_type": "code",
      "metadata": {
        "colab": {
          "base_uri": "https://localhost:8080/"
        },
        "id": "TovHDQYlSh-5",
        "outputId": "fe5e5279-8ced-4888-d6d5-2620b85d48a4"
      },
      "source": [
        "x"
      ],
      "execution_count": null,
      "outputs": [
        {
          "output_type": "execute_result",
          "data": {
            "text/plain": [
              "array([[1.4331600e+05, 1.3133799e+07, 0.0000000e+00, ..., 6.3020100e+06,\n",
              "        5.8318004e+08, 1.0638300e+05],\n",
              "       [1.8201380e+06, 4.8733000e+04, 0.0000000e+00, ..., 1.0815680e+06,\n",
              "        9.0490000e+03, 4.3885000e+04],\n",
              "       [2.6470000e+04, 2.1768420e+06, 7.0350000e+03, ..., 1.4900000e+02,\n",
              "        1.6789370e+06, 5.6241910e+06],\n",
              "       ...,\n",
              "       [1.5465700e+05, 7.7404000e+04, 0.0000000e+00, ..., 1.0290000e+05,\n",
              "        3.9520000e+03, 1.1958400e+05],\n",
              "       [4.7191423e+07, 8.0924600e+05, 2.2238770e+06, ..., 3.6817708e+07,\n",
              "        7.5355700e+05, 1.2467000e+04],\n",
              "       [7.2924666e+07, 3.4387860e+06, 2.3837931e+07, ..., 2.3378000e+04,\n",
              "        4.5628100e+05, 3.1715780e+06]])"
            ]
          },
          "metadata": {
            "tags": []
          },
          "execution_count": 28
        }
      ]
    },
    {
      "cell_type": "code",
      "metadata": {
        "colab": {
          "base_uri": "https://localhost:8080/"
        },
        "id": "xROt1F5KSiyW",
        "outputId": "7a4e7617-f56e-4fc7-d5d1-25e4fc9e1c9e"
      },
      "source": [
        "y"
      ],
      "execution_count": null,
      "outputs": [
        {
          "output_type": "execute_result",
          "data": {
            "text/plain": [
              "array([1, 1, 1, ..., 0, 0, 0])"
            ]
          },
          "metadata": {
            "tags": []
          },
          "execution_count": 29
        }
      ]
    },
    {
      "cell_type": "markdown",
      "source": [
        "Naive Bayes Implementation"
      ],
      "metadata": {
        "id": "GZZ3dbMXV_Qf"
      }
    },
    {
      "cell_type": "code",
      "metadata": {
        "id": "k7fRZlpbSmgL"
      },
      "source": [
        "from sklearn.model_selection import train_test_split\n",
        "from sklearn.preprocessing import MinMaxScaler,StandardScaler"
      ],
      "execution_count": null,
      "outputs": []
    },
    {
      "cell_type": "code",
      "metadata": {
        "id": "YU6YCEQcTlwM"
      },
      "source": [
        "#Scaling Data\n",
        "mms = MinMaxScaler()\n",
        "xscaler = mms.fit_transform(x)"
      ],
      "execution_count": null,
      "outputs": []
    },
    {
      "cell_type": "code",
      "metadata": {
        "id": "Qfb3E7dTS4Py"
      },
      "source": [
        "xtrain,xtest,ytrain,ytest = train_test_split(xscaler,y, test_size = 0.3) #Split Dataset"
      ],
      "execution_count": null,
      "outputs": []
    },
    {
      "cell_type": "code",
      "metadata": {
        "colab": {
          "base_uri": "https://localhost:8080/"
        },
        "id": "N47NKvYvWCZs",
        "outputId": "d31e2e14-ea7b-49b4-df75-d5d233baf22f"
      },
      "source": [
        "xtrain.shape,xtest.shape,ytrain.shape,ytest.shape"
      ],
      "execution_count": null,
      "outputs": [
        {
          "output_type": "execute_result",
          "data": {
            "text/plain": [
              "((224000, 31), (96000, 31), (224000,), (96000,))"
            ]
          },
          "metadata": {
            "tags": []
          },
          "execution_count": 33
        }
      ]
    },
    {
      "cell_type": "code",
      "metadata": {
        "id": "FujsaHIITL5b"
      },
      "source": [
        "from sklearn.naive_bayes import GaussianNB"
      ],
      "execution_count": null,
      "outputs": []
    },
    {
      "cell_type": "code",
      "metadata": {
        "id": "VilouifXIYSJ"
      },
      "source": [
        "from sklearn.pipeline import make_pipeline\n",
        "from sklearn.preprocessing import QuantileTransformer\n",
        "#Create Pipeline\n",
        "pipeline = make_pipeline(QuantileTransformer(output_distribution='uniform'), GaussianNB())"
      ],
      "execution_count": null,
      "outputs": []
    },
    {
      "cell_type": "code",
      "metadata": {
        "colab": {
          "base_uri": "https://localhost:8080/"
        },
        "id": "YstVEGz7UJVm",
        "outputId": "cebbf686-8d8b-4b5f-bd17-3ef36d92f5f9"
      },
      "source": [
        "model = pipeline.fit(xtrain,ytrain) #Train Model\n",
        "model"
      ],
      "execution_count": null,
      "outputs": [
        {
          "output_type": "execute_result",
          "data": {
            "text/plain": [
              "Pipeline(memory=None,\n",
              "         steps=[('quantiletransformer',\n",
              "                 QuantileTransformer(copy=True, ignore_implicit_zeros=False,\n",
              "                                     n_quantiles=1000,\n",
              "                                     output_distribution='uniform',\n",
              "                                     random_state=None, subsample=100000)),\n",
              "                ('gaussiannb', GaussianNB(priors=None, var_smoothing=1e-09))],\n",
              "         verbose=False)"
            ]
          },
          "metadata": {
            "tags": []
          },
          "execution_count": 37
        }
      ]
    },
    {
      "cell_type": "code",
      "metadata": {
        "id": "tu5QvdQTVBOn"
      },
      "source": [
        "ypred = model.predict(xtest) #Test Predict"
      ],
      "execution_count": null,
      "outputs": []
    },
    {
      "cell_type": "code",
      "metadata": {
        "colab": {
          "base_uri": "https://localhost:8080/"
        },
        "id": "yxxok0QuW7SO",
        "outputId": "8df13d2a-02a2-4cbf-da4f-e2ccc5684b5f"
      },
      "source": [
        "from sklearn.metrics import accuracy_score\n",
        "print('Model accuracy score: {0:0.4f}'. format(accuracy_score(ytest, ypred))) #Accuracy"
      ],
      "execution_count": null,
      "outputs": [
        {
          "output_type": "stream",
          "text": [
            "Model accuracy score: 0.8291\n"
          ],
          "name": "stdout"
        }
      ]
    },
    {
      "cell_type": "markdown",
      "source": [
        "Evaluate Model"
      ],
      "metadata": {
        "id": "R-w16eDrVuTS"
      }
    },
    {
      "cell_type": "code",
      "metadata": {
        "colab": {
          "base_uri": "https://localhost:8080/"
        },
        "id": "GdvH63X2XDO5",
        "outputId": "33d5069b-d996-4706-8187-dc1d0a47bf6d"
      },
      "source": [
        "from sklearn.metrics import confusion_matrix\n",
        "\n",
        "cm = confusion_matrix(ytest, ypred)\n",
        "#calculation tp,tn,fp,fn\n",
        "print('Confusion matrix\\n\\n', cm)\n",
        "\n",
        "print('\\nTrue Positives(TP) = ', cm[1,1])\n",
        "\n",
        "print('\\nTrue Negatives(TN) = ', cm[0,0])\n",
        "\n",
        "print('\\nFalse Positives(FP) = ', cm[1,0])\n",
        "\n",
        "print('\\nFalse Negatives(FN) = ', cm[0,1])"
      ],
      "execution_count": null,
      "outputs": [
        {
          "output_type": "stream",
          "text": [
            "Confusion matrix\n",
            "\n",
            " [[40961  6866]\n",
            " [ 9540 38633]]\n",
            "\n",
            "True Positives(TP) =  38633\n",
            "\n",
            "True Negatives(TN) =  40961\n",
            "\n",
            "False Positives(FP) =  9540\n",
            "\n",
            "False Negatives(FN) =  6866\n"
          ],
          "name": "stdout"
        }
      ]
    },
    {
      "cell_type": "code",
      "metadata": {
        "id": "d2BGyl1C76qD"
      },
      "source": [
        "tn, fp, fn, tp = confusion_matrix(ytest, ypred).ravel()"
      ],
      "execution_count": null,
      "outputs": []
    },
    {
      "cell_type": "code",
      "metadata": {
        "colab": {
          "base_uri": "https://localhost:8080/"
        },
        "id": "WotbExnU8GTA",
        "outputId": "e91bd146-07de-4091-d70f-6e10f0025923"
      },
      "source": [
        "print(cm)"
      ],
      "execution_count": null,
      "outputs": [
        {
          "output_type": "stream",
          "text": [
            "[[40961  6866]\n",
            " [ 9540 38633]]\n"
          ],
          "name": "stdout"
        }
      ]
    },
    {
      "cell_type": "code",
      "metadata": {
        "colab": {
          "base_uri": "https://localhost:8080/"
        },
        "id": "Jv0VcbVCeAHK",
        "outputId": "383c2326-fa9d-4fc5-9d05-c71827a7dcc9"
      },
      "source": [
        "#Confusion Matrix\n",
        "print('Confusion matrix\\n\\n', cm)\n",
        "\n",
        "print('\\nTrue Positives(TP) = ', tp)\n",
        "\n",
        "print('\\nTrue Negatives(TN) = ', tn)\n",
        "\n",
        "print('\\nFalse Positives(FP) = ', fp)\n",
        "\n",
        "print('\\nFalse Negatives(FN) = ', fn)"
      ],
      "execution_count": null,
      "outputs": [
        {
          "output_type": "stream",
          "text": [
            "Confusion matrix\n",
            "\n",
            " [[40961  6866]\n",
            " [ 9540 38633]]\n",
            "\n",
            "True Positives(TP) =  38633\n",
            "\n",
            "True Negatives(TN) =  40961\n",
            "\n",
            "False Positives(FP) =  6866\n",
            "\n",
            "False Negatives(FN) =  9540\n"
          ],
          "name": "stdout"
        }
      ]
    },
    {
      "cell_type": "code",
      "metadata": {
        "colab": {
          "base_uri": "https://localhost:8080/"
        },
        "id": "AXe9r2RxWDNg",
        "outputId": "18cb42fd-fca4-421c-d61c-3d04ff8cc2f6"
      },
      "source": [
        "print(tn)"
      ],
      "execution_count": null,
      "outputs": [
        {
          "output_type": "stream",
          "text": [
            "40961\n"
          ],
          "name": "stdout"
        }
      ]
    },
    {
      "cell_type": "code",
      "metadata": {
        "id": "X1_pkKXuiWYl"
      },
      "source": [
        "precision_tp = tp / (tp+fp) #Precision calculation"
      ],
      "execution_count": null,
      "outputs": []
    },
    {
      "cell_type": "code",
      "metadata": {
        "colab": {
          "base_uri": "https://localhost:8080/"
        },
        "id": "DOytTSTKVWRl",
        "outputId": "caa485bc-c978-43db-8eb1-7e6c0dda87c6"
      },
      "source": [
        "print(precision_tp)"
      ],
      "execution_count": null,
      "outputs": [
        {
          "output_type": "stream",
          "text": [
            "0.8490955845183411\n"
          ],
          "name": "stdout"
        }
      ]
    },
    {
      "cell_type": "code",
      "metadata": {
        "id": "zuhpWVuiVYx_"
      },
      "source": [
        "recall_tp = tp / (tp+fn) #Recall Calculation"
      ],
      "execution_count": null,
      "outputs": []
    },
    {
      "cell_type": "code",
      "metadata": {
        "colab": {
          "base_uri": "https://localhost:8080/"
        },
        "id": "PkTtJOBMVrjq",
        "outputId": "2bb857ca-dab2-44a9-fb23-75e4a8f2a940"
      },
      "source": [
        "print(recall_tp)"
      ],
      "execution_count": null,
      "outputs": [
        {
          "output_type": "stream",
          "text": [
            "0.8019637556307475\n"
          ],
          "name": "stdout"
        }
      ]
    },
    {
      "cell_type": "code",
      "metadata": {
        "colab": {
          "base_uri": "https://localhost:8080/"
        },
        "id": "jxseXY_bWLh1",
        "outputId": "a72d108a-e1b6-4eee-cca1-814437ac0cab"
      },
      "source": [
        "\n",
        "from sklearn.metrics import roc_auc_score\n",
        "from sklearn.model_selection import KFold\n",
        "ROC_AUC = roc_auc_score(ytest, ypred)\n",
        "\n",
        "print('ROC AUC : {:.4f}'.format(ROC_AUC)) #ROC Score"
      ],
      "execution_count": null,
      "outputs": [
        {
          "output_type": "stream",
          "text": [
            "ROC AUC : 0.8292\n"
          ],
          "name": "stdout"
        }
      ]
    },
    {
      "cell_type": "code",
      "metadata": {
        "id": "IUHZRnMxXLEs"
      },
      "source": [
        "#K-Fold Cross Validation\n",
        "from sklearn.model_selection import cross_val_score\n",
        "cv = KFold(n_splits=10, random_state=1, shuffle=True)\n",
        "Score = cross_val_score(model, x, y, cv=cv, scoring='f1')"
      ],
      "execution_count": null,
      "outputs": []
    },
    {
      "cell_type": "code",
      "metadata": {
        "colab": {
          "base_uri": "https://localhost:8080/"
        },
        "id": "rY2-0ImKySKL",
        "outputId": "ef2eaa6c-6bb0-41ab-a62a-555726078b61"
      },
      "source": [
        "Score"
      ],
      "execution_count": null,
      "outputs": [
        {
          "output_type": "execute_result",
          "data": {
            "text/plain": [
              "array([0.82594401, 0.82369598, 0.82604377, 0.82650471, 0.82469904,\n",
              "       0.82778276, 0.82454674, 0.82485474, 0.82376864, 0.82261912])"
            ]
          },
          "metadata": {
            "tags": []
          },
          "execution_count": 71
        }
      ]
    },
    {
      "cell_type": "code",
      "metadata": {
        "colab": {
          "base_uri": "https://localhost:8080/",
          "height": 627
        },
        "id": "HiWZdC18y8H3",
        "outputId": "6155413b-447f-439c-f909-29c6694713e8"
      },
      "source": [
        "    #Visualize K-Fold\n",
        "    import matplotlib.pyplot as plt\n",
        "    plt.figure(figsize=[10,10])\n",
        "    plt.plot(Score)\n",
        "    plt.title('Hasil K-fold Cross Validation')\n",
        "    plt.ylabel('F1 - Score')\n",
        "    plt.xlabel('Fold')\n",
        "    plt.legend('K-n', loc='upper left')\n",
        "    plt.savefig(\"/content/drive/MyDrive/k-fold.png\")\n",
        "    plt.show()"
      ],
      "execution_count": null,
      "outputs": [
        {
          "output_type": "display_data",
          "data": {
            "image/png": "[encoded data removed]",
            "text/plain": [
              "<Figure size 720x720 with 1 Axes>"
            ]
          },
          "metadata": {
            "tags": []
          }
        }
      ]
    },
    {
      "cell_type": "code",
      "metadata": {
        "id": "M0QCLCMGyYe7"
      },
      "source": [
        "mean_score = Score.mean() #Average K-n Score"
      ],
      "execution_count": null,
      "outputs": []
    },
    {
      "cell_type": "code",
      "metadata": {
        "colab": {
          "base_uri": "https://localhost:8080/"
        },
        "id": "9FfRXy--ypNK",
        "outputId": "d73ce716-703f-442f-965f-cf7a2aecdfc6"
      },
      "source": [
        "print('Kfold Cross validated Score : {:.4f}'.format(mean_score))"
      ],
      "execution_count": null,
      "outputs": [
        {
          "output_type": "stream",
          "text": [
            "Kfold Cross validated Score : 0.8250\n"
          ],
          "name": "stdout"
        }
      ]
    },
    {
      "cell_type": "code",
      "metadata": {
        "colab": {
          "base_uri": "https://localhost:8080/"
        },
        "id": "vE9Td44LXWMr",
        "outputId": "db29c219-664e-441c-cf05-99bc2ad8d780"
      },
      "source": [
        "from sklearn.metrics import f1_score\n",
        "f1_score(ytest, ypred, average='binary')"
      ],
      "execution_count": null,
      "outputs": [
        {
          "output_type": "execute_result",
          "data": {
            "text/plain": [
              "0.8248569476471092"
            ]
          },
          "metadata": {
            "tags": []
          },
          "execution_count": 75
        }
      ]
    },
    {
      "cell_type": "code",
      "metadata": {
        "id": "QJGBdcQWYxFP"
      },
      "source": [
        "precision_tn = tn /(tn+fn)"
      ],
      "execution_count": null,
      "outputs": []
    },
    {
      "cell_type": "code",
      "metadata": {
        "colab": {
          "base_uri": "https://localhost:8080/"
        },
        "id": "CWN-emawYXWQ",
        "outputId": "95b73c85-9834-45a4-85ab-8a0749992ed2"
      },
      "source": [
        "print(precision_tn)"
      ],
      "execution_count": null,
      "outputs": [
        {
          "output_type": "stream",
          "text": [
            "0.8110928496465416\n"
          ],
          "name": "stdout"
        }
      ]
    },
    {
      "cell_type": "code",
      "metadata": {
        "id": "NodjWI-aZ9MK"
      },
      "source": [
        "recall_tn = tn /(tn+fp)"
      ],
      "execution_count": null,
      "outputs": []
    },
    {
      "cell_type": "code",
      "metadata": {
        "colab": {
          "base_uri": "https://localhost:8080/"
        },
        "id": "cZyvh4tUa52l",
        "outputId": "e94b16a6-eaa4-40b9-c310-cede846d8c5e"
      },
      "source": [
        "print(tp)"
      ],
      "execution_count": null,
      "outputs": [
        {
          "output_type": "stream",
          "text": [
            "38633\n"
          ],
          "name": "stdout"
        }
      ]
    },
    {
      "cell_type": "code",
      "metadata": {
        "colab": {
          "base_uri": "https://localhost:8080/"
        },
        "id": "SFhG6Aw-aC-C",
        "outputId": "6ca30c7a-61d4-451b-d8f7-b5cd51221e3e"
      },
      "source": [
        "print(recall_tn)"
      ],
      "execution_count": null,
      "outputs": [
        {
          "output_type": "stream",
          "text": [
            "0.8564409224914797\n"
          ],
          "name": "stdout"
        }
      ]
    },
    {
      "cell_type": "code",
      "metadata": {
        "colab": {
          "base_uri": "https://localhost:8080/"
        },
        "id": "HK6LixSwaF_f",
        "outputId": "5ab74154-a2ff-4339-88a0-6a8396822a65"
      },
      "source": [
        "F_tp = 2 * (precision_tp * recall_tp) / (precision_tp + recall_tp)\n",
        "print(F_tp)"
      ],
      "execution_count": null,
      "outputs": [
        {
          "output_type": "stream",
          "text": [
            "0.8248569476471092\n"
          ],
          "name": "stdout"
        }
      ]
    },
    {
      "cell_type": "code",
      "metadata": {
        "colab": {
          "base_uri": "https://localhost:8080/"
        },
        "id": "3CqU9GsIbLFU",
        "outputId": "902fe604-befb-4c76-ea1b-81e891fce05a"
      },
      "source": [
        "F_tn = 2 * (precision_tn * recall_tn) / (precision_tn + recall_tn)\n",
        "print(F_tn)"
      ],
      "execution_count": null,
      "outputs": [
        {
          "output_type": "stream",
          "text": [
            "0.8331502725571557\n"
          ],
          "name": "stdout"
        }
      ]
    },
    {
      "cell_type": "code",
      "metadata": {
        "colab": {
          "base_uri": "https://localhost:8080/"
        },
        "id": "Hj72TdGNbBRz",
        "outputId": "47147ac7-a42f-4d5c-d0ee-a04a4f6b11d9"
      },
      "source": [
        "print(fn)"
      ],
      "execution_count": null,
      "outputs": [
        {
          "output_type": "stream",
          "text": [
            "9540\n"
          ],
          "name": "stdout"
        }
      ]
    },
    {
      "cell_type": "code",
      "metadata": {
        "colab": {
          "base_uri": "https://localhost:8080/",
          "height": 613
        },
        "id": "tZHI63qHZ5N5",
        "outputId": "3025d620-b9e2-497a-a560-d33904eda69e"
      },
      "source": [
        "#Visualize Confusion Matrix\n",
        "cm_matrix = pd.DataFrame(data=cm, columns=['Actual Negative', 'Actual Positif'], \n",
        "                                 index=['Predict Negative', 'Predict Positive'])\n",
        "sns.set(rc={'figure.figsize':(10,10)})\n",
        "sns.heatmap(cm_matrix, annot=True, fmt='d', cmap='YlGnBu')"
      ],
      "execution_count": null,
      "outputs": [
        {
          "output_type": "execute_result",
          "data": {
            "text/plain": [
              "<matplotlib.axes._subplots.AxesSubplot at 0x7fd951754160>"
            ]
          },
          "metadata": {
            "tags": []
          },
          "execution_count": 64
        },
        {
          "output_type": "display_data",
          "data": {
            "image/png": "[encoded data removed]",
            "text/plain": [
              "<Figure size 720x720 with 2 Axes>"
            ]
          },
          "metadata": {
            "tags": []
          }
        }
      ]
    },
    {
      "cell_type": "code",
      "metadata": {
        "id": "LbFYzCzubQ9g"
      },
      "source": [
        ""
      ],
      "execution_count": null,
      "outputs": []
    },
    {
      "cell_type": "code",
      "metadata": {
        "id": "JvFRA0R63hcq"
      },
      "source": [
        ""
      ],
      "execution_count": null,
      "outputs": []
    }
  ]
}